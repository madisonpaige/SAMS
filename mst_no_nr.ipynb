{
 "cells": [
  {
   "cell_type": "code",
   "execution_count": 1,
   "metadata": {},
   "outputs": [],
   "source": [
    "## Import necessary libraries\n",
    "import numpy as np\n",
    "import pandas as pd\n",
    "import matplotlib.pyplot as plt\n",
    "import seaborn as sns\n",
    "import os.path\n",
    "import glob\n",
    "import string\n",
    "import statistics\n",
    "from os.path import exists\n",
    "from scipy.stats import norm\n",
    "from scipy.stats import zscore\n",
    "from scipy.stats import pearsonr  \n",
    "from scipy.stats import chisquare\n",
    "from sklearn import linear_model\n",
    "import statsmodels.api as sm\n",
    "from statsmodels.stats.anova import AnovaRM\n",
    "import math\n",
    "import scipy.stats"
   ]
  },
  {
   "cell_type": "code",
   "execution_count": 2,
   "metadata": {},
   "outputs": [],
   "source": [
    "## define snodgrass correction and dprime calculation\n",
    "def snodgrass(num,denom):\n",
    "    return (float(num)+.5) / (float(denom) +1)\n",
    "\n",
    "def dprime(hit,fa):\n",
    "    return norm.ppf(hit,loc=0,scale=1) - norm.ppf(fa,loc=0,scale=1)"
   ]
  },
  {
   "cell_type": "code",
   "execution_count": 3,
   "metadata": {},
   "outputs": [],
   "source": [
    "## Code taken from Craig Stark to find lines for the beginning of the study and test phases\n",
    "\n",
    "def findlines(filename):\n",
    "    s_starts=[]\n",
    "    t_starts=[]\n",
    "    with open(filename) as file:\n",
    "        for linenum, linetxt in enumerate(file,1):\n",
    "            if \"Study phase started at\" in linetxt:\n",
    "                s_starts.append(linenum)\n",
    "            elif \"Test phase started at\" in linetxt:\n",
    "                t_starts.append(linenum)\n",
    "    return (s_starts, t_starts)"
   ]
  },
  {
   "cell_type": "code",
   "execution_count": 4,
   "metadata": {},
   "outputs": [],
   "source": [
    "def targ_trials(data):\n",
    "    ## calculate number of Target Trials\n",
    "    #initialize number of target trials to zero\n",
    "    num_targ_trials = 0\n",
    "    #loop through the data and add one if the condition is T (target) and the RT is greater than 400ms (avoid trials that cannot be real responses)\n",
    "    for d in range(len(data)):\n",
    "        if (data.loc[d, 'Cond'] == 'T') & (data.loc[d, 'RT'] >400):\n",
    "            num_targ_trials +=1\n",
    "    return num_targ_trials"
   ]
  },
  {
   "cell_type": "code",
   "execution_count": null,
   "metadata": {},
   "outputs": [],
   "source": [
    "def foil_trials(data):\n",
    "        ## calculate number of Foil Trials\n",
    "    #initialize number of foil trials to zero\n",
    "    num_foil_trials = 0\n",
    "    #loop through the data and add one to the number of new trials if the condition is F (foil) & RT is greater than 400\n",
    "    for g in range(len(data)):\n",
    "        if (data.loc[g, 'Cond'] == 'F') & (data.loc[g, 'RT'] > 400):\n",
    "            num_foil_trials +=1\n",
    "    return num_foil_trials"
   ]
  },
  {
   "cell_type": "code",
   "execution_count": null,
   "metadata": {},
   "outputs": [],
   "source": [
    "def lure_trials(data):\n",
    "        ## calculate number of Lure Trials\n",
    "    #initialize number of lure trials to zero\n",
    "    num_lure_trials = 0\n",
    "    #loop through the data and add one to the number of lure trials if the condition is L (Lure) AND \"real\" response\n",
    "    for f in range(len(data)):\n",
    "        if (data.loc[f, 'Cond'] == 'L') & (data.loc[f, 'RT'] > 400):\n",
    "            num_lure_trials +=1\n",
    "    return num_lure_trials "
   ]
  },
  {
   "cell_type": "code",
   "execution_count": null,
   "metadata": {},
   "outputs": [],
   "source": [
    "def no_resp(data):\n",
    "     ## calculate total number of no response\n",
    "\n",
    "    #initialize nuumber of no resposnses to zero\n",
    "    num_nr = 0\n",
    "    #for loop through the data and add one if the response is 0 (meaning no response)\n",
    "    for n in range(len(data)):\n",
    "        if (data.loc[n, 'Resp'] == 0):\n",
    "            num_nr +=1  \n",
    "    \n",
    "     ## calculate number of no responses to Targets\n",
    "\n",
    "    #initialize number of no responses to targets to zero\n",
    "    num_nr_targ = 0\n",
    "    #loop through the data and add one to number of no responses to targets\n",
    "    #if the response is 0 (no response) and the condition is T (target);\n",
    "    for a in range(len(data)):\n",
    "        if (data.loc[a, 'Resp'] ==0) & (data.loc[a, 'Cond'] == 'T'):\n",
    "            num_nr_targ +=1\n",
    "            \n",
    "         ## calculate number of no responses to Lures\n",
    "\n",
    "    #initialize number of no responses to lures to zero\n",
    "    num_nr_lure = 0\n",
    "    #loop through the data and add one to the number of no responses to lures \n",
    "    #if the response is 0 (no response) and the condition is L (Lure)\n",
    "    for b in range(len(data)):\n",
    "        if (data.loc[b, 'Resp'] == 0) & (data.loc[b, 'Cond'] =='L'):\n",
    "            num_nr_lure+=1\n",
    "\n",
    "    ## calculate number of no responses to Foils\n",
    "\n",
    "    #initialize number of no responses to foils to zero\n",
    "    num_nr_foil = 0\n",
    "    #loop through the data and add one to the number of no responses to foils\n",
    "    #if the response is 0 (no response) and the condition is F (foil)\n",
    "    for c in range(len(data)):\n",
    "        if (data.loc[c, 'Resp'] == 0) & (data.loc[c,'Cond'] == 'F'):\n",
    "            num_nr_foil+=1\n",
    "            \n",
    "    #caluclate the proportion of no responses overall by taking the number of overall responses and dividing it by the number of trials (192 in this case)        \n",
    "    prop_nr = num_nr/192\n",
    "\n",
    "    # return the number of no responses overall, to targets, to lures, to foils, and the proportion of NR overall\n",
    "    return num_nr, num_nr_targ, num_nr_lure, num_nr_foil, prop_nr"
   ]
  },
  {
   "cell_type": "code",
   "execution_count": null,
   "metadata": {},
   "outputs": [],
   "source": [
    "def targ_resp(data):\n",
    "    ## calculate number of target trials using function defined above\n",
    "    num_targ_trials = targ_trials(data)\n",
    "    ## calculate number of Old|Target\n",
    "\n",
    "    #initialize the number of Target|Old to zero\n",
    "    num_old_targ = 0\n",
    "    #loop through the data and add one to the number of of Old|Target \n",
    "    #if the condition is T (target) and if the response is 1 (Old) & RT is greater than 400\n",
    "    for j in range(len(data)):\n",
    "        if ((data.loc[j, 'Cond'] == 'T') & (data.loc[j, 'Resp'] == 1) & (data.loc[j, 'RT']>400)):\n",
    "            num_old_targ +=1\n",
    "\n",
    "    ## Calculate proportion of Old|Target for ALL Target Trials\n",
    "\n",
    "    #Divide the number of old|target by the total number of target trials\n",
    "    prop_old_targ = num_old_targ/num_targ_trials\n",
    "    \n",
    "    ## Calculate number of Similar|Target\n",
    "\n",
    "    #initialize the number of Similar|Target to zero\n",
    "    num_sim_targ = 0\n",
    "\n",
    "    #loop through the data and add one to the number of Similar|Target \n",
    "    #if the condition is T (target) and if the participant responsed 2 (Similar) & RT is greater than 400\n",
    "    for k in range(len(data)):\n",
    "        if ((data.loc[k, 'Cond']=='T') & (data.loc[k, 'Resp']==2) &(data.loc[k, 'RT']>400)):\n",
    "            num_sim_targ+=1\n",
    "\n",
    "    ## calculate proportion of Similar|target for all target trials\n",
    "\n",
    "    #divide the number of Similar|target by the total number of target trials\n",
    "    prop_sim_targ= num_sim_targ/num_targ_trials\n",
    "\n",
    "    ## calculate number of New|Target\n",
    "\n",
    "    # initialize the number of New|Target to zero\n",
    "    num_new_targ = 0\n",
    "    #loop through the data and add one to the number of New|Target\n",
    "    #if the condition is T(Target) and if the participant responded 3(New) & RT is greater than 400\n",
    "    for l in range(len(data)):\n",
    "        if ((data.loc[l, 'Cond'] == 'T') & (data.loc[l, 'Resp'] == 3) & (data.loc[l, 'RT']>400)):\n",
    "            num_new_targ+=1\n",
    "    \n",
    "    ## calculate the proportion of New|Target for all target trials\n",
    "\n",
    "    #divide number of New|Target by the total number of target trials\n",
    "    prop_new_targ = num_new_targ/num_targ_trials\n",
    "   \n",
    "    # return the number and proportion of each response type for targets\n",
    "    return num_old_targ, prop_old_targ, num_sim_targ, prop_sim_targ, num_new_targ, prop_new_targ"
   ]
  },
  {
   "cell_type": "code",
   "execution_count": null,
   "metadata": {},
   "outputs": [],
   "source": [
    "def lure_resp(data):\n",
    "    num_lure_trials = lure_trials(data)\n",
    "    ## calculate number of Old|Lure using function defined above\n",
    "\n",
    "    #Initialize the number of Old|Lure to zero\n",
    "    num_old_lure = 0\n",
    "    #loop through the data and add one to the number of Old|Lure \n",
    "    # if the condition is L (Lure) and the participant responded 1 (Old) & RT is greater than 400\n",
    "    for m in range(len(data)):\n",
    "        if ((data.loc[m, 'Cond']=='L') & (data.loc[m, 'Resp'] == 1) & (data.loc[m, 'RT']>400)) :\n",
    "            num_old_lure+=1\n",
    "   \n",
    "    ## calculate the proportion of Old|Lure for all lure trials\n",
    "\n",
    "    #divide number of Old|Lure by the total number of lure trials\n",
    "    prop_old_lure = num_old_lure/num_lure_trials\n",
    "    \n",
    "       ## calculate number of Similar|Lure\n",
    "\n",
    "    #Initialize the number of Similar|Lure to zero\n",
    "    num_sim_lure = 0\n",
    "    #loop through the data and add one to the number of Similar|Lure\n",
    "    #if the condition is L (Lure) and the participant responded 2 (Similar) &  RT is greater than 400\n",
    "    for o in range(len(data)):\n",
    "        if ((data.loc[o, 'Cond']==\"L\") & (data.loc[o, 'Resp'] == 2) & (data.loc[o, 'RT']>400)):\n",
    "            num_sim_lure+=1\n",
    "\n",
    "    ## Calculate the proportion of Similar|Lure for all lure trials\n",
    "\n",
    "    #divide number of Similar|Lure by the total number of lure trials\n",
    "    prop_sim_lure = num_sim_lure/num_lure_trials\n",
    "    \n",
    "    ## calculate number of New|Lure\n",
    "\n",
    "    #Initialize the number of New|Lure to zero\n",
    "    num_new_lure = 0\n",
    "    #loop through the data and add one to the number of New|Lure\n",
    "    #if the condition is L(Lure) and the participant responded 3 (New) & RT is greater than 400\n",
    "    for p in range(len(data)):\n",
    "        if ((data.loc[p, 'Cond']=='L') & (data.loc[p, 'Resp']== 3) & (data.loc[p, 'RT']>400)):\n",
    "            num_new_lure+=1\n",
    "\n",
    "    ## calculate proportion of new|lure for all lure trials\n",
    "\n",
    "    #divide number of new|lure by the total number of lure trials\n",
    "    prop_new_lure = num_new_lure/num_lure_trials\n",
    "    \n",
    "    #return the number and proportion of each response type to lures\n",
    "\n",
    "    return num_old_lure, prop_old_lure, num_sim_lure, prop_sim_lure, num_new_lure, prop_new_lure"
   ]
  },
  {
   "cell_type": "code",
   "execution_count": null,
   "metadata": {},
   "outputs": [],
   "source": [
    "def foil_resp(data):\n",
    "    ## calculate number of foil trials using function defined above\n",
    "    num_foil_trials = foil_trials(data)\n",
    "      ## calculate number of Old|Foil\n",
    "     #Initialize the number of Old|Foil\n",
    "    num_old_foil = 0\n",
    "    #loop throught the data and add one to the number of Old|Foil\n",
    "    #if the condition is F (Foil) and the participant responded 1 (Old) &  RT is greater than 400\n",
    "    for q in range(len(data)):\n",
    "        if ((data.loc[q, 'Cond'] == 'F') & (data.loc[q, 'Resp'] == 1) &(data.loc[q, 'RT']>400)):\n",
    "            num_old_foil+=1\n",
    "\n",
    "    ## calculate proportion of old|foil for all foil trials\n",
    "\n",
    "    #divide number of old|foil by the total number of foil trials\n",
    "    prop_old_foil = num_old_foil/num_foil_trials\n",
    "    \n",
    "    ##calculate number of Similar|Foil\n",
    "\n",
    "    #Initialize the number of Similar|Foil to zero\n",
    "    num_sim_foil = 0\n",
    "    #loop through the data and add one to the number of Similar|Foil\n",
    "    #if the condition is F(Foil) and the participant responded 2(similar) &  RT is greater than 400\n",
    "    for r in range(len(data)):\n",
    "        if ((data.loc[r, 'Cond'] == 'F') & (data.loc[r, 'Resp'] == 2) & (data.loc[r, 'RT']>400)):\n",
    "            num_sim_foil+=1\n",
    "\n",
    "      ## calculate proportion of similar|foil for all foil trials\n",
    "\n",
    "    #divide the number of similar|foil by the number of foil trials\n",
    "    prop_sim_foil = num_sim_foil/num_foil_trials\n",
    "    \n",
    "    ##calculate nummber of New|Foil\n",
    "\n",
    "    #Initialize the number of New|Foil to zero\n",
    "    num_new_foil = 0\n",
    "    #Loop through the data and add one to the number of New|Foil\n",
    "    #if the condition is F(Foil) and the participant responded 3(New) &  RT is greater than 400\n",
    "    for s in range(len(data)):\n",
    "        if ((data.loc[s, 'Cond'] == 'F') & (data.loc[s, 'Resp'] == 3) & (data.loc[s, 'RT']>400)):\n",
    "            num_new_foil+=1\n",
    "\n",
    "   \n",
    "    \n",
    "    \n",
    "    ## calculate proportion of new|foil for all foil trials \n",
    "\n",
    "    #divide the number of new|foil by the total number of foil trials\n",
    "    prop_new_foil = num_new_foil/num_foil_trials\n",
    "\n",
    "    #return the number and proportion of each response type to foil trials\n",
    "    return num_old_foil, prop_old_foil, num_sim_foil, prop_sim_foil, num_new_foil, prop_new_foil"
   ]
  },
  {
   "cell_type": "code",
   "execution_count": null,
   "metadata": {},
   "outputs": [],
   "source": [
    "## define the calculation of correct answers\n",
    "def corr_ans(data):\n",
    "    #calculate the number of each condition based on defintions above\n",
    "    num_targ_trials = targ_trials(data)\n",
    "    num_lure_trials = lure_trials(data)\n",
    "    num_foil_trials = foil_trials(data)\n",
    "    #set the number each correct response to zero\n",
    "    num_new_foil = 0\n",
    "    num_old_targ = 0\n",
    "    num_sim_lure = 0 \n",
    "    #count the number of correct foil trials\n",
    "    for s in range(len(data)):\n",
    "        if ((data.loc[s, 'Cond'] == 'F') & (data.loc[s, 'Resp'] == 3) & (data.loc[s, 'RT']>400)):\n",
    "            num_new_foil+=1\n",
    "    \n",
    "    #count the number of correct target trials\n",
    "    for j in range(len(data)):\n",
    "        if ((data.loc[j, 'Cond'] == 'T') & (data.loc[j, 'Resp'] == 1) & (data.loc[j, 'RT']>400)):\n",
    "            num_old_targ +=1\n",
    "    #cound the number of correct lure trials \n",
    "    for o in range(len(data)):\n",
    "        if ((data.loc[o, 'Cond']==\"L\") & (data.loc[o, 'Resp'] == 2) & (data.loc[o, 'RT']>400)):\n",
    "            num_sim_lure+=1\n",
    "\n",
    "    ## Calculate number of correct responses \n",
    "    #add the number of correct responses (New|Foil, Old|Target, Sim|Lure)\n",
    "    corr_resp = num_new_foil + num_old_targ + num_sim_lure\n",
    "\n",
    "    ## calculate proportion of correct responses\n",
    "\n",
    "    prop_corr_resp = corr_resp/(num_targ_trials + num_lure_trials + num_foil_trials)\n",
    "    \n",
    "    #return the number and proportion of correct responses overall\n",
    "    return corr_resp, prop_corr_resp"
   ]
  },
  {
   "cell_type": "code",
   "execution_count": null,
   "metadata": {},
   "outputs": [],
   "source": [
    "def calc_bps(prop_sim_lure, prop_sim_foil):\n",
    "    ## calculate BPS Score\n",
    "\n",
    "    # subtract the proportion of sim|foil from the proportion of sim|lure\n",
    "    bps_score = prop_sim_lure - prop_sim_foil\n",
    "    return bps_score"
   ]
  },
  {
   "cell_type": "code",
   "execution_count": null,
   "metadata": {},
   "outputs": [],
   "source": [
    "def recog_scores(prop_old_targ, prop_old_foil, prop_old_lure, prop_sim_lure):\n",
    "    ## calculate traditional recognition score\n",
    "\n",
    "    #subtract the proportion of old|foil from the proportion of old|targ\n",
    "    recog_targ_foil= prop_old_targ-prop_old_foil\n",
    "    \n",
    "    ## calculate other recognition score\n",
    "\n",
    "    ## subtract old|lure from old|target\n",
    "    recog_targ_lure = prop_old_targ - prop_old_lure\n",
    "    \n",
    "    \n",
    "    return recog_targ_foil, recog_targ_lure"
   ]
  },
  {
   "cell_type": "code",
   "execution_count": null,
   "metadata": {},
   "outputs": [
    {
     "name": "stdout",
     "output_type": "stream",
     "text": [
      "616\n"
     ]
    }
   ],
   "source": [
    "##create wide data frame called all_data\n",
    "\n",
    "#define variables\n",
    "all_data=pd.DataFrame()\n",
    "demo_data = pd.read_csv('/Users/madisonhunt/Desktop/Oak/stark_task/stark_demographics.csv')\n",
    "row=0\n",
    "missing=0\n",
    "has_data=0\n",
    "n_stim_per=64\n",
    "study_len = n_stim_per*2\n",
    "test_len = n_stim_per*3\n",
    "\n",
    "pidn_list=demo_data['pidn']\n",
    "#read in files accounting for change in nomenclature throughout study\n",
    "for pidn in pidn_list:\n",
    "\n",
    "    if pidn < 685:\n",
    "        filename = '/Users/madisonhunt/Desktop/Oak/stark_task/Data/BPSOlog_0{}.txt'.format(pidn)\n",
    "#         print(filename)\n",
    "    elif pidn > 685:\n",
    "        filename = '/Users/madisonhunt/Desktop/Oak/stark_task/Data/MSTlog_0{}.txt'.format(pidn)\n",
    "#         print(filename)\n",
    "        if pidn > 1000: \n",
    "            filename = '/Users/madisonhunt/Desktop/Oak/stark_task/Data/MSTlog_{}.txt'.format(pidn)\n",
    "    #         print(filename)\n",
    "\n",
    "    if exists(filename):\n",
    "\n",
    "        has_data +=1\n",
    "        \n",
    "        #code to read in data from Craig Stark\n",
    "        s_starts, t_starts = findlines(filename)\n",
    "        if len(s_starts) & len(t_starts):\n",
    "            study_starts = s_starts[-1]\n",
    "            test_starts = t_starts[-1]\n",
    "            pt_data =  pd.read_csv(filename, delimiter=\"\\t\", skiprows= test_starts, nrows=test_len, header = 0)     \n",
    "\n",
    "            all_data.loc[row, 'pidn'] = pidn \n",
    "            #calculate stark data from txt file using functions defined above\n",
    "            all_data.loc[row, 'num_targ_tr']  = targ_trials(pt_data)             \n",
    "            all_data.loc[row, 'num_foil_tr'] = foil_trials(pt_data)\n",
    "            all_data.loc[row, 'num_lure_tr'] = lure_trials(pt_data)\n",
    "            [all_data.loc[row, 'num_nr'], all_data.loc[row, 'num_nr_t'], \n",
    "             all_data.loc[row, 'num_nr_l'], all_data.loc[row, 'num_nr_f'],\n",
    "             all_data.loc[row, 'prop_nr']] = no_resp(pt_data)\n",
    "            [all_data.loc[row, 'n_old_targ'], all_data.loc[row, 'p_old_targ'], \n",
    "             all_data.loc[row, 'n_sim_targ'], all_data.loc[row, 'p_sim_targ'],\n",
    "             all_data.loc[row, 'n_new_targ'], all_data.loc[row, 'p_new_targ']] = targ_resp(pt_data)\n",
    "            [all_data.loc[row, 'n_old_lure'], all_data.loc[row, 'p_old_lure'],\n",
    "            all_data.loc[row, 'n_sim_lure'], all_data.loc[row, 'p_sim_lure'],\n",
    "            all_data.loc[row, 'n_new_lure'], all_data.loc[row, 'p_new_lure']] = lure_resp(pt_data)\n",
    "            [all_data.loc[row, 'n_old_foil'], all_data.loc[row, 'p_old_foil'],\n",
    "            all_data.loc[row, 'n_sim_foil'], all_data.loc[row, 'p_sim_foil'], \n",
    "            all_data.loc[row, 'n_new_foil'], all_data.loc[row, 'p_new_foil']] = foil_resp(pt_data)\n",
    "            [all_data.loc[row, 'n_correct'], all_data.loc[row, 'p_correct']] = corr_ans(pt_data)\n",
    "            all_data.loc[row, 'bps'] = calc_bps(all_data.loc[row, 'p_sim_lure'], all_data.loc[row, 'p_sim_foil'])\n",
    "            [all_data.loc[row, 'old_targ_old_foil'], all_data.loc[row, 'old_targ_old_lure']] = recog_scores(all_data.loc[row, 'p_old_targ'], all_data.loc[row, 'p_old_foil'], all_data.loc[row,'p_old_lure'],  all_data.loc[row, 'p_sim_lure'])\n",
    "            all_data.loc[row, 'dprime_old_new'] = dprime((snodgrass(all_data.loc[row, 'n_old_targ'], all_data.loc[row, 'num_targ_tr'])), (snodgrass(all_data.loc[row, 'n_old_foil'], all_data.loc[row, 'num_foil_tr'])))\n",
    "            all_data.loc[row,'dprime_old_lure'] = dprime((snodgrass(all_data.loc[row, 'n_old_targ'], all_data.loc[row, 'num_targ_tr'])), (snodgrass(all_data.loc[row, 'n_old_lure'], all_data.loc[row, 'num_lure_tr'])))\n",
    "            all_data.loc[row, 'dprime_bps'] = dprime((snodgrass(all_data.loc[row, 'n_sim_lure'], all_data.loc[row, 'num_lure_tr'])), (snodgrass(all_data.loc[row, 'n_sim_foil'], all_data.loc[row, 'num_foil_tr'])))\n",
    "            row +=1\n",
    "        else: print(pidn)\n",
    "    else:\n",
    "        missing +=1\n",
    "\n",
    "#remove pidns that are excluded from analysis for having a low old/new recognition score\n",
    "all_data= all_data[(all_data['pidn']!=528) & (all_data['pidn']!=866) &(all_data['pidn']!=1230)]"
   ]
  },
  {
   "cell_type": "code",
   "execution_count": null,
   "metadata": {},
   "outputs": [],
   "source": [
    "## create a long-format data frame\n",
    "data_long=pd.DataFrame()\n",
    "n_stim_per=64\n",
    "study_len = n_stim_per*2\n",
    "test_len = n_stim_per*3\n",
    "#read in sheet with demographics & NP scores\n",
    "demo_data = pd.read_csv('/Users/madisonhunt/Desktop/Oak/stark_task/stark_demographics.csv')\n",
    "pidn_list = demo_data['pidn']\n",
    "#forloop through pidns and adjust the filename based on nomenclature changes throughout the study\n",
    "for pidn in pidn_list:\n",
    "    if pidn != 999 and pidn !=685:\n",
    "        if pidn < 685:\n",
    "            filename = '/Users/madisonhunt/Desktop/Oak/stark_task/Data/BPSOlog_0{}.txt'.format(pidn)\n",
    "           \n",
    "        if pidn > 685:\n",
    "            if pidn < 1000:\n",
    "#         elif pidn > 685 and pidn <1000:\n",
    "                filename = '/Users/madisonhunt/Desktop/Oak/stark_task/Data/MSTlog_0{}.txt'.format(pidn)\n",
    "                \n",
    "            else:\n",
    "                filename = '/Users/madisonhunt/Desktop/Oak/stark_task/Data/MSTlog_{}.txt'.format(pidn)\n",
    "                \n",
    "# read in files using Craig Stark's code\n",
    "        if exists(filename):\n",
    "\n",
    "            s_starts, t_starts = findlines(filename)\n",
    "            if len(s_starts) & len(t_starts):\n",
    "                study_starts = s_starts[-1]\n",
    "                test_starts = t_starts[-1]\n",
    "                pt_data =  pd.read_csv(filename, delimiter=\"\\t\", skiprows= test_starts, nrows=test_len, header = 0)     \n",
    "\n",
    "                pt_data['pidn'] = pidn\n",
    "                \n",
    "                data_long = data_long.append(pt_data,ignore_index=True)\n",
    "#remove participants who were excluded for having low old/new d'\n",
    "data_long=data_long[(data_long['pidn']!=528) &(data_long['pidn']!=866) &(data_long['pidn']!=1230)]\n",
    "raw_data=data_long.copy()\n",
    "print(len(data_long[data_long['RT']<400]))\n",
    "print(len(data_long[data_long['RT']<400])/len(data_long))\n",
    "print(len(data_long))\n",
    "\n",
    "ex_trials = pd.DataFrame()\n",
    "ex_trials['pidn'] = pd.unique(data_long['pidn'])\n",
    "row=0\n",
    "for n in ex_trials['pidn']:\n",
    "    ex_trials.loc[row, 'num_excl'] = len(data_long[(data_long['pidn']==n) & (data_long['RT']<400)])\n",
    "    row+=1\n",
    "print(ex_trials)\n",
    "\n",
    "\n",
    " ## remove any trials below 400 ms\n",
    "data_long=data_long[data_long['RT']>400]"
   ]
  },
  {
   "cell_type": "code",
   "execution_count": null,
   "metadata": {},
   "outputs": [],
   "source": [
    "print(statistics.mean(ex_trials['num_excl']), statistics.stdev(ex_trials['num_excl']))"
   ]
  },
  {
   "cell_type": "code",
   "execution_count": null,
   "metadata": {},
   "outputs": [],
   "source": [
    "## Change data in data long to be easily readable\n",
    "\n",
    "#change response column\n",
    "data_long.loc[data_long['Resp']==1,'Resp'] = 'Old'\n",
    "data_long.loc[data_long['Resp']==2,'Resp'] = 'Similar'\n",
    "data_long.loc[data_long['Resp']==3,'Resp'] = 'New'\n",
    "data_long.loc[data_long['Resp']==0,'Resp'] = 'No Resp'\n",
    "\n",
    "#Change condition column\n",
    "data_long.loc[data_long['Cond'] == 'T', 'Cond'] = 'Target'\n",
    "data_long.loc[data_long['Cond'] == 'L', 'Cond'] = 'Lure'\n",
    "data_long.loc[data_long['Cond'] == 'F', 'Cond'] = 'Foil'\n",
    "\n",
    "#change accuracy column\n",
    "data_long.loc[data_long['Acc'] ==1, 'Acc'] = 'Correct'\n",
    "data_long.loc[data_long['Acc'] == 0, 'Acc'] ='Incorrect'\n",
    "\n"
   ]
  },
  {
   "cell_type": "code",
   "execution_count": null,
   "metadata": {},
   "outputs": [],
   "source": [
    "#read in demographic and neuropsych data from file on Oak\n",
    "demo_data = pd.read_csv('/Users/madisonhunt/Desktop/Oak/stark_task/stark_demographics.csv')\n",
    "#merge this data with the MST data\n",
    "all_data= all_data.merge(demo_data, on='pidn')"
   ]
  },
  {
   "cell_type": "code",
   "execution_count": null,
   "metadata": {},
   "outputs": [],
   "source": [
    "low_ed = all_data[all_data['yrs_educ']<=12]['pidn']"
   ]
  },
  {
   "cell_type": "code",
   "execution_count": null,
   "metadata": {},
   "outputs": [],
   "source": [
    "print(low_ed)"
   ]
  },
  {
   "cell_type": "code",
   "execution_count": null,
   "metadata": {},
   "outputs": [],
   "source": [
    "print(all_data[all_data['yrs_educ']<=12]['dprime_bps'])"
   ]
  },
  {
   "cell_type": "code",
   "execution_count": null,
   "metadata": {},
   "outputs": [],
   "source": [
    "print(all_data[all_data['yrs_educ']<=12]['dprime_old_lure'])"
   ]
  },
  {
   "cell_type": "code",
   "execution_count": null,
   "metadata": {},
   "outputs": [],
   "source": [
    "print(all_data[all_data['yrs_educ']<=12]['dprime_old_new'])"
   ]
  },
  {
   "cell_type": "code",
   "execution_count": null,
   "metadata": {},
   "outputs": [],
   "source": [
    "print(all_data[all_data['yrs_educ']<=12]['prop_nr'])"
   ]
  },
  {
   "cell_type": "code",
   "execution_count": null,
   "metadata": {},
   "outputs": [],
   "source": [
    "for pid in low_ed: \n",
    "    num_sim = len(data_long[(data_long['pidn']==pid)& (data_long['Resp']=='Similar')])\n",
    "    print(num_sim)"
   ]
  },
  {
   "cell_type": "code",
   "execution_count": null,
   "metadata": {},
   "outputs": [],
   "source": [
    "g=sns.distplot(demo_data['delayed_recall_comp'], kde=False, bins=50)"
   ]
  },
  {
   "cell_type": "code",
   "execution_count": null,
   "metadata": {},
   "outputs": [],
   "source": [
    "g=sns.lmplot(x='np_age', y='bps', data=all_data)"
   ]
  },
  {
   "cell_type": "code",
   "execution_count": null,
   "metadata": {},
   "outputs": [],
   "source": [
    "g=sns.lmplot(x='np_age', y='dprime_bps', data=all_data)"
   ]
  },
  {
   "cell_type": "code",
   "execution_count": null,
   "metadata": {},
   "outputs": [],
   "source": [
    "g=sns.lmplot(x='np_age', y='dprime_old_new', data=all_data)"
   ]
  },
  {
   "cell_type": "code",
   "execution_count": null,
   "metadata": {},
   "outputs": [],
   "source": [
    "g=sns.lmplot(x='np_age', y='dprime_old_lure', data=all_data)"
   ]
  },
  {
   "cell_type": "code",
   "execution_count": null,
   "metadata": {},
   "outputs": [],
   "source": [
    "g=sns.lmplot(x='hvltr4', y='bps', data=all_data)"
   ]
  },
  {
   "cell_type": "code",
   "execution_count": null,
   "metadata": {},
   "outputs": [],
   "source": [
    "print(len(all_data))"
   ]
  },
  {
   "cell_type": "code",
   "execution_count": null,
   "metadata": {},
   "outputs": [],
   "source": [
    "print(sum(all_data['np_age'])/len(all_data['np_age']))"
   ]
  },
  {
   "cell_type": "code",
   "execution_count": null,
   "metadata": {},
   "outputs": [],
   "source": [
    "print(statistics.stdev(all_data['np_age']))"
   ]
  },
  {
   "cell_type": "code",
   "execution_count": null,
   "metadata": {},
   "outputs": [],
   "source": [
    "print(sum(all_data['mmse'])/len(all_data['mmse']))"
   ]
  },
  {
   "cell_type": "code",
   "execution_count": null,
   "metadata": {},
   "outputs": [],
   "source": [
    "print(statistics.stdev(all_data['mmse']))"
   ]
  },
  {
   "cell_type": "code",
   "execution_count": null,
   "metadata": {},
   "outputs": [],
   "source": [
    "print(sum(all_data['yrs_educ'])/len(all_data['yrs_educ']))"
   ]
  },
  {
   "cell_type": "code",
   "execution_count": null,
   "metadata": {},
   "outputs": [],
   "source": [
    "print(statistics.stdev(all_data['yrs_educ']))"
   ]
  },
  {
   "cell_type": "code",
   "execution_count": null,
   "metadata": {},
   "outputs": [],
   "source": [
    "print(len(all_data[all_data['gender']==1]))"
   ]
  },
  {
   "cell_type": "code",
   "execution_count": null,
   "metadata": {},
   "outputs": [],
   "source": [
    "# put people into nr_groups based on their proportion of no response\n",
    "all_data.loc[all_data['prop_nr']>=.20, 'nr_group'] = 'nr_.20'\n",
    "all_data.loc[(all_data['prop_nr']>=.15)&(all_data['prop_nr']<.20), 'nr_group'] = 'nr_.15'\n",
    "all_data.loc[(all_data['prop_nr']>=.10)&(all_data['prop_nr']<.15), 'nr_group'] = 'nr_.10'\n",
    "all_data.loc[(all_data['prop_nr']>=.05)&(all_data['prop_nr']<.10), 'nr_group'] = 'nr_.05'\n",
    "all_data.loc[(all_data['prop_nr']<.05), 'nr_group'] = 'nr_low'"
   ]
  },
  {
   "cell_type": "code",
   "execution_count": null,
   "metadata": {},
   "outputs": [],
   "source": [
    "## create data frames for reaction times\n",
    "\n",
    "#overall RT data frame\n",
    "med_rt_all = data_long.groupby('pidn').median().reset_index()\n",
    "#RT by condition data frame\n",
    "med_rt_cond = data_long.groupby(['pidn', 'Cond']).median().reset_index()\n",
    "#RT by accuracy data frame\n",
    "med_rt_acc = data_long.groupby(['pidn', 'Acc']).median().reset_index()\n",
    "#RT by condition and response data frame\n",
    "med_rt_resp = data_long.groupby(['pidn', 'Cond', 'Resp']).median().reset_index()\n",
    "#RT by condition and accuracy data frame\n",
    "med_rt_cond_acc = data_long.groupby(['pidn', 'Cond', 'Acc']).median().reset_index()\n"
   ]
  },
  {
   "cell_type": "code",
   "execution_count": null,
   "metadata": {},
   "outputs": [],
   "source": [
    "## finalize RT data frames by merging them with all_data (in order to have summary metrics)\n",
    "med_rt_all = med_rt_all.merge(all_data, on='pidn')\n",
    "med_rt_cond = med_rt_cond.merge(all_data, on='pidn')\n",
    "med_rt_acc = med_rt_acc.merge(all_data, on='pidn')\n",
    "med_rt_resp = med_rt_resp.merge(all_data, on='pidn')\n",
    "med_rt_cond_acc = med_rt_cond_acc.merge(all_data, on='pidn')\n",
    "\n",
    "#print one data frame to check that the merge happened correctly\n",
    "med_rt_cond_acc.head()"
   ]
  },
  {
   "cell_type": "code",
   "execution_count": null,
   "metadata": {},
   "outputs": [],
   "source": [
    "#plot the correct RT verusus the proportion correct for lure trials\n",
    "g=sns.lmplot(x='RT', y ='p_sim_lure', data=med_rt_cond_acc[(med_rt_cond_acc['Cond']=='Lure') & (med_rt_cond_acc['Acc']=='Correct')], hue= 'nr_group', hue_order=['nr_low', 'nr_.05', 'nr_.10', 'nr_.15', 'nr_.20'], fit_reg=False)\n",
    "g= sns.regplot(x='RT', y='p_sim_lure', data=med_rt_cond_acc[(med_rt_cond_acc['Cond']=='Lure') & (med_rt_cond_acc['Acc']=='Correct')], scatter=False)\n",
    "plt.ylabel('% Correct')\n",
    "g.set(ylim=[0, 1])"
   ]
  },
  {
   "cell_type": "code",
   "execution_count": null,
   "metadata": {},
   "outputs": [],
   "source": [
    "# plot the incorrect RT versus proportion correct on lure trials\n",
    "g=sns.lmplot(x='RT', y ='p_sim_lure', data=med_rt_cond_acc[(med_rt_cond_acc['Cond']=='Lure') & (med_rt_cond_acc['Acc']=='Incorrect')], hue= 'nr_group', hue_order=['nr_low', 'nr_.05', 'nr_.10', 'nr_.15', 'nr_.20'], fit_reg=False)\n",
    "g= sns.regplot(x='RT', y='p_sim_lure', data=med_rt_cond_acc[(med_rt_cond_acc['Cond']=='Lure') & (med_rt_cond_acc['Acc']=='Incorrect')], scatter=False)\n",
    "plt.ylabel('% Correct')\n",
    "g.set(ylim=[0, 1])"
   ]
  },
  {
   "cell_type": "code",
   "execution_count": null,
   "metadata": {},
   "outputs": [],
   "source": [
    "#plot the incorrect RT versus the proportion correct for lure trials after excluding the outlier\n",
    "temp4 = med_rt_cond_acc[med_rt_cond_acc['pidn']!=1185]\n",
    "g=sns.lmplot(x='RT', y ='p_sim_lure', data=temp4[(temp4['Cond']=='Lure') & (temp4['Acc']=='Incorrect')], hue= 'nr_group', hue_order=['nr_low', 'nr_.05', 'nr_.10', 'nr_.15', 'nr_.20'], fit_reg=False)\n",
    "g= sns.regplot(x='RT', y='p_sim_lure', data=temp4[(temp4['Cond']=='Lure') & (temp4['Acc']=='Incorrect')], scatter=False)\n",
    "plt.ylabel('% Correct')\n",
    "g.set(ylim=[0, 1])\n"
   ]
  },
  {
   "cell_type": "markdown",
   "metadata": {},
   "source": [
    "# Start code for NP scores"
   ]
  },
  {
   "cell_type": "code",
   "execution_count": null,
   "metadata": {
    "scrolled": true
   },
   "outputs": [],
   "source": [
    "## plot the delayed recall composite versus d' old/new on mst task and color code for nr group\n",
    "g=sns.lmplot(x='delayed_recall_comp', y='dprime_old_new', data=all_data, hue='nr_group', hue_order=['nr_low', 'nr_.05', 'nr_.10', 'nr_.15', 'nr_.20'], fit_reg=False)\n",
    "g= sns.regplot(x='delayed_recall_comp', y='dprime_old_new', data=all_data, scatter=False)"
   ]
  },
  {
   "cell_type": "code",
   "execution_count": null,
   "metadata": {},
   "outputs": [],
   "source": [
    "# calculate the correlation values for delayed recall comp vs old/new d' on mst task\n",
    "pearsonr(x=all_data['delayed_recall_comp'], y=all_data['dprime_old_new'])"
   ]
  },
  {
   "cell_type": "code",
   "execution_count": null,
   "metadata": {
    "scrolled": true
   },
   "outputs": [],
   "source": [
    "#plot the delayed recall composite vs d' bps and color code by nr group\n",
    "g=sns.lmplot(x='delayed_recall_comp', y='dprime_bps', data=all_data, hue='nr_group', hue_order=['nr_low', 'nr_.05', 'nr_.10', 'nr_.15', 'nr_.20'], fit_reg=False)\n",
    "g= sns.regplot(x='delayed_recall_comp', y='dprime_bps', data=all_data, scatter=False)"
   ]
  },
  {
   "cell_type": "code",
   "execution_count": null,
   "metadata": {},
   "outputs": [],
   "source": [
    "# calculate the correlation value for delayed recall and d' bps \n",
    "pearsonr(x=all_data['delayed_recall_comp'], y=all_data['dprime_bps'])"
   ]
  },
  {
   "cell_type": "code",
   "execution_count": null,
   "metadata": {
    "scrolled": true
   },
   "outputs": [],
   "source": [
    "#plot the delayed recall composite versus the d' old/lure and color code by nr group\n",
    "g=sns.lmplot(x='delayed_recall_comp', y='dprime_old_lure', data=all_data, hue='nr_group', hue_order=['nr_low', 'nr_.05', 'nr_.10', 'nr_.15', 'nr_.20'], fit_reg=False)\n",
    "g= sns.regplot(x='delayed_recall_comp', y='dprime_old_lure', data=all_data, scatter=False)"
   ]
  },
  {
   "cell_type": "code",
   "execution_count": null,
   "metadata": {},
   "outputs": [],
   "source": [
    "#calculate correlation value delayed recall vs d' old/lure\n",
    "pearsonr(x=all_data['delayed_recall_comp'], y=all_data['dprime_old_lure'])"
   ]
  },
  {
   "cell_type": "code",
   "execution_count": null,
   "metadata": {
    "scrolled": true
   },
   "outputs": [],
   "source": [
    "#plot the immediate recall composite versus the old/new d'\n",
    "g=sns.lmplot(x='immediate_recall_comp', y='dprime_old_new', data=all_data, hue='nr_group', hue_order=['nr_low', 'nr_.05', 'nr_.10', 'nr_.15', 'nr_.20'], fit_reg=False)\n",
    "g= sns.regplot(x='immediate_recall_comp', y='dprime_old_new', data=all_data, scatter=False)"
   ]
  },
  {
   "cell_type": "code",
   "execution_count": null,
   "metadata": {},
   "outputs": [],
   "source": [
    "# calculate the correlation value for immediate recall versus d' old/new\n",
    "pearsonr(x=all_data['immediate_recall_comp'], y=all_data['dprime_old_new'])"
   ]
  },
  {
   "cell_type": "code",
   "execution_count": null,
   "metadata": {
    "scrolled": true
   },
   "outputs": [],
   "source": [
    "#plot the immediate recall versus d' bps\n",
    "g=sns.lmplot(x='immediate_recall_comp', y='dprime_bps', data=all_data, hue='nr_group', hue_order=['nr_low', 'nr_.05', 'nr_.10', 'nr_.15', 'nr_.20'], fit_reg=False)\n",
    "g= sns.regplot(x='immediate_recall_comp', y='dprime_bps', data=all_data, scatter=False)"
   ]
  },
  {
   "cell_type": "code",
   "execution_count": null,
   "metadata": {},
   "outputs": [],
   "source": [
    "#calculate the correlation value for immediate recall versus d' bps\n",
    "pearsonr(x=all_data['immediate_recall_comp'], y=all_data['dprime_bps'])"
   ]
  },
  {
   "cell_type": "code",
   "execution_count": null,
   "metadata": {
    "scrolled": true
   },
   "outputs": [],
   "source": [
    "# plot the immediate recall vs d' old/lure\n",
    "g=sns.lmplot(x='immediate_recall_comp', y='dprime_old_lure', data=all_data, hue='nr_group', hue_order=['nr_low', 'nr_.05', 'nr_.10', 'nr_.15', 'nr_.20'], fit_reg=False)\n",
    "g= sns.regplot(x='immediate_recall_comp', y='dprime_old_lure', data=all_data, scatter=False)"
   ]
  },
  {
   "cell_type": "code",
   "execution_count": null,
   "metadata": {},
   "outputs": [],
   "source": [
    "# calculate the correlation value for immediate recall versus d' old/lure\n",
    "pearsonr(x=all_data['immediate_recall_comp'], y=all_data['dprime_old_lure'])"
   ]
  },
  {
   "cell_type": "code",
   "execution_count": null,
   "metadata": {
    "scrolled": true
   },
   "outputs": [],
   "source": [
    "#plot the recognition composite versus d' old/new\n",
    "g=sns.lmplot(x='recognition_comp', y='dprime_old_new', data=all_data, hue='nr_group', hue_order=['nr_low', 'nr_.05', 'nr_.10', 'nr_.15', 'nr_.20'], fit_reg=False)\n",
    "g= sns.regplot(x='recognition_comp', y='dprime_old_new', data=all_data, scatter=False)"
   ]
  },
  {
   "cell_type": "code",
   "execution_count": null,
   "metadata": {},
   "outputs": [],
   "source": [
    "# calculate the correlation value for recognition composite versus d' old/new\n",
    "pearsonr(x=all_data['recognition_comp'], y=all_data['dprime_old_new'])"
   ]
  },
  {
   "cell_type": "code",
   "execution_count": null,
   "metadata": {
    "scrolled": true
   },
   "outputs": [],
   "source": [
    "#plot the recognition composite versus d' bps\n",
    "g=sns.lmplot(x='recognition_comp', y='dprime_bps', data=all_data, hue='nr_group', hue_order=['nr_low', 'nr_.05', 'nr_.10', 'nr_.15', 'nr_.20'], fit_reg=False)\n",
    "g= sns.regplot(x='recognition_comp', y='dprime_bps', data=all_data, scatter=False)"
   ]
  },
  {
   "cell_type": "code",
   "execution_count": null,
   "metadata": {},
   "outputs": [],
   "source": [
    "# calculate the correlation value for recognition composite versus d' bps\n",
    "pearsonr(x=all_data['recognition_comp'], y=all_data['dprime_bps'])"
   ]
  },
  {
   "cell_type": "code",
   "execution_count": null,
   "metadata": {
    "scrolled": true
   },
   "outputs": [],
   "source": [
    "#plot the recognition composite vs d' old/lure\n",
    "g=sns.lmplot(x='recognition_comp', y='dprime_old_lure', data=all_data, hue='nr_group', hue_order=['nr_low', 'nr_.05', 'nr_.10', 'nr_.15', 'nr_.20'], fit_reg=False)\n",
    "g= sns.regplot(x='recognition_comp', y='dprime_old_lure', data=all_data, scatter=False)"
   ]
  },
  {
   "cell_type": "code",
   "execution_count": null,
   "metadata": {},
   "outputs": [],
   "source": [
    "#calculate the correlation value for recognition composite versus d' old/lure\n",
    "pearsonr(x=all_data['recognition_comp'], y=all_data['dprime_old_lure'])"
   ]
  },
  {
   "cell_type": "markdown",
   "metadata": {},
   "source": [
    "# End NP code"
   ]
  },
  {
   "cell_type": "markdown",
   "metadata": {},
   "source": [
    "# Start AM Code"
   ]
  },
  {
   "cell_type": "code",
   "execution_count": null,
   "metadata": {},
   "outputs": [],
   "source": [
    "## read in AM data into dataframe\n",
    "am = pd.read_csv('/Users/madisonhunt/Desktop/Oak/stark_task/md_np_am_data.csv')\n",
    "#create AM data frame\n",
    "am_data=pd.DataFrame()\n",
    "row=0\n",
    "#add pidn, associative d' and o/n d' to data frame\n",
    "for pid in pd.unique(all_data['pidn']):\n",
    "    am_data.loc[row, 'pidn'] = pid\n",
    "    am_data.loc[row, 'assoc_d'] = am.loc[row, 'associative_dprime']\n",
    "    am_data.loc[row, 'old_new_d'] = am.loc[row, 'overall_dprime']\n",
    "    row+=1\n",
    "    \n",
    "#drop any N/A (people who don't have AM scores) from the data frame. reset the index without creating a new column for the old indices\n",
    "am_data=am_data.dropna().reset_index(drop=True)\n",
    "\n",
    "#check that the data is correct\n",
    "am_data.head()"
   ]
  },
  {
   "cell_type": "code",
   "execution_count": null,
   "metadata": {},
   "outputs": [],
   "source": [
    "#merge the am data with the mst data\n",
    "am_data= am_data.merge(all_data, on='pidn')"
   ]
  },
  {
   "cell_type": "code",
   "execution_count": null,
   "metadata": {},
   "outputs": [],
   "source": [
    "#plot the AM associative d' vs the MST old/new d'\n",
    "sns.lmplot(x='assoc_d', y='dprime_old_new', data=am_data, hue='nr_group', hue_order=['nr_low', 'nr_.05', 'nr_.10', 'nr_.15', 'nr_.20'], fit_reg=False)\n",
    "sns.regplot(x='assoc_d', y='dprime_old_new', data=am_data, scatter=False)"
   ]
  },
  {
   "cell_type": "code",
   "execution_count": null,
   "metadata": {},
   "outputs": [],
   "source": [
    "#calculate the correlation value for the associative d' versus the d' old/new\n",
    "pearsonr(x= am_data['assoc_d'], y=am_data['dprime_old_new'])"
   ]
  },
  {
   "cell_type": "code",
   "execution_count": null,
   "metadata": {},
   "outputs": [],
   "source": [
    "#plot the AM associative d' versus MST d' BPS\n",
    "sns.lmplot(x='assoc_d', y='dprime_bps', data=am_data, hue='nr_group', hue_order=['nr_low', 'nr_.05', 'nr_.10', 'nr_.15', 'nr_.20'], fit_reg=False)\n",
    "sns.regplot(x='assoc_d', y='dprime_bps', data=am_data, scatter=False)"
   ]
  },
  {
   "cell_type": "code",
   "execution_count": null,
   "metadata": {},
   "outputs": [],
   "source": [
    "#calucate the correlation value for associative d' vs d' BPS\n",
    "pearsonr(x= am_data['assoc_d'], y=am_data['dprime_bps'])"
   ]
  },
  {
   "cell_type": "code",
   "execution_count": null,
   "metadata": {},
   "outputs": [],
   "source": [
    "#plot the AM associative d' versus MST Old/Sim d'\n",
    "sns.lmplot(x='assoc_d', y='dprime_old_lure', data=am_data, hue='nr_group', hue_order=['nr_low', 'nr_.05', 'nr_.10', 'nr_.15', 'nr_.20'], fit_reg=False)\n",
    "sns.regplot(x='assoc_d', y='dprime_old_lure', data=am_data, scatter=False)"
   ]
  },
  {
   "cell_type": "code",
   "execution_count": null,
   "metadata": {},
   "outputs": [],
   "source": [
    "#calucate the correlation value for associative d' vs d' old/similar\n",
    "pearsonr(x= am_data['assoc_d'], y=am_data['dprime_old_lure'])"
   ]
  },
  {
   "cell_type": "code",
   "execution_count": null,
   "metadata": {},
   "outputs": [],
   "source": [
    "#plot the AM old/new d' versus the MST old/new d'\n",
    "sns.lmplot(x='old_new_d', y='dprime_old_new', data=am_data, hue='nr_group', hue_order=['nr_low', 'nr_.05', 'nr_.10', 'nr_.15', 'nr_.20'], fit_reg=False)\n",
    "sns.regplot(x='old_new_d', y='dprime_old_new', data=am_data, scatter=False)\n",
    "plt.xlabel('AM Old/New')\n",
    "plt.ylabel('MST Old/New')"
   ]
  },
  {
   "cell_type": "code",
   "execution_count": null,
   "metadata": {},
   "outputs": [],
   "source": [
    "# calculate the correlation value of AM old/new d' vs MST old/new d'\n",
    "pearsonr(x=am_data['old_new_d'], y=am_data['dprime_old_new'])"
   ]
  },
  {
   "cell_type": "code",
   "execution_count": null,
   "metadata": {},
   "outputs": [],
   "source": [
    "#plot the AM old/new versus the MST d' BPS\n",
    "sns.lmplot(x='old_new_d', y='dprime_bps', data=am_data, hue='nr_group', hue_order=['nr_low', 'nr_.05', 'nr_.10', 'nr_.15', 'nr_.20'], fit_reg=False)\n",
    "sns.regplot(x='old_new_d', y='dprime_bps', data=am_data, scatter=False)\n",
    "plt.xlabel('AM Old/New')\n",
    "plt.ylabel('MST BPS')"
   ]
  },
  {
   "cell_type": "code",
   "execution_count": null,
   "metadata": {},
   "outputs": [],
   "source": [
    "# calculate the correlation value of AM old/new d' vs MST BPS d'\n",
    "pearsonr(x=am_data['old_new_d'], y=am_data['dprime_bps'])"
   ]
  },
  {
   "cell_type": "code",
   "execution_count": null,
   "metadata": {},
   "outputs": [],
   "source": [
    "#plot the AM old/new d' versus the MST old/sim d'\n",
    "sns.lmplot(x='old_new_d', y='dprime_old_lure', data=am_data, hue='nr_group', hue_order=['nr_low', 'nr_.05', 'nr_.10', 'nr_.15', 'nr_.20'], fit_reg=False)\n",
    "sns.regplot(x='old_new_d', y='dprime_old_lure', data=am_data, scatter=False)\n",
    "plt.xlabel('AM Old/New')\n",
    "plt.ylabel('MST Old/Sim')"
   ]
  },
  {
   "cell_type": "code",
   "execution_count": null,
   "metadata": {},
   "outputs": [],
   "source": [
    "# calculate the correlation value of AM old/new d' vs MST old/sim d'\n",
    "pearsonr(x=am_data['old_new_d'], y=am_data['dprime_old_lure'])"
   ]
  },
  {
   "cell_type": "markdown",
   "metadata": {},
   "source": [
    "# End AM Code"
   ]
  },
  {
   "cell_type": "code",
   "execution_count": null,
   "metadata": {},
   "outputs": [],
   "source": [
    "# plot median RT for correct lures versus the proportion correct on lure trials\n",
    "g=sns.lmplot(x='RT', y='p_sim_lure', data=med_rt_cond_acc[(med_rt_cond_acc['Cond']=='Lure') & (med_rt_cond_acc['Acc']=='Correct')], hue='nr_group', hue_order=['nr_low', 'nr_.05', 'nr_.10', 'nr_.15', 'nr_.20'], fit_reg=False)\n",
    "g=sns.regplot(x='RT', y='p_sim_lure', data= med_rt_cond_acc[(med_rt_cond_acc['Cond']=='Lure') & (med_rt_cond_acc['Acc']=='Correct')], scatter=False)"
   ]
  },
  {
   "cell_type": "code",
   "execution_count": null,
   "metadata": {},
   "outputs": [],
   "source": [
    "## find out who the outliers are \n",
    "print(med_rt_resp[(med_rt_resp['Cond']=='Lure') & (med_rt_resp['RT']< 800)])"
   ]
  },
  {
   "cell_type": "code",
   "execution_count": null,
   "metadata": {},
   "outputs": [],
   "source": [
    "## print the trials for the outlier on correct trials\n",
    "print(data_long[(data_long['pidn']==1185) & (data_long['Cond']=='Lure')])"
   ]
  },
  {
   "cell_type": "code",
   "execution_count": null,
   "metadata": {},
   "outputs": [],
   "source": [
    "## create a temporary data frame without the outlier\n",
    "temp1= med_rt_cond_acc[med_rt_cond_acc['pidn'] !=1185]"
   ]
  },
  {
   "cell_type": "code",
   "execution_count": null,
   "metadata": {},
   "outputs": [],
   "source": [
    "# plot median RT for correct lures versus the proportion correct on lure trials without outlier\n",
    "g=sns.lmplot(x='RT', y='p_sim_lure', data=temp1[(temp1['Cond']=='Lure') & (temp1['Acc']=='Correct')], hue='nr_group', hue_order=['nr_low', 'nr_.05', 'nr_.10', 'nr_.15', 'nr_.20'], fit_reg=False)\n",
    "g=sns.regplot(x='RT', y='p_sim_lure', data= temp1[(temp1['Cond']=='Lure') & (temp1['Acc']=='Correct')], scatter=False)"
   ]
  },
  {
   "cell_type": "code",
   "execution_count": null,
   "metadata": {},
   "outputs": [],
   "source": [
    "# calculate correlation value for correct lure RT versus proportion correct without outlier\n",
    "pearsonr(x=temp1[(temp1['Cond']=='Lure') & (temp1['Acc']=='Correct')]['RT'], y = temp1[(temp1['Cond']=='Lure') & (temp1['Acc']=='Correct')]['p_sim_lure'])"
   ]
  },
  {
   "cell_type": "markdown",
   "metadata": {},
   "source": [
    "# Plotting Lure RT vs \n",
    "    #d' BPS\n",
    "    #Percent Response Type\n",
    "# by trial type"
   ]
  },
  {
   "cell_type": "code",
   "execution_count": null,
   "metadata": {},
   "outputs": [],
   "source": [
    "## plot Lure RT for \"New\" Responses vs d' BPS\n",
    "# color code by NR group, but plot the regression line over all participants\n",
    "g=sns.lmplot(x='RT', y='dprime_bps', data=med_rt_resp[(med_rt_resp['Cond']=='Lure') & (med_rt_resp['Resp']=='New')], hue='nr_group', hue_order=['nr_low', 'nr_.05', 'nr_.10', 'nr_.15', 'nr_.20'], fit_reg=False)\n",
    "g= sns.regplot(x='RT', y='dprime_bps', data=med_rt_resp[(med_rt_resp['Cond']=='Lure') & (med_rt_resp['Resp']=='New')], scatter=False)\n",
    "plt.xlabel('\\\"New\\\" RT')"
   ]
  },
  {
   "cell_type": "code",
   "execution_count": null,
   "metadata": {},
   "outputs": [],
   "source": [
    "# calculate correlation value for Lure RT for \"New\" Responses vs d' BPS\n",
    "pearsonr(x=med_rt_resp[(med_rt_resp['Cond']=='Lure') & (med_rt_resp['Resp']=='New')]['RT'], y= med_rt_resp[(med_rt_resp['Cond']=='Lure') & (med_rt_resp['Resp']=='New')]['dprime_bps'])"
   ]
  },
  {
   "cell_type": "code",
   "execution_count": null,
   "metadata": {},
   "outputs": [],
   "source": [
    "## plot Lure RT for \"Similar\" Responses vs d' BPS\n",
    "# color code by NR group, but plot the regression line over all participants\n",
    "g=sns.lmplot(x='RT', y='dprime_bps', data=med_rt_resp[(med_rt_resp['Cond']=='Lure') & (med_rt_resp['Resp']=='Similar')], hue='nr_group', hue_order=['nr_low', 'nr_.05', 'nr_.10', 'nr_.15', 'nr_.20'], fit_reg=False)\n",
    "g= sns.regplot(x='RT', y='dprime_bps', data=med_rt_resp[(med_rt_resp['Cond']=='Lure') & (med_rt_resp['Resp']=='Similar')], scatter=False)\n",
    "plt.xlabel('\\\"Similar\\\" RT')"
   ]
  },
  {
   "cell_type": "code",
   "execution_count": null,
   "metadata": {},
   "outputs": [],
   "source": [
    "# calculate correlation value for Lure RT for \"Similar\" Responses vs d' BPS\n",
    "pearsonr(x=med_rt_resp[(med_rt_resp['Cond']=='Lure') & (med_rt_resp['Resp']=='Similar')]['RT'], y= med_rt_resp[(med_rt_resp['Cond']=='Lure') & (med_rt_resp['Resp']=='Similar')]['dprime_bps'])"
   ]
  },
  {
   "cell_type": "code",
   "execution_count": null,
   "metadata": {},
   "outputs": [],
   "source": [
    "## plot Lure RT for \"Old\" Responses vs d' BPS\n",
    "# color code by NR group, but plot the regression line over all participants\n",
    "g=sns.lmplot(x='RT', y='dprime_bps', data=med_rt_resp[(med_rt_resp['Cond']=='Lure') & (med_rt_resp['Resp']=='Old')], hue='nr_group', hue_order=['nr_low', 'nr_.05', 'nr_.10', 'nr_.15', 'nr_.20'], fit_reg=False)\n",
    "g= sns.regplot(x='RT', y='dprime_bps', data=med_rt_resp[(med_rt_resp['Cond']=='Lure') & (med_rt_resp['Resp']=='Old')], scatter=False)\n",
    "plt.xlabel('\\\"Old\\\" RT')"
   ]
  },
  {
   "cell_type": "code",
   "execution_count": null,
   "metadata": {},
   "outputs": [],
   "source": [
    "# calculate correlation value for Lure RT for \"Old\" Responses vs d' BPS\n",
    "pearsonr(x=med_rt_resp[(med_rt_resp['Cond']=='Lure') & (med_rt_resp['Resp']=='Old')]['RT'], y= med_rt_resp[(med_rt_resp['Cond']=='Lure') & (med_rt_resp['Resp']=='Old')]['dprime_bps'])"
   ]
  },
  {
   "cell_type": "code",
   "execution_count": null,
   "metadata": {},
   "outputs": [],
   "source": [
    "##plot RT on 'Old'|Lure Trials vs the propability of answering 'Old'|Lure\n",
    "#color code by nr group, but plot the regression line over all points\n",
    "g=sns.lmplot(x='RT', y='p_old_lure', data=med_rt_resp[(med_rt_resp['Cond']=='Lure') & (med_rt_resp['Resp']=='Old')], hue='nr_group', hue_order=['nr_low', 'nr_.05', 'nr_.10', 'nr_.15', 'nr_.20'], fit_reg=False)\n",
    "g= sns.regplot(x='RT', y='p_old_lure', data=med_rt_resp[(med_rt_resp['Cond']=='Lure') & (med_rt_resp['Resp']=='Old')], scatter=False)\n",
    "g.set(ylim=[0, 1])\n",
    "plt.xlabel('\\\"Old\\\" RT')"
   ]
  },
  {
   "cell_type": "code",
   "execution_count": null,
   "metadata": {},
   "outputs": [],
   "source": [
    "##calculate correlation of RT on 'Old'|Lure Trials vs the propability of answering 'Old'|Lure\n",
    "pearsonr(x=med_rt_resp[(med_rt_resp['Cond']=='Lure') & (med_rt_resp['Resp']=='Old')]['RT'], y=med_rt_resp[(med_rt_resp['Cond']=='Lure') & (med_rt_resp['Resp']=='Old')]['p_old_lure'])"
   ]
  },
  {
   "cell_type": "code",
   "execution_count": null,
   "metadata": {},
   "outputs": [],
   "source": [
    "##plot RT on 'Sim'|Lure Trials vs the propability of answering 'Sim'|Lure\n",
    "#color code by nr group, but plot the regression line over all points\n",
    "g=sns.lmplot(x='RT', y='p_sim_lure', data=med_rt_resp[(med_rt_resp['Cond']=='Lure') & (med_rt_resp['Resp']=='Similar')], hue='nr_group', hue_order=['nr_low', 'nr_.05', 'nr_.10', 'nr_.15', 'nr_.20'], fit_reg=False)\n",
    "g= sns.regplot(x='RT', y='p_sim_lure', data=med_rt_resp[(med_rt_resp['Cond']=='Lure') & (med_rt_resp['Resp']=='Similar')], scatter=False)\n",
    "g.set(ylim=[0, 1])\n",
    "plt.xlabel('\\\"Similar\\\" RT')"
   ]
  },
  {
   "cell_type": "code",
   "execution_count": null,
   "metadata": {},
   "outputs": [],
   "source": [
    "# plot median RT for correct lures versus the proportion correct on lure trials\n",
    "g=sns.lmplot(x='RT', y='p_sim_lure', data=med_rt_cond_acc[(med_rt_cond_acc['Cond']=='Lure') & (med_rt_cond_acc['Acc']=='Correct')], hue='nr_group', hue_order=['nr_low', 'nr_.05', 'nr_.10', 'nr_.15', 'nr_.20'], fit_reg=False)\n",
    "g=sns.regplot(x='RT', y='p_sim_lure', data= med_rt_cond_acc[(med_rt_cond_acc['Cond']=='Lure') & (med_rt_cond_acc['Acc']=='Correct')], scatter=False)"
   ]
  },
  {
   "cell_type": "code",
   "execution_count": null,
   "metadata": {},
   "outputs": [],
   "source": [
    "## find out who the outliers are \n",
    "print(med_rt_resp[(med_rt_resp['Cond']=='Lure') & (med_rt_resp['RT']< 800)])"
   ]
  },
  {
   "cell_type": "code",
   "execution_count": null,
   "metadata": {},
   "outputs": [],
   "source": [
    "## print the trials for the outlier on correct trials\n",
    "print(data_long[(data_long['pidn']==1185) & (data_long['Cond']=='Lure')])"
   ]
  },
  {
   "cell_type": "code",
   "execution_count": null,
   "metadata": {},
   "outputs": [],
   "source": [
    "## create a temporary data frame without the outlier\n",
    "temp1= med_rt_cond_acc[med_rt_cond_acc['pidn'] !=1185]"
   ]
  },
  {
   "cell_type": "code",
   "execution_count": null,
   "metadata": {},
   "outputs": [],
   "source": [
    "# plot median RT for correct lures versus the proportion correct on lure trials without outlier\n",
    "g=sns.lmplot(x='RT', y='p_sim_lure', data=temp1[(temp1['Cond']=='Lure') & (temp1['Acc']=='Correct')], hue='nr_group', hue_order=['nr_low', 'nr_.05', 'nr_.10', 'nr_.15', 'nr_.20'], fit_reg=False)\n",
    "g=sns.regplot(x='RT', y='p_sim_lure', data= temp1[(temp1['Cond']=='Lure') & (temp1['Acc']=='Correct')], scatter=False)"
   ]
  },
  {
   "cell_type": "code",
   "execution_count": null,
   "metadata": {},
   "outputs": [],
   "source": [
    "# calculate correlation value for correct lure RT versus proportion correct without outlier\n",
    "pearsonr(x=temp1[(temp1['Cond']=='Lure') & (temp1['Acc']=='Correct')]['RT'], y = temp1[(temp1['Cond']=='Lure') & (temp1['Acc']=='Correct')]['p_sim_lure'])"
   ]
  },
  {
   "cell_type": "code",
   "execution_count": null,
   "metadata": {},
   "outputs": [],
   "source": [
    "## print outlier data\n",
    "print(med_rt_resp[(med_rt_resp['RT']<800) & (med_rt_resp['Cond'] =='Lure')])"
   ]
  },
  {
   "cell_type": "code",
   "execution_count": null,
   "metadata": {},
   "outputs": [],
   "source": [
    "## plot the data for d' bps versus rt for New|Targ trials without outlier\n",
    "temp3= med_rt_resp[med_rt_resp['pidn'] !=532]\n",
    "\n",
    "sns.lmplot(x='RT', y='dprime_bps', data=temp3[(temp3['Cond']=='Lure') & (temp3['Resp']=='New')], hue='nr_group', hue_order=['nr_low', 'nr_.05', 'nr_.10', 'nr_.15', 'nr_.20'], fit_reg=False)\n",
    "g= sns.regplot(x='RT', y='dprime_bps', data=temp3[(temp3['Cond']=='Lure') & (temp3['Resp']=='New')], scatter=False)\n",
    "plt.xlabel('\\\"New\\\" RT')"
   ]
  },
  {
   "cell_type": "code",
   "execution_count": null,
   "metadata": {},
   "outputs": [],
   "source": [
    "## calcilate correlation of RT on 'New'|Lure Trials vs the propability of answering 'New'|Lure\n",
    "pearsonr(x=temp3[(temp3['Cond']=='Lure') & (temp3['Resp']=='New')]['RT'], y=temp3[(temp3['Cond']=='Lure') & (temp3['Resp']=='New')]['p_sim_lure'])"
   ]
  },
  {
   "cell_type": "markdown",
   "metadata": {},
   "source": [
    "# Start Demographics Correlations"
   ]
  },
  {
   "cell_type": "code",
   "execution_count": null,
   "metadata": {},
   "outputs": [],
   "source": [
    "# plot age versus percent correct on target trials \n",
    "g=sns.lmplot(x='np_age', y='p_old_targ', data=med_rt_cond[med_rt_cond['Cond']=='Target'], hue='nr_group', hue_order=['nr_low', 'nr_.05', 'nr_.10', 'nr_.15', 'nr_.20'], fit_reg=False)\n",
    "g= sns.regplot(x='np_age', y='p_old_targ', data=med_rt_cond[med_rt_cond['Cond']=='Target'], scatter=False)\n",
    "plt.ylabel('% Correct')\n",
    "g.set(ylim=[0,1])"
   ]
  },
  {
   "cell_type": "code",
   "execution_count": null,
   "metadata": {},
   "outputs": [],
   "source": [
    "#calculate correlation value for age versus proportion correct on target trials\n",
    "pearsonr(x=med_rt_cond[med_rt_cond['Cond']=='Target']['np_age'], y = med_rt_cond[med_rt_cond['Cond']=='Target']['p_old_targ'])"
   ]
  },
  {
   "cell_type": "code",
   "execution_count": null,
   "metadata": {},
   "outputs": [],
   "source": [
    "#plot age versus proportion correct on lure trials \n",
    "g=sns.lmplot(x='np_age', y='p_sim_lure', data=med_rt_cond[med_rt_cond['Cond']=='Lure'], hue='nr_group', hue_order=['nr_low', 'nr_.05', 'nr_.10', 'nr_.15', 'nr_.20'], fit_reg=False)\n",
    "g= sns.regplot(x='np_age', y='p_sim_lure', data=med_rt_cond[med_rt_cond['Cond']=='Lure'], scatter=False)\n",
    "plt.ylabel('% Correct')\n",
    "g.set(ylim=[0,1])"
   ]
  },
  {
   "cell_type": "code",
   "execution_count": null,
   "metadata": {},
   "outputs": [],
   "source": [
    "#calculate correlation for age versus percent correct on lure trials \n",
    "pearsonr(x=med_rt_cond[med_rt_cond['Cond']=='Lure']['np_age'], y = med_rt_cond[med_rt_cond['Cond']=='Lure']['p_sim_lure'])"
   ]
  },
  {
   "cell_type": "code",
   "execution_count": null,
   "metadata": {},
   "outputs": [],
   "source": [
    "#plot age versus percent correct on foil trials \n",
    "g=sns.lmplot(x='np_age', y='p_new_foil', data=med_rt_cond[med_rt_cond['Cond']=='Foil'], hue='nr_group', hue_order=['nr_low', 'nr_.05', 'nr_.10', 'nr_.15', 'nr_.20'], fit_reg=False)\n",
    "g= sns.regplot(x='np_age', y='p_new_foil', data=med_rt_cond[med_rt_cond['Cond']=='Foil'], scatter=False)\n",
    "plt.ylabel('% Correct')\n",
    "g.set(ylim=[0,1])"
   ]
  },
  {
   "cell_type": "code",
   "execution_count": null,
   "metadata": {},
   "outputs": [],
   "source": [
    "# calculate correlation value for age versus percent correct on foil trials\n",
    "pearsonr(x=med_rt_cond[med_rt_cond['Cond']=='Foil']['np_age'], y=med_rt_cond[med_rt_cond['Cond']=='Foil']['p_new_foil'])"
   ]
  },
  {
   "cell_type": "code",
   "execution_count": null,
   "metadata": {},
   "outputs": [],
   "source": [
    "#plot age versus old/new d'\n",
    "g=sns.lmplot(x='np_age', y='dprime_old_new', data=med_rt_all, hue='nr_group', hue_order=['nr_low', 'nr_.05', 'nr_.10', 'nr_.15', 'nr_.20'], fit_reg=False)\n",
    "g= sns.regplot(x='np_age', y='dprime_old_new', data=med_rt_all, scatter=False)"
   ]
  },
  {
   "cell_type": "code",
   "execution_count": null,
   "metadata": {},
   "outputs": [],
   "source": [
    "pearsonr(x=med_rt_all['np_age'], y=med_rt_all['dprime_old_new'])"
   ]
  },
  {
   "cell_type": "code",
   "execution_count": null,
   "metadata": {},
   "outputs": [],
   "source": [
    "#plot age versus dprime bps\n",
    "g=sns.lmplot(x='np_age', y='dprime_bps', data=med_rt_all, hue='nr_group', hue_order=['nr_low', 'nr_.05', 'nr_.10', 'nr_.15', 'nr_.20'], fit_reg=False)\n",
    "g= sns.regplot(x='np_age', y='dprime_bps', data=med_rt_all, scatter=False)"
   ]
  },
  {
   "cell_type": "code",
   "execution_count": null,
   "metadata": {},
   "outputs": [],
   "source": [
    "g=sns.lmplot(x='np_age', y='dprime_bps', data=med_rt_all, hue='nr_group', hue_order=['nr_low', 'nr_.05', 'nr_.10', 'nr_.15', 'nr_.20'], fit_reg=False)\n"
   ]
  },
  {
   "cell_type": "code",
   "execution_count": null,
   "metadata": {},
   "outputs": [],
   "source": [
    "#calculate correlation value for age versus d' bps\n",
    "pearsonr(x=med_rt_all['np_age'], y=med_rt_all['dprime_bps'])"
   ]
  },
  {
   "cell_type": "code",
   "execution_count": null,
   "metadata": {},
   "outputs": [],
   "source": [
    "#plot age versus d' old/lure\n",
    "g=sns.lmplot(x='np_age', y='dprime_old_lure', data=med_rt_all, hue='nr_group', hue_order=['nr_low', 'nr_.05', 'nr_.10', 'nr_.15', 'nr_.20'], fit_reg=False)\n",
    "g= sns.regplot(x='np_age', y='dprime_old_lure', data=med_rt_all, scatter=False)"
   ]
  },
  {
   "cell_type": "code",
   "execution_count": null,
   "metadata": {},
   "outputs": [],
   "source": [
    "#calculate correlation value for age versus d' old/similar\n",
    "pearsonr(x=med_rt_all['np_age'], y=med_rt_all['dprime_old_lure'])"
   ]
  },
  {
   "cell_type": "code",
   "execution_count": null,
   "metadata": {},
   "outputs": [],
   "source": [
    "#plot education versus d' o/n\n",
    "g=sns.lmplot(x='yrs_educ', y='dprime_old_new', data=med_rt_all, hue='nr_group', hue_order=['nr_low', 'nr_.05', 'nr_.10', 'nr_.15', 'nr_.20'], fit_reg=False)\n",
    "g= sns.regplot(x='yrs_educ', y='dprime_old_new', data=med_rt_all, scatter=False)"
   ]
  },
  {
   "cell_type": "code",
   "execution_count": null,
   "metadata": {},
   "outputs": [],
   "source": [
    "#calculate correlation of education versus d' o/n\n",
    "pearsonr(x=med_rt_all['yrs_educ'], y=med_rt_all['dprime_old_new'])"
   ]
  },
  {
   "cell_type": "code",
   "execution_count": null,
   "metadata": {},
   "outputs": [],
   "source": [
    "#plot years education versus d' bps\n",
    "g=sns.lmplot(x='yrs_educ', y='dprime_bps', data=med_rt_all, hue='nr_group', hue_order=['nr_low', 'nr_.05', 'nr_.10', 'nr_.15', 'nr_.20'], fit_reg=False)\n",
    "g= sns.regplot(x='yrs_educ', y='dprime_bps', data=med_rt_all, scatter=False)"
   ]
  },
  {
   "cell_type": "code",
   "execution_count": null,
   "metadata": {},
   "outputs": [],
   "source": [
    "#calculate correlation of education versus d' bps\n",
    "pearsonr(x=med_rt_all['yrs_educ'], y=med_rt_all['dprime_bps'])"
   ]
  },
  {
   "cell_type": "code",
   "execution_count": null,
   "metadata": {},
   "outputs": [],
   "source": [
    "#plot education verus d' o/s\n",
    "g=sns.lmplot(x='yrs_educ', y='dprime_old_lure', data=med_rt_all, hue='nr_group', hue_order=['nr_low', 'nr_.05', 'nr_.10', 'nr_.15', 'nr_.20'], fit_reg=False)\n",
    "g= sns.regplot(x='yrs_educ', y='dprime_old_lure', data=med_rt_all, scatter=False)"
   ]
  },
  {
   "cell_type": "code",
   "execution_count": null,
   "metadata": {},
   "outputs": [],
   "source": [
    "#calculate correlation value for education versus d' o/s\n",
    "pearsonr(x=med_rt_all['yrs_educ'], y=med_rt_all['dprime_old_lure'])"
   ]
  },
  {
   "cell_type": "code",
   "execution_count": null,
   "metadata": {},
   "outputs": [],
   "source": [
    "#plot the number of trials for each condition participants have\n",
    "g= sns.distplot(all_data['num_targ_tr'], kde=False)\n",
    "g=sns.distplot(all_data['num_lure_tr'], kde=False)\n",
    "g=sns.distplot(all_data['num_foil_tr'], kde=False)\n",
    "plt.xlabel('Number of Trials')\n",
    "plt.legend(['Target', 'Lure', 'Foil'])"
   ]
  },
  {
   "cell_type": "code",
   "execution_count": null,
   "metadata": {},
   "outputs": [],
   "source": [
    "#plot the number of target trials each participant has\n",
    "g= sns.distplot(all_data['num_targ_tr'], kde=False)\n",
    "plt.xlabel('Number of Trials')\n",
    "g.set(xlim=[35, 65])"
   ]
  },
  {
   "cell_type": "code",
   "execution_count": null,
   "metadata": {},
   "outputs": [],
   "source": [
    "#plot the number of lure trials each participant has\n",
    "g=sns.distplot(all_data['num_lure_tr'], kde=False, color='orange')\n",
    "plt.xlabel('Number of Trials')\n",
    "g.set(ylim=[0, 80])\n",
    "g.set(xlim=[35, 65])"
   ]
  },
  {
   "cell_type": "code",
   "execution_count": null,
   "metadata": {},
   "outputs": [],
   "source": [
    "#print data for the \"outlier\" (in quotes because it might not be statistically significant)\n",
    "print(am_data[am_data['pidn']==809])"
   ]
  },
  {
   "cell_type": "code",
   "execution_count": null,
   "metadata": {},
   "outputs": [],
   "source": [
    "#plot the number of foil trials that each participant has\n",
    "g=sns.distplot(all_data['num_foil_tr'], kde=False, color='green')\n",
    "plt.xlabel('Number of Trials')\n",
    "g.set(ylim=[0, 80])\n",
    "g.set(xlim=[35, 65])"
   ]
  },
  {
   "cell_type": "code",
   "execution_count": null,
   "metadata": {},
   "outputs": [],
   "source": [
    "## create a data frame with a summary of lure trials \n",
    "row=0 \n",
    "resp_sum_data=pd.DataFrame()\n",
    "\n",
    "for pidn in pd.unique(data_long['pidn']):\n",
    "    resp_sum_data.loc[row, 'pidn'] = pidn\n",
    "    resp_sum_data.loc[row, 'num_sim'] = len(data_long[(data_long['pidn']==pidn) & (data_long['Resp']=='Similar')])\n",
    "    resp_sum_data.loc[row, 'num_trials'] = len(data_long[data_long['pidn']==pidn])\n",
    "    resp_sum_data.loc[row, 'prop_sim'] = resp_sum_data.loc[row, 'num_sim']/resp_sum_data.loc[row, 'num_trials']\n",
    "    row+=1\n",
    "    \n",
    "print(resp_sum_data)"
   ]
  },
  {
   "cell_type": "code",
   "execution_count": null,
   "metadata": {},
   "outputs": [],
   "source": [
    "#print the data for anyone who responds to lures correctly less than 5% of the time\n",
    "print(resp_sum_data[resp_sum_data['prop_sim']<.05])"
   ]
  },
  {
   "cell_type": "code",
   "execution_count": null,
   "metadata": {},
   "outputs": [],
   "source": [
    "#plot the number of times a person responds each response to lure trials  \n",
    "sns.distplot(all_data['n_old_lure'], kde=0, bins=25)\n",
    "sns.distplot(all_data['n_sim_lure'], kde=0, bins=25)\n",
    "sns.distplot(all_data['n_new_lure'], kde=0, bins=25)\n",
    "plt.xlabel('Num Trials')\n",
    "plt.legend(['Old', 'Similar', 'New'])"
   ]
  },
  {
   "cell_type": "code",
   "execution_count": null,
   "metadata": {},
   "outputs": [],
   "source": [
    "#plot the graph above without new trials in order to see easier\n",
    "sns.distplot(all_data['n_old_lure'], kde=0, bins=25)\n",
    "sns.distplot(all_data['n_sim_lure'], kde=0, bins=25)\n",
    "plt.xlabel('Num Trials')\n",
    "plt.legend(['Old', 'Similar'])"
   ]
  },
  {
   "cell_type": "code",
   "execution_count": null,
   "metadata": {},
   "outputs": [],
   "source": [
    "#create csv with data\n",
    "raw_data.to_csv('/Users/madisonhunt/Desktop/mst_data.csv')"
   ]
  },
  {
   "cell_type": "code",
   "execution_count": null,
   "metadata": {},
   "outputs": [],
   "source": []
  }
 ],
 "metadata": {
  "kernelspec": {
   "display_name": "Python 3",
   "language": "python",
   "name": "python3"
  },
  "language_info": {
   "codemirror_mode": {
    "name": "ipython",
    "version": 3
   },
   "file_extension": ".py",
   "mimetype": "text/x-python",
   "name": "python",
   "nbconvert_exporter": "python",
   "pygments_lexer": "ipython3",
   "version": "3.7.1"
  }
 },
 "nbformat": 4,
 "nbformat_minor": 2
}
