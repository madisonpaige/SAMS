{
 "cells": [
  {
   "cell_type": "code",
   "execution_count": 129,
   "metadata": {},
   "outputs": [],
   "source": [
    "import numpy as np\n",
    "import pandas as pd\n",
    "import matplotlib.pyplot as plt\n",
    "import seaborn as sns\n",
    "import os.path\n",
    "import glob\n",
    "import string\n",
    "from os.path import exists\n",
    "from scipy.stats import norm\n",
    "from scipy.stats import zscore"
   ]
  },
  {
   "cell_type": "code",
   "execution_count": 130,
   "metadata": {},
   "outputs": [],
   "source": [
    "## Define file name(s)\n",
    "# txtfile = \"/Users/madisonhunt/Desktop/Oak/stark_data/MSTlog_{}\".format(subject)\n",
    "#txtfile = \"/Users/madisonhunt/Desktop/MSTlog_1185.txt\"\n"
   ]
  },
  {
   "cell_type": "code",
   "execution_count": 139,
   "metadata": {},
   "outputs": [
    {
     "name": "stdout",
     "output_type": "stream",
     "text": [
      "['MSTlog_0828.txt', 'BPSOlog_0652.txt', 'BPSOlog_0528.txt', 'BPSOlog_0238.txt', 'MSTlog_1116.txt', 'BPSOlog_0477.txt', 'MSTlog_0924.txt', 'MSTlog_1065.txt', 'MSTlog_1097.txt', 'BPSOlog_0608.txt', 'MSTlog_0945.txt', 'MSTlog_0762.txt', 'BPSOlog_0504.txt', 'BPSOlog_0161.txt', 'MSTlog_0958.txt', 'BPSOlog_0674.txt', 'MSTlog_1016.txt', 'MSTlog_1083.txt', 'BPSOlog_0489.txt', 'BPSOlog_0488.txt', 'MSTlog_0798.txt', 'MSTlog_1099.txt', 'BPSOlog_0564.txt', 'MSTlog_1128.txt', 'MSTlog_0769.txt', 'MSTlog_0736.txt', 'BPSOlog_0116.txt', 'MSTlog_0723.txt', 'MSTlog_0832.txt', '._BPSOlog_0457.txt', 'BPSOlog_0365.txt', 'BPSOlog_287.txt', 'BPSOlog_0366.txt', 'BPSOlog_0661.txt', 'MSTlog_0733.txt', 'MSTlog_1096.txt', 'BPSOlog_0476.txt', 'BPSOlog_0262.txt', 'BPSOlog_0562.txt', 'MSTlog_1137.txt', 'BPSOlog_0181.txt', 'BPSOlog_276.txt', '._BPSOlog_0528.txt', 'BPSOlog_0480.txt', 'BPSOlog_0245.txt', 'BPSOlog_0664.txt', 'BPSOlog_0103.txt', 'BPSOlog_0221.txt', 'MSTlog_1000.txt', 'BPSOlog_0528 .txt', 'BPSOlog_550.txt', 'MSTlog_0957.txt', 'MSTlog_1193.txt', '._BPSOlog_0629.txt', 'BPSOlog_0144.txt', 'MSTlog_0985.txt', 'MSTlog_0778.txt', 'MSTlog_0894.txt', 'BPSOlog_0672.txt', 'BPSOlog_0268.txt', '._BPSOlog_0617.txt', 'BPSOlog_0165.txt', 'BPSOlog_0646.txt', 'MSTlog_1031.txt', '._BPSOlog_0598.txt', 'MSTlog_0977.txt', 'MSTlog_0731.txt', 'MSTlog_0783.txt', 'MSTlog_0782.txt', 'BPSOlog_0613.txt', 'MSTlog_0765.txt', 'MSTlog_1040.txt', 'MSTlog_1138.txt', '._BPSOlog_0674.txt', 'BPSOlog_0456.txt', 'BPSOlog_0617.txt', 'BPSOlog_0479.txt', 'BPSOlog_0475.txt', 'BPSOlog_0584.txt', 'BPSOlog_0482.txt', 'BPSOlog_0592.txt', 'BPSOlog_0277.txt', 'BPSOlog_0364.txt', 'MSTlog_0987.txt', 'BPSOlog_0534.txt', 'MSTlog_0687.txt', '._BPSOlog_0475.txt', '._BPSOlog_0532.txt', 'MSTlog_0919.txt', 'MSTlog_0962.txt', 'BPSOlog_0457.txt', 'BPSOlog_0125.txt', 'MSTlog_0899.txt', 'BPSOlog_0535.txt', 'BPSOlog_0264.txt', 'MSTlog_1184.txt', 'BPSOlog_0639.txt', 'MSTlog_0976.txt', 'BPSOlog_0164.txt', 'MSTlog_0826.txt', 'BPSOlog_0095.txt', 'MSTlog_1195.txt', 'MSTlog_1018.txt', '._BPSOlog_0613.txt', 'MSTlog_0981.txt', '._BPSOlog_0600.txt', 'BPSOlog_0172.txt', '._MSTlog_0999.txt', 'MSTlog_0704.txt', 'MSTlog_0809.txt', 'MSTlog_0867.txt', 'MSTlog_0956.txt', 'MSTlog_1104.txt', 'MSTlog_0929.txt', 'MSTlog_0852.txt', 'MSTlog_0803.txt', 'BPSOlog_0648.txt', 'BPSOlog_0583.txt', 'MSTlog_0843.txt', 'MSTlog_0939.txt', 'MSTlog_1163.txt', 'MSTlog_0716.txt', 'MSTlog_1021.txt', 'BPSOlog_0616.txt', 'BPSOlog_0390.txt', 'BPSOlog_0249.txt', 'MSTlog_0688.txt', 'MSTlog_0963.txt', 'MSTlog_0761.txt', 'MSTlog_0999.txt', 'MSTlog_0883.txt', 'MSTlog_1190.txt', '._BPSOlog_0592.txt', 'MSTlog_1029.txt', 'MSTlog_0851.txt', 'BPSOlog_0659.txt', 'BPSOlog_0130.txt', '._BPSOlog_0489.txt', 'BPSOlog_0470.txt', 'BPSOlog_0171.txt', 'BPSOlog_0532.txt', 'MSTlog_0859.txt', 'MSTlog_0862.txt', 'BPSOlog_0508.txt', 'MSTlog_1095.txt', 'BPSOlog_0507.txt', 'BPSOlog_0319.txt', 'MSTlog_0866 .txt', 'MSTlog_0995.txt', 'MSTlog_1142.txt', 'BPSOlog_0673.txt', 'BPSOlog_0228.txt', 'MSTlog_0937.txt', 'MSTlog_0732.txt', 'BPSOlog_0600.txt', 'BPSOlog_0465.txt', 'MSTlog_0795.txt', 'BPSOlog_0598.txt', 'BPSOlog_0120.txt', 'BPSOlog_0205.txt', '._BPSOlog_0673.txt', '.DS_Store', 'MSTlog_0730.txt', 'MSTlog_1185.txt', 'MSTlog_0793.txt', 'BPSOlog_0278.txt', 'MSTlog_1045.txt', 'BPSOlog_0629.txt', 'BPSOlog_0472.txt', 'MSTlog_0814.txt', 'MSTlog_1136.txt', 'MSTlog_1119.txt', 'BPSOlog_0684.txt', 'MSTlog_0878.txt', 'BPSOlog_0344.txt', 'MSTlog_1067.txt', 'BPSOlog_0104.txt', 'MSTlog_1230 .txt', '._BPSOlog_0562.txt', 'MSTlog_0797.txt', 'BPSOlog_0254.txt', 'MSTlog_1080.txt', '._.DS_Store', 'MSTlog_0709.txt', 'MSTlog_0721.txt', 'MSTlog_1135.txt', 'BPSOlog_0682.txt', 'MSTlog_1105.txt', 'MSTlog_0772.txt', 'BPSOlog_0474.txt', 'BPSOlog_0205 .txt', 'MSTlog_0897.txt', 'MSTlog_1234.txt', '._BPSOlog_0616.txt', 'MSTlog_0792.txt', 'MSTlog_1047.txt', 'BPSOlog_0328.txt', 'BPSOlog_0645.txt', 'BPSOlog_0527.txt', 'BPSOlog_0599.txt', 'BPSOlog_0201.txt', 'BPSOlog_0389.txt', 'BPSOlog_0545.txt', 'MSTlog_0900.txt', 'BPSOlog_0252.txt', 'BPSOlog_0152.txt', 'BPSOlog_0123.txt', 'MSTlog_0944.txt', 'BPSOlog_0675.txt', 'MSTlog_0918.txt', '._BPSOlog_0504.txt', 'MSTlog_1094.txt', 'BPSOlog_0641.txt', 'BPSOlog_0627.txt', 'BPSOlog_0680.txt', 'BPSOlog_0449.txt', 'MSTlog_0925.txt', '._BPSOlog_0528 .txt', 'BPSOlog_0560.txt', 'MSTlog_0895.txt', 'MSTlog_1030.txt', 'MSTlog_0920.txt', 'MSTlog_1141.txt', 'BPSOlog_208.txt', '._BPSOlog_0564.txt', 'MSTlog_1230.txt', 'MSTlog_0715.txt', 'MSTlog_0982.txt', 'BPSOlog_0481.txt', 'BPSOlog_0478.txt', 'MSTlog_0888.txt', 'MSTlog_0887.txt', 'MSTlog_0934.txt', 'MSTlog_0742.txt', 'BPSOlog_0147.txt', 'MSTlog_0737.txt', 'MSTlog_1192.txt', 'MSTlog_0975.txt', 'MSTlog_0755.txt', 'BPSOlog_0660.txt', 'BPSOlog_0341.txt', 'BPSOlog_222.txt', 'MSTlog_0992.txt', 'BPSOlog_530.txt', 'BPSOlog_0169.txt', 'MSTlog_0844.txt', 'MSTlog_0858.txt', '._BPSOlog_0481.txt', 'MSTlog_0827.txt', 'MSTlog_1077.txt', 'BPSOlog_0468.txt', '._BPSOlog_0507.txt', 'MSTlog_0834.txt', 'MSTlog_0866.txt', 'BPSOlog_0500.txt', 'MSTlog_1006.txt']\n"
     ]
    }
   ],
   "source": [
    "## define subjects to run\n",
    "\n",
    "#subs2run = glob.glob ('Users/madisonhunt/Desktop/Oak/stark_data/data/**.txt')\n",
    "\n",
    "path = '/Users/madisonhunt/Desktop/Oak/stark_task/Data'\n",
    "subs2run = (os.listdir(path))\n",
    "\n",
    "print(subs2run)"
   ]
  },
  {
   "cell_type": "code",
   "execution_count": 163,
   "metadata": {},
   "outputs": [
    {
     "name": "stdout",
     "output_type": "stream",
     "text": [
      "      Trial   Img Cond LBin Resp Acc    RT\n",
      "0         1  183b    L    4    0   0     0\n",
      "1         2  029b    L    4    1   0  1672\n",
      "2         3  028a    T    0    1   1   962\n",
      "3         4  026a    F    0    3   1  1320\n",
      "4         5  074a    T    0    1   1  1234\n",
      "5         6  014a    T    0    1   1   962\n",
      "6         7  117a    F    0    3   1  1383\n",
      "7         8  123a    T    0    1   1  1090\n",
      "8         9  023a    T    0    1   1   877\n",
      "9        10  104a    F    0    3   1  1025\n",
      "10       11  172a    T    0    1   1   962\n",
      "11       12  119b    L    5    1   0  1000\n",
      "12       13  091a    T    0    1   1   874\n",
      "13       14  050a    T    0    1   1  1048\n",
      "14       15  040a    T    0    1   1  1027\n",
      "15       16  177a    F    0    3   1  1112\n",
      "16       17  044b    L    1    1   0  1044\n",
      "17       18  078a    F    0    3   1  1535\n",
      "18       19  181b    L    5    0   0     0\n",
      "19       20  096a    T    0    1   1   900\n",
      "20       21  054a    F    0    3   1   768\n",
      "21       22  109b    L    2    1   0  1452\n",
      "22       23  118a    F    0    3   1  1449\n",
      "23       24  042b    L    3    1   0  1211\n",
      "24       25  174a    F    0    3   1  1131\n",
      "25       26  057a    T    0    1   1   919\n",
      "26       27  191a    T    0    1   1  1960\n",
      "27       28  145a    F    0    3   1  1091\n",
      "28       29  024b    L    1    0   0     0\n",
      "29       30  080b    L    5    2   1  1925\n",
      "...     ...   ...  ...  ...  ...  ..   ...\n",
      "42786   163  003b    L    4    1   0  1427\n",
      "42787   164  131b    L    2    3   0  1872\n",
      "42788   165  015a    T    0    3   0  1194\n",
      "42789   166  188a    T    0    1   1  1489\n",
      "42790   167  021a    F    0    3   1  1281\n",
      "42791   168  142b    L    2    1   0  1088\n",
      "42792   169  180b    L    5    2   1  1384\n",
      "42793   170  078b    L    3    3   0  1747\n",
      "42794   171  103a    T    0    1   1  1068\n",
      "42795   172  121a    F    0    3   1  1172\n",
      "42796   173  024a    T    0    1   1  1088\n",
      "42797   174  183a    T    0    0   0     0\n",
      "42798   175  064b    L    4    3   0  1306\n",
      "42799   176  096a    T    0    1   1  1214\n",
      "42800   177  130a    F    0    3   1  1175\n",
      "42801   178  117a    T    0    1   1  1300\n",
      "42802   179  063b    L    5    1   0  1088\n",
      "42803   180  164a    T    0    1   1  1364\n",
      "42804   181  110a    T    0    3   0  1684\n",
      "42805   182  043a    F    0    3   1  1727\n",
      "42806   183  071a    T    0    3   0  1640\n",
      "42807   184  094a    F    0    3   1  1004\n",
      "42808   185  030b    L    4    1   0  1195\n",
      "42809   186  093a    T    0    1   1  1042\n",
      "42810   187  176a    T    0    1   1  1344\n",
      "42811   188  066b    L    1    1   0  1322\n",
      "42812   189  008a    F    0    3   1  1469\n",
      "42813   190  169b    L    2    3   0  1403\n",
      "42814   191  136a    F    0    3   1  1193\n",
      "42815   192  182a    F    0    3   1  1003\n",
      "\n",
      "[42816 rows x 7 columns]\n"
     ]
    }
   ],
   "source": [
    "## Code taken from Craig Stark to find lines for the beginning of the study and test phases\n",
    "\n",
    "def findlines(filename):\n",
    "    s_starts=[]\n",
    "    t_starts=[]\n",
    "    with open(filename) as file:\n",
    "        for linenum, linetxt in enumerate(file,1):\n",
    "            if \"Study phase started at\" in linetxt:\n",
    "                s_starts.append(linenum)\n",
    "            elif \"Test phase started at\" in linetxt:\n",
    "                t_starts.append(linenum)\n",
    "    return (s_starts, t_starts)\n",
    "\n",
    "n_stim_per=64\n",
    "study_len = n_stim_per*2\n",
    "test_len = n_stim_per*3\n",
    "study_starts=[]\n",
    "test_starts=[]\n",
    "file = 0\n",
    "data= []\n",
    "for txtfile in subs2run:\n",
    "    if exists(path + '/' + txtfile) and not txtfile.startswith('.'):\n",
    "        s_starts, t_starts = findlines(path + '/' + txtfile)\n",
    "        if len(s_starts) and len(t_starts):\n",
    "            study_starts = s_starts[-1]\n",
    "            test_starts = t_starts[-1]\n",
    "            datatemp = pd.read_csv(path + '/' + txtfile, delimiter=\"\\t\", skiprows= test_starts, nrows=test_len, header = 0)\n",
    "            data.append(datatemp)\n",
    "            \n",
    "all_data = pd.concat(data, axis=0, ignore_index = True)\n",
    "    #file +=1   \n",
    "print(all_data)   "
   ]
  },
  {
   "cell_type": "code",
   "execution_count": 93,
   "metadata": {},
   "outputs": [
    {
     "name": "stdout",
     "output_type": "stream",
     "text": [
      "     PIDN\n",
      "100    95\n",
      "46    103\n",
      "176   104\n",
      "26    116\n",
      "160   120\n",
      "158   120\n",
      "206   123\n",
      "91    125\n",
      "136   130\n",
      "54    144\n",
      "234   147\n",
      "205   152\n",
      "13    161\n",
      "98    164\n",
      "61    165\n",
      "244   169\n",
      "139   171\n",
      "106   172\n",
      "40    181\n",
      "200   201\n",
      "161   205\n",
      "190   205\n",
      "159   205\n",
      "223   208\n",
      "47    221\n",
      "241   222\n",
      "151   228\n",
      "3     238\n",
      "44    245\n",
      "125   249\n",
      "..    ...\n",
      "249  1077\n",
      "181  1080\n",
      "17   1083\n",
      "211  1094\n",
      "144  1095\n",
      "35   1096\n",
      "8    1097\n",
      "21   1099\n",
      "112  1104\n",
      "187  1105\n",
      "4    1116\n",
      "171  1119\n",
      "23   1128\n",
      "185  1135\n",
      "170  1136\n",
      "39   1137\n",
      "72   1138\n",
      "222  1141\n",
      "149  1142\n",
      "120  1163\n",
      "95   1184\n",
      "163  1185\n",
      "131  1190\n",
      "236  1192\n",
      "52   1193\n",
      "101  1195\n",
      "103  1195\n",
      "225  1230\n",
      "177  1230\n",
      "192  1234\n",
      "\n",
      "[238 rows x 1 columns]\n"
     ]
    }
   ],
   "source": [
    "## pidn_list=pd.DataFrame()\n",
    "row=0\n",
    "for name in subs2run:\n",
    "    if not name.startswith('.'):\n",
    "        file_temp = name.strip().split('_')\n",
    "        file_temp2 = file_temp[1].strip().split('.')\n",
    "        if file_temp2[0][0]=='0':\n",
    "            file_PIDN= file_temp2[0].strip().split('0', 1)\n",
    "            pidn_list.loc[row,'PIDN']=file_PIDN[1]\n",
    "        else:\n",
    "            pidn_list.loc[row,'PIDN']=file_temp2[0]  \n",
    "        pidn_list.loc[row, 'PIDN'] = int(pidn_list.loc[row, 'PIDN'])\n",
    "    row+=1\n",
    "pidn_list = pidn_list.sort_values(by = 'PIDN')\n",
    "print(pidn_list)"
   ]
  },
  {
   "cell_type": "code",
   "execution_count": 8,
   "metadata": {},
   "outputs": [
    {
     "name": "stdout",
     "output_type": "stream",
     "text": [
      "64\n"
     ]
    }
   ],
   "source": [
    "## calculate number of Target Trials\n",
    "\n",
    "#initialize number of target trials to zero\n",
    "num_targ_trials = 0\n",
    "#loop through the data and add one if the condition is T (target)\n",
    "for d in range(len(data)):\n",
    "    if data.loc[d, 'Cond'] == 'T':\n",
    "        num_targ_trials +=1\n",
    "print(num_targ_trials)"
   ]
  },
  {
   "cell_type": "code",
   "execution_count": 9,
   "metadata": {},
   "outputs": [
    {
     "name": "stdout",
     "output_type": "stream",
     "text": [
      "64\n"
     ]
    }
   ],
   "source": [
    "## calculate number of Lure Trials\n",
    "\n",
    "#initialize number of lure trials to zero\n",
    "num_lure_trials = 0\n",
    "#loop through the data and add one to the number of lure trials if the condition is L (Lure)\n",
    "for f in range(len(data)):\n",
    "    if data.loc[f, 'Cond'] == 'L':\n",
    "        num_lure_trials +=1\n",
    "print(num_targ_trials)"
   ]
  },
  {
   "cell_type": "code",
   "execution_count": 10,
   "metadata": {},
   "outputs": [
    {
     "name": "stdout",
     "output_type": "stream",
     "text": [
      "64\n"
     ]
    }
   ],
   "source": [
    "## calculate number of Foil Trials\n",
    "\n",
    "#initialize number of foil trials to zero\n",
    "num_foil_trials = 0\n",
    "#loop through the data and add one to the number of new trials if the condition is F (foil)\n",
    "for g in range(len(data)):\n",
    "    if data.loc[g, 'Cond'] == 'F':\n",
    "        num_foil_trials +=1\n",
    "print(num_foil_trials)"
   ]
  },
  {
   "cell_type": "code",
   "execution_count": 11,
   "metadata": {},
   "outputs": [
    {
     "name": "stdout",
     "output_type": "stream",
     "text": [
      "16\n"
     ]
    }
   ],
   "source": [
    "## calculate total number of no response\n",
    "\n",
    "#initialize nuumber of no resposnses to zero\n",
    "num_nr = 0\n",
    "#for loop through the data and add one if the response is 0 (meaning no response); print the result \n",
    "for n in range(len(data)):\n",
    "    if (data.loc[n, 'Resp'] == 0):\n",
    "       num_nr +=1  \n",
    "print(num_nr)"
   ]
  },
  {
   "cell_type": "code",
   "execution_count": 12,
   "metadata": {},
   "outputs": [
    {
     "name": "stdout",
     "output_type": "stream",
     "text": [
      "6\n"
     ]
    }
   ],
   "source": [
    "## calculate number of no responses to Targets\n",
    "\n",
    "#initialize number of no responses to targets to zero\n",
    "num_nr_targ = 0\n",
    "#loop through the data and add one to number of no responses to targets\n",
    "#if the response is 0 (no response) and the condition is T (target); print result\n",
    "for a in range(len(data)):\n",
    "    if (data.loc[a, 'Resp'] ==0) and (data.loc[a, 'Cond'] == 'T'):\n",
    "        num_nr_targ +=1\n",
    "print(num_nr_targ)"
   ]
  },
  {
   "cell_type": "code",
   "execution_count": 13,
   "metadata": {},
   "outputs": [
    {
     "name": "stdout",
     "output_type": "stream",
     "text": [
      "4\n"
     ]
    }
   ],
   "source": [
    "## calculate number of no responses to Lures\n",
    "\n",
    "#initialize number of no responses to lures to zero\n",
    "num_nr_lure = 0\n",
    "#loop through the data and add one to the number of no responses to lures \n",
    "#if the response is 0 (no response) and the condition is L (Lure)\n",
    "for b in range(len(data)):\n",
    "    if (data.loc[b, 'Resp'] == 0) and (data.loc[b, 'Cond'] =='L'):\n",
    "        num_nr_lure+=1\n",
    "print(num_nr_lure)"
   ]
  },
  {
   "cell_type": "code",
   "execution_count": 14,
   "metadata": {},
   "outputs": [
    {
     "name": "stdout",
     "output_type": "stream",
     "text": [
      "6\n"
     ]
    }
   ],
   "source": [
    "## calculate number of no responses to Foils\n",
    "\n",
    "#initialize number of no responses to foils to zero\n",
    "num_nr_foil = 0\n",
    "#loop through the data and add one to the number of no responses to foils\n",
    "#if the response is 0 (no response) and the condition is F (foil)\n",
    "for c in range(len(data)):\n",
    "    if (data.loc[c, 'Resp'] == 0) and (data.loc[c,'Cond'] == 'F'):\n",
    "        num_nr_foil+=1\n",
    "print(num_nr_foil)"
   ]
  },
  {
   "cell_type": "code",
   "execution_count": 15,
   "metadata": {},
   "outputs": [
    {
     "name": "stdout",
     "output_type": "stream",
     "text": [
      "58\n"
     ]
    }
   ],
   "source": [
    "## calculate the number of Target trials that were responded to \n",
    "#subtract the number of no response to target trials from the number of target trials\n",
    "num_targ_resp = num_targ_trials - num_nr_targ\n",
    "print(num_targ_resp)"
   ]
  },
  {
   "cell_type": "code",
   "execution_count": 16,
   "metadata": {},
   "outputs": [
    {
     "name": "stdout",
     "output_type": "stream",
     "text": [
      "60\n"
     ]
    }
   ],
   "source": [
    "## calculate the number of lure trials that were responded to \n",
    "#subtract the number of no response to lure trials from the number of lure trials\n",
    "num_lure_resp = num_lure_trials - num_nr_lure\n",
    "print(num_lure_resp)"
   ]
  },
  {
   "cell_type": "code",
   "execution_count": 17,
   "metadata": {},
   "outputs": [
    {
     "name": "stdout",
     "output_type": "stream",
     "text": [
      "58\n"
     ]
    }
   ],
   "source": [
    "## calculate the number of foil trials that were responded to \n",
    "#subtract the number of no response to foil trials from the number of foil trials\n",
    "num_foil_resp = num_foil_trials - num_nr_foil\n",
    "print(num_foil_resp)"
   ]
  },
  {
   "cell_type": "code",
   "execution_count": 18,
   "metadata": {},
   "outputs": [
    {
     "name": "stdout",
     "output_type": "stream",
     "text": [
      "176\n"
     ]
    }
   ],
   "source": [
    "## calculate the total number of responses\n",
    "\n",
    "num_resp = num_targ_resp + num_lure_resp + num_foil_resp\n",
    "print(num_resp)"
   ]
  },
  {
   "cell_type": "code",
   "execution_count": 19,
   "metadata": {},
   "outputs": [
    {
     "name": "stdout",
     "output_type": "stream",
     "text": [
      "0.90625\n"
     ]
    }
   ],
   "source": [
    "## calculate the proportion of target trials responded to \n",
    "#divide the number of target trials responded to by the total number of target trials\n",
    "prop_targ_resp = num_targ_resp/num_targ_trials\n",
    "print(prop_targ_resp)"
   ]
  },
  {
   "cell_type": "code",
   "execution_count": 20,
   "metadata": {},
   "outputs": [
    {
     "name": "stdout",
     "output_type": "stream",
     "text": [
      "0.9375\n"
     ]
    }
   ],
   "source": [
    "## calculate the proportion of lure trials that were responded to\n",
    "#divide the number of lure trials responded to by the total number of lure trials\n",
    "prop_lure_resp = num_lure_resp/num_lure_trials\n",
    "print(prop_lure_resp)"
   ]
  },
  {
   "cell_type": "code",
   "execution_count": 21,
   "metadata": {},
   "outputs": [
    {
     "name": "stdout",
     "output_type": "stream",
     "text": [
      "0.90625\n"
     ]
    }
   ],
   "source": [
    "## calculate the proportion of foil trials that were responded to \n",
    "# divide the number of foil trials responded to by the total number of foil trials\n",
    "prop_foil_resp = num_foil_resp/num_foil_trials\n",
    "print(prop_foil_resp)"
   ]
  },
  {
   "cell_type": "code",
   "execution_count": 22,
   "metadata": {},
   "outputs": [
    {
     "name": "stdout",
     "output_type": "stream",
     "text": [
      "0.9166666666666666\n"
     ]
    }
   ],
   "source": [
    "## calculate the proportion of trials responded to \n",
    "\n",
    "prop_resp = num_resp/(num_targ_trials + num_lure_trials + num_foil_trials)\n",
    "print(prop_resp)"
   ]
  },
  {
   "cell_type": "code",
   "execution_count": 23,
   "metadata": {},
   "outputs": [
    {
     "name": "stdout",
     "output_type": "stream",
     "text": [
      "52\n"
     ]
    }
   ],
   "source": [
    "## calculate number of Old|Target\n",
    "\n",
    "#iitialize the number of Target|Old to zero\n",
    "num_old_targ = 0\n",
    "#loop through the data and add one to the number of of Old|Target \n",
    "#if the condition is T (target) and if the response is 1 (Old); print result\n",
    "for j in range(len(data)):\n",
    "    if ((data.loc[j, 'Cond'] == 'T') and (data.loc[j, 'Resp'] == 1)):\n",
    "        num_old_targ +=1\n",
    "print(num_old_targ)"
   ]
  },
  {
   "cell_type": "code",
   "execution_count": 24,
   "metadata": {},
   "outputs": [
    {
     "name": "stdout",
     "output_type": "stream",
     "text": [
      "0.8125\n"
     ]
    }
   ],
   "source": [
    "## Calculate proportion of Old|Target for ALL Target Trials\n",
    "\n",
    "#Divide the number of old|target by the total number of target trials\n",
    "prop_old_targ = num_old_targ/num_targ_trials\n",
    "print(prop_old_targ)\n"
   ]
  },
  {
   "cell_type": "code",
   "execution_count": 25,
   "metadata": {},
   "outputs": [
    {
     "name": "stdout",
     "output_type": "stream",
     "text": [
      "0.896551724137931\n"
     ]
    }
   ],
   "source": [
    "## calculate the proportion of Old|Target for Target Trials that were responded to \n",
    "\n",
    "#divide the number of old|target by the number of target trials responded to\n",
    "prop_resp_old_targ = num_old_targ/(num_targ_resp)\n",
    "print(prop_resp_old_targ)"
   ]
  },
  {
   "cell_type": "code",
   "execution_count": 26,
   "metadata": {},
   "outputs": [
    {
     "name": "stdout",
     "output_type": "stream",
     "text": [
      "1\n"
     ]
    }
   ],
   "source": [
    "## Calculate number of Similar|Target\n",
    "\n",
    "#initialize the number of Similar|Target to zero\n",
    "num_sim_targ = 0\n",
    "\n",
    "#loop through the data and add one to the number of Similar|Target \n",
    "#if the condition is T (target) and if the participant responsed 2 (Similar); print result\n",
    "for k in range(len(data)):\n",
    "    if ((data.loc[k, 'Cond']=='T') and (data.loc[k, 'Resp']==2)):\n",
    "        num_sim_targ+=1\n",
    "print(num_sim_targ)"
   ]
  },
  {
   "cell_type": "code",
   "execution_count": 27,
   "metadata": {},
   "outputs": [
    {
     "name": "stdout",
     "output_type": "stream",
     "text": [
      "0.015625\n"
     ]
    }
   ],
   "source": [
    "## calculate proportion of Similar|target for all target trials\n",
    "\n",
    "#divide the number of Similar|target by the total number of target trials\n",
    "prop_sim_targ= num_sim_targ/num_targ_trials\n",
    "print(prop_sim_targ)"
   ]
  },
  {
   "cell_type": "code",
   "execution_count": 28,
   "metadata": {},
   "outputs": [
    {
     "name": "stdout",
     "output_type": "stream",
     "text": [
      "0.017241379310344827\n"
     ]
    }
   ],
   "source": [
    "## calculate the proportion of similar|target for target trials that were responded to\n",
    "\n",
    "#divide the number of similar|target by the number of target trials that were responded to \n",
    "prop_resp_sim_targ = num_sim_targ/(num_targ_resp)\n",
    "print(prop_resp_sim_targ)"
   ]
  },
  {
   "cell_type": "code",
   "execution_count": 29,
   "metadata": {},
   "outputs": [
    {
     "name": "stdout",
     "output_type": "stream",
     "text": [
      "5\n"
     ]
    }
   ],
   "source": [
    "## calculate number of New|Target\n",
    "\n",
    "# initialize the number of New|Target to zero\n",
    "num_new_targ = 0\n",
    "#loop through the data and add one to the number of New|Target\n",
    "#if the condition is T(Target) and if the participant responded 3(New); print result\n",
    "for l in range(len(data)):\n",
    "    if ((data.loc[l, 'Cond'] == 'T') and (data.loc[l, 'Resp'] == 3)):\n",
    "        num_new_targ+=1\n",
    "print(num_new_targ)"
   ]
  },
  {
   "cell_type": "code",
   "execution_count": 30,
   "metadata": {},
   "outputs": [
    {
     "name": "stdout",
     "output_type": "stream",
     "text": [
      "0.078125\n"
     ]
    }
   ],
   "source": [
    "## calculate the proportion of New|Target for all target trials\n",
    "\n",
    "#divide number of New|Target by the total number of target trials\n",
    "prop_new_targ = num_new_targ/num_targ_trials\n",
    "print(prop_new_targ)"
   ]
  },
  {
   "cell_type": "code",
   "execution_count": 31,
   "metadata": {},
   "outputs": [
    {
     "name": "stdout",
     "output_type": "stream",
     "text": [
      "0.08620689655172414\n"
     ]
    }
   ],
   "source": [
    "## calculate the proportion of New|Target for target trials responded to \n",
    "\n",
    "#divide the number of New|Target by the number of target trials responded to \n",
    "prop_resp_new_targ = num_new_targ/(num_targ_resp)\n",
    "print(prop_resp_new_targ)"
   ]
  },
  {
   "cell_type": "code",
   "execution_count": 32,
   "metadata": {},
   "outputs": [
    {
     "name": "stdout",
     "output_type": "stream",
     "text": [
      "44\n"
     ]
    }
   ],
   "source": [
    "## calculate number of Old|Lure\n",
    "\n",
    "#Initialize the number of Old|Lure to zero\n",
    "num_old_lure = 0\n",
    "#loop through the data and add one to the number of Old|Lure \n",
    "# if the condition is L (Lure) and the participant responded 1 (Old); print result\n",
    "for m in range(len(data)):\n",
    "    if ((data.loc[m, 'Cond']=='L') and data.loc[m, 'Resp'] == 1):\n",
    "        num_old_lure+=1\n",
    "print(num_old_lure)"
   ]
  },
  {
   "cell_type": "code",
   "execution_count": 33,
   "metadata": {},
   "outputs": [
    {
     "name": "stdout",
     "output_type": "stream",
     "text": [
      "0.6875\n"
     ]
    }
   ],
   "source": [
    "## calculate the proportion of Old|Lure for all lure trials\n",
    "\n",
    "#divide number of Old|Lure by the total number of lure trials\n",
    "prop_old_lure = num_old_lure/num_lure_trials\n",
    "print(prop_old_lure)"
   ]
  },
  {
   "cell_type": "code",
   "execution_count": 34,
   "metadata": {},
   "outputs": [
    {
     "name": "stdout",
     "output_type": "stream",
     "text": [
      "0.7333333333333333\n"
     ]
    }
   ],
   "source": [
    "## calculate the proportion of Old|Lure for lure trials responded to \n",
    "\n",
    "#divide number of Old|Lure by the number of lure trials responded to\n",
    "prop_resp_old_lure = num_old_lure/(num_lure_resp)\n",
    "print(prop_resp_old_lure)"
   ]
  },
  {
   "cell_type": "code",
   "execution_count": 35,
   "metadata": {},
   "outputs": [
    {
     "name": "stdout",
     "output_type": "stream",
     "text": [
      "2\n"
     ]
    }
   ],
   "source": [
    "## calculate number of Similar|Lure\n",
    "\n",
    "#Initialize the number of Similar|Lure to zero\n",
    "num_sim_lure = 0\n",
    "#loop through the data and add one to the number of Similar|Lure\n",
    "#if the condition is L (Lure) and the participant responded 2 (Similar); print result\n",
    "for o in range(len(data)):\n",
    "    if ((data.loc[o, 'Cond']==\"L\") and (data.loc[o, 'Resp'] == 2)):\n",
    "        num_sim_lure+=1\n",
    "print(num_sim_lure)"
   ]
  },
  {
   "cell_type": "code",
   "execution_count": 36,
   "metadata": {},
   "outputs": [
    {
     "name": "stdout",
     "output_type": "stream",
     "text": [
      "0.03125\n"
     ]
    }
   ],
   "source": [
    "## Calculate the proportion of Similar|Lure for all lure trials\n",
    "\n",
    "#divide number of Similar|Lure by the total number of lure trials\n",
    "prop_sim_lure = num_sim_lure/num_lure_trials\n",
    "print(prop_sim_lure)"
   ]
  },
  {
   "cell_type": "code",
   "execution_count": 37,
   "metadata": {},
   "outputs": [
    {
     "name": "stdout",
     "output_type": "stream",
     "text": [
      "0.03333333333333333\n"
     ]
    }
   ],
   "source": [
    "## calculate the proportion of similar|lure for lure trials responded to \n",
    "\n",
    "#divide number of similar|lure by the number of lure trials responded to\n",
    "prop_resp_sim_lure = num_sim_lure/(num_lure_resp)\n",
    "print(prop_resp_sim_lure)"
   ]
  },
  {
   "cell_type": "code",
   "execution_count": 38,
   "metadata": {},
   "outputs": [
    {
     "name": "stdout",
     "output_type": "stream",
     "text": [
      "14\n"
     ]
    }
   ],
   "source": [
    "## calculate number of New|Lure\n",
    "\n",
    "#Initialize the number of New|Lure to zero\n",
    "num_new_lure = 0\n",
    "#loop through the data and add one to the number of New|Lure\n",
    "#if the condition is L(Lure) and the participant responded 3 (New); print result\n",
    "for p in range(len(data)):\n",
    "    if ((data.loc[p, 'Cond']=='L') and (data.loc[p, 'Resp']== 3)):\n",
    "        num_new_lure+=1\n",
    "print(num_new_lure)"
   ]
  },
  {
   "cell_type": "code",
   "execution_count": 39,
   "metadata": {},
   "outputs": [
    {
     "name": "stdout",
     "output_type": "stream",
     "text": [
      "0.21875\n"
     ]
    }
   ],
   "source": [
    "## calculate proportion of new|lure for all lure trials\n",
    "\n",
    "#divide number of new|lure by the total number of lure trials\n",
    "prop_new_lure = num_new_lure/num_lure_trials\n",
    "print(prop_new_lure)"
   ]
  },
  {
   "cell_type": "code",
   "execution_count": 40,
   "metadata": {},
   "outputs": [
    {
     "name": "stdout",
     "output_type": "stream",
     "text": [
      "0.23333333333333334\n"
     ]
    }
   ],
   "source": [
    "## calculate proportion of new|lure for lure trials responded to \n",
    "\n",
    "#divide the number of new|lure by the number of lure trials responded to\n",
    "prop_resp_new_lure = num_new_lure/(num_lure_resp)\n",
    "print(prop_resp_new_lure)"
   ]
  },
  {
   "cell_type": "code",
   "execution_count": 41,
   "metadata": {},
   "outputs": [
    {
     "name": "stdout",
     "output_type": "stream",
     "text": [
      "5\n"
     ]
    }
   ],
   "source": [
    "## calculate number of Old|Foil\n",
    "\n",
    "#Initialize the number of Old|Foil\n",
    "num_old_foil = 0\n",
    "#loop throught the data and add one to the number of Old|Foil\n",
    "#if the condition is F (Foil) and the participant responded 1 (Old); print result\n",
    "for q in range(len(data)):\n",
    "    if ((data.loc[q, 'Cond'] == 'F') and (data.loc[q, 'Resp'] == 1)):\n",
    "        num_old_foil+=1\n",
    "print(num_old_foil)"
   ]
  },
  {
   "cell_type": "code",
   "execution_count": 42,
   "metadata": {},
   "outputs": [
    {
     "name": "stdout",
     "output_type": "stream",
     "text": [
      "0.078125\n"
     ]
    }
   ],
   "source": [
    "## calculate proportion of old|foil for all foil trials\n",
    "\n",
    "#divide number of old|foil by the total number of foil trials\n",
    "prop_old_foil = num_old_foil/num_foil_trials\n",
    "print(prop_old_foil)"
   ]
  },
  {
   "cell_type": "code",
   "execution_count": 43,
   "metadata": {},
   "outputs": [
    {
     "name": "stdout",
     "output_type": "stream",
     "text": [
      "0.08620689655172414\n"
     ]
    }
   ],
   "source": [
    "## calculate proportion of old|foil for foil trials responded to\n",
    "\n",
    "#divide the number of old|foil by the number of foil trials responded to \n",
    "prop_resp_old_foil = num_old_foil/(num_foil_resp)\n",
    "print(prop_resp_old_foil)"
   ]
  },
  {
   "cell_type": "code",
   "execution_count": 44,
   "metadata": {},
   "outputs": [
    {
     "name": "stdout",
     "output_type": "stream",
     "text": [
      "1\n"
     ]
    }
   ],
   "source": [
    "##calculate number of Similar|Foil\n",
    "\n",
    "#Initialize the number of Similar|Foil to zero\n",
    "num_sim_foil = 0\n",
    "#loop through the data and add one to the number of Similar|Foil\n",
    "#if the condition is F(Foil) and the participant responded 2(similar); print result\n",
    "for r in range(len(data)):\n",
    "    if ((data.loc[r, 'Cond'] == 'F') and (data.loc[r, 'Resp'] == 2)):\n",
    "        num_sim_foil+=1\n",
    "print(num_sim_foil)"
   ]
  },
  {
   "cell_type": "code",
   "execution_count": 45,
   "metadata": {},
   "outputs": [
    {
     "name": "stdout",
     "output_type": "stream",
     "text": [
      "0.015625\n"
     ]
    }
   ],
   "source": [
    "## calculate proportion of similar|foil for all foil trials\n",
    "\n",
    "#divide the number of similar|foil by the number of foil trials\n",
    "prop_sim_foil = num_sim_foil/num_foil_trials\n",
    "print(prop_sim_foil)"
   ]
  },
  {
   "cell_type": "code",
   "execution_count": 46,
   "metadata": {},
   "outputs": [
    {
     "name": "stdout",
     "output_type": "stream",
     "text": [
      "0.017241379310344827\n"
     ]
    }
   ],
   "source": [
    "## calculate proportion of similar|foil for foil trials responded to\n",
    "\n",
    "#divide the number of similar|foil by the number of foil trials responded to\n",
    "prop_resp_sim_foil = num_sim_foil/(num_foil_resp)\n",
    "print(prop_resp_sim_foil)"
   ]
  },
  {
   "cell_type": "code",
   "execution_count": 47,
   "metadata": {},
   "outputs": [
    {
     "name": "stdout",
     "output_type": "stream",
     "text": [
      "52\n"
     ]
    }
   ],
   "source": [
    "##calculate nummber of New|Foil\n",
    "\n",
    "#Initialize the number of New|Foil to zero\n",
    "num_new_foil = 0\n",
    "#Loop through the data and add one to the number of New|Foil\n",
    "#if the condition is F(Foil) and the participant responded 3(New)\n",
    "for s in range(len(data)):\n",
    "    if ((data.loc[s, 'Cond'] == 'F') and (data.loc[s, 'Resp'] == 3)):\n",
    "        num_new_foil+=1\n",
    "print(num_new_foil)"
   ]
  },
  {
   "cell_type": "code",
   "execution_count": 48,
   "metadata": {},
   "outputs": [
    {
     "name": "stdout",
     "output_type": "stream",
     "text": [
      "0.8125\n"
     ]
    }
   ],
   "source": [
    "## calculate proportion of new|foil for all foil trials \n",
    "\n",
    "#divide the number of new|foil by the total number of foil trials\n",
    "prop_new_foil = num_new_foil/num_foil_trials\n",
    "print(prop_new_foil)"
   ]
  },
  {
   "cell_type": "code",
   "execution_count": 49,
   "metadata": {},
   "outputs": [
    {
     "name": "stdout",
     "output_type": "stream",
     "text": [
      "0.896551724137931\n"
     ]
    }
   ],
   "source": [
    "## calculate the proportion of new|foil for foil trials responded to \n",
    "\n",
    "#divide the number of new|foil by the number of foil trials responded to\n",
    "prop_resp_new_foil = num_new_foil/(num_foil_resp)\n",
    "print(prop_resp_new_foil)"
   ]
  },
  {
   "cell_type": "code",
   "execution_count": 50,
   "metadata": {},
   "outputs": [
    {
     "name": "stdout",
     "output_type": "stream",
     "text": [
      "106\n"
     ]
    }
   ],
   "source": [
    "## Calculate number of correct responses \n",
    "#add the number of correct responses (New|Foil, Old|Target, Sim|Lure)\n",
    "corr_resp = num_new_foil + num_old_targ + num_sim_lure\n",
    "print(corr_resp)"
   ]
  },
  {
   "cell_type": "code",
   "execution_count": 51,
   "metadata": {},
   "outputs": [
    {
     "name": "stdout",
     "output_type": "stream",
     "text": [
      "0.5520833333333334\n"
     ]
    }
   ],
   "source": [
    "## calculate proportion of correct responses\n",
    "\n",
    "prop_corr_resp = corr_resp/(num_targ_trials + num_lure_trials + num_foil_trials)\n",
    "print(prop_corr_resp)"
   ]
  },
  {
   "cell_type": "code",
   "execution_count": 52,
   "metadata": {},
   "outputs": [
    {
     "name": "stdout",
     "output_type": "stream",
     "text": [
      "0.015625\n"
     ]
    }
   ],
   "source": [
    "## calculate BPS Score\n",
    "\n",
    "# subtract the proportion of sim|foil from the proportion of sim|lure\n",
    "bps_score = prop_sim_lure - prop_sim_foil\n",
    "print(bps_score)"
   ]
  },
  {
   "cell_type": "code",
   "execution_count": 54,
   "metadata": {},
   "outputs": [
    {
     "name": "stdout",
     "output_type": "stream",
     "text": [
      "0.016091954022988506\n"
     ]
    }
   ],
   "source": [
    "## calculate BPS score corrected for the number of trials responded to \n",
    "\n",
    "#subtract the proportion of sim|foil (corrected for no responses) \n",
    "#from the proportion of sim|lure (corrected for no responses)\n",
    "bps_score_c = prop_resp_sim_lure - prop_resp_sim_foil\n",
    "print(bps_score_c)"
   ]
  },
  {
   "cell_type": "code",
   "execution_count": 55,
   "metadata": {
    "scrolled": true
   },
   "outputs": [
    {
     "name": "stdout",
     "output_type": "stream",
     "text": [
      "0.734375\n"
     ]
    }
   ],
   "source": [
    "## calculate traditional recognition score\n",
    "\n",
    "#subtract the proportion of old|foil from the proportion of old|targ\n",
    "recog= prop_old_targ-prop_old_foil\n",
    "print(recog)"
   ]
  },
  {
   "cell_type": "code",
   "execution_count": 56,
   "metadata": {
    "scrolled": true
   },
   "outputs": [
    {
     "name": "stdout",
     "output_type": "stream",
     "text": [
      "0.8103448275862069\n"
     ]
    }
   ],
   "source": [
    "## calculate traditional recognition score corrected for the number of trials responded to \n",
    "\n",
    "#subtract the proportion of old|foil (corrected for no response) \n",
    "#from the proportion of old|targ (corrected for no response)\n",
    "recog_c = prop_resp_old_targ - prop_resp_old_foil\n",
    "print(recog_c)"
   ]
  },
  {
   "cell_type": "code",
   "execution_count": 57,
   "metadata": {},
   "outputs": [
    {
     "name": "stdout",
     "output_type": "stream",
     "text": [
      "0.125\n"
     ]
    }
   ],
   "source": [
    "## calculate other recognition score\n",
    "\n",
    "## subtract old|lure from old|target\n",
    "recog_b = prop_old_targ - prop_old_lure\n",
    "print(recog_b)"
   ]
  },
  {
   "cell_type": "code",
   "execution_count": 58,
   "metadata": {},
   "outputs": [
    {
     "name": "stdout",
     "output_type": "stream",
     "text": [
      "0.65625\n"
     ]
    }
   ],
   "source": [
    "## calculate the rate of similar items correctly identified \n",
    "##minus the rate of similar items misidentified as old (S|S-O|S)\n",
    "#Aldi, G. A., Lange, I., Gigli, C., Goossens, L., Schruers, K. R., & \n",
    "#Cosci, F. (2018). Validation of the Mnemonic Similarity Task–Context\n",
    "#Version. Revista Brasileira de Psiquiatria, 40(4), 432-440.\n",
    "\n",
    "recog_a = prop_old_lure - prop_sim_lure \n",
    "print(recog_a)"
   ]
  },
  {
   "cell_type": "code",
   "execution_count": null,
   "metadata": {},
   "outputs": [],
   "source": []
  },
  {
   "cell_type": "code",
   "execution_count": null,
   "metadata": {},
   "outputs": [],
   "source": []
  },
  {
   "cell_type": "code",
   "execution_count": null,
   "metadata": {},
   "outputs": [],
   "source": []
  }
 ],
 "metadata": {
  "kernelspec": {
   "display_name": "Python 3",
   "language": "python",
   "name": "python3"
  },
  "language_info": {
   "codemirror_mode": {
    "name": "ipython",
    "version": 3
   },
   "file_extension": ".py",
   "mimetype": "text/x-python",
   "name": "python",
   "nbconvert_exporter": "python",
   "pygments_lexer": "ipython3",
   "version": "3.7.1"
  }
 },
 "nbformat": 4,
 "nbformat_minor": 2
}
