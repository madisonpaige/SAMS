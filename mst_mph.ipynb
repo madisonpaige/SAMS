{
 "cells": [
  {
   "cell_type": "code",
   "execution_count": 2,
   "metadata": {},
   "outputs": [],
   "source": [
    "import numpy as np\n",
    "import pandas as pd\n",
    "import matplotlib.pyplot as plt\n",
    "import seaborn as sns\n",
    "import os.path\n",
    "import glob\n",
    "import string\n",
    "import statistics\n",
    "from os.path import exists\n",
    "from scipy.stats import norm\n",
    "from scipy.stats import zscore\n",
    "from scipy.stats import pearsonr  \n",
    "from scipy.stats import chisquare\n",
    "from sklearn import linear_model\n",
    "import statsmodels.api as sm\n",
    "from statsmodels.stats.anova import AnovaRM\n",
    "import math\n",
    "import scipy.stats"
   ]
  },
  {
   "cell_type": "code",
   "execution_count": 3,
   "metadata": {},
   "outputs": [],
   "source": [
    "def snodgrass(num,denom):\n",
    "    return (float(num)+.5) / (float(denom) +1)\n",
    "\n",
    "def dprime(hit,fa):\n",
    "    return norm.ppf(hit,loc=0,scale=1) - norm.ppf(fa,loc=0,scale=1)"
   ]
  },
  {
   "cell_type": "code",
   "execution_count": 4,
   "metadata": {},
   "outputs": [],
   "source": [
    "def clean_pidn(filename): \n",
    "    \n",
    "    #find pidn\n",
    "    if not filename.startswith('.'):\n",
    "        file_temp = filename.strip().split('_')\n",
    "        file_temp2 = file_temp[1].strip().split('.')\n",
    "        if file_temp2[0][0]=='0':\n",
    "            file_PIDN= file_temp2[0].strip().split('0', 1)\n",
    "            pidn=file_PIDN[1]\n",
    "        else:\n",
    "            pidn=int(file_temp2[0])\n",
    "            \n",
    "    return (pidn)"
   ]
  },
  {
   "cell_type": "code",
   "execution_count": 5,
   "metadata": {},
   "outputs": [],
   "source": [
    "## Code taken from Craig Stark to find lines for the beginning of the study and test phases\n",
    "\n",
    "def findlines(filename):\n",
    "    s_starts=[]\n",
    "    t_starts=[]\n",
    "    with open(filename) as file:\n",
    "        for linenum, linetxt in enumerate(file,1):\n",
    "            if \"Study phase started at\" in linetxt:\n",
    "                s_starts.append(linenum)\n",
    "            elif \"Test phase started at\" in linetxt:\n",
    "                t_starts.append(linenum)\n",
    "    return (s_starts, t_starts)\n"
   ]
  },
  {
   "cell_type": "code",
   "execution_count": 6,
   "metadata": {},
   "outputs": [],
   "source": [
    "def targ_trials(data):\n",
    "    ## calculate number of Target Trials\n",
    "    #initialize number of target trials to zero\n",
    "    num_targ_trials = 0\n",
    "    #loop through the data and add one if the condition is T (target)\n",
    "    for d in range(len(data)):\n",
    "        if data.loc[d, 'Cond'] == 'T':\n",
    "            num_targ_trials +=1\n",
    "    return num_targ_trials"
   ]
  },
  {
   "cell_type": "code",
   "execution_count": 7,
   "metadata": {},
   "outputs": [],
   "source": [
    "def foil_trials(data):\n",
    "        ## calculate number of Foil Trials\n",
    "    #initialize number of foil trials to zero\n",
    "    num_foil_trials = 0\n",
    "    #loop through the data and add one to the number of new trials if the condition is F (foil)\n",
    "    for g in range(len(data)):\n",
    "        if data.loc[g, 'Cond'] == 'F':\n",
    "            num_foil_trials +=1\n",
    "    return num_foil_trials"
   ]
  },
  {
   "cell_type": "code",
   "execution_count": 8,
   "metadata": {},
   "outputs": [],
   "source": [
    "def lure_trials(data):\n",
    "        ## calculate number of Lure Trials\n",
    "    #initialize number of lure trials to zero\n",
    "    num_lure_trials = 0\n",
    "    #loop through the data and add one to the number of lure trials if the condition is L (Lure)\n",
    "    for f in range(len(data)):\n",
    "        if data.loc[f, 'Cond'] == 'L':\n",
    "            num_lure_trials +=1\n",
    "    return num_lure_trials "
   ]
  },
  {
   "cell_type": "code",
   "execution_count": 9,
   "metadata": {},
   "outputs": [],
   "source": [
    "def no_resp(data):\n",
    "     ## calculate total number of no response\n",
    "\n",
    "    #initialize nuumber of no resposnses to zero\n",
    "    num_nr = 0\n",
    "    #for loop through the data and add one if the response is 0 (meaning no response); print the result \n",
    "    for n in range(len(data)):\n",
    "        if (data.loc[n, 'Resp'] == 0):\n",
    "            num_nr +=1  \n",
    "    \n",
    "     ## calculate number of no responses to Targets\n",
    "\n",
    "    #initialize number of no responses to targets to zero\n",
    "    num_nr_targ = 0\n",
    "    #loop through the data and add one to number of no responses to targets\n",
    "    #if the response is 0 (no response) and the condition is T (target); print result\n",
    "    for a in range(len(data)):\n",
    "        if (data.loc[a, 'Resp'] ==0) & (data.loc[a, 'Cond'] == 'T'):\n",
    "            num_nr_targ +=1\n",
    "         ## calculate number of no responses to Lures\n",
    "\n",
    "    #initialize number of no responses to lures to zero\n",
    "    num_nr_lure = 0\n",
    "    #loop through the data and add one to the number of no responses to lures \n",
    "    #if the response is 0 (no response) and the condition is L (Lure)\n",
    "    for b in range(len(data)):\n",
    "        if (data.loc[b, 'Resp'] == 0) & (data.loc[b, 'Cond'] =='L'):\n",
    "            num_nr_lure+=1\n",
    "\n",
    "    ## calculate number of no responses to Foils\n",
    "\n",
    "    #initialize number of no responses to foils to zero\n",
    "    num_nr_foil = 0\n",
    "    #loop through the data and add one to the number of no responses to foils\n",
    "    #if the response is 0 (no response) and the condition is F (foil)\n",
    "    for c in range(len(data)):\n",
    "        if (data.loc[c, 'Resp'] == 0) & (data.loc[c,'Cond'] == 'F'):\n",
    "            num_nr_foil+=1\n",
    "            \n",
    "    prop_nr = num_nr/test_len\n",
    "\n",
    "    return num_nr, num_nr_targ, num_nr_lure, num_nr_foil, prop_nr"
   ]
  },
  {
   "cell_type": "code",
   "execution_count": 10,
   "metadata": {},
   "outputs": [],
   "source": [
    "def targ_resp(data):\n",
    "    ## calculate number of target trials\n",
    "    num_targ_trials = targ_trials(data)\n",
    "    ## calculate number of Old|Target\n",
    "\n",
    "    #iitialize the number of Target|Old to zero\n",
    "    num_old_targ = 0\n",
    "    #loop through the data and add one to the number of of Old|Target \n",
    "    #if the condition is T (target) and if the response is 1 (Old); print result\n",
    "    for j in range(len(data)):\n",
    "        if ((data.loc[j, 'Cond'] == 'T') & (data.loc[j, 'Resp'] == 1)):\n",
    "            num_old_targ +=1\n",
    "\n",
    "    ## Calculate proportion of Old|Target for ALL Target Trials\n",
    "\n",
    "    #Divide the number of old|target by the total number of target trials\n",
    "    prop_old_targ = num_old_targ/num_targ_trials\n",
    "    \n",
    "    ## Calculate number of Similar|Target\n",
    "\n",
    "    #initialize the number of Similar|Target to zero\n",
    "    num_sim_targ = 0\n",
    "\n",
    "    #loop through the data and add one to the number of Similar|Target \n",
    "    #if the condition is T (target) and if the participant responsed 2 (Similar); print result\n",
    "    for k in range(len(data)):\n",
    "        if ((data.loc[k, 'Cond']=='T') & (data.loc[k, 'Resp']==2)):\n",
    "            num_sim_targ+=1\n",
    "\n",
    "    ## calculate proportion of Similar|target for all target trials\n",
    "\n",
    "    #divide the number of Similar|target by the total number of target trials\n",
    "    prop_sim_targ= num_sim_targ/num_targ_trials\n",
    "\n",
    "    ## calculate number of New|Target\n",
    "\n",
    "    # initialize the number of New|Target to zero\n",
    "    num_new_targ = 0\n",
    "    #loop through the data and add one to the number of New|Target\n",
    "    #if the condition is T(Target) and if the participant responded 3(New); print result\n",
    "    for l in range(len(data)):\n",
    "        if ((data.loc[l, 'Cond'] == 'T') & (data.loc[l, 'Resp'] == 3)):\n",
    "            num_new_targ+=1\n",
    "    \n",
    "    ## calculate the proportion of New|Target for all target trials\n",
    "\n",
    "    #divide number of New|Target by the total number of target trials\n",
    "    prop_new_targ = num_new_targ/num_targ_trials\n",
    "   \n",
    "\n",
    "    return num_old_targ, prop_old_targ, num_sim_targ, prop_sim_targ, num_new_targ, prop_new_targ"
   ]
  },
  {
   "cell_type": "code",
   "execution_count": 11,
   "metadata": {},
   "outputs": [],
   "source": [
    "def lure_resp(data):\n",
    "    num_lure_trials = lure_trials(data)\n",
    "    ## calculate number of Old|Lure\n",
    "\n",
    "    #Initialize the number of Old|Lure to zero\n",
    "    num_old_lure = 0\n",
    "    #loop through the data and add one to the number of Old|Lure \n",
    "    # if the condition is L (Lure) and the participant responded 1 (Old); print result\n",
    "    for m in range(len(data)):\n",
    "        if ((data.loc[m, 'Cond']=='L') & data.loc[m, 'Resp'] == 1):\n",
    "            num_old_lure+=1\n",
    "   \n",
    "    ## calculate the proportion of Old|Lure for all lure trials\n",
    "\n",
    "    #divide number of Old|Lure by the total number of lure trials\n",
    "    prop_old_lure = num_old_lure/num_lure_trials\n",
    "    \n",
    "       ## calculate number of Similar|Lure\n",
    "\n",
    "    #Initialize the number of Similar|Lure to zero\n",
    "    num_sim_lure = 0\n",
    "    #loop through the data and add one to the number of Similar|Lure\n",
    "    #if the condition is L (Lure) and the participant responded 2 (Similar); print result\n",
    "    for o in range(len(data)):\n",
    "        if ((data.loc[o, 'Cond']==\"L\") & (data.loc[o, 'Resp'] == 2)):\n",
    "            num_sim_lure+=1\n",
    "\n",
    "    ## Calculate the proportion of Similar|Lure for all lure trials\n",
    "\n",
    "    #divide number of Similar|Lure by the total number of lure trials\n",
    "    prop_sim_lure = num_sim_lure/num_lure_trials\n",
    "    \n",
    "    ## calculate number of New|Lure\n",
    "\n",
    "    #Initialize the number of New|Lure to zero\n",
    "    num_new_lure = 0\n",
    "    #loop through the data and add one to the number of New|Lure\n",
    "    #if the condition is L(Lure) and the participant responded 3 (New); print result\n",
    "    for p in range(len(data)):\n",
    "        if ((data.loc[p, 'Cond']=='L') & (data.loc[p, 'Resp']== 3)):\n",
    "            num_new_lure+=1\n",
    "\n",
    "    ## calculate proportion of new|lure for all lure trials\n",
    "\n",
    "    #divide number of new|lure by the total number of lure trials\n",
    "    prop_new_lure = num_new_lure/num_lure_trials\n",
    "\n",
    "    return num_old_lure, prop_old_lure, num_sim_lure, prop_sim_lure, num_new_lure, prop_new_lure"
   ]
  },
  {
   "cell_type": "code",
   "execution_count": 12,
   "metadata": {},
   "outputs": [],
   "source": [
    "def foil_resp(data):\n",
    "    ## calculate number of foil trials\n",
    "    num_foil_trials = foil_trials(data)\n",
    "      ## calculate number of Old|Foil\n",
    "     #Initialize the number of Old|Foil\n",
    "    num_old_foil = 0\n",
    "    #loop throught the data and add one to the number of Old|Foil\n",
    "    #if the condition is F (Foil) and the participant responded 1 (Old); print result\n",
    "    for q in range(len(data)):\n",
    "        if ((data.loc[q, 'Cond'] == 'F') & (data.loc[q, 'Resp'] == 1)):\n",
    "            num_old_foil+=1\n",
    "\n",
    "    ## calculate proportion of old|foil for all foil trials\n",
    "\n",
    "    #divide number of old|foil by the total number of foil trials\n",
    "    prop_old_foil = num_old_foil/num_foil_trials\n",
    "    \n",
    "    ##calculate number of Similar|Foil\n",
    "\n",
    "    #Initialize the number of Similar|Foil to zero\n",
    "    num_sim_foil = 0\n",
    "    #loop through the data and add one to the number of Similar|Foil\n",
    "    #if the condition is F(Foil) and the participant responded 2(similar); print result\n",
    "    for r in range(len(data)):\n",
    "        if ((data.loc[r, 'Cond'] == 'F') & (data.loc[r, 'Resp'] == 2)):\n",
    "            num_sim_foil+=1\n",
    "\n",
    "      ## calculate proportion of similar|foil for all foil trials\n",
    "\n",
    "    #divide the number of similar|foil by the number of foil trials\n",
    "    prop_sim_foil = num_sim_foil/num_foil_trials\n",
    "    \n",
    "    ##calculate nummber of New|Foil\n",
    "\n",
    "    #Initialize the number of New|Foil to zero\n",
    "    num_new_foil = 0\n",
    "    #Loop through the data and add one to the number of New|Foil\n",
    "    #if the condition is F(Foil) and the participant responded 3(New)\n",
    "    for s in range(len(data)):\n",
    "        if ((data.loc[s, 'Cond'] == 'F') & (data.loc[s, 'Resp'] == 3)):\n",
    "            num_new_foil+=1\n",
    "\n",
    "   \n",
    "    \n",
    "    \n",
    "    ## calculate proportion of new|foil for all foil trials \n",
    "\n",
    "    #divide the number of new|foil by the total number of foil trials\n",
    "    prop_new_foil = num_new_foil/num_foil_trials\n",
    "\n",
    "    return num_old_foil, prop_old_foil, num_sim_foil, prop_sim_foil, num_new_foil, prop_new_foil"
   ]
  },
  {
   "cell_type": "code",
   "execution_count": 13,
   "metadata": {},
   "outputs": [],
   "source": [
    "def corr_ans(data):\n",
    "    num_targ_trials = targ_trials(data)\n",
    "    num_lure_trials = lure_trials(data)\n",
    "    num_foil_trials = foil_trials(data)\n",
    "    num_new_foil = 0\n",
    "    num_old_targ = 0\n",
    "    num_sim_lure = 0 \n",
    "    for s in range(len(data)):\n",
    "        if ((data.loc[s, 'Cond'] == 'F') & (data.loc[s, 'Resp'] == 3)):\n",
    "            num_new_foil+=1\n",
    "    \n",
    "    for j in range(len(data)):\n",
    "        if ((data.loc[j, 'Cond'] == 'T') & (data.loc[j, 'Resp'] == 1)):\n",
    "            num_old_targ +=1\n",
    "     \n",
    "    for o in range(len(data)):\n",
    "        if ((data.loc[o, 'Cond']==\"L\") & (data.loc[o, 'Resp'] == 2)):\n",
    "            num_sim_lure+=1\n",
    "\n",
    "    ## Calculate number of correct responses \n",
    "    #add the number of correct responses (New|Foil, Old|Target, Sim|Lure)\n",
    "    corr_resp = num_new_foil + num_old_targ + num_sim_lure\n",
    "\n",
    "    ## calculate proportion of correct responses\n",
    "\n",
    "    prop_corr_resp = corr_resp/(num_targ_trials + num_lure_trials + num_foil_trials)\n",
    "    \n",
    "    return corr_resp, prop_corr_resp"
   ]
  },
  {
   "cell_type": "code",
   "execution_count": 14,
   "metadata": {},
   "outputs": [],
   "source": [
    "def calc_bps(prop_sim_lure, prop_sim_foil):\n",
    "    ## calculate BPS Score\n",
    "\n",
    "    # subtract the proportion of sim|foil from the proportion of sim|lure\n",
    "    bps_score = prop_sim_lure - prop_sim_foil\n",
    "    return bps_score\n"
   ]
  },
  {
   "cell_type": "code",
   "execution_count": 15,
   "metadata": {},
   "outputs": [],
   "source": [
    "def recog_scores(prop_old_targ, prop_old_foil, prop_old_lure, prop_sim_lure):\n",
    "    ## calculate traditional recognition score\n",
    "\n",
    "    #subtract the proportion of old|foil from the proportion of old|targ\n",
    "    recog_targ_foil= prop_old_targ-prop_old_foil\n",
    "    \n",
    "    ## calculate other recognition score\n",
    "\n",
    "    ## subtract old|lure from old|target\n",
    "    recog_targ_lure = prop_old_targ - prop_old_lure\n",
    "    \n",
    "    ## calculate the rate of similar items correctly identified \n",
    "    ##minus the rate of similar items misidentified as old (S|S-O|S)\n",
    "    #Aldi, G. A., Lange, I., Gigli, C., Goossens, L., Schruers, K. R., & \n",
    "    #Cosci, F. (2018). Validation of the Mnemonic Similarity Task–Context\n",
    "    #Version. Revista Brasileira de Psiquiatria, 40(4), 432-440.\n",
    "\n",
    "    recog_lure = prop_old_lure - prop_sim_lure \n",
    "    \n",
    "    return recog_targ_foil, recog_targ_lure, recog_lure"
   ]
  },
  {
   "cell_type": "code",
   "execution_count": 16,
   "metadata": {},
   "outputs": [
    {
     "ename": "FileNotFoundError",
     "evalue": "File b'/Users/madisonhunt/Desktop/Oak/stark_task/stark_demographics.csv' does not exist",
     "output_type": "error",
     "traceback": [
      "\u001b[0;31m---------------------------------------------------------------------------\u001b[0m",
      "\u001b[0;31mFileNotFoundError\u001b[0m                         Traceback (most recent call last)",
      "\u001b[0;32m<ipython-input-16-4f57410f3538>\u001b[0m in \u001b[0;36m<module>\u001b[0;34m\u001b[0m\n\u001b[0;32m----> 1\u001b[0;31m \u001b[0mdemo_data\u001b[0m \u001b[0;34m=\u001b[0m \u001b[0mpd\u001b[0m\u001b[0;34m.\u001b[0m\u001b[0mread_csv\u001b[0m\u001b[0;34m(\u001b[0m\u001b[0;34m'/Users/madisonhunt/Desktop/Oak/stark_task/stark_demographics.csv'\u001b[0m\u001b[0;34m)\u001b[0m\u001b[0;34m\u001b[0m\u001b[0;34m\u001b[0m\u001b[0m\n\u001b[0m\u001b[1;32m      2\u001b[0m \u001b[0mpidn_list\u001b[0m \u001b[0;34m=\u001b[0m \u001b[0mdemo_data\u001b[0m\u001b[0;34m[\u001b[0m\u001b[0;34m'pidn'\u001b[0m\u001b[0;34m]\u001b[0m\u001b[0;34m\u001b[0m\u001b[0;34m\u001b[0m\u001b[0m\n\u001b[1;32m      3\u001b[0m \u001b[0mfile_list\u001b[0m\u001b[0;34m=\u001b[0m\u001b[0mpd\u001b[0m\u001b[0;34m.\u001b[0m\u001b[0mDataFrame\u001b[0m\u001b[0;34m(\u001b[0m\u001b[0;34m)\u001b[0m\u001b[0;34m\u001b[0m\u001b[0;34m\u001b[0m\u001b[0m\n\u001b[1;32m      4\u001b[0m \u001b[0;34m\u001b[0m\u001b[0m\n\u001b[1;32m      5\u001b[0m \u001b[0mfiles\u001b[0m\u001b[0;34m=\u001b[0m \u001b[0mos\u001b[0m\u001b[0;34m.\u001b[0m\u001b[0mlistdir\u001b[0m\u001b[0;34m(\u001b[0m\u001b[0;34m'/Users/madisonhunt/Desktop/Oak/stark_task/Raw/Data'\u001b[0m\u001b[0;34m)\u001b[0m\u001b[0;34m\u001b[0m\u001b[0;34m\u001b[0m\u001b[0m\n",
      "\u001b[0;32m~/anaconda3/lib/python3.7/site-packages/pandas/io/parsers.py\u001b[0m in \u001b[0;36mparser_f\u001b[0;34m(filepath_or_buffer, sep, delimiter, header, names, index_col, usecols, squeeze, prefix, mangle_dupe_cols, dtype, engine, converters, true_values, false_values, skipinitialspace, skiprows, nrows, na_values, keep_default_na, na_filter, verbose, skip_blank_lines, parse_dates, infer_datetime_format, keep_date_col, date_parser, dayfirst, iterator, chunksize, compression, thousands, decimal, lineterminator, quotechar, quoting, escapechar, comment, encoding, dialect, tupleize_cols, error_bad_lines, warn_bad_lines, skipfooter, doublequote, delim_whitespace, low_memory, memory_map, float_precision)\u001b[0m\n\u001b[1;32m    676\u001b[0m                     skip_blank_lines=skip_blank_lines)\n\u001b[1;32m    677\u001b[0m \u001b[0;34m\u001b[0m\u001b[0m\n\u001b[0;32m--> 678\u001b[0;31m         \u001b[0;32mreturn\u001b[0m \u001b[0m_read\u001b[0m\u001b[0;34m(\u001b[0m\u001b[0mfilepath_or_buffer\u001b[0m\u001b[0;34m,\u001b[0m \u001b[0mkwds\u001b[0m\u001b[0;34m)\u001b[0m\u001b[0;34m\u001b[0m\u001b[0;34m\u001b[0m\u001b[0m\n\u001b[0m\u001b[1;32m    679\u001b[0m \u001b[0;34m\u001b[0m\u001b[0m\n\u001b[1;32m    680\u001b[0m     \u001b[0mparser_f\u001b[0m\u001b[0;34m.\u001b[0m\u001b[0m__name__\u001b[0m \u001b[0;34m=\u001b[0m \u001b[0mname\u001b[0m\u001b[0;34m\u001b[0m\u001b[0;34m\u001b[0m\u001b[0m\n",
      "\u001b[0;32m~/anaconda3/lib/python3.7/site-packages/pandas/io/parsers.py\u001b[0m in \u001b[0;36m_read\u001b[0;34m(filepath_or_buffer, kwds)\u001b[0m\n\u001b[1;32m    438\u001b[0m \u001b[0;34m\u001b[0m\u001b[0m\n\u001b[1;32m    439\u001b[0m     \u001b[0;31m# Create the parser.\u001b[0m\u001b[0;34m\u001b[0m\u001b[0;34m\u001b[0m\u001b[0;34m\u001b[0m\u001b[0m\n\u001b[0;32m--> 440\u001b[0;31m     \u001b[0mparser\u001b[0m \u001b[0;34m=\u001b[0m \u001b[0mTextFileReader\u001b[0m\u001b[0;34m(\u001b[0m\u001b[0mfilepath_or_buffer\u001b[0m\u001b[0;34m,\u001b[0m \u001b[0;34m**\u001b[0m\u001b[0mkwds\u001b[0m\u001b[0;34m)\u001b[0m\u001b[0;34m\u001b[0m\u001b[0;34m\u001b[0m\u001b[0m\n\u001b[0m\u001b[1;32m    441\u001b[0m \u001b[0;34m\u001b[0m\u001b[0m\n\u001b[1;32m    442\u001b[0m     \u001b[0;32mif\u001b[0m \u001b[0mchunksize\u001b[0m \u001b[0;32mor\u001b[0m \u001b[0miterator\u001b[0m\u001b[0;34m:\u001b[0m\u001b[0;34m\u001b[0m\u001b[0;34m\u001b[0m\u001b[0m\n",
      "\u001b[0;32m~/anaconda3/lib/python3.7/site-packages/pandas/io/parsers.py\u001b[0m in \u001b[0;36m__init__\u001b[0;34m(self, f, engine, **kwds)\u001b[0m\n\u001b[1;32m    785\u001b[0m             \u001b[0mself\u001b[0m\u001b[0;34m.\u001b[0m\u001b[0moptions\u001b[0m\u001b[0;34m[\u001b[0m\u001b[0;34m'has_index_names'\u001b[0m\u001b[0;34m]\u001b[0m \u001b[0;34m=\u001b[0m \u001b[0mkwds\u001b[0m\u001b[0;34m[\u001b[0m\u001b[0;34m'has_index_names'\u001b[0m\u001b[0;34m]\u001b[0m\u001b[0;34m\u001b[0m\u001b[0;34m\u001b[0m\u001b[0m\n\u001b[1;32m    786\u001b[0m \u001b[0;34m\u001b[0m\u001b[0m\n\u001b[0;32m--> 787\u001b[0;31m         \u001b[0mself\u001b[0m\u001b[0;34m.\u001b[0m\u001b[0m_make_engine\u001b[0m\u001b[0;34m(\u001b[0m\u001b[0mself\u001b[0m\u001b[0;34m.\u001b[0m\u001b[0mengine\u001b[0m\u001b[0;34m)\u001b[0m\u001b[0;34m\u001b[0m\u001b[0;34m\u001b[0m\u001b[0m\n\u001b[0m\u001b[1;32m    788\u001b[0m \u001b[0;34m\u001b[0m\u001b[0m\n\u001b[1;32m    789\u001b[0m     \u001b[0;32mdef\u001b[0m \u001b[0mclose\u001b[0m\u001b[0;34m(\u001b[0m\u001b[0mself\u001b[0m\u001b[0;34m)\u001b[0m\u001b[0;34m:\u001b[0m\u001b[0;34m\u001b[0m\u001b[0;34m\u001b[0m\u001b[0m\n",
      "\u001b[0;32m~/anaconda3/lib/python3.7/site-packages/pandas/io/parsers.py\u001b[0m in \u001b[0;36m_make_engine\u001b[0;34m(self, engine)\u001b[0m\n\u001b[1;32m   1012\u001b[0m     \u001b[0;32mdef\u001b[0m \u001b[0m_make_engine\u001b[0m\u001b[0;34m(\u001b[0m\u001b[0mself\u001b[0m\u001b[0;34m,\u001b[0m \u001b[0mengine\u001b[0m\u001b[0;34m=\u001b[0m\u001b[0;34m'c'\u001b[0m\u001b[0;34m)\u001b[0m\u001b[0;34m:\u001b[0m\u001b[0;34m\u001b[0m\u001b[0;34m\u001b[0m\u001b[0m\n\u001b[1;32m   1013\u001b[0m         \u001b[0;32mif\u001b[0m \u001b[0mengine\u001b[0m \u001b[0;34m==\u001b[0m \u001b[0;34m'c'\u001b[0m\u001b[0;34m:\u001b[0m\u001b[0;34m\u001b[0m\u001b[0;34m\u001b[0m\u001b[0m\n\u001b[0;32m-> 1014\u001b[0;31m             \u001b[0mself\u001b[0m\u001b[0;34m.\u001b[0m\u001b[0m_engine\u001b[0m \u001b[0;34m=\u001b[0m \u001b[0mCParserWrapper\u001b[0m\u001b[0;34m(\u001b[0m\u001b[0mself\u001b[0m\u001b[0;34m.\u001b[0m\u001b[0mf\u001b[0m\u001b[0;34m,\u001b[0m \u001b[0;34m**\u001b[0m\u001b[0mself\u001b[0m\u001b[0;34m.\u001b[0m\u001b[0moptions\u001b[0m\u001b[0;34m)\u001b[0m\u001b[0;34m\u001b[0m\u001b[0;34m\u001b[0m\u001b[0m\n\u001b[0m\u001b[1;32m   1015\u001b[0m         \u001b[0;32melse\u001b[0m\u001b[0;34m:\u001b[0m\u001b[0;34m\u001b[0m\u001b[0;34m\u001b[0m\u001b[0m\n\u001b[1;32m   1016\u001b[0m             \u001b[0;32mif\u001b[0m \u001b[0mengine\u001b[0m \u001b[0;34m==\u001b[0m \u001b[0;34m'python'\u001b[0m\u001b[0;34m:\u001b[0m\u001b[0;34m\u001b[0m\u001b[0;34m\u001b[0m\u001b[0m\n",
      "\u001b[0;32m~/anaconda3/lib/python3.7/site-packages/pandas/io/parsers.py\u001b[0m in \u001b[0;36m__init__\u001b[0;34m(self, src, **kwds)\u001b[0m\n\u001b[1;32m   1706\u001b[0m         \u001b[0mkwds\u001b[0m\u001b[0;34m[\u001b[0m\u001b[0;34m'usecols'\u001b[0m\u001b[0;34m]\u001b[0m \u001b[0;34m=\u001b[0m \u001b[0mself\u001b[0m\u001b[0;34m.\u001b[0m\u001b[0musecols\u001b[0m\u001b[0;34m\u001b[0m\u001b[0;34m\u001b[0m\u001b[0m\n\u001b[1;32m   1707\u001b[0m \u001b[0;34m\u001b[0m\u001b[0m\n\u001b[0;32m-> 1708\u001b[0;31m         \u001b[0mself\u001b[0m\u001b[0;34m.\u001b[0m\u001b[0m_reader\u001b[0m \u001b[0;34m=\u001b[0m \u001b[0mparsers\u001b[0m\u001b[0;34m.\u001b[0m\u001b[0mTextReader\u001b[0m\u001b[0;34m(\u001b[0m\u001b[0msrc\u001b[0m\u001b[0;34m,\u001b[0m \u001b[0;34m**\u001b[0m\u001b[0mkwds\u001b[0m\u001b[0;34m)\u001b[0m\u001b[0;34m\u001b[0m\u001b[0;34m\u001b[0m\u001b[0m\n\u001b[0m\u001b[1;32m   1709\u001b[0m \u001b[0;34m\u001b[0m\u001b[0m\n\u001b[1;32m   1710\u001b[0m         \u001b[0mpassed_names\u001b[0m \u001b[0;34m=\u001b[0m \u001b[0mself\u001b[0m\u001b[0;34m.\u001b[0m\u001b[0mnames\u001b[0m \u001b[0;32mis\u001b[0m \u001b[0;32mNone\u001b[0m\u001b[0;34m\u001b[0m\u001b[0;34m\u001b[0m\u001b[0m\n",
      "\u001b[0;32mpandas/_libs/parsers.pyx\u001b[0m in \u001b[0;36mpandas._libs.parsers.TextReader.__cinit__\u001b[0;34m()\u001b[0m\n",
      "\u001b[0;32mpandas/_libs/parsers.pyx\u001b[0m in \u001b[0;36mpandas._libs.parsers.TextReader._setup_parser_source\u001b[0;34m()\u001b[0m\n",
      "\u001b[0;31mFileNotFoundError\u001b[0m: File b'/Users/madisonhunt/Desktop/Oak/stark_task/stark_demographics.csv' does not exist"
     ]
    }
   ],
   "source": [
    "demo_data = pd.read_csv('/Users/madisonhunt/Desktop/Oak/stark_task/stark_demographics.csv')\n",
    "pidn_list = demo_data['pidn']\n",
    "file_list=pd.DataFrame()\n",
    "\n",
    "files= os.listdir('/Users/madisonhunt/Desktop/Oak/stark_task/Raw/Data')\n",
    "row=0\n",
    "for name in files:\n",
    "    if not name.startswith('.'):\n",
    "        file_temp = name.strip().split('_')\n",
    "        file_temp2 = file_temp[1].strip().split('.')\n",
    "        if file_temp2[0][0]=='0':\n",
    "            file_PIDN= file_temp2[0].strip().split('0', 1)\n",
    "            file_list.loc[row,'PIDN']=file_PIDN[1]\n",
    "        else:\n",
    "            file_list.loc[row,'PIDN']=file_temp2[0]  \n",
    "        file_list.loc[row, 'PIDN'] = int(file_list.loc[row, 'PIDN'])\n",
    "    row+=1\n",
    "file_list = file_list.sort_values(by = 'PIDN')\n",
    "\n",
    "row = 0\n",
    "for n in file_list['PIDN']:\n",
    "    if n not in pidn_list:\n",
    "        print(n)\n",
    "    row+=1   \n"
   ]
  },
  {
   "cell_type": "code",
   "execution_count": 17,
   "metadata": {},
   "outputs": [
    {
     "ename": "FileNotFoundError",
     "evalue": "File b'/Users/madisonhunt/Desktop/Oak/stark_task/stark_demographics.csv' does not exist",
     "output_type": "error",
     "traceback": [
      "\u001b[0;31m---------------------------------------------------------------------------\u001b[0m",
      "\u001b[0;31mFileNotFoundError\u001b[0m                         Traceback (most recent call last)",
      "\u001b[0;32m<ipython-input-17-281df2d9d462>\u001b[0m in \u001b[0;36m<module>\u001b[0;34m\u001b[0m\n\u001b[1;32m      7\u001b[0m \u001b[0mstudy_len\u001b[0m \u001b[0;34m=\u001b[0m \u001b[0mn_stim_per\u001b[0m\u001b[0;34m*\u001b[0m\u001b[0;36m2\u001b[0m\u001b[0;34m\u001b[0m\u001b[0;34m\u001b[0m\u001b[0m\n\u001b[1;32m      8\u001b[0m \u001b[0mtest_len\u001b[0m \u001b[0;34m=\u001b[0m \u001b[0mn_stim_per\u001b[0m\u001b[0;34m*\u001b[0m\u001b[0;36m3\u001b[0m\u001b[0;34m\u001b[0m\u001b[0;34m\u001b[0m\u001b[0m\n\u001b[0;32m----> 9\u001b[0;31m \u001b[0mdemo_data\u001b[0m \u001b[0;34m=\u001b[0m \u001b[0mpd\u001b[0m\u001b[0;34m.\u001b[0m\u001b[0mread_csv\u001b[0m\u001b[0;34m(\u001b[0m\u001b[0;34m'/Users/madisonhunt/Desktop/Oak/stark_task/stark_demographics.csv'\u001b[0m\u001b[0;34m)\u001b[0m\u001b[0;34m\u001b[0m\u001b[0;34m\u001b[0m\u001b[0m\n\u001b[0m\u001b[1;32m     10\u001b[0m \u001b[0mpidn_list\u001b[0m \u001b[0;34m=\u001b[0m \u001b[0mdemo_data\u001b[0m\u001b[0;34m[\u001b[0m\u001b[0;34m'pidn'\u001b[0m\u001b[0;34m]\u001b[0m\u001b[0;34m\u001b[0m\u001b[0;34m\u001b[0m\u001b[0m\n\u001b[1;32m     11\u001b[0m \u001b[0mage_list\u001b[0m \u001b[0;34m=\u001b[0m \u001b[0mdemo_data\u001b[0m\u001b[0;34m[\u001b[0m\u001b[0;34m'np_age'\u001b[0m\u001b[0;34m]\u001b[0m\u001b[0;34m\u001b[0m\u001b[0;34m\u001b[0m\u001b[0m\n",
      "\u001b[0;32m~/anaconda3/lib/python3.7/site-packages/pandas/io/parsers.py\u001b[0m in \u001b[0;36mparser_f\u001b[0;34m(filepath_or_buffer, sep, delimiter, header, names, index_col, usecols, squeeze, prefix, mangle_dupe_cols, dtype, engine, converters, true_values, false_values, skipinitialspace, skiprows, nrows, na_values, keep_default_na, na_filter, verbose, skip_blank_lines, parse_dates, infer_datetime_format, keep_date_col, date_parser, dayfirst, iterator, chunksize, compression, thousands, decimal, lineterminator, quotechar, quoting, escapechar, comment, encoding, dialect, tupleize_cols, error_bad_lines, warn_bad_lines, skipfooter, doublequote, delim_whitespace, low_memory, memory_map, float_precision)\u001b[0m\n\u001b[1;32m    676\u001b[0m                     skip_blank_lines=skip_blank_lines)\n\u001b[1;32m    677\u001b[0m \u001b[0;34m\u001b[0m\u001b[0m\n\u001b[0;32m--> 678\u001b[0;31m         \u001b[0;32mreturn\u001b[0m \u001b[0m_read\u001b[0m\u001b[0;34m(\u001b[0m\u001b[0mfilepath_or_buffer\u001b[0m\u001b[0;34m,\u001b[0m \u001b[0mkwds\u001b[0m\u001b[0;34m)\u001b[0m\u001b[0;34m\u001b[0m\u001b[0;34m\u001b[0m\u001b[0m\n\u001b[0m\u001b[1;32m    679\u001b[0m \u001b[0;34m\u001b[0m\u001b[0m\n\u001b[1;32m    680\u001b[0m     \u001b[0mparser_f\u001b[0m\u001b[0;34m.\u001b[0m\u001b[0m__name__\u001b[0m \u001b[0;34m=\u001b[0m \u001b[0mname\u001b[0m\u001b[0;34m\u001b[0m\u001b[0;34m\u001b[0m\u001b[0m\n",
      "\u001b[0;32m~/anaconda3/lib/python3.7/site-packages/pandas/io/parsers.py\u001b[0m in \u001b[0;36m_read\u001b[0;34m(filepath_or_buffer, kwds)\u001b[0m\n\u001b[1;32m    438\u001b[0m \u001b[0;34m\u001b[0m\u001b[0m\n\u001b[1;32m    439\u001b[0m     \u001b[0;31m# Create the parser.\u001b[0m\u001b[0;34m\u001b[0m\u001b[0;34m\u001b[0m\u001b[0;34m\u001b[0m\u001b[0m\n\u001b[0;32m--> 440\u001b[0;31m     \u001b[0mparser\u001b[0m \u001b[0;34m=\u001b[0m \u001b[0mTextFileReader\u001b[0m\u001b[0;34m(\u001b[0m\u001b[0mfilepath_or_buffer\u001b[0m\u001b[0;34m,\u001b[0m \u001b[0;34m**\u001b[0m\u001b[0mkwds\u001b[0m\u001b[0;34m)\u001b[0m\u001b[0;34m\u001b[0m\u001b[0;34m\u001b[0m\u001b[0m\n\u001b[0m\u001b[1;32m    441\u001b[0m \u001b[0;34m\u001b[0m\u001b[0m\n\u001b[1;32m    442\u001b[0m     \u001b[0;32mif\u001b[0m \u001b[0mchunksize\u001b[0m \u001b[0;32mor\u001b[0m \u001b[0miterator\u001b[0m\u001b[0;34m:\u001b[0m\u001b[0;34m\u001b[0m\u001b[0;34m\u001b[0m\u001b[0m\n",
      "\u001b[0;32m~/anaconda3/lib/python3.7/site-packages/pandas/io/parsers.py\u001b[0m in \u001b[0;36m__init__\u001b[0;34m(self, f, engine, **kwds)\u001b[0m\n\u001b[1;32m    785\u001b[0m             \u001b[0mself\u001b[0m\u001b[0;34m.\u001b[0m\u001b[0moptions\u001b[0m\u001b[0;34m[\u001b[0m\u001b[0;34m'has_index_names'\u001b[0m\u001b[0;34m]\u001b[0m \u001b[0;34m=\u001b[0m \u001b[0mkwds\u001b[0m\u001b[0;34m[\u001b[0m\u001b[0;34m'has_index_names'\u001b[0m\u001b[0;34m]\u001b[0m\u001b[0;34m\u001b[0m\u001b[0;34m\u001b[0m\u001b[0m\n\u001b[1;32m    786\u001b[0m \u001b[0;34m\u001b[0m\u001b[0m\n\u001b[0;32m--> 787\u001b[0;31m         \u001b[0mself\u001b[0m\u001b[0;34m.\u001b[0m\u001b[0m_make_engine\u001b[0m\u001b[0;34m(\u001b[0m\u001b[0mself\u001b[0m\u001b[0;34m.\u001b[0m\u001b[0mengine\u001b[0m\u001b[0;34m)\u001b[0m\u001b[0;34m\u001b[0m\u001b[0;34m\u001b[0m\u001b[0m\n\u001b[0m\u001b[1;32m    788\u001b[0m \u001b[0;34m\u001b[0m\u001b[0m\n\u001b[1;32m    789\u001b[0m     \u001b[0;32mdef\u001b[0m \u001b[0mclose\u001b[0m\u001b[0;34m(\u001b[0m\u001b[0mself\u001b[0m\u001b[0;34m)\u001b[0m\u001b[0;34m:\u001b[0m\u001b[0;34m\u001b[0m\u001b[0;34m\u001b[0m\u001b[0m\n",
      "\u001b[0;32m~/anaconda3/lib/python3.7/site-packages/pandas/io/parsers.py\u001b[0m in \u001b[0;36m_make_engine\u001b[0;34m(self, engine)\u001b[0m\n\u001b[1;32m   1012\u001b[0m     \u001b[0;32mdef\u001b[0m \u001b[0m_make_engine\u001b[0m\u001b[0;34m(\u001b[0m\u001b[0mself\u001b[0m\u001b[0;34m,\u001b[0m \u001b[0mengine\u001b[0m\u001b[0;34m=\u001b[0m\u001b[0;34m'c'\u001b[0m\u001b[0;34m)\u001b[0m\u001b[0;34m:\u001b[0m\u001b[0;34m\u001b[0m\u001b[0;34m\u001b[0m\u001b[0m\n\u001b[1;32m   1013\u001b[0m         \u001b[0;32mif\u001b[0m \u001b[0mengine\u001b[0m \u001b[0;34m==\u001b[0m \u001b[0;34m'c'\u001b[0m\u001b[0;34m:\u001b[0m\u001b[0;34m\u001b[0m\u001b[0;34m\u001b[0m\u001b[0m\n\u001b[0;32m-> 1014\u001b[0;31m             \u001b[0mself\u001b[0m\u001b[0;34m.\u001b[0m\u001b[0m_engine\u001b[0m \u001b[0;34m=\u001b[0m \u001b[0mCParserWrapper\u001b[0m\u001b[0;34m(\u001b[0m\u001b[0mself\u001b[0m\u001b[0;34m.\u001b[0m\u001b[0mf\u001b[0m\u001b[0;34m,\u001b[0m \u001b[0;34m**\u001b[0m\u001b[0mself\u001b[0m\u001b[0;34m.\u001b[0m\u001b[0moptions\u001b[0m\u001b[0;34m)\u001b[0m\u001b[0;34m\u001b[0m\u001b[0;34m\u001b[0m\u001b[0m\n\u001b[0m\u001b[1;32m   1015\u001b[0m         \u001b[0;32melse\u001b[0m\u001b[0;34m:\u001b[0m\u001b[0;34m\u001b[0m\u001b[0;34m\u001b[0m\u001b[0m\n\u001b[1;32m   1016\u001b[0m             \u001b[0;32mif\u001b[0m \u001b[0mengine\u001b[0m \u001b[0;34m==\u001b[0m \u001b[0;34m'python'\u001b[0m\u001b[0;34m:\u001b[0m\u001b[0;34m\u001b[0m\u001b[0;34m\u001b[0m\u001b[0m\n",
      "\u001b[0;32m~/anaconda3/lib/python3.7/site-packages/pandas/io/parsers.py\u001b[0m in \u001b[0;36m__init__\u001b[0;34m(self, src, **kwds)\u001b[0m\n\u001b[1;32m   1706\u001b[0m         \u001b[0mkwds\u001b[0m\u001b[0;34m[\u001b[0m\u001b[0;34m'usecols'\u001b[0m\u001b[0;34m]\u001b[0m \u001b[0;34m=\u001b[0m \u001b[0mself\u001b[0m\u001b[0;34m.\u001b[0m\u001b[0musecols\u001b[0m\u001b[0;34m\u001b[0m\u001b[0;34m\u001b[0m\u001b[0m\n\u001b[1;32m   1707\u001b[0m \u001b[0;34m\u001b[0m\u001b[0m\n\u001b[0;32m-> 1708\u001b[0;31m         \u001b[0mself\u001b[0m\u001b[0;34m.\u001b[0m\u001b[0m_reader\u001b[0m \u001b[0;34m=\u001b[0m \u001b[0mparsers\u001b[0m\u001b[0;34m.\u001b[0m\u001b[0mTextReader\u001b[0m\u001b[0;34m(\u001b[0m\u001b[0msrc\u001b[0m\u001b[0;34m,\u001b[0m \u001b[0;34m**\u001b[0m\u001b[0mkwds\u001b[0m\u001b[0;34m)\u001b[0m\u001b[0;34m\u001b[0m\u001b[0;34m\u001b[0m\u001b[0m\n\u001b[0m\u001b[1;32m   1709\u001b[0m \u001b[0;34m\u001b[0m\u001b[0m\n\u001b[1;32m   1710\u001b[0m         \u001b[0mpassed_names\u001b[0m \u001b[0;34m=\u001b[0m \u001b[0mself\u001b[0m\u001b[0;34m.\u001b[0m\u001b[0mnames\u001b[0m \u001b[0;32mis\u001b[0m \u001b[0;32mNone\u001b[0m\u001b[0;34m\u001b[0m\u001b[0;34m\u001b[0m\u001b[0m\n",
      "\u001b[0;32mpandas/_libs/parsers.pyx\u001b[0m in \u001b[0;36mpandas._libs.parsers.TextReader.__cinit__\u001b[0;34m()\u001b[0m\n",
      "\u001b[0;32mpandas/_libs/parsers.pyx\u001b[0m in \u001b[0;36mpandas._libs.parsers.TextReader._setup_parser_source\u001b[0;34m()\u001b[0m\n",
      "\u001b[0;31mFileNotFoundError\u001b[0m: File b'/Users/madisonhunt/Desktop/Oak/stark_task/stark_demographics.csv' does not exist"
     ]
    }
   ],
   "source": [
    "all_data=pd.DataFrame()\n",
    "np_data=pd.DataFrame()\n",
    "row=0\n",
    "missing=0\n",
    "has_data=0\n",
    "n_stim_per=64\n",
    "study_len = n_stim_per*2\n",
    "test_len = n_stim_per*3\n",
    "demo_data = pd.read_csv('/Users/madisonhunt/Desktop/Oak/stark_task/stark_demographics.csv')\n",
    "pidn_list = demo_data['pidn']\n",
    "age_list = demo_data['np_age']\n",
    "ed_list = demo_data['yrs_educ']\n",
    "gender_list = demo_data['gender']\n",
    "for pidn in pidn_list:\n",
    "\n",
    "    if pidn < 685:\n",
    "        filename = '/Users/madisonhunt/Desktop/Oak/stark_task/Data/BPSOlog_0{}.txt'.format(pidn)\n",
    "#         print(filename)\n",
    "    elif pidn > 685:\n",
    "        filename = '/Users/madisonhunt/Desktop/Oak/stark_task/Data/MSTlog_0{}.txt'.format(pidn)\n",
    "#         print(filename)\n",
    "        if pidn > 1000: \n",
    "            filename = '/Users/madisonhunt/Desktop/Oak/stark_task/Data/MSTlog_{}.txt'.format(pidn)\n",
    "    #         print(filename)\n",
    "\n",
    "    if exists(filename):\n",
    "\n",
    "        has_data +=1\n",
    "        np_data.loc[row, 'pidn'] = demo_data.loc[row, 'pidn']\n",
    "        np_data.loc[row, 'mmse'] = demo_data.loc[row, 'mmse']\n",
    "        np_data.loc[row, 'hvltr4'] = demo_data.loc[row, 'hvltr4']\n",
    "        np_data.loc[row, 'hvltpr'] = demo_data.loc[row, 'hvltrpr']\n",
    "        np_data.loc[row, 'bvmtr4'] = demo_data.loc[row, 'bvmtr4']\n",
    "        np_data.loc[row, 'bvmtpr'] = demo_data.loc[row, 'bvmtrpr']\n",
    "        np_data.loc[row, 'lm2'] = demo_data.loc[row, 'lm2']\n",
    "        np_data.loc[row, 'lmpr'] = demo_data.loc[row, 'lmpr']\n",
    "        np_data.loc[row, 'mmse_norm'] = demo_data.loc[row, 'mmse_norm']\n",
    "        np_data.loc[row, 'hvltr4_norm'] = demo_data.loc[row, 'hvltr4_norm']\n",
    "        np_data.loc[row, 'bvmtr4_norm'] = demo_data.loc[row, 'bvmtr4_norm']\n",
    "        np_data.loc[row, 'lm2_norm'] = demo_data.loc[row, 'lm2_norm']\n",
    "        np_data.loc[row, 'ir_comp'] = demo_data.loc[row, 'immediate_recall_comp']\n",
    "        np_data.loc[row, 'dr_comp'] = demo_data.loc[row, 'delayed_recall_comp']\n",
    "        np_data.loc[row, 'recog_comp'] = demo_data.loc[row, 'recognition_comp']\n",
    "        \n",
    "\n",
    "        s_starts, t_starts = findlines(filename)\n",
    "        if len(s_starts) & len(t_starts):\n",
    "            study_starts = s_starts[-1]\n",
    "            test_starts = t_starts[-1]\n",
    "            pt_data =  pd.read_csv(filename, delimiter=\"\\t\", skiprows= test_starts, nrows=test_len, header = 0)     \n",
    "\n",
    "            all_data.loc[row, 'pidn'] = pidn \n",
    "            all_data.loc[row, 'age'] = age_list[row]\n",
    "            all_data.loc[row, 'education'] = ed_list[row]\n",
    "            if gender_list[row] == 0:\n",
    "                all_data.loc[row, 'gender'] = 'F'\n",
    "            else:\n",
    "                all_data.loc[row,'gender'] = 'M'\n",
    "            all_data.loc[row, 'num_targ_tr']  = targ_trials(pt_data)             \n",
    "            all_data.loc[row, 'num_foil_tr'] = foil_trials(pt_data)\n",
    "            all_data.loc[row, 'num_lure_tr'] = lure_trials(pt_data)\n",
    "            [all_data.loc[row, 'num_nr'], all_data.loc[row, 'num_nr_t'], \n",
    "             all_data.loc[row, 'num_nr_l'], all_data.loc[row, 'num_nr_f'],\n",
    "             all_data.loc[row, 'prop_nr']] = no_resp(pt_data)\n",
    "            [all_data.loc[row, 'n_old_targ'], all_data.loc[row, 'p_old_targ'], \n",
    "             all_data.loc[row, 'n_sim_targ'], all_data.loc[row, 'p_sim_targ'],\n",
    "             all_data.loc[row, 'n_new_targ'], all_data.loc[row, 'p_new_targ']] = targ_resp(pt_data)\n",
    "            [all_data.loc[row, 'n_old_lure'], all_data.loc[row, 'p_old_lure'],\n",
    "            all_data.loc[row, 'n_sim_lure'], all_data.loc[row, 'p_sim_lure'],\n",
    "            all_data.loc[row, 'n_new_lure'], all_data.loc[row, 'p_new_lure']] = lure_resp(pt_data)\n",
    "            [all_data.loc[row, 'n_old_foil'], all_data.loc[row, 'p_old_foil'],\n",
    "            all_data.loc[row, 'n_sim_foil'], all_data.loc[row, 'p_sim_foil'], \n",
    "            all_data.loc[row, 'n_new_foil'], all_data.loc[row, 'p_new_foil']] = foil_resp(pt_data)\n",
    "            [all_data.loc[row, 'n_correct'], all_data.loc[row, 'p_correct']] = corr_ans(pt_data)\n",
    "            all_data.loc[row, 'bps'] = calc_bps(all_data.loc[row, 'p_sim_lure'], all_data.loc[row, 'p_sim_foil'])\n",
    "            [all_data.loc[row, 'old_targ_old_foil'], all_data.loc[row, 'old_targ_old_lure'],\n",
    "             all_data.loc[row,'old_lure_sim_lure']] = recog_scores(all_data.loc[row, 'p_old_targ'], all_data.loc[row, 'p_old_foil'], all_data.loc[row,'p_old_lure'],  all_data.loc[row, 'p_sim_lure'])\n",
    "            all_data.loc[row, 'dprime_old_new'] = dprime(snodgrass(all_data.loc[row, 'n_old_targ'], all_data.loc[row, 'num_targ_tr']), snodgrass(all_data.loc[row, 'n_old_foil'], all_data.loc[row, 'num_foil_tr']))\n",
    "            all_data.loc[row,'dprime_old_lure'] = dprime(snodgrass(all_data.loc[row, 'n_old_targ'], all_data.loc[row, 'num_targ_tr']), snodgrass(all_data.loc[row, 'n_old_lure'], all_data.loc[row, 'num_lure_tr']))\n",
    "            all_data.loc[row, 'dprime_bps'] = dprime(snodgrass(all_data.loc[row, 'p_sim_lure'], all_data.loc[row, 'num_lure_tr']), snodgrass(all_data.loc[row, 'p_sim_foil'], all_data.loc[row, 'num_foil_tr']))\n",
    "            row +=1\n",
    "        else: print(pidn)\n",
    "    else:\n",
    "#         print(pidn)\n",
    "        missing +=1\n",
    "# print(all_data['dprime_old_new'])\n",
    "\n"
   ]
  },
  {
   "cell_type": "code",
   "execution_count": 18,
   "metadata": {},
   "outputs": [
    {
     "ename": "KeyError",
     "evalue": "'pidn'",
     "output_type": "error",
     "traceback": [
      "\u001b[0;31m---------------------------------------------------------------------------\u001b[0m",
      "\u001b[0;31mKeyError\u001b[0m                                  Traceback (most recent call last)",
      "\u001b[0;32m~/anaconda3/lib/python3.7/site-packages/pandas/core/indexes/base.py\u001b[0m in \u001b[0;36mget_loc\u001b[0;34m(self, key, method, tolerance)\u001b[0m\n\u001b[1;32m   3077\u001b[0m             \u001b[0;32mtry\u001b[0m\u001b[0;34m:\u001b[0m\u001b[0;34m\u001b[0m\u001b[0;34m\u001b[0m\u001b[0m\n\u001b[0;32m-> 3078\u001b[0;31m                 \u001b[0;32mreturn\u001b[0m \u001b[0mself\u001b[0m\u001b[0;34m.\u001b[0m\u001b[0m_engine\u001b[0m\u001b[0;34m.\u001b[0m\u001b[0mget_loc\u001b[0m\u001b[0;34m(\u001b[0m\u001b[0mkey\u001b[0m\u001b[0;34m)\u001b[0m\u001b[0;34m\u001b[0m\u001b[0;34m\u001b[0m\u001b[0m\n\u001b[0m\u001b[1;32m   3079\u001b[0m             \u001b[0;32mexcept\u001b[0m \u001b[0mKeyError\u001b[0m\u001b[0;34m:\u001b[0m\u001b[0;34m\u001b[0m\u001b[0;34m\u001b[0m\u001b[0m\n",
      "\u001b[0;32mpandas/_libs/index.pyx\u001b[0m in \u001b[0;36mpandas._libs.index.IndexEngine.get_loc\u001b[0;34m()\u001b[0m\n",
      "\u001b[0;32mpandas/_libs/index.pyx\u001b[0m in \u001b[0;36mpandas._libs.index.IndexEngine.get_loc\u001b[0;34m()\u001b[0m\n",
      "\u001b[0;32mpandas/_libs/hashtable_class_helper.pxi\u001b[0m in \u001b[0;36mpandas._libs.hashtable.PyObjectHashTable.get_item\u001b[0;34m()\u001b[0m\n",
      "\u001b[0;32mpandas/_libs/hashtable_class_helper.pxi\u001b[0m in \u001b[0;36mpandas._libs.hashtable.PyObjectHashTable.get_item\u001b[0;34m()\u001b[0m\n",
      "\u001b[0;31mKeyError\u001b[0m: 'pidn'",
      "\nDuring handling of the above exception, another exception occurred:\n",
      "\u001b[0;31mKeyError\u001b[0m                                  Traceback (most recent call last)",
      "\u001b[0;32m<ipython-input-18-d12bfc515ffe>\u001b[0m in \u001b[0;36m<module>\u001b[0;34m\u001b[0m\n\u001b[0;32m----> 1\u001b[0;31m \u001b[0mprint\u001b[0m\u001b[0;34m(\u001b[0m\u001b[0mall_data\u001b[0m\u001b[0;34m[\u001b[0m\u001b[0mall_data\u001b[0m\u001b[0;34m[\u001b[0m\u001b[0;34m'pidn'\u001b[0m\u001b[0;34m]\u001b[0m\u001b[0;34m==\u001b[0m\u001b[0;36m1105\u001b[0m\u001b[0;34m]\u001b[0m\u001b[0;34m)\u001b[0m\u001b[0;34m\u001b[0m\u001b[0;34m\u001b[0m\u001b[0m\n\u001b[0m",
      "\u001b[0;32m~/anaconda3/lib/python3.7/site-packages/pandas/core/frame.py\u001b[0m in \u001b[0;36m__getitem__\u001b[0;34m(self, key)\u001b[0m\n\u001b[1;32m   2686\u001b[0m             \u001b[0;32mreturn\u001b[0m \u001b[0mself\u001b[0m\u001b[0;34m.\u001b[0m\u001b[0m_getitem_multilevel\u001b[0m\u001b[0;34m(\u001b[0m\u001b[0mkey\u001b[0m\u001b[0;34m)\u001b[0m\u001b[0;34m\u001b[0m\u001b[0;34m\u001b[0m\u001b[0m\n\u001b[1;32m   2687\u001b[0m         \u001b[0;32melse\u001b[0m\u001b[0;34m:\u001b[0m\u001b[0;34m\u001b[0m\u001b[0;34m\u001b[0m\u001b[0m\n\u001b[0;32m-> 2688\u001b[0;31m             \u001b[0;32mreturn\u001b[0m \u001b[0mself\u001b[0m\u001b[0;34m.\u001b[0m\u001b[0m_getitem_column\u001b[0m\u001b[0;34m(\u001b[0m\u001b[0mkey\u001b[0m\u001b[0;34m)\u001b[0m\u001b[0;34m\u001b[0m\u001b[0;34m\u001b[0m\u001b[0m\n\u001b[0m\u001b[1;32m   2689\u001b[0m \u001b[0;34m\u001b[0m\u001b[0m\n\u001b[1;32m   2690\u001b[0m     \u001b[0;32mdef\u001b[0m \u001b[0m_getitem_column\u001b[0m\u001b[0;34m(\u001b[0m\u001b[0mself\u001b[0m\u001b[0;34m,\u001b[0m \u001b[0mkey\u001b[0m\u001b[0;34m)\u001b[0m\u001b[0;34m:\u001b[0m\u001b[0;34m\u001b[0m\u001b[0;34m\u001b[0m\u001b[0m\n",
      "\u001b[0;32m~/anaconda3/lib/python3.7/site-packages/pandas/core/frame.py\u001b[0m in \u001b[0;36m_getitem_column\u001b[0;34m(self, key)\u001b[0m\n\u001b[1;32m   2693\u001b[0m         \u001b[0;31m# get column\u001b[0m\u001b[0;34m\u001b[0m\u001b[0;34m\u001b[0m\u001b[0;34m\u001b[0m\u001b[0m\n\u001b[1;32m   2694\u001b[0m         \u001b[0;32mif\u001b[0m \u001b[0mself\u001b[0m\u001b[0;34m.\u001b[0m\u001b[0mcolumns\u001b[0m\u001b[0;34m.\u001b[0m\u001b[0mis_unique\u001b[0m\u001b[0;34m:\u001b[0m\u001b[0;34m\u001b[0m\u001b[0;34m\u001b[0m\u001b[0m\n\u001b[0;32m-> 2695\u001b[0;31m             \u001b[0;32mreturn\u001b[0m \u001b[0mself\u001b[0m\u001b[0;34m.\u001b[0m\u001b[0m_get_item_cache\u001b[0m\u001b[0;34m(\u001b[0m\u001b[0mkey\u001b[0m\u001b[0;34m)\u001b[0m\u001b[0;34m\u001b[0m\u001b[0;34m\u001b[0m\u001b[0m\n\u001b[0m\u001b[1;32m   2696\u001b[0m \u001b[0;34m\u001b[0m\u001b[0m\n\u001b[1;32m   2697\u001b[0m         \u001b[0;31m# duplicate columns & possible reduce dimensionality\u001b[0m\u001b[0;34m\u001b[0m\u001b[0;34m\u001b[0m\u001b[0;34m\u001b[0m\u001b[0m\n",
      "\u001b[0;32m~/anaconda3/lib/python3.7/site-packages/pandas/core/generic.py\u001b[0m in \u001b[0;36m_get_item_cache\u001b[0;34m(self, item)\u001b[0m\n\u001b[1;32m   2487\u001b[0m         \u001b[0mres\u001b[0m \u001b[0;34m=\u001b[0m \u001b[0mcache\u001b[0m\u001b[0;34m.\u001b[0m\u001b[0mget\u001b[0m\u001b[0;34m(\u001b[0m\u001b[0mitem\u001b[0m\u001b[0;34m)\u001b[0m\u001b[0;34m\u001b[0m\u001b[0;34m\u001b[0m\u001b[0m\n\u001b[1;32m   2488\u001b[0m         \u001b[0;32mif\u001b[0m \u001b[0mres\u001b[0m \u001b[0;32mis\u001b[0m \u001b[0;32mNone\u001b[0m\u001b[0;34m:\u001b[0m\u001b[0;34m\u001b[0m\u001b[0;34m\u001b[0m\u001b[0m\n\u001b[0;32m-> 2489\u001b[0;31m             \u001b[0mvalues\u001b[0m \u001b[0;34m=\u001b[0m \u001b[0mself\u001b[0m\u001b[0;34m.\u001b[0m\u001b[0m_data\u001b[0m\u001b[0;34m.\u001b[0m\u001b[0mget\u001b[0m\u001b[0;34m(\u001b[0m\u001b[0mitem\u001b[0m\u001b[0;34m)\u001b[0m\u001b[0;34m\u001b[0m\u001b[0;34m\u001b[0m\u001b[0m\n\u001b[0m\u001b[1;32m   2490\u001b[0m             \u001b[0mres\u001b[0m \u001b[0;34m=\u001b[0m \u001b[0mself\u001b[0m\u001b[0;34m.\u001b[0m\u001b[0m_box_item_values\u001b[0m\u001b[0;34m(\u001b[0m\u001b[0mitem\u001b[0m\u001b[0;34m,\u001b[0m \u001b[0mvalues\u001b[0m\u001b[0;34m)\u001b[0m\u001b[0;34m\u001b[0m\u001b[0;34m\u001b[0m\u001b[0m\n\u001b[1;32m   2491\u001b[0m             \u001b[0mcache\u001b[0m\u001b[0;34m[\u001b[0m\u001b[0mitem\u001b[0m\u001b[0;34m]\u001b[0m \u001b[0;34m=\u001b[0m \u001b[0mres\u001b[0m\u001b[0;34m\u001b[0m\u001b[0;34m\u001b[0m\u001b[0m\n",
      "\u001b[0;32m~/anaconda3/lib/python3.7/site-packages/pandas/core/internals.py\u001b[0m in \u001b[0;36mget\u001b[0;34m(self, item, fastpath)\u001b[0m\n\u001b[1;32m   4113\u001b[0m \u001b[0;34m\u001b[0m\u001b[0m\n\u001b[1;32m   4114\u001b[0m             \u001b[0;32mif\u001b[0m \u001b[0;32mnot\u001b[0m \u001b[0misna\u001b[0m\u001b[0;34m(\u001b[0m\u001b[0mitem\u001b[0m\u001b[0;34m)\u001b[0m\u001b[0;34m:\u001b[0m\u001b[0;34m\u001b[0m\u001b[0;34m\u001b[0m\u001b[0m\n\u001b[0;32m-> 4115\u001b[0;31m                 \u001b[0mloc\u001b[0m \u001b[0;34m=\u001b[0m \u001b[0mself\u001b[0m\u001b[0;34m.\u001b[0m\u001b[0mitems\u001b[0m\u001b[0;34m.\u001b[0m\u001b[0mget_loc\u001b[0m\u001b[0;34m(\u001b[0m\u001b[0mitem\u001b[0m\u001b[0;34m)\u001b[0m\u001b[0;34m\u001b[0m\u001b[0;34m\u001b[0m\u001b[0m\n\u001b[0m\u001b[1;32m   4116\u001b[0m             \u001b[0;32melse\u001b[0m\u001b[0;34m:\u001b[0m\u001b[0;34m\u001b[0m\u001b[0;34m\u001b[0m\u001b[0m\n\u001b[1;32m   4117\u001b[0m                 \u001b[0mindexer\u001b[0m \u001b[0;34m=\u001b[0m \u001b[0mnp\u001b[0m\u001b[0;34m.\u001b[0m\u001b[0marange\u001b[0m\u001b[0;34m(\u001b[0m\u001b[0mlen\u001b[0m\u001b[0;34m(\u001b[0m\u001b[0mself\u001b[0m\u001b[0;34m.\u001b[0m\u001b[0mitems\u001b[0m\u001b[0;34m)\u001b[0m\u001b[0;34m)\u001b[0m\u001b[0;34m[\u001b[0m\u001b[0misna\u001b[0m\u001b[0;34m(\u001b[0m\u001b[0mself\u001b[0m\u001b[0;34m.\u001b[0m\u001b[0mitems\u001b[0m\u001b[0;34m)\u001b[0m\u001b[0;34m]\u001b[0m\u001b[0;34m\u001b[0m\u001b[0;34m\u001b[0m\u001b[0m\n",
      "\u001b[0;32m~/anaconda3/lib/python3.7/site-packages/pandas/core/indexes/base.py\u001b[0m in \u001b[0;36mget_loc\u001b[0;34m(self, key, method, tolerance)\u001b[0m\n\u001b[1;32m   3078\u001b[0m                 \u001b[0;32mreturn\u001b[0m \u001b[0mself\u001b[0m\u001b[0;34m.\u001b[0m\u001b[0m_engine\u001b[0m\u001b[0;34m.\u001b[0m\u001b[0mget_loc\u001b[0m\u001b[0;34m(\u001b[0m\u001b[0mkey\u001b[0m\u001b[0;34m)\u001b[0m\u001b[0;34m\u001b[0m\u001b[0;34m\u001b[0m\u001b[0m\n\u001b[1;32m   3079\u001b[0m             \u001b[0;32mexcept\u001b[0m \u001b[0mKeyError\u001b[0m\u001b[0;34m:\u001b[0m\u001b[0;34m\u001b[0m\u001b[0;34m\u001b[0m\u001b[0m\n\u001b[0;32m-> 3080\u001b[0;31m                 \u001b[0;32mreturn\u001b[0m \u001b[0mself\u001b[0m\u001b[0;34m.\u001b[0m\u001b[0m_engine\u001b[0m\u001b[0;34m.\u001b[0m\u001b[0mget_loc\u001b[0m\u001b[0;34m(\u001b[0m\u001b[0mself\u001b[0m\u001b[0;34m.\u001b[0m\u001b[0m_maybe_cast_indexer\u001b[0m\u001b[0;34m(\u001b[0m\u001b[0mkey\u001b[0m\u001b[0;34m)\u001b[0m\u001b[0;34m)\u001b[0m\u001b[0;34m\u001b[0m\u001b[0;34m\u001b[0m\u001b[0m\n\u001b[0m\u001b[1;32m   3081\u001b[0m \u001b[0;34m\u001b[0m\u001b[0m\n\u001b[1;32m   3082\u001b[0m         \u001b[0mindexer\u001b[0m \u001b[0;34m=\u001b[0m \u001b[0mself\u001b[0m\u001b[0;34m.\u001b[0m\u001b[0mget_indexer\u001b[0m\u001b[0;34m(\u001b[0m\u001b[0;34m[\u001b[0m\u001b[0mkey\u001b[0m\u001b[0;34m]\u001b[0m\u001b[0;34m,\u001b[0m \u001b[0mmethod\u001b[0m\u001b[0;34m=\u001b[0m\u001b[0mmethod\u001b[0m\u001b[0;34m,\u001b[0m \u001b[0mtolerance\u001b[0m\u001b[0;34m=\u001b[0m\u001b[0mtolerance\u001b[0m\u001b[0;34m)\u001b[0m\u001b[0;34m\u001b[0m\u001b[0;34m\u001b[0m\u001b[0m\n",
      "\u001b[0;32mpandas/_libs/index.pyx\u001b[0m in \u001b[0;36mpandas._libs.index.IndexEngine.get_loc\u001b[0;34m()\u001b[0m\n",
      "\u001b[0;32mpandas/_libs/index.pyx\u001b[0m in \u001b[0;36mpandas._libs.index.IndexEngine.get_loc\u001b[0;34m()\u001b[0m\n",
      "\u001b[0;32mpandas/_libs/hashtable_class_helper.pxi\u001b[0m in \u001b[0;36mpandas._libs.hashtable.PyObjectHashTable.get_item\u001b[0;34m()\u001b[0m\n",
      "\u001b[0;32mpandas/_libs/hashtable_class_helper.pxi\u001b[0m in \u001b[0;36mpandas._libs.hashtable.PyObjectHashTable.get_item\u001b[0;34m()\u001b[0m\n",
      "\u001b[0;31mKeyError\u001b[0m: 'pidn'"
     ]
    }
   ],
   "source": [
    "print(all_data[all_data['pidn']==1105])"
   ]
  },
  {
   "cell_type": "code",
   "execution_count": null,
   "metadata": {},
   "outputs": [],
   "source": [
    "all_data.to_csv('/Users/madisonhunt/Desktop/mst_data.csv', index=False)"
   ]
  },
  {
   "cell_type": "code",
   "execution_count": null,
   "metadata": {},
   "outputs": [],
   "source": [
    "len(all_data)"
   ]
  },
  {
   "cell_type": "code",
   "execution_count": null,
   "metadata": {},
   "outputs": [],
   "source": [
    "has_data"
   ]
  },
  {
   "cell_type": "code",
   "execution_count": null,
   "metadata": {},
   "outputs": [],
   "source": [
    "missing"
   ]
  },
  {
   "cell_type": "code",
   "execution_count": null,
   "metadata": {},
   "outputs": [],
   "source": [
    "has_data+missing"
   ]
  },
  {
   "cell_type": "code",
   "execution_count": null,
   "metadata": {
    "scrolled": true
   },
   "outputs": [],
   "source": [
    "all_data.head()"
   ]
  },
  {
   "cell_type": "code",
   "execution_count": null,
   "metadata": {},
   "outputs": [],
   "source": [
    "all_data.columns.values"
   ]
  },
  {
   "cell_type": "code",
   "execution_count": null,
   "metadata": {},
   "outputs": [],
   "source": [
    "from scipy import stats \n",
    "stats.ttest_rel(all_data['num_nr_t'], all_data['num_nr_l'], axis=0, nan_policy='propagate')"
   ]
  },
  {
   "cell_type": "code",
   "execution_count": null,
   "metadata": {},
   "outputs": [],
   "source": [
    "stats.ttest_rel(all_data['num_nr_t'], all_data['num_nr_f'], axis=0, nan_policy='propagate')"
   ]
  },
  {
   "cell_type": "code",
   "execution_count": null,
   "metadata": {},
   "outputs": [],
   "source": [
    "stats.ttest_rel(all_data['num_nr_l'], all_data['num_nr_f'], axis=0, nan_policy='propagate')"
   ]
  },
  {
   "cell_type": "code",
   "execution_count": null,
   "metadata": {},
   "outputs": [],
   "source": [
    "anov_data = pd.DataFrame()\n",
    "\n",
    "data_temp=all_data.copy()\n",
    "data_temp['TrialType'] = 'Target'\n",
    "data_temp['Pr_NR'] = (data_temp['num_nr_t']/64)\n",
    "\n",
    "anov_data = data_temp\n",
    "\n",
    "\n"
   ]
  },
  {
   "cell_type": "code",
   "execution_count": null,
   "metadata": {},
   "outputs": [],
   "source": [
    "\n",
    "x= all_data[['age', 'education']]\n",
    "y=all_data['bps']\n",
    "regr=linear_model.LinearRegression()\n",
    "regr.fit(x,y)\n",
    "print('Intercept: ', regr.intercept_)\n",
    "print('Coefficients: ', regr.coef_)"
   ]
  },
  {
   "cell_type": "code",
   "execution_count": null,
   "metadata": {},
   "outputs": [],
   "source": [
    "max(all_data['dprime_old_lure'])"
   ]
  },
  {
   "cell_type": "code",
   "execution_count": 18,
   "metadata": {},
   "outputs": [],
   "source": [
    "data_long=pd.DataFrame()\n",
    "row=0\n",
    "missing=0\n",
    "n_stim_per=64\n",
    "study_len = n_stim_per*2\n",
    "test_len = n_stim_per*3\n",
    "demo_data = pd.read_csv('/Users/madisonhunt/Desktop/Oak/stark_task/stark_demographics.csv')\n",
    "pidn_list = demo_data['pidn']\n",
    "for pidn in pidn_list:\n",
    "    if pidn != 999 and pidn !=685:\n",
    "        if pidn < 685:\n",
    "            filename = '/Users/madisonhunt/Desktop/Oak/stark_task/Data/BPSOlog_0{}.txt'.format(pidn)\n",
    "           \n",
    "        if pidn > 685:\n",
    "            if pidn < 1000:\n",
    "#         elif pidn > 685 and pidn <1000:\n",
    "                filename = '/Users/madisonhunt/Desktop/Oak/stark_task/Data/MSTlog_0{}.txt'.format(pidn)\n",
    "                \n",
    "            else:\n",
    "                filename = '/Users/madisonhunt/Desktop/Oak/stark_task/Data/MSTlog_{}.txt'.format(pidn)\n",
    "                \n",
    "\n",
    "        if exists(filename):\n",
    "\n",
    "            s_starts, t_starts = findlines(filename)\n",
    "            if len(s_starts) & len(t_starts):\n",
    "                study_starts = s_starts[-1]\n",
    "                test_starts = t_starts[-1]\n",
    "                pt_data =  pd.read_csv(filename, delimiter=\"\\t\", skiprows= test_starts, nrows=test_len, header = 0)     \n",
    "\n",
    "                pt_data['pidn'] = pidn\n",
    "                \n",
    "                data_long = data_long.append(pt_data,ignore_index=True)\n",
    "            "
   ]
  },
  {
   "cell_type": "code",
   "execution_count": 19,
   "metadata": {},
   "outputs": [],
   "source": [
    "data_long.loc[data_long['Resp']==1,'Resp'] = 'Old'\n",
    "data_long.loc[data_long['Resp']==2,'Resp'] = 'Similar'\n",
    "data_long.loc[data_long['Resp']==3,'Resp'] = 'New'\n",
    "data_long.loc[data_long['Resp']==0,'Resp'] = 'No Resp'\n",
    "\n",
    "data_long.loc[data_long['Cond'] == 'T', 'Cond'] = 'Target'\n",
    "data_long.loc[data_long['Cond'] == 'L', 'Cond'] = 'Lure'\n",
    "data_long.loc[data_long['Cond'] == 'F', 'Cond'] = 'Foil'\n",
    "\n",
    "data_long.loc[data_long['Acc'] ==1, 'Acc'] = 'Correct'\n",
    "data_long.loc[data_long['Acc'] == 0, 'Acc'] ='Incorrect'\n",
    "\n",
    "\n"
   ]
  },
  {
   "cell_type": "code",
   "execution_count": null,
   "metadata": {},
   "outputs": [],
   "source": [
    "data_adj = pd.DataFrame()\n",
    "row=0\n",
    "row1=0\n",
    "for n in pd.unique(data_long['pidn']):\n",
    "    \n",
    "    data_adj.loc[row1, 'pidn'] = n\n",
    "    data_adj.loc[row1, 'Cond'] ='Target'\n",
    "    data_adj.loc[row1, 'nr'] = len(data_long[(data_long['pidn'] == n) & (data_long['RT'] == 0) &(data_long['Cond']=='Target')])\n",
    "    data_adj.loc[row1, 'trials'] = len(data_long[(data_long['pidn'] == n) & (data_long['RT'] > 400) & (data_long['Cond'] =='Target')])\n",
    "    data_adj.loc[row1, 'correct'] = len((data_long[(data_long['pidn'] == n) & (data_long['RT'] > 400) & (data_long['Cond'] =='Target') & (data_long['Resp'] == 'Old')]))/(data_adj.loc[row1, 'trials'])\n",
    "   \n",
    "    data_adj.loc[row1+1, 'pidn'] = n\n",
    "    data_adj.loc[row1+1, 'Cond'] ='Lure'\n",
    "    data_adj.loc[row1+1, 'nr'] = len(data_long[(data_long['pidn'] == n) & (data_long['RT'] == 0) &(data_long['Cond']=='Lure')])\n",
    "    data_adj.loc[row1+1, 'trials'] = len(data_long[(data_long['pidn'] == n) & (data_long['RT'] > 400) & (data_long['Cond'] =='Lure')])\n",
    "    data_adj.loc[row1+1, 'correct'] = len((data_long[(data_long['pidn'] == n) & (data_long['RT'] > 400) & (data_long['Cond'] =='Lure') & (data_long['Resp'] == 'Similar')]))/(data_adj.loc[row1+1, 'trials'])\n",
    "    \n",
    "    data_adj.loc[row1+2, 'pidn'] = n\n",
    "    data_adj.loc[row1+2, 'Cond'] ='Foil'\n",
    "    data_adj.loc[row1+2, 'nr'] = len(data_long[(data_long['pidn'] == n) & (data_long['RT'] == 0) &(data_long['Cond']=='Foil')])\n",
    "    data_adj.loc[row1+2, 'trials'] = len(data_long[(data_long['pidn'] == n) & (data_long['RT'] > 400) & (data_long['Cond'] =='Foil')])\n",
    "    data_adj.loc[row1+2, 'correct'] = len((data_long[(data_long['pidn'] == n) & (data_long['RT'] > 400) & (data_long['Cond'] =='Foil') & (data_long['Resp'] == 'New')]))/(data_adj.loc[row1+2, 'trials'])\n",
    "    \n",
    "    \n",
    "    row1+=3\n",
    "print(data_adj)"
   ]
  },
  {
   "cell_type": "code",
   "execution_count": null,
   "metadata": {},
   "outputs": [],
   "source": [
    "sns.lmplot(x='nr', y ='correct', hue='Cond', data=data_adj)"
   ]
  },
  {
   "cell_type": "code",
   "execution_count": null,
   "metadata": {},
   "outputs": [],
   "source": [
    "pearsonr(x=data_adj[data_adj['Cond']=='Foil']['nr'], y =data_adj[data_adj['Cond']=='Foil']['correct'] )"
   ]
  },
  {
   "cell_type": "code",
   "execution_count": null,
   "metadata": {},
   "outputs": [],
   "source": [
    "print(data_adj_wide[data_adj_wide['pidn']==1045])"
   ]
  },
  {
   "cell_type": "code",
   "execution_count": null,
   "metadata": {},
   "outputs": [],
   "source": [
    "data_adj_wide = pd.DataFrame()\n",
    "row=0\n",
    "\n",
    "for n in pd.unique(data_adj['pidn']):\n",
    "    data_adj_wide.loc[row, 'pidn'] = n\n",
    "    data_adj_wide.loc[row, 't_trials'] = data_adj.loc[row, 'trials']\n",
    "    data_adj_wide.loc[row, 'l_trials'] = data_adj.loc[row+1, 'trials']\n",
    "    data_adj_wide.loc[row, 'f_trials'] = data_adj.loc[row+2,'trials']\n",
    "    row+=3\n",
    "    \n",
    "print(data_adj_wide)"
   ]
  },
  {
   "cell_type": "code",
   "execution_count": null,
   "metadata": {},
   "outputs": [],
   "source": [
    "\n",
    "print(len(data_adj_wide[(data_adj_wide['t_trials'] > 48) & (data_adj_wide['l_trials'] > 48)& (data_adj_wide['f_trials'] > 48)]['pidn']))\n"
   ]
  },
  {
   "cell_type": "code",
   "execution_count": null,
   "metadata": {},
   "outputs": [],
   "source": [
    "lure_data_adj = pd.DataFrame()\n",
    "row=0\n",
    "for n in pd.unique(data_long['pidn']):\n",
    "    lure_data_adj.loc[row, 'pidn'] = n\n",
    "    lure_data_adj.loc[row, 'nr'] = len(data_long[(data_long['pidn'] == n) & (data_long['RT'] == 0) &(data_long['Cond']=='Lure')])\n",
    "    lure_data_adj.loc[row, 'RT'] = data_long.loc[(data_long['pidn'] == n)&(data_long['Cond']=='Lure')&(data_long['RT']>400),'RT'].median()\n",
    "    lure_data_adj.loc[row, 'trials'] = len(data_long[(data_long['pidn'] == n) & (data_long['RT'] > 400) & (data_long['Cond'] =='Lure') & (data_long['Resp'] != 'Old')])\n",
    "    lure_data_adj.loc[row, 'correct'] = len((data_long[(data_long['pidn'] == n) & (data_long['RT'] > 400) & (data_long['Cond'] =='Lure') & (data_long['Resp'] == 'Similar')]))/(lure_data_adj.loc[row, 'trials'])\n",
    "    row+=1\n",
    "    "
   ]
  },
  {
   "cell_type": "code",
   "execution_count": null,
   "metadata": {},
   "outputs": [],
   "source": [
    "g = sns.lmplot(x='RT', y='correct', data=lure_data_adj)"
   ]
  },
  {
   "cell_type": "code",
   "execution_count": null,
   "metadata": {},
   "outputs": [],
   "source": [
    "pearsonr(x=lure_data_adj['RT'], y=lure_data_adj['correct'])"
   ]
  },
  {
   "cell_type": "code",
   "execution_count": 20,
   "metadata": {},
   "outputs": [
    {
     "name": "stderr",
     "output_type": "stream",
     "text": [
      "/Users/madisonhunt/anaconda3/lib/python3.7/site-packages/pandas/core/indexing.py:362: SettingWithCopyWarning: \n",
      "A value is trying to be set on a copy of a slice from a DataFrame.\n",
      "Try using .loc[row_indexer,col_indexer] = value instead\n",
      "\n",
      "See the caveats in the documentation: http://pandas.pydata.org/pandas-docs/stable/indexing.html#indexing-view-versus-copy\n",
      "  self.obj[key] = _infer_fill_value(value)\n",
      "/Users/madisonhunt/anaconda3/lib/python3.7/site-packages/pandas/core/indexing.py:543: SettingWithCopyWarning: \n",
      "A value is trying to be set on a copy of a slice from a DataFrame.\n",
      "Try using .loc[row_indexer,col_indexer] = value instead\n",
      "\n",
      "See the caveats in the documentation: http://pandas.pydata.org/pandas-docs/stable/indexing.html#indexing-view-versus-copy\n",
      "  self.obj[item] = s\n"
     ]
    }
   ],
   "source": [
    "# used the summary df you sent me\n",
    "mst_data = pd.read_csv('/Users/madisonhunt/Desktop/mst_data.csv') \n",
    "\n",
    "# exclude by old/new d'\n",
    "mst_clean = mst_data[mst_data['dprime_old_new']>.5]\n",
    "len(mst_clean) # 3 fewer subjects\n",
    "\n",
    "#confirmed now absent\n",
    "\n",
    "# create factor variable reflecting nr status for a given person\n",
    "\n",
    "\n",
    "mst_clean.loc[mst_clean['prop_nr']>=.20, 'nr_group'] = 'nr_.20'\n",
    "mst_clean.loc[(mst_clean['prop_nr']>=.15)&(mst_clean['prop_nr']<.20), 'nr_group'] = 'nr_.15'\n",
    "mst_clean.loc[(mst_clean['prop_nr']>=.10)&(mst_clean['prop_nr']<.15), 'nr_group'] = 'nr_.10'\n",
    "mst_clean.loc[(mst_clean['prop_nr']>=.05)&(mst_clean['prop_nr']<.10), 'nr_group'] = 'nr_.05'\n",
    "mst_clean.loc[(mst_clean['prop_nr']<.05), 'nr_group'] = 'nr_low'\n",
    "\n",
    "# plot the data with nr group in different colours, but plot the regression line over the full dataset\n",
    "\n",
    "\n"
   ]
  },
  {
   "cell_type": "code",
   "execution_count": null,
   "metadata": {},
   "outputs": [],
   "source": [
    "print(mst_data[mst_data['prop_nr'] >.20]['pidn'])"
   ]
  },
  {
   "cell_type": "code",
   "execution_count": null,
   "metadata": {},
   "outputs": [],
   "source": [
    "print(np_data[np_data['pidn']== 617])"
   ]
  },
  {
   "cell_type": "code",
   "execution_count": null,
   "metadata": {},
   "outputs": [],
   "source": [
    "g=sns.lmplot(x='age', y='dprime_old_new', hue='nr_group', data=mst_clean, fit_reg= False, hue_order = ['nr_low', 'nr_.05','nr_.10', 'nr_.15', 'nr_.20'])\n",
    "sns.regplot(x=\"age\", y=\"dprime_old_new\", data=mst_clean, scatter=False, ax=g.axes[0, 0])"
   ]
  },
  {
   "cell_type": "code",
   "execution_count": null,
   "metadata": {},
   "outputs": [],
   "source": [
    "g=sns.lmplot(x='education', y='dprime_old_new', hue='nr_group', data=mst_clean, fit_reg= False, hue_order = ['nr_low', 'nr_.05','nr_.10', 'nr_.15', 'nr_.20'])\n",
    "sns.regplot(x=\"education\", y=\"dprime_old_new\", data=mst_clean, scatter=False, ax=g.axes[0, 0])"
   ]
  },
  {
   "cell_type": "code",
   "execution_count": null,
   "metadata": {},
   "outputs": [],
   "source": [
    "g=sns.lmplot(x='age', y='dprime_old_lure', hue='nr_group', data=mst_clean, fit_reg= False, hue_order = ['nr_low', 'nr_.05','nr_.10', 'nr_.15', 'nr_.20'])\n",
    "sns.regplot(x=\"age\", y=\"dprime_old_lure\", data=mst_clean, scatter=False, ax=g.axes[0, 0])"
   ]
  },
  {
   "cell_type": "code",
   "execution_count": null,
   "metadata": {},
   "outputs": [],
   "source": [
    "g=sns.lmplot(x='education', y='dprime_old_lure', hue='nr_group', data=mst_clean, fit_reg= False, hue_order = ['nr_low', 'nr_.05','nr_.10', 'nr_.15', 'nr_.20'])\n",
    "sns.regplot(x=\"education\", y=\"dprime_old_lure\", data=mst_clean, scatter=False, ax=g.axes[0, 0])"
   ]
  },
  {
   "cell_type": "code",
   "execution_count": null,
   "metadata": {},
   "outputs": [],
   "source": [
    "g=sns.lmplot(x='age', y='dprime_bps', hue='nr_group', data=mst_clean, fit_reg= False, hue_order = ['nr_low', 'nr_.05','nr_.10', 'nr_.15', 'nr_.20'])\n",
    "sns.regplot(x=\"age\", y=\"dprime_bps\", data=mst_clean, scatter=False, ax=g.axes[0, 0])"
   ]
  },
  {
   "cell_type": "code",
   "execution_count": null,
   "metadata": {},
   "outputs": [],
   "source": [
    "g=sns.lmplot(x='education', y='dprime_bps', hue='nr_group', data=mst_clean, fit_reg= False, hue_order = ['nr_low', 'nr_.05','nr_.10', 'nr_.15', 'nr_.20'])\n",
    "sns.regplot(x=\"education\", y=\"dprime_bps\", data=mst_clean, scatter=False, ax=g.axes[0, 0])"
   ]
  },
  {
   "cell_type": "code",
   "execution_count": null,
   "metadata": {},
   "outputs": [],
   "source": []
  },
  {
   "cell_type": "code",
   "execution_count": null,
   "metadata": {},
   "outputs": [],
   "source": [
    "g=sns.lmplot(x=\"dprime_old_new\",y=\"dprime_old_lure\",hue=\"nr_group\",data=mst_clean,fit_reg=False, hue_order = ['nr_low', 'nr_.05','nr_.10', 'nr_.15', 'nr_.20'])\n",
    "sns.regplot(x=\"dprime_old_new\", y=\"dprime_old_lure\", data=mst_clean, scatter=False, ax=g.axes[0, 0])"
   ]
  },
  {
   "cell_type": "code",
   "execution_count": null,
   "metadata": {
    "scrolled": true
   },
   "outputs": [],
   "source": [
    "g=sns.lmplot(x=\"dprime_old_new\",y=\"dprime_old_lure\",hue=\"nr_group\",data=mst_clean[mst_clean['nr_group']!='nr_.20'],fit_reg=False, hue_order = ['nr_low', 'nr_.05','nr_.10', 'nr_.15'])\n",
    "sns.regplot(x=\"dprime_old_new\", y=\"dprime_old_lure\", data=mst_clean[mst_clean['nr_group']!='nr_.20'], scatter=False, ax=g.axes[0, 0])"
   ]
  },
  {
   "cell_type": "code",
   "execution_count": null,
   "metadata": {},
   "outputs": [],
   "source": [
    "pearsonr(x=mst_clean[mst_clean['nr_group']!='nr_.20']['dprime_bps'], y =mst_clean[mst_clean['nr_group']!='nr_.20']['dprime_old_lure'] )"
   ]
  },
  {
   "cell_type": "code",
   "execution_count": null,
   "metadata": {},
   "outputs": [],
   "source": [
    "g=sns.lmplot(x=\"dprime_old_new\",y=\"dprime_old_lure\",hue=\"nr_group\",data=mst_clean[(mst_clean['nr_group']!='nr_.20') & (mst_clean['nr_group']!='nr_.15')],fit_reg=False, hue_order = ['nr_low', 'nr_.05','nr_.10'])\n",
    "sns.regplot(x=\"dprime_old_new\", y=\"dprime_old_lure\", data=mst_clean[(mst_clean['nr_group']!='nr_.20') & (mst_clean['nr_group']!='nr_.15')], scatter=False, ax=g.axes[0, 0])"
   ]
  },
  {
   "cell_type": "code",
   "execution_count": null,
   "metadata": {},
   "outputs": [],
   "source": [
    "pearsonr(x=mst_clean['dprime_old_new'], y = mst_clean['dprime_bps'])\n"
   ]
  },
  {
   "cell_type": "code",
   "execution_count": null,
   "metadata": {},
   "outputs": [],
   "source": [
    "g=sns.lmplot(x=\"dprime_old_new\",y=\"dprime_old_lure\",hue=\"nr_group\",data=mst_clean[(mst_clean['nr_group']!='nr_.20') & (mst_clean['nr_group']!='nr_.15') & (mst_clean['nr_group']!='nr_.10')],fit_reg=False, hue_order = ['nr_low', 'nr_.05'])\n",
    "sns.regplot(x=\"dprime_old_new\", y=\"dprime_old_lure\", data=mst_clean[(mst_clean['nr_group']!='nr_.20') & (mst_clean['nr_group']!='nr_.15') & (mst_clean['nr_group']!='nr_.10')], scatter=False, ax=g.axes[0, 0])"
   ]
  },
  {
   "cell_type": "code",
   "execution_count": null,
   "metadata": {
    "scrolled": false
   },
   "outputs": [],
   "source": [
    "g=sns.lmplot(x=\"dprime_old_new\",y=\"dprime_bps\",hue=\"nr_group\",data=mst_clean,fit_reg=False, hue_order = ['nr_low', 'nr_.05','nr_.10', 'nr_.15', 'nr_.20'])\n",
    "sns.regplot(x=\"dprime_old_new\", y=\"dprime_bps\", data=mst_clean, scatter=False, ax=g.axes[0, 0])"
   ]
  },
  {
   "cell_type": "code",
   "execution_count": null,
   "metadata": {
    "scrolled": true
   },
   "outputs": [],
   "source": [
    "g=sns.lmplot(x=\"dprime_old_new\",y=\"dprime_bps\",hue=\"nr_group\",data=mst_clean[mst_clean['nr_group']!='nr_.20'],fit_reg=False, hue_order = ['nr_low', 'nr_.05','nr_.10', 'nr_.15'])\n",
    "sns.regplot(x=\"dprime_old_new\", y=\"dprime_bps\", data=mst_clean[mst_clean['nr_group']!='nr_.20'], scatter=False, ax=g.axes[0, 0])"
   ]
  },
  {
   "cell_type": "code",
   "execution_count": null,
   "metadata": {},
   "outputs": [],
   "source": [
    "g=sns.lmplot(x=\"dprime_old_new\",y=\"dprime_bps\",hue=\"nr_group\",data=mst_clean[(mst_clean['nr_group']!='nr_.20') & (mst_clean['nr_group']!='nr_.15')],fit_reg=False, hue_order = ['nr_low', 'nr_.05','nr_.10'])\n",
    "sns.regplot(x=\"dprime_old_new\", y=\"dprime_bps\", data=mst_clean[(mst_clean['nr_group']!='nr_.20') & (mst_clean['nr_group']!='nr_.15')], scatter=False, ax=g.axes[0, 0])"
   ]
  },
  {
   "cell_type": "code",
   "execution_count": null,
   "metadata": {},
   "outputs": [],
   "source": [
    "g=sns.lmplot(x=\"dprime_old_new\",y=\"dprime_bps\",hue=\"nr_group\",data=mst_clean[(mst_clean['nr_group']!='nr_.20') & (mst_clean['nr_group']!='nr_.15') & (mst_clean['nr_group']!='nr_.10')],fit_reg=False, hue_order = ['nr_low', 'nr_.05'])\n",
    "sns.regplot(x=\"dprime_old_new\", y=\"dprime_bps\", data=mst_clean[(mst_clean['nr_group']!='nr_.20') & (mst_clean['nr_group']!='nr_.15') & (mst_clean['nr_group']!='nr_.10')], scatter=False, ax=g.axes[0, 0])"
   ]
  },
  {
   "cell_type": "code",
   "execution_count": null,
   "metadata": {
    "scrolled": false
   },
   "outputs": [],
   "source": [
    "g=sns.lmplot(x=\"dprime_old_new\",y=\"dprime_bps\",hue=\"nr_group\",data=mst_clean[(mst_clean['nr_group']!='nr_.20') & (mst_clean['nr_group']!='nr_.15') & (mst_clean['nr_group']!='nr_.10')& (mst_clean['nr_group']!='nr_.05')],fit_reg=False)\n",
    "sns.regplot(x=\"dprime_old_new\", y=\"dprime_bps\", data=mst_clean[(mst_clean['nr_group']!='nr_.20') & (mst_clean['nr_group']!='nr_.15') & (mst_clean['nr_group']!='nr_.10')& (mst_clean['nr_group']!='nr_.05')], scatter=False, ax=g.axes[0, 0])"
   ]
  },
  {
   "cell_type": "code",
   "execution_count": null,
   "metadata": {
    "scrolled": false
   },
   "outputs": [],
   "source": [
    "g=sns.lmplot(x=\"dprime_bps\",y=\"dprime_old_lure\",hue=\"nr_group\",data=mst_clean,fit_reg=False, hue_order = ['nr_low', 'nr_.05','nr_.10', 'nr_.15', 'nr_.20'])\n",
    "sns.regplot(x=\"dprime_bps\", y=\"dprime_old_lure\", data=mst_clean, scatter=False, ax=g.axes[0, 0])"
   ]
  },
  {
   "cell_type": "code",
   "execution_count": null,
   "metadata": {
    "scrolled": true
   },
   "outputs": [],
   "source": [
    "g=sns.lmplot(x=\"dprime_bps\",y=\"dprime_old_lure\",hue=\"nr_group\",data=mst_clean[mst_clean['nr_group']!='nr_.20'],fit_reg=False, hue_order = ['nr_low', 'nr_.05','nr_.10', 'nr_.15'])\n",
    "sns.regplot(x=\"dprime_bps\", y=\"dprime_old_lure\", data=mst_clean[mst_clean['nr_group']!='nr_.20'], scatter=False, ax=g.axes[0, 0])"
   ]
  },
  {
   "cell_type": "code",
   "execution_count": null,
   "metadata": {},
   "outputs": [],
   "source": [
    "g=sns.lmplot(x=\"dprime_bps\",y=\"dprime_old_lure\",hue=\"nr_group\",data=mst_clean[(mst_clean['nr_group']!='nr_.20') & (mst_clean['nr_group']!='nr_.15')],fit_reg=False, hue_order = ['nr_low', 'nr_.05','nr_.10'])\n",
    "sns.regplot(x=\"dprime_bps\", y=\"dprime_old_lure\", data=mst_clean[(mst_clean['nr_group']!='nr_.20') & (mst_clean['nr_group']!='nr_.15')], scatter=False, ax=g.axes[0, 0])"
   ]
  },
  {
   "cell_type": "code",
   "execution_count": null,
   "metadata": {},
   "outputs": [],
   "source": [
    "g=sns.lmplot(x=\"dprime_bps\",y=\"dprime_old_lure\",hue=\"nr_group\",data=mst_clean[(mst_clean['nr_group']!='nr_.20') & (mst_clean['nr_group']!='nr_.15') & (mst_clean['nr_group']!='nr_.10')],fit_reg=False, hue_order = ['nr_low', 'nr_.05'])\n",
    "sns.regplot(x=\"dprime_bps\", y=\"dprime_old_lure\", data=mst_clean[(mst_clean['nr_group']!='nr_.20') & (mst_clean['nr_group']!='nr_.15') & (mst_clean['nr_group']!='nr_.10')], scatter=False, ax=g.axes[0, 0])"
   ]
  },
  {
   "cell_type": "code",
   "execution_count": null,
   "metadata": {
    "scrolled": false
   },
   "outputs": [],
   "source": [
    "g=sns.lmplot(x=\"dprime_bps\",y=\"dprime_old_lure\",hue=\"nr_group\",data=mst_clean[(mst_clean['nr_group']!='nr_.20') & (mst_clean['nr_group']!='nr_.15') & (mst_clean['nr_group']!='nr_.10')& (mst_clean['nr_group']!='nr_.05')],fit_reg=False)\n",
    "sns.regplot(x=\"dprime_bps\", y=\"dprime_old_lure\", data=mst_clean[(mst_clean['nr_group']!='nr_.20') & (mst_clean['nr_group']!='nr_.15') & (mst_clean['nr_group']!='nr_.10')& (mst_clean['nr_group']!='nr_.05')], scatter=False, ax=g.axes[0, 0])"
   ]
  },
  {
   "cell_type": "code",
   "execution_count": null,
   "metadata": {},
   "outputs": [],
   "source": []
  },
  {
   "cell_type": "code",
   "execution_count": null,
   "metadata": {},
   "outputs": [],
   "source": [
    "print(all_data[all_data['dprime_old_new']<.3]['pidn'])"
   ]
  },
  {
   "cell_type": "code",
   "execution_count": null,
   "metadata": {},
   "outputs": [],
   "source": [
    "temp1= data_long[data_long['RT']>400].reset_index(drop=True)\n",
    "temp1.head()\n",
    "\n",
    "subs2skip = [528, 866, 1230, 468, 883]\n",
    "temp1 = temp1[(temp1['pidn']!=528) & (temp1['pidn']!=866) &(temp1['pidn']!=1230)]\n",
    "\n",
    "row=0\n",
    "temp2=pd.DataFrame()\n",
    "for n in pd.unique(temp1['pidn']):\n",
    "        temp2.loc[row, 'pidn'] = n\n",
    "        temp2.loc[row, 'NR'] = all_data.loc[row, 'prop_nr']\n",
    "        temp2.loc[row, 't_trial'] = len(temp1[(temp1['pidn']==n) & (temp1['Cond'] == 'Target')])\n",
    "        temp2.loc[row, 'l_trial'] = len(temp1[(temp1['pidn']==n) & (temp1['Cond'] == 'Lure')])\n",
    "        temp2.loc[row, 'f_trial'] = len(temp1[(temp1['pidn']==n) & (temp1['Cond'] == 'Foil')])\n",
    "        temp2.loc[row, 'p_old_targ'] = all_data.loc[row, 'n_old_targ']/temp2.loc[row, 't_trial']\n",
    "        temp2.loc[row, 'p_sim_targ'] = all_data.loc[row, 'n_sim_targ']/temp2.loc[row, 't_trial']\n",
    "        temp2.loc[row, 'p_new_targ'] = all_data.loc[row, 'n_new_targ']/temp2.loc[row, 't_trial']\n",
    "        temp2.loc[row, 'p_old_lure'] = all_data.loc[row, 'n_old_lure']/temp2.loc[row, 'l_trial']\n",
    "        temp2.loc[row, 'p_sim_lure'] = all_data.loc[row, 'n_sim_lure']/temp2.loc[row, 'l_trial']\n",
    "        temp2.loc[row, 'p_new_lure'] = all_data.loc[row, 'n_new_lure']/temp2.loc[row, 'l_trial']\n",
    "        temp2.loc[row, 'p_old_foil'] = all_data.loc[row, 'n_old_foil']/temp2.loc[row, 'f_trial']\n",
    "        temp2.loc[row, 'p_sim_foil'] = all_data.loc[row, 'n_sim_foil']/temp2.loc[row, 'f_trial']\n",
    "        temp2.loc[row, 'p_new_foil'] = all_data.loc[row, 'n_new_foil']/temp2.loc[row, 'f_trial']\n",
    "        temp2.loc[row, 'dprime_old_new'] = dprime(snodgrass(all_data.loc[row, 'n_old_targ'], temp2.loc[row, 't_trial']), snodgrass(all_data.loc[row, 'n_old_foil'], temp2.loc[row, 'f_trial']))\n",
    "        temp2.loc[row,'dprime_old_sim'] = dprime(snodgrass(all_data.loc[row, 'n_old_targ'], temp2.loc[row, 't_trial']), snodgrass(all_data.loc[row, 'n_old_lure'], temp2.loc[row, 'l_trial']))\n",
    "        temp2.loc[row, 'dprime_bps'] = dprime(snodgrass(all_data.loc[row, 'p_sim_lure'], temp2.loc[row, 'l_trial']), snodgrass(all_data.loc[row, 'p_sim_foil'], temp2.loc[row, 'f_trial']))\n",
    "        row+=1\n",
    "\n",
    "       "
   ]
  },
  {
   "cell_type": "code",
   "execution_count": null,
   "metadata": {},
   "outputs": [],
   "source": [
    "nr_20 = temp2[temp2['NR']<.2]\n",
    "nr_15 = temp2[temp2['NR']<.15]\n",
    "nr_10 = temp2[temp2['NR']<.10]\n",
    "nr_5 = temp2[temp2['NR']<.05]\n",
    "\n",
    "temp2= temp2.dropna()\n",
    "\n",
    "nr_20 = nr_20.dropna()\n",
    "nr_15 = nr_15.dropna()\n",
    "nr_10 = nr_10.dropna()\n",
    "nr_5 = nr_5.dropna()"
   ]
  },
  {
   "cell_type": "code",
   "execution_count": null,
   "metadata": {
    "scrolled": false
   },
   "outputs": [],
   "source": [
    "sns.lmplot(x='dprime_old_new',y='dprime_bps', data=nr_5 )"
   ]
  },
  {
   "cell_type": "code",
   "execution_count": null,
   "metadata": {
    "scrolled": true
   },
   "outputs": [],
   "source": [
    "sns.lmplot(x='dprime_bps',y='dprime_old_sim', data=nr_5)"
   ]
  },
  {
   "cell_type": "code",
   "execution_count": null,
   "metadata": {
    "scrolled": false
   },
   "outputs": [],
   "source": [
    "pearsonr(x=temp2['dprime_old_new'], y=temp2['dprime_bps'])"
   ]
  },
  {
   "cell_type": "code",
   "execution_count": null,
   "metadata": {},
   "outputs": [],
   "source": [
    "pearsonr(x=temp2['dprime_old_sim'], y=temp2['dprime_bps'])"
   ]
  },
  {
   "cell_type": "code",
   "execution_count": null,
   "metadata": {},
   "outputs": [],
   "source": [
    "pearsonr(x=temp2['dprime_old_new'], y=temp2['dprime_old_sim'])"
   ]
  },
  {
   "cell_type": "code",
   "execution_count": null,
   "metadata": {
    "scrolled": false
   },
   "outputs": [],
   "source": [
    "sns.lmplot(x='dprime_old_new',y='dprime_old_sim', data=nr_5 )"
   ]
  },
  {
   "cell_type": "code",
   "execution_count": null,
   "metadata": {},
   "outputs": [],
   "source": [
    "pearsonr(x=temp3['dprime_old_new'], y = temp3['dprime_bps'])"
   ]
  },
  {
   "cell_type": "code",
   "execution_count": null,
   "metadata": {},
   "outputs": [],
   "source": [
    "pearsonr(x=temp3['dprime_old_new'], y = temp3['dprime_old_sim'])"
   ]
  },
  {
   "cell_type": "code",
   "execution_count": null,
   "metadata": {},
   "outputs": [],
   "source": [
    "pearsonr(x=temp3['dprime_old_sim'], y = temp3['dprime_bps'])"
   ]
  },
  {
   "cell_type": "code",
   "execution_count": null,
   "metadata": {
    "scrolled": true
   },
   "outputs": [],
   "source": [
    "sns.lmplot(x='dprime_bps',y='dprime_old_sim', data=temp2 )"
   ]
  },
  {
   "cell_type": "code",
   "execution_count": null,
   "metadata": {},
   "outputs": [],
   "source": [
    "temp_data = data_long[data_long['RT'] == 0]\n",
    "\n",
    "\n",
    "temp2 = temp_data.groupby(['pidn', 'Cond']).count().reset_index()\n",
    "# nr=pd.DataFrame()\n",
    "# row = 0\n",
    "# row1=0\n",
    "# for n in pd.unique(temp2['pidn']):\n",
    "#     nr.loc[row, 'f_nr'] = temp2.loc[row1, 'RT']\n",
    "#     nr.loc[row, 'l_nr'] = temp2.loc[row1+1, 'RT']\n",
    "#     nr.loc[row, 't_nr'] = temp2.loc[row1+2, 'RT']\n",
    "#     row+=1\n",
    "#     row1+=3\n",
    "print(temp2)"
   ]
  },
  {
   "cell_type": "code",
   "execution_count": null,
   "metadata": {},
   "outputs": [],
   "source": [
    "pearsonr(x=temp2['dprime_old_new'], y= temp2['dprime_bps'])"
   ]
  },
  {
   "cell_type": "code",
   "execution_count": null,
   "metadata": {},
   "outputs": [],
   "source": [
    "trial_data = pd.DataFrame()\n",
    "row=0\n",
    "for subject in pd.unique(data_long['pidn']):\n",
    "    trial_data.loc[row,'trials_exl_nr']=len(data_long[(data_long['pidn']==subject)&(data_long['RT']>0)])\n",
    "    trial_data.loc[row,'trials_exl_nr_fast']=len(data_long[(data_long['pidn']==subject)&(data_long['RT']>400)])\n",
    "    trial_data.loc[row,'trials_exl_fast']=len(data_long[(data_long['pidn']==subject)&((data_long['RT']>400)| (data_long['RT'] ==0))])\n",
    "    \n",
    "    trial_data.loc[row,'targ_trials_exl_nr']=len(data_long[(data_long['pidn']==subject)&(data_long['RT']>0)&(data_long['Cond']=='Target')])\n",
    "    trial_data.loc[row,'targ_trials_exl_nr_fast']=len(data_long[(data_long['pidn']==subject)&(data_long['RT']>400)&(data_long['Cond']=='Target')])\n",
    "    trial_data.loc[row,'targ_trials_exl_fast']=len(data_long[(data_long['pidn']==subject)&((data_long['RT']>400)| (data_long['RT'] ==0))&(data_long['Cond']=='Target')])\n",
    "    \n",
    "    trial_data.loc[row,'lure_trials_exl_nr']=len(data_long[(data_long['pidn']==subject)&(data_long['RT']>0)&(data_long['Cond']=='Lure')])\n",
    "    trial_data.loc[row,'lure_trials_exl_nr_fast']=len(data_long[(data_long['pidn']==subject)&(data_long['RT']>400)&(data_long['Cond']=='Lure')])\n",
    "    trial_data.loc[row,'lure_trials_exl_fast']=len(data_long[(data_long['pidn']==subject)&((data_long['RT']>400)| (data_long['RT'] ==0))&(data_long['Cond']=='Lure')])\n",
    "    \n",
    "    trial_data.loc[row,'foil_trials_exl_nr']=len(data_long[(data_long['pidn']==subject)&(data_long['RT']>0)&(data_long['Cond']=='Foil')])\n",
    "    trial_data.loc[row,'foil_trials_exl_nr_fast']=len(data_long[(data_long['pidn']==subject)&(data_long['RT']>400)&(data_long['Cond']=='Foil')])\n",
    "    trial_data.loc[row,'foil_trials_exl_fast']=len(data_long[(data_long['pidn']==subject)&((data_long['RT']>400)| (data_long['RT'] ==0))&(data_long['Cond']=='Foil')])\n",
    "    \n",
    "    trial_data.loc[row,'pidn']=subject\n",
    "    \n",
    "    row+=1\n",
    "    \n",
    "print(trial_data)"
   ]
  },
  {
   "cell_type": "code",
   "execution_count": null,
   "metadata": {},
   "outputs": [],
   "source": [
    "print(trial_data[trial_data['pidn']==1045])"
   ]
  },
  {
   "cell_type": "code",
   "execution_count": null,
   "metadata": {},
   "outputs": [],
   "source": [
    "trial_data = trial_data.merge(all_data, on='pidn')"
   ]
  },
  {
   "cell_type": "code",
   "execution_count": null,
   "metadata": {},
   "outputs": [],
   "source": [
    "\n",
    "g=sns.boxplot(x='Cond', y='RT', data=temp2,  palette='pastel', order=['Target', 'Lure', 'Foil'], fliersize=0)\n",
    "g= sns.stripplot(x='Cond', y='RT', data= temp2, jitter=.2,split=True,  order=['Target', 'Lure', 'Foil'], linewidth = .5)\n",
    "\n",
    "plt.xlabel('Condition')\n",
    "plt.ylabel('NR')"
   ]
  },
  {
   "cell_type": "code",
   "execution_count": null,
   "metadata": {},
   "outputs": [],
   "source": [
    "sns.lmplot(x=nr[nr['Cond'] =='Target']['RT'], y =nr[nr['Cond'] =='Target']['RT'], data=nr)"
   ]
  },
  {
   "cell_type": "code",
   "execution_count": null,
   "metadata": {},
   "outputs": [],
   "source": [
    "sns.barplot(x='Cond', y = 'RT', data=nr_data, order =['Target', 'Lure', 'Foil'])\n",
    "plt.ylabel('Num NR')"
   ]
  },
  {
   "cell_type": "code",
   "execution_count": null,
   "metadata": {},
   "outputs": [],
   "source": [
    "row = 0\n",
    "foil_data=pd.DataFrame()\n",
    "for pt in (data_long['pidn']):\n",
    "    if data_long.loc[row, 'Cond'] == 'Foil':\n",
    "        foil_data.loc[row, 'pidn'] = data_long.loc[row, 'pidn']\n",
    "        foil_data.loc[row, 'RT'] = data_long.loc[row, 'RT']\n",
    "        foil_data.loc[row, 'Resp'] = data_long.loc[row, 'Resp']\n",
    "    row+=1\n",
    "    \n",
    "foil_data = foil_data[foil_data['RT']>400]\n",
    "foil_data.reset_index(drop=True)  "
   ]
  },
  {
   "cell_type": "code",
   "execution_count": null,
   "metadata": {},
   "outputs": [],
   "source": [
    "g = sns.distplot(foil_data[foil_data['Resp'] == 'Old']['RT'], kde=0, bins = 25)\n",
    "g=sns.distplot(foil_data[foil_data['Resp']=='Similar']['RT'], kde=0, bins=25)\n",
    "g= sns.distplot(foil_data[foil_data['Resp'] == 'New']['RT'], kde=0, bins = 25)\n",
    "plt.legend(['Old', 'Similar', 'New'])\n",
    "g.set(xlim=[400, 2050])\n",
    "g.set(ylim=[0, 950])"
   ]
  },
  {
   "cell_type": "code",
   "execution_count": null,
   "metadata": {},
   "outputs": [],
   "source": [
    "scipy.stats.ttest_ind(foil_data[foil_data['Resp'] == 'Old']['RT'], foil_data[foil_data['Resp']=='Similar']['RT'], nan_policy='propagate', equal_var = False)"
   ]
  },
  {
   "cell_type": "code",
   "execution_count": null,
   "metadata": {},
   "outputs": [],
   "source": [
    "scipy.stats.ttest_ind(foil_data[foil_data['Resp'] == 'Old']['RT'], foil_data[foil_data['Resp']=='New']['RT'], nan_policy='propagate' equal_var=False)"
   ]
  },
  {
   "cell_type": "code",
   "execution_count": null,
   "metadata": {},
   "outputs": [],
   "source": [
    "scipy.stats.ttest_ind(foil_data[foil_data['Resp'] == 'Similar']['RT'], foil_data[foil_data['Resp']=='New']['RT'], nan_policy='propagate', equal_var=False)"
   ]
  },
  {
   "cell_type": "code",
   "execution_count": null,
   "metadata": {},
   "outputs": [],
   "source": [
    "foil_grouped = foil_data.groupby(['pidn', 'Resp']).median().reset_index()"
   ]
  },
  {
   "cell_type": "code",
   "execution_count": null,
   "metadata": {
    "scrolled": true
   },
   "outputs": [],
   "source": [
    "\n",
    "g = sns.distplot(foil_grouped[foil_grouped['Resp'] == 'Old']['RT'], kde =0, bins=25)\n",
    "g=sns.distplot(foil_grouped[foil_grouped['Resp']=='Similar']['RT'], kde=0, bins=25)\n",
    "g = sns.distplot(foil_grouped[foil_grouped['Resp'] == 'New']['RT'], kde =0, bins=25)\n",
    "plt.legend(['Old', 'Similar','New'])\n",
    "g.set(xlim=[400, 2050])\n",
    "g.set(ylim=[0, 35])"
   ]
  },
  {
   "cell_type": "code",
   "execution_count": null,
   "metadata": {},
   "outputs": [],
   "source": [
    "print(foil_grouped[(foil_grouped['Resp']=='Old') & (foil_grouped['RT']<600)])"
   ]
  },
  {
   "cell_type": "code",
   "execution_count": null,
   "metadata": {},
   "outputs": [],
   "source": [
    "print(all_data[all_data['pidn']==814]['n_old_foil'])"
   ]
  },
  {
   "cell_type": "code",
   "execution_count": null,
   "metadata": {},
   "outputs": [],
   "source": [
    "stats.ttest_ind(foil_grouped[foil_grouped['Resp'] == 'Old']['RT'], foil_grouped[foil_grouped['Resp']=='Similar']['RT'], nan_policy='propagate', equal_var=False)"
   ]
  },
  {
   "cell_type": "code",
   "execution_count": null,
   "metadata": {},
   "outputs": [],
   "source": [
    "stats.ttest_ind(foil_grouped[foil_grouped['Resp'] == 'Old']['RT'], foil_grouped[foil_grouped['Resp']=='New']['RT'], nan_policy='propagate', equal_var=False)"
   ]
  },
  {
   "cell_type": "code",
   "execution_count": null,
   "metadata": {},
   "outputs": [],
   "source": [
    "stats.ttest_ind(foil_grouped[foil_grouped['Resp'] == 'Similar']['RT'], foil_grouped[foil_grouped['Resp']=='New']['RT'], nan_policy='propagate', equal_var=False)"
   ]
  },
  {
   "cell_type": "code",
   "execution_count": null,
   "metadata": {},
   "outputs": [],
   "source": [
    "row = 0\n",
    "targ_data=pd.DataFrame()\n",
    "for pt in (data_long['pidn']):\n",
    "    if data_long.loc[row, 'Cond'] == 'Target':\n",
    "        targ_data.loc[row, 'pidn'] = data_long.loc[row, 'pidn']\n",
    "        targ_data.loc[row, 'RT'] = data_long.loc[row, 'RT']\n",
    "        targ_data.loc[row, 'Resp'] = data_long.loc[row, 'Resp']\n",
    "    row+=1\n",
    "    \n",
    "targ_data = targ_data[targ_data['RT']>400]\n",
    "targ_data.reset_index(drop=True)    \n"
   ]
  },
  {
   "cell_type": "code",
   "execution_count": null,
   "metadata": {},
   "outputs": [],
   "source": [
    "row = 0\n",
    "targ_data=pd.DataFrame()\n",
    "for pt in (data_long['pidn']):\n",
    "    if data_long.loc[row, 'Cond'] == 'Target':\n",
    "        targ_data.loc[row, 'pidn'] = data_long.loc[row, 'pidn']\n",
    "        targ_data.loc[row, 'RT'] = data_long.loc[row, 'RT']\n",
    "        targ_data.loc[row, 'Resp'] = data_long.loc[row, 'Resp']\n",
    "    row+=1\n",
    "    \n",
    "targ_data = targ_data[targ_data['RT']>400]\n",
    "targ_data.reset_index(drop=True)  "
   ]
  },
  {
   "cell_type": "code",
   "execution_count": null,
   "metadata": {},
   "outputs": [],
   "source": [
    "scipy.stats.ttest_ind(targ_data[targ_data['Resp'] == 'Old']['RT'], targ_data[targ_data['Resp']=='Similar']['RT'], equal_var=False)"
   ]
  },
  {
   "cell_type": "code",
   "execution_count": null,
   "metadata": {},
   "outputs": [],
   "source": [
    "scipy.stats.ttest_ind(targ_data[targ_data['Resp'] == 'Old']['RT'], targ_data[targ_data['Resp']=='New']['RT'], equal_var=False)"
   ]
  },
  {
   "cell_type": "code",
   "execution_count": null,
   "metadata": {},
   "outputs": [],
   "source": [
    "scipy.stats.ttest_ind(targ_data[targ_data['Resp'] == 'Similar']['RT'], targ_data[targ_data['Resp']=='New']['RT'], equal_var=False)"
   ]
  },
  {
   "cell_type": "code",
   "execution_count": null,
   "metadata": {},
   "outputs": [],
   "source": [
    "g = sns.distplot(targ_data[targ_data['Resp'] == 'Old']['RT'], kde=0, bins = 25)\n",
    "g=sns.distplot(targ_data[targ_data['Resp']=='Similar']['RT'], kde=0, bins=25)\n",
    "g= sns.distplot(targ_data[targ_data['Resp'] == 'New']['RT'], kde=0, bins = 25)\n",
    "plt.legend(['Old', 'Similar', 'New'])\n",
    "g.set(xlim=[400, 2050])\n",
    "g.set(ylim=[0, 950])"
   ]
  },
  {
   "cell_type": "code",
   "execution_count": null,
   "metadata": {},
   "outputs": [],
   "source": [
    "targ_grouped = targ_data.groupby(['pidn', 'Resp']).median().reset_index()"
   ]
  },
  {
   "cell_type": "code",
   "execution_count": null,
   "metadata": {
    "scrolled": true
   },
   "outputs": [],
   "source": [
    "\n",
    "g = sns.distplot(targ_grouped[targ_grouped['Resp'] == 'Old']['RT'], kde =0, bins=25)\n",
    "g=sns.distplot(targ_grouped[targ_grouped['Resp']=='Similar']['RT'], kde=0, bins=25)\n",
    "g = sns.distplot(targ_grouped[targ_grouped['Resp'] == 'New']['RT'], kde =0, bins=25)\n",
    "plt.legend(['Old', 'Similar','New'])\n",
    "g.set(xlim=[400, 2050])\n",
    "g.set(ylim=[0, 35])"
   ]
  },
  {
   "cell_type": "code",
   "execution_count": null,
   "metadata": {},
   "outputs": [],
   "source": [
    "row = 0\n",
    "lure_data=pd.DataFrame()\n",
    "for pt in (data_long['pidn']):\n",
    "    if data_long.loc[row, 'Cond'] == 'Lure':\n",
    "        lure_data.loc[row, 'pidn'] = data_long.loc[row, 'pidn']\n",
    "        lure_data.loc[row, 'RT'] = data_long.loc[row, 'RT']\n",
    "        lure_data.loc[row, 'Resp'] = data_long.loc[row, 'Resp']\n",
    "    row+=1\n",
    "    \n",
    "lure_data = lure_data[lure_data['RT']>400]\n",
    "lure_data.reset_index(drop=True)    \n"
   ]
  },
  {
   "cell_type": "code",
   "execution_count": null,
   "metadata": {},
   "outputs": [],
   "source": [
    "scipy.stats.ttest_ind(lure_data[lure_data['Resp'] == 'Old']['RT'], lure_data[lure_data['Resp']=='Similar']['RT'], equal_var=False)"
   ]
  },
  {
   "cell_type": "code",
   "execution_count": null,
   "metadata": {},
   "outputs": [],
   "source": [
    "scipy.stats.ttest_ind(lure_data[lure_data['Resp'] == 'Old']['RT'], lure_data[lure_data['Resp']=='New']['RT'], equal_var=False)"
   ]
  },
  {
   "cell_type": "code",
   "execution_count": null,
   "metadata": {},
   "outputs": [],
   "source": [
    "scipy.stats.ttest_ind(lure_data[lure_data['Resp'] == 'Similar']['RT'], lure_data[lure_data['Resp']=='New']['RT'], equal_var=False)"
   ]
  },
  {
   "cell_type": "code",
   "execution_count": null,
   "metadata": {},
   "outputs": [],
   "source": [
    "scipy.stats.ttest_ind(lure_grouped[lure_grouped['Resp'] == 'Old']['RT'], lure_grouped[lure_grouped['Resp']=='Similar']['RT'], equal_var=False)"
   ]
  },
  {
   "cell_type": "code",
   "execution_count": null,
   "metadata": {},
   "outputs": [],
   "source": [
    "scipy.stats.ttest_ind(lure_grouped[lure_grouped['Resp'] == 'Old']['RT'], lure_grouped[lure_grouped['Resp']=='New']['RT'], equal_var=False)"
   ]
  },
  {
   "cell_type": "code",
   "execution_count": null,
   "metadata": {},
   "outputs": [],
   "source": [
    "scipy.stats.ttest_ind(lure_grouped[lure_grouped['Resp'] == 'Similar']['RT'], lure_grouped[lure_grouped['Resp']=='New']['RT'], equal_var=False)"
   ]
  },
  {
   "cell_type": "code",
   "execution_count": null,
   "metadata": {},
   "outputs": [],
   "source": [
    "g = sns.distplot(lure_data[lure_data['Resp'] == 'Old']['RT'], kde=0, bins = 25)\n",
    "g=sns.distplot(lure_data[lure_data['Resp']=='Similar']['RT'], kde=0, bins=25)\n",
    "g= sns.distplot(lure_data[lure_data['Resp'] == 'New']['RT'], kde=0, bins = 25)\n",
    "plt.legend(['Old', 'Similar', 'New'])\n",
    "g.set(xlim=[400, 2050])\n",
    "g.set(ylim = [0, 950])"
   ]
  },
  {
   "cell_type": "code",
   "execution_count": null,
   "metadata": {},
   "outputs": [],
   "source": [
    "scipy.stats.ttest_ind(foil_grouped[foil_grouped['Resp'] == 'Old']['RT'], foil_grouped[foil_grouped['Resp']=='Similar']['RT'], equal_var=False)"
   ]
  },
  {
   "cell_type": "code",
   "execution_count": null,
   "metadata": {},
   "outputs": [],
   "source": [
    "scipy.stats.ttest_ind(foil_grouped[foil_grouped['Resp'] == 'Old']['RT'], foil_grouped[foil_grouped['Resp']=='New']['RT'], equal_var=False)"
   ]
  },
  {
   "cell_type": "code",
   "execution_count": null,
   "metadata": {},
   "outputs": [],
   "source": [
    "scipy.stats.ttest_ind(foil_grouped[foil_grouped['Resp'] == 'Similar']['RT'], foil_grouped[foil_grouped['Resp']=='New']['RT'], equal_var=False)"
   ]
  },
  {
   "cell_type": "code",
   "execution_count": null,
   "metadata": {},
   "outputs": [],
   "source": [
    "scipy.stats.ttest_ind(targ_grouped[targ_grouped['Resp'] == 'Old']['RT'], targ_grouped[targ_grouped['Resp']=='Similar']['RT'], equal_var=False)"
   ]
  },
  {
   "cell_type": "code",
   "execution_count": null,
   "metadata": {},
   "outputs": [],
   "source": [
    "scipy.stats.ttest_ind(targ_grouped[targ_grouped['Resp'] == 'Old']['RT'], targ_grouped[targ_grouped['Resp']=='New']['RT'], equal_var=False)"
   ]
  },
  {
   "cell_type": "code",
   "execution_count": null,
   "metadata": {},
   "outputs": [],
   "source": [
    "scipy.stats.ttest_ind(targ_grouped[targ_grouped['Resp'] == 'Similar']['RT'], targ_grouped[targ_grouped['Resp']=='New']['RT'], equal_var=False)"
   ]
  },
  {
   "cell_type": "code",
   "execution_count": null,
   "metadata": {},
   "outputs": [],
   "source": [
    "lure_grouped = lure_data.groupby(['pidn', 'Resp']).median().reset_index()"
   ]
  },
  {
   "cell_type": "code",
   "execution_count": null,
   "metadata": {},
   "outputs": [],
   "source": [
    "\n",
    "g = sns.distplot(lure_grouped[lure_grouped['Resp'] == 'Old']['RT'], kde =0, bins=25)\n",
    "g=sns.distplot(lure_grouped[lure_grouped['Resp']=='Similar']['RT'], kde=0, bins=25)\n",
    "g = sns.distplot(lure_grouped[lure_grouped['Resp'] == 'New']['RT'], kde =0, bins=25)\n",
    "plt.legend(['Old', 'Similar','New'])\n",
    "g.set(xlim=[400, 2050])\n",
    "g.set(ylim=[0, 35])"
   ]
  },
  {
   "cell_type": "code",
   "execution_count": null,
   "metadata": {},
   "outputs": [],
   "source": [
    "print([foil_grouped[foil_grouped['RT']>1950]['pidn']])"
   ]
  },
  {
   "cell_type": "code",
   "execution_count": null,
   "metadata": {},
   "outputs": [],
   "source": [
    "print(all_data[all_data['pidn'] == 693]['n_old_foil'])"
   ]
  },
  {
   "cell_type": "code",
   "execution_count": null,
   "metadata": {},
   "outputs": [],
   "source": [
    "trial_data.hear"
   ]
  },
  {
   "cell_type": "code",
   "execution_count": null,
   "metadata": {},
   "outputs": [],
   "source": [
    "row = 0 \n",
    "noresp_data=pd.DataFrame()\n",
    "for n in trial_data:\n",
    "    noresp_data.loc[row, 'target'] = ((trial_data.loc[row, 'num_nr_t'])/(trial_data.loc[row, 'targ_trials_exl_fast']))\n",
    "    noresp_data.loc[row, 'lure'] =((trial_data.loc[row, 'num_nr_l'])/(trial_data.loc[row, 'lure_trials_exl_fast']))\n",
    "    noresp_data.loc[row, 'foil'] = ((trial_data.loc[row, 'num_nr_f'])/(trial_data.loc[row, 'foil_trials_exl_fast']))  \n",
    "    row+=1\n",
    "    \n",
    "print(noresp_data)\n"
   ]
  },
  {
   "cell_type": "code",
   "execution_count": null,
   "metadata": {},
   "outputs": [],
   "source": [
    "sns.lmplot(x='target', y = 'lure', data=noresp_data)"
   ]
  },
  {
   "cell_type": "code",
   "execution_count": null,
   "metadata": {},
   "outputs": [],
   "source": [
    "pearsonr(x=noresp_data['target'], y=noresp_data['lure'])"
   ]
  },
  {
   "cell_type": "code",
   "execution_count": null,
   "metadata": {},
   "outputs": [],
   "source": [
    "pearsonr(x=noresp_data['target'], y=noresp_data['foil'])"
   ]
  },
  {
   "cell_type": "code",
   "execution_count": null,
   "metadata": {},
   "outputs": [],
   "source": [
    "pearsonr(x=noresp_data['foil'], y=noresp_data['lure'])"
   ]
  },
  {
   "cell_type": "code",
   "execution_count": null,
   "metadata": {},
   "outputs": [],
   "source": [
    "g=sns.distplot(noresp_data['target'], kde = 0, bins=25)\n",
    "g=sns.distplot(noresp_data['lure'], kde=0, bins=25)\n",
    "g=sns.distplot(noresp_data['foil'], kde=0, bins = 25)\n",
    "plt.xlabel('Prop NR')\n"
   ]
  },
  {
   "cell_type": "code",
   "execution_count": null,
   "metadata": {},
   "outputs": [],
   "source": [
    "g=sns.lmplot(x='t_prop_nr', y='l_prop_nr', data=trial_data)\n",
    "g.set(xlim=[0, .3])"
   ]
  },
  {
   "cell_type": "code",
   "execution_count": null,
   "metadata": {},
   "outputs": [],
   "source": [
    "pearsonr(x=trial_data['t_prop_nr'], y=trial_data['l_prop_nr'])"
   ]
  },
  {
   "cell_type": "code",
   "execution_count": null,
   "metadata": {},
   "outputs": [],
   "source": [
    "g=sns.lmplot(x='t_prop_nr', y='f_prop_nr', data=trial_data)\n",
    "g.set(xlim=[0, .35])"
   ]
  },
  {
   "cell_type": "code",
   "execution_count": null,
   "metadata": {},
   "outputs": [],
   "source": [
    "g=sns.lmplot(x='l_prop_nr', y='f_prop_nr', data=trial_data)"
   ]
  },
  {
   "cell_type": "code",
   "execution_count": null,
   "metadata": {},
   "outputs": [],
   "source": [
    "stats.ttest_rel(trial_data['t_prop_nr'], trial_data['l_prop_nr'], nan_policy='propagate')"
   ]
  },
  {
   "cell_type": "code",
   "execution_count": null,
   "metadata": {},
   "outputs": [],
   "source": [
    "g=sns.distplot(trial_data['t_prop_nr'], kde = 0, bins=25)\n",
    "g.set(xlim=[0, .5])\n",
    "plt.xlabel('Prop NR')"
   ]
  },
  {
   "cell_type": "code",
   "execution_count": null,
   "metadata": {},
   "outputs": [],
   "source": [
    "g=sns.distplot(trial_data['l_prop_nr'], kde = 0, bins=25, color='orange')\n",
    "g.set(xlim=[0, .5])\n",
    "plt.xlabel('Prop NR')"
   ]
  },
  {
   "cell_type": "code",
   "execution_count": null,
   "metadata": {},
   "outputs": [],
   "source": [
    "g=sns.distplot(trial_data['f_prop_nr'], kde = 0, bins=25, color='green')\n",
    "g.set(xlim=[0, .5])\n",
    "plt.xlabel('Prop NR')"
   ]
  },
  {
   "cell_type": "code",
   "execution_count": null,
   "metadata": {},
   "outputs": [],
   "source": [
    "chisquare([trial_data['t_prop_nr'], trial_data['l_prop_nr'], trial_data['f_prop_nr']])"
   ]
  },
  {
   "cell_type": "code",
   "execution_count": null,
   "metadata": {},
   "outputs": [],
   "source": [
    "cond_data = pd.DataFrame()\n",
    "row = 0\n",
    "row1 = 0\n",
    "for x in trial_data:\n",
    "    cond_data.loc[row, 'pidn'] == trial_data.loc[row1, 'pidn']\n",
    "    cond_data.loc[row+1, 'pidn'] == trial_data.loc[row1, 'pidn']\n",
    "    cond_data.loc[row+2, 'pidn'] == trial_data.loc[row1, 'pidn']\n",
    "    cond_data.loc[row, 'Cond'] = 'T'\n",
    "    cond_data.loc[row, 'NR'] = (all_data.loc[row1, 'num_nr_t']/64)\n",
    "    cond_data.loc[row, 'corr'] = all_data.loc[row1, 'n_old_targ']/trial_data.loc[row1, 'targ_trials_exl_nr_fast']\n",
    "    cond_data.loc[row+1, 'Cond'] = 'L'\n",
    "    cond_data.loc[row+2, 'NR'] = (all_data.loc[row1, 'num_nr_l']/64)\n",
    "    cond_data.loc[row+1, 'corr'] = all_data.loc[row1, 'n_sim_lure']/trial_data.loc[row1, 'lure_trials_exl_nr_fast']\n",
    "    cond_data.loc[row+2, 'Cond'] = 'F'\n",
    "    cond_data.loc[row+2, 'NR'] = (all_data.loc[row1, 'num_nr_f']/64)\n",
    "   \n",
    "    cond_data.loc[row+2, 'corr'] = all_data.loc[row1, 'n_new_foil']/trial_data.loc[row1, 'foil_trials_exl_nr_fast']\n",
    "    row=row+3\n",
    "    row1+=1\n",
    "cond_data.head()"
   ]
  },
  {
   "cell_type": "code",
   "execution_count": null,
   "metadata": {},
   "outputs": [],
   "source": [
    "g=sns.lmplot(x='NR', y='corr', data= cond_data, hue='Cond', height=7)\n",
    "plt.ylabel('Percent Correct')"
   ]
  },
  {
   "cell_type": "code",
   "execution_count": null,
   "metadata": {},
   "outputs": [],
   "source": [
    "t_cond = cond_data[(cond_data['Cond']=='T')]\n",
    "l_cond = cond_data[cond_data['Cond']=='L']\n",
    "f_cond= cond_data[cond_data['Cond']=='F']\n",
    "\n",
    "t_cond= t_cond[:-3]\n",
    "l_cond= l_cond[:-3]\n",
    "f_cond= f_cond[:-3]"
   ]
  },
  {
   "cell_type": "code",
   "execution_count": null,
   "metadata": {},
   "outputs": [],
   "source": [
    "pearsonr(x=t_cond['NR'], y =t_cond['corr'])"
   ]
  },
  {
   "cell_type": "code",
   "execution_count": null,
   "metadata": {},
   "outputs": [],
   "source": [
    "pearsonr(x=l_cond['NR'], y =l_cond['corr'])"
   ]
  },
  {
   "cell_type": "code",
   "execution_count": null,
   "metadata": {},
   "outputs": [],
   "source": [
    "pearsonr(x=f_cond['NR'], y =f_cond['corr'])"
   ]
  },
  {
   "cell_type": "code",
   "execution_count": null,
   "metadata": {},
   "outputs": [],
   "source": [
    "pearsonr(x=cond_data[cond_data['Cond']=='L']['NR'], y =cond_data[cond_data['Cond']=='L']['corr'])"
   ]
  },
  {
   "cell_type": "code",
   "execution_count": null,
   "metadata": {},
   "outputs": [],
   "source": [
    "pearsonr(x=cond_data[cond_data['Cond']=='F']['NR'], y =cond_data[cond_data['Cond']=='F']['corr'])"
   ]
  },
  {
   "cell_type": "code",
   "execution_count": null,
   "metadata": {},
   "outputs": [],
   "source": [
    "g = sns.lmplot( x='NR', y = 'd_o_n', data=cond_data, hue = 'Cond', height=7)\n",
    "plt.ylabel('d\\' Old/New')\n"
   ]
  },
  {
   "cell_type": "code",
   "execution_count": null,
   "metadata": {},
   "outputs": [],
   "source": [
    "pearsonr(x=t_cond['NR'], y=t_cond['d_o_n'])"
   ]
  },
  {
   "cell_type": "code",
   "execution_count": null,
   "metadata": {},
   "outputs": [],
   "source": [
    "pearsonr(x=l_cond['NR'], y=l_cond['d_o_n'])"
   ]
  },
  {
   "cell_type": "code",
   "execution_count": null,
   "metadata": {},
   "outputs": [],
   "source": [
    "pearsonr(x=f_cond['NR'], y=f_cond['d_o_n'])"
   ]
  },
  {
   "cell_type": "code",
   "execution_count": null,
   "metadata": {},
   "outputs": [],
   "source": [
    "sns.lmplot( x='NR', y = 'd_o_s', data=cond_data, hue = 'Cond', height=7)\n",
    "plt.ylabel('d\\' Old/Similar')"
   ]
  },
  {
   "cell_type": "code",
   "execution_count": null,
   "metadata": {},
   "outputs": [],
   "source": [
    "sns.lmplot( x='NR', y = 'd_bps', data=cond_data, hue = 'Cond', height=7)\n",
    "plt.ylabel('d\\' BPS')"
   ]
  },
  {
   "cell_type": "code",
   "execution_count": 21,
   "metadata": {},
   "outputs": [],
   "source": [
    "rt_data = data_long"
   ]
  },
  {
   "cell_type": "code",
   "execution_count": null,
   "metadata": {},
   "outputs": [],
   "source": [
    "print(np_data[np_data['pidn']==1230]['ir_comp'])"
   ]
  },
  {
   "cell_type": "code",
   "execution_count": null,
   "metadata": {},
   "outputs": [],
   "source": [
    "g = sns.distplot(rt_data[(rt_data['pidn'] == 528) & (rt_data['Cond']=='Target')]['RT'], kde = 0, bins = 25)\n",
    "g = sns.distplot(rt_data[(rt_data['pidn'] == 528) & (rt_data['Cond']=='Lure')]['RT'], kde = 0, bins =25)\n",
    "g = sns.distplot(rt_data[(rt_data['pidn'] == 528) & (rt_data['Cond']=='Foil')]['RT'], kde = 0, bins = 25)\n",
    "g.set(ylim=[0,15])"
   ]
  },
  {
   "cell_type": "code",
   "execution_count": null,
   "metadata": {},
   "outputs": [],
   "source": [
    "g = sns.distplot(rt_data[(rt_data['pidn'] ==673) & (rt_data['Cond']=='Target')]['RT'], kde = 0, bins = 25)\n",
    "g = sns.distplot(rt_data[(rt_data['pidn'] == 673) & (rt_data['Cond']=='Lure')]['RT'], kde = 0, bins =25)\n",
    "g = sns.distplot(rt_data[(rt_data['pidn'] == 673) & (rt_data['Cond']=='Foil')]['RT'], kde = 0, bins = 25)\n",
    "g.set(ylim=[0,15])"
   ]
  },
  {
   "cell_type": "code",
   "execution_count": null,
   "metadata": {},
   "outputs": [],
   "source": [
    "g = sns.distplot(rt_data[(rt_data['pidn'] == 1185) & (rt_data['Cond']=='Target')]['RT'], kde = 0, bins = 25)\n",
    "g = sns.distplot(rt_data[(rt_data['pidn'] ==1185) & (rt_data['Cond']=='Lure')]['RT'], kde = 0, bins =25)\n",
    "g = sns.distplot(rt_data[(rt_data['pidn'] == 1185) & (rt_data['Cond']=='Foil')]['RT'], kde = 0, bins = 25)\n",
    "g.set(ylim=[0,15])"
   ]
  },
  {
   "cell_type": "code",
   "execution_count": null,
   "metadata": {},
   "outputs": [],
   "source": [
    "sns.distplot(rt_data[rt_data['Cond'] == 'Target']['RT'], kde = 0, bins = 50)\n",
    "sns.distplot(rt_data[rt_data['Cond'] == 'Lure']['RT'], kde = 0, bins = 50)\n",
    "sns.distplot(rt_data[rt_data['Cond'] == 'Foil']['RT'], kde = 0, bins = 50)"
   ]
  },
  {
   "cell_type": "code",
   "execution_count": null,
   "metadata": {},
   "outputs": [],
   "source": [
    "print(len(rt_data[rt_data['RT']<500]['pidn']))"
   ]
  },
  {
   "cell_type": "code",
   "execution_count": null,
   "metadata": {},
   "outputs": [],
   "source": [
    "g=sns.distplot(rt_data[(rt_data['Cond'] == 'Target') & (rt_data['Acc']=='Correct')]['RT'], kde = 0, bins = 50)\n",
    "g=sns.distplot(rt_data[(rt_data['Cond'] == 'Lure')& (rt_data['Acc']=='Correct')]['RT'], kde = 0, bins = 50)\n",
    "g=sns.distplot(rt_data[(rt_data['Cond'] == 'Foil') & (rt_data['Acc']=='Correct')]['RT'], kde = 0,bins = 50)\n",
    "g.set(ylim = (0, 20))\n",
    "g.set(xlim = (0, 700))"
   ]
  },
  {
   "cell_type": "code",
   "execution_count": null,
   "metadata": {},
   "outputs": [],
   "source": [
    "print(rt_data[(rt_data['Acc']=='Incorrect') &( rt_data['RT']<600)]['pidn'])"
   ]
  },
  {
   "cell_type": "code",
   "execution_count": null,
   "metadata": {},
   "outputs": [],
   "source": [
    "scipy.stats.ttest_ind(rt_data[(rt_data['Cond'] == 'Target') & (rt_data['Acc']=='Correct')]['RT'], rt_data[(rt_data['Cond'] == 'Lure')& (rt_data['Acc']=='Correct')]['RT'], equal_var=False)"
   ]
  },
  {
   "cell_type": "code",
   "execution_count": null,
   "metadata": {},
   "outputs": [],
   "source": [
    "scipy.stats.ttest_ind(rt_data[(rt_data['Cond'] == 'Target') & (rt_data['Acc']=='Correct')]['RT'], rt_data[(rt_data['Cond'] == 'Foil')& (rt_data['Acc']=='Correct')]['RT'], equal_var=False)"
   ]
  },
  {
   "cell_type": "code",
   "execution_count": null,
   "metadata": {
    "scrolled": true
   },
   "outputs": [],
   "source": [
    "scipy.stats.ttest_ind(rt_data[(rt_data['Cond'] == 'Lure') & (rt_data['Acc']=='Correct')]['RT'], rt_data[(rt_data['Cond'] == 'Foil')& (rt_data['Acc']=='Correct')]['RT'], equal_var=False)"
   ]
  },
  {
   "cell_type": "code",
   "execution_count": null,
   "metadata": {},
   "outputs": [],
   "source": [
    "scipy.stats.ttest_ind(rt_data[(rt_data['Cond'] == 'Target') & (rt_data['Acc']=='Incorrect')]['RT'], rt_data[(rt_data['Cond'] == 'Lure')& (rt_data['Acc']=='Incorrect')]['RT'], equal_var=False)"
   ]
  },
  {
   "cell_type": "code",
   "execution_count": null,
   "metadata": {},
   "outputs": [],
   "source": [
    "scipy.stats.ttest_ind(rt_data[(rt_data['Cond'] == 'Target') & (rt_data['Acc']=='Incorrect')]['RT'], rt_data[(rt_data['Cond'] == 'Foil')& (rt_data['Acc']=='Incorrect')]['RT'], equal_var=False)"
   ]
  },
  {
   "cell_type": "code",
   "execution_count": null,
   "metadata": {
    "scrolled": true
   },
   "outputs": [],
   "source": [
    "scipy.stats.ttest_ind(rt_data[(rt_data['Cond'] == 'Lure') & (rt_data['Acc']=='Incorrect')]['RT'], rt_data[(rt_data['Cond'] == 'Foil')& (rt_data['Acc']=='Incorrect')]['RT'], equal_var=False)"
   ]
  },
  {
   "cell_type": "code",
   "execution_count": null,
   "metadata": {},
   "outputs": [],
   "source": []
  },
  {
   "cell_type": "code",
   "execution_count": null,
   "metadata": {},
   "outputs": [],
   "source": [
    "g = sns.distplot(rt_data[(rt_data['Cond'] == 'Target') & (rt_data['Acc']=='Incorrect')]['RT'], kde = 0, bins = 50)\n",
    "g= sns.distplot(rt_data[(rt_data['Cond'] == 'Lure')& (rt_data['Acc']=='Incorrect')]['RT'], kde = 0, bins = 50)\n",
    "g= sns.distplot(rt_data[(rt_data['Cond'] == 'Foil') & (rt_data['Acc']=='Incorrect')]['RT'], kde = 0,  bins = 50)\n",
    "g.set(ylim = (0, 20))\n",
    "g.set(xlim = (0, 700))"
   ]
  },
  {
   "cell_type": "code",
   "execution_count": null,
   "metadata": {},
   "outputs": [],
   "source": [
    "avg_data = rt_data.groupby(['pidn', 'Cond']).mean().reset_index()\n",
    "avg_data = avg_data.merge(all_data, on = 'pidn')\n",
    "print(avg_data)"
   ]
  },
  {
   "cell_type": "code",
   "execution_count": null,
   "metadata": {
    "scrolled": true
   },
   "outputs": [],
   "source": [
    "sns.distplot(avg_data[(avg_data['Cond'] == 'Target')]['RT'], kde= 0, bins = 50)\n",
    "sns.distplot(avg_data[(avg_data['Cond'] == 'Lure')]['RT'], kde= 0, bins = 50)\n",
    "sns.distplot(avg_data[(avg_data['Cond'] == 'Foil')]['RT'], kde= 0, bins = 50)"
   ]
  },
  {
   "cell_type": "code",
   "execution_count": null,
   "metadata": {},
   "outputs": [],
   "source": [
    "sns.distplot(avg_data[(avg_data['Cond'] == 'Target') & (avg_data['Acc'] == 'Correct')]['RT'], kde= 0, bins = 50)\n",
    "sns.distplot(avg_data[(avg_data['Cond'] == 'Lure')& (avg_data['Acc'] == 'Correct')]['RT'], kde= 0, bins = 50)\n",
    "sns.distplot(avg_data[(avg_data['Cond'] == 'Foil')& (avg_data['Acc'] == 'Correct')]['RT'], kde= 0, bins = 50)"
   ]
  },
  {
   "cell_type": "code",
   "execution_count": null,
   "metadata": {
    "scrolled": true
   },
   "outputs": [],
   "source": [
    "g = sns.distplot(avg_data[(avg_data['Cond'] == 'Target') & (avg_data['Acc'] == 'Incorrect')]['RT'], kde= 0, bins = 50)\n",
    "g = sns.distplot(avg_data[(avg_data['Cond'] == 'Lure')& (avg_data['Acc'] == 'Incorrect')]['RT'], kde= 0, bins = 50)\n",
    "g= sns.distplot(avg_data[(avg_data['Cond'] == 'Foil')& (avg_data['Acc'] == 'Incorrect')]['RT'], kde= 0, bins = 50)\n",
    "g.set(ylim = [0, 20])"
   ]
  },
  {
   "cell_type": "code",
   "execution_count": 22,
   "metadata": {},
   "outputs": [
    {
     "ename": "NameError",
     "evalue": "name 'data_adj' is not defined",
     "output_type": "error",
     "traceback": [
      "\u001b[0;31m---------------------------------------------------------------------------\u001b[0m",
      "\u001b[0;31mNameError\u001b[0m                                 Traceback (most recent call last)",
      "\u001b[0;32m<ipython-input-22-351b71f01ab0>\u001b[0m in \u001b[0;36m<module>\u001b[0;34m\u001b[0m\n\u001b[1;32m      1\u001b[0m \u001b[0mmed_data\u001b[0m \u001b[0;34m=\u001b[0m \u001b[0mrt_data\u001b[0m\u001b[0;34m.\u001b[0m\u001b[0mgroupby\u001b[0m\u001b[0;34m(\u001b[0m\u001b[0;34m[\u001b[0m\u001b[0;34m'pidn'\u001b[0m\u001b[0;34m,\u001b[0m\u001b[0;34m'Cond'\u001b[0m\u001b[0;34m,\u001b[0m \u001b[0;34m'Resp'\u001b[0m\u001b[0;34m]\u001b[0m\u001b[0;34m)\u001b[0m\u001b[0;34m.\u001b[0m\u001b[0mmedian\u001b[0m\u001b[0;34m(\u001b[0m\u001b[0;34m)\u001b[0m\u001b[0;34m.\u001b[0m\u001b[0mreset_index\u001b[0m\u001b[0;34m(\u001b[0m\u001b[0;34m)\u001b[0m\u001b[0;34m\u001b[0m\u001b[0;34m\u001b[0m\u001b[0m\n\u001b[0;32m----> 2\u001b[0;31m \u001b[0mmed_data\u001b[0m\u001b[0;34m=\u001b[0m\u001b[0mmed_data\u001b[0m\u001b[0;34m.\u001b[0m\u001b[0mmerge\u001b[0m\u001b[0;34m(\u001b[0m\u001b[0mdata_adj\u001b[0m\u001b[0;34m,\u001b[0m \u001b[0mon\u001b[0m\u001b[0;34m=\u001b[0m\u001b[0;34m[\u001b[0m\u001b[0;34m'pidn'\u001b[0m\u001b[0;34m,\u001b[0m \u001b[0;34m'Cond'\u001b[0m\u001b[0;34m]\u001b[0m\u001b[0;34m)\u001b[0m\u001b[0;34m\u001b[0m\u001b[0;34m\u001b[0m\u001b[0m\n\u001b[0m\u001b[1;32m      3\u001b[0m \u001b[0mmed_data\u001b[0m\u001b[0;34m=\u001b[0m\u001b[0mmed_data\u001b[0m\u001b[0;34m.\u001b[0m\u001b[0mmerge\u001b[0m\u001b[0;34m(\u001b[0m\u001b[0mall_data\u001b[0m\u001b[0;34m,\u001b[0m \u001b[0mon\u001b[0m\u001b[0;34m=\u001b[0m\u001b[0;34m[\u001b[0m\u001b[0;34m'pidn'\u001b[0m\u001b[0;34m]\u001b[0m\u001b[0;34m)\u001b[0m\u001b[0;34m\u001b[0m\u001b[0;34m\u001b[0m\u001b[0m\n\u001b[1;32m      4\u001b[0m \u001b[0mprint\u001b[0m\u001b[0;34m(\u001b[0m\u001b[0mmed_data\u001b[0m\u001b[0;34m)\u001b[0m\u001b[0;34m\u001b[0m\u001b[0;34m\u001b[0m\u001b[0m\n",
      "\u001b[0;31mNameError\u001b[0m: name 'data_adj' is not defined"
     ]
    }
   ],
   "source": [
    "med_data = rt_data.groupby(['pidn','Cond', 'Resp']).median().reset_index()\n",
    "med_data=med_data.merge(data_adj, on=['pidn', 'Cond'])\n",
    "med_data=med_data.merge(all_data, on=['pidn'])\n",
    "print(med_data)"
   ]
  },
  {
   "cell_type": "code",
   "execution_count": null,
   "metadata": {
    "scrolled": false
   },
   "outputs": [],
   "source": [
    "sns.lmplot(x= 'RT', y='correct', data=med_data, hue='Cond', hue_order=['Target', 'Lure', 'Foil'], height=7)"
   ]
  },
  {
   "cell_type": "code",
   "execution_count": null,
   "metadata": {},
   "outputs": [],
   "source": [
    "pearsonr(x=med_data[med_data['Cond']=='Lure']['correct'], y = med_data[med_data['Cond']=='Lure']['RT'])"
   ]
  },
  {
   "cell_type": "code",
   "execution_count": null,
   "metadata": {},
   "outputs": [],
   "source": [
    "print(med_data[med_data['pidn']==1185])"
   ]
  },
  {
   "cell_type": "code",
   "execution_count": null,
   "metadata": {},
   "outputs": [],
   "source": [
    "sns.distplot(med_data['RT'], kde=0, bins=50)\n",
    "g.set(ylim=[0, 60])"
   ]
  },
  {
   "cell_type": "code",
   "execution_count": null,
   "metadata": {},
   "outputs": [],
   "source": [
    "g = sns.distplot(med_data[(med_data['Acc'] == 'Correct')]['RT'], kde= 0, bins = 50)\n",
    "g = sns.distplot(med_data[(med_data['Acc'] == 'Incorrect')]['RT'], kde= 0, bins = 50)\n",
    "plt.legend(['Correct', 'Incorrect'])\n",
    "g.set(ylim=[0, 60])"
   ]
  },
  {
   "cell_type": "code",
   "execution_count": null,
   "metadata": {
    "scrolled": true
   },
   "outputs": [],
   "source": [
    "sns.distplot(med_data[(med_data['Cond'] == 'Target')]['RT'], kde= 0, bins = 50)\n",
    "sns.distplot(med_data[(med_data['Cond'] == 'Lure')]['RT'], kde= 0, bins = 50)\n",
    "sns.distplot(med_data[(med_data['Cond'] == 'Foil')]['RT'], kde= 0, bins = 50)"
   ]
  },
  {
   "cell_type": "code",
   "execution_count": null,
   "metadata": {},
   "outputs": [],
   "source": [
    "scipy.stats.ttest_ind(med_data[(med_data['Cond'] == 'Target')]['RT'], med_data[(med_data['Cond'] == 'Lure')]['RT'], equal_var=False)"
   ]
  },
  {
   "cell_type": "code",
   "execution_count": null,
   "metadata": {},
   "outputs": [],
   "source": [
    "scipy.stats.ttest_ind(med_data[(med_data['Cond'] == 'Target')]['RT'], med_data[(med_data['Cond'] == 'Foil')]['RT'], equal_var=False)"
   ]
  },
  {
   "cell_type": "code",
   "execution_count": null,
   "metadata": {},
   "outputs": [],
   "source": [
    "scipy.stats.ttest_ind(med_data[(med_data['Cond'] == 'Lure')]['RT'], med_data[(med_data['Cond'] == 'Foil')]['RT'], equal_var=False)"
   ]
  },
  {
   "cell_type": "code",
   "execution_count": null,
   "metadata": {},
   "outputs": [],
   "source": [
    "print(all_data[all_data['pidn']==1185])\n"
   ]
  },
  {
   "cell_type": "code",
   "execution_count": null,
   "metadata": {},
   "outputs": [],
   "source": [
    "print(data_long[(data_long['pidn'] ==1185) & (data_long['RT']>400) & (data_long['Cond'] == 'Lure')])"
   ]
  },
  {
   "cell_type": "code",
   "execution_count": null,
   "metadata": {},
   "outputs": [],
   "source": [
    "g = sns.distplot(med_data[(med_data['Cond'] == 'Target') & (med_data['Acc'] == 'Correct')]['RT'], kde= 0, bins = 50)\n",
    "g = sns.distplot(med_data[(med_data['Cond'] == 'Lure')& (med_data['Acc'] == 'Correct')]['RT'], kde= 0, bins = 50)\n",
    "g = sns.distplot(med_data[(med_data['Cond'] == 'Foil')& (med_data['Acc'] == 'Correct')]['RT'], kde= 0, bins = 50)\n",
    "g.set(ylim=[0, 20])"
   ]
  },
  {
   "cell_type": "code",
   "execution_count": null,
   "metadata": {
    "scrolled": true
   },
   "outputs": [],
   "source": [
    "g = sns.distplot(med_data[(med_data['Cond'] == 'Target') & (med_data['Acc'] == 'Incorrect')]['RT'], kde= 0, bins = 50)\n",
    "g = sns.distplot(med_data[(med_data['Cond'] == 'Lure')& (med_data['Acc'] == 'Incorrect')]['RT'], kde= 0, bins = 50)\n",
    "g = sns.distplot(med_data[(med_data['Cond'] == 'Foil')& (med_data['Acc'] == 'Incorrect')]['RT'], kde= 0, bins = 50)\n",
    "g.set(ylim=[0, 20])\n",
    "g.set(xlim=[400, 2050])"
   ]
  },
  {
   "cell_type": "code",
   "execution_count": null,
   "metadata": {},
   "outputs": [],
   "source": [
    "\n",
    "lure_med_nr = med_data[med_data['Cond']=='Lure']\n",
    "print(lure_med_nr)"
   ]
  },
  {
   "cell_type": "code",
   "execution_count": null,
   "metadata": {},
   "outputs": [],
   "source": [
    "sns.lmplot(x='RT', y = 'dprime_bps', data= lure_med_nr)"
   ]
  },
  {
   "cell_type": "code",
   "execution_count": null,
   "metadata": {},
   "outputs": [],
   "source": [
    "pearsonr(x=lure_med_nr['RT'], y=lure_med_nr['dprime_old_lure'])"
   ]
  },
  {
   "cell_type": "code",
   "execution_count": null,
   "metadata": {},
   "outputs": [],
   "source": [
    "print(all_data[all_data['dprime_old_new']<1])"
   ]
  },
  {
   "cell_type": "code",
   "execution_count": null,
   "metadata": {
    "scrolled": false
   },
   "outputs": [],
   "source": [
    "sns.lmplot(x= 'prop_nr', y='RT', data=high_nr_med, hue='Cond', hue_order=['Target', 'Lure', 'Foil'], height=7)"
   ]
  },
  {
   "cell_type": "code",
   "execution_count": null,
   "metadata": {},
   "outputs": [],
   "source": [
    "t_med = high_nr_med[high_nr_med['Cond']=='Target']\n",
    "l_med = high_nr_med[high_nr_med['Cond']=='Lure']\n",
    "f_med = high_nr_med[high_nr_med['Cond']=='Foil']"
   ]
  },
  {
   "cell_type": "code",
   "execution_count": null,
   "metadata": {},
   "outputs": [],
   "source": [
    "pearsonr(x=t_med['prop_nr'], y = t_med['RT'])"
   ]
  },
  {
   "cell_type": "code",
   "execution_count": null,
   "metadata": {},
   "outputs": [],
   "source": [
    "pearsonr(x=f_med['prop_nr'], y = f_med['RT'])"
   ]
  },
  {
   "cell_type": "code",
   "execution_count": null,
   "metadata": {},
   "outputs": [],
   "source": [
    "pearsonr(x=l_med['prop_nr'], y = l_med['RT'])"
   ]
  },
  {
   "cell_type": "code",
   "execution_count": null,
   "metadata": {},
   "outputs": [],
   "source": [
    "pearsonr (x = high_nr_med['prop_nr'], y = high_nr_med['RT']) "
   ]
  },
  {
   "cell_type": "code",
   "execution_count": null,
   "metadata": {},
   "outputs": [],
   "source": [
    "high_nr_avg = avg_data[avg_data['prop_nr'] > .05]\n",
    "print(high_nr_avg)"
   ]
  },
  {
   "cell_type": "code",
   "execution_count": null,
   "metadata": {
    "scrolled": false
   },
   "outputs": [],
   "source": [
    "sns.lmplot(x= 'prop_nr', y='RT', data=high_nr_avg, hue='Cond', height=7)"
   ]
  },
  {
   "cell_type": "code",
   "execution_count": null,
   "metadata": {},
   "outputs": [],
   "source": [
    "g= sns.lmplot(x = 'prop_nr', y = 'dprime_old_new', data= avg_data)"
   ]
  },
  {
   "cell_type": "code",
   "execution_count": null,
   "metadata": {},
   "outputs": [],
   "source": [
    "pearsonr(x=avg_data['prop_nr'], y=avg_data['dprime_old_new'])"
   ]
  },
  {
   "cell_type": "code",
   "execution_count": null,
   "metadata": {},
   "outputs": [],
   "source": [
    "pearsonr(x=avg_data['prop_nr'], y=avg_data['dprime_bps'])"
   ]
  },
  {
   "cell_type": "code",
   "execution_count": null,
   "metadata": {},
   "outputs": [],
   "source": [
    "pearsonr(x=avg_data['prop_nr'], y=avg_data['dprime_old_lure'])"
   ]
  },
  {
   "cell_type": "code",
   "execution_count": null,
   "metadata": {},
   "outputs": [],
   "source": []
  },
  {
   "cell_type": "code",
   "execution_count": null,
   "metadata": {},
   "outputs": [],
   "source": [
    "g= sns.lmplot(x = 'prop_nr', y = 'dprime_bps', data= high_nr_avg)"
   ]
  },
  {
   "cell_type": "code",
   "execution_count": null,
   "metadata": {},
   "outputs": [],
   "source": [
    "g= sns.lmplot(x = 'prop_nr', y = 'dprime_old_lure', data= high_nr_avg)"
   ]
  },
  {
   "cell_type": "code",
   "execution_count": null,
   "metadata": {},
   "outputs": [],
   "source": [
    "high_nr_med = med_data[med_data['prop_nr']>.05]"
   ]
  },
  {
   "cell_type": "code",
   "execution_count": null,
   "metadata": {
    "scrolled": false
   },
   "outputs": [],
   "source": [
    "d= pd.DataFrame()\n",
    "row=0\n",
    "for sub in pd.unique(all_data['pidn']):\n",
    "    d.loc[row, 'pidn'] = sub\n",
    "    d.loc[row, 'num_nr'] = len(data_long[(data_long['pidn']== sub) & (data_long['RT'] == 0)])\n",
    "    d.loc[row, 'num_fast'] = len(data_long[(data_long['pidn']== sub) & (data_long['RT'] < 400) & (data_long['RT'] != 0)])\n",
    "    d.loc[row, 'num_tr_no_fast'] = 64-d.loc[row, 'num_fast']\n",
    "    d.loc[row, 'pr_nr'] = d.loc[row, 'num_nr']/d.loc[row, 'num_tr_no_fast']\n",
    "    row+=1\n",
    "    \n",
    "d = d.merge(all_data, on= 'pidn')"
   ]
  },
  {
   "cell_type": "code",
   "execution_count": null,
   "metadata": {},
   "outputs": [],
   "source": [
    "sns.lmplot(x='age', y = 'pr_nr', data=d)"
   ]
  },
  {
   "cell_type": "code",
   "execution_count": null,
   "metadata": {},
   "outputs": [],
   "source": [
    "pearsonr(x=d['age'], y=d['pr_nr'])"
   ]
  },
  {
   "cell_type": "code",
   "execution_count": null,
   "metadata": {},
   "outputs": [],
   "source": [
    "sns.lmplot(x='num_nr', y = 'num_fast', data=d)"
   ]
  },
  {
   "cell_type": "code",
   "execution_count": null,
   "metadata": {},
   "outputs": [],
   "source": [
    "pearsonr(x=d['num_nr'], y=d['num_fast'])"
   ]
  },
  {
   "cell_type": "code",
   "execution_count": null,
   "metadata": {},
   "outputs": [],
   "source": [
    "pidns = pd.unique(data_long['pidn'])\n",
    "print(pidns)"
   ]
  },
  {
   "cell_type": "code",
   "execution_count": null,
   "metadata": {},
   "outputs": [],
   "source": [
    "no_nr = data_long[data_long['RT']!=0]\n",
    "no_nr.reset_index(inplace=True, drop=True)\n",
    "#print(no_nr)"
   ]
  },
  {
   "cell_type": "code",
   "execution_count": null,
   "metadata": {},
   "outputs": [],
   "source": []
  },
  {
   "cell_type": "code",
   "execution_count": null,
   "metadata": {
    "scrolled": true
   },
   "outputs": [],
   "source": [
    "sns.distplot(trial_data['foil_trials_exl_fast'], kde=False)"
   ]
  },
  {
   "cell_type": "code",
   "execution_count": null,
   "metadata": {
    "scrolled": true
   },
   "outputs": [],
   "source": [
    "sns.distplot(trial_data['foil_trials_exl_nr'], kde=False)"
   ]
  },
  {
   "cell_type": "code",
   "execution_count": null,
   "metadata": {
    "scrolled": true
   },
   "outputs": [],
   "source": [
    "sns.distplot(trial_data['foil_trials_exl_nr_fast'], kde=False)"
   ]
  },
  {
   "cell_type": "code",
   "execution_count": null,
   "metadata": {
    "scrolled": true
   },
   "outputs": [],
   "source": [
    "sns.distplot(trial_data['targ_trials_exl_fast'], kde=False)"
   ]
  },
  {
   "cell_type": "code",
   "execution_count": null,
   "metadata": {
    "scrolled": true
   },
   "outputs": [],
   "source": [
    "sns.distplot(trial_data['lure_trials_exl_nr'], kde=False)"
   ]
  },
  {
   "cell_type": "code",
   "execution_count": null,
   "metadata": {
    "scrolled": true
   },
   "outputs": [],
   "source": [
    "sns.distplot(trial_data['lure_trials_exl_nr_fast'], kde=False)"
   ]
  },
  {
   "cell_type": "code",
   "execution_count": null,
   "metadata": {
    "scrolled": true
   },
   "outputs": [],
   "source": [
    "sns.distplot(trial_data['lure_trials_exl_fast'], kde=False)"
   ]
  },
  {
   "cell_type": "code",
   "execution_count": null,
   "metadata": {
    "scrolled": true
   },
   "outputs": [],
   "source": [
    "sns.distplot(trial_data['targ_trials_exl_nr'], kde=False)"
   ]
  },
  {
   "cell_type": "code",
   "execution_count": null,
   "metadata": {
    "scrolled": true
   },
   "outputs": [],
   "source": [
    "sns.distplot(trial_data['targ_trials_exl_nr_fast'], kde=False)"
   ]
  },
  {
   "cell_type": "code",
   "execution_count": null,
   "metadata": {},
   "outputs": [],
   "source": [
    "sns.distplot(trial_data['trials_exl_nr_fast'], kde=False)"
   ]
  },
  {
   "cell_type": "code",
   "execution_count": null,
   "metadata": {},
   "outputs": [],
   "source": [
    "sns.distplot(trial_data['trials_exl_fast'], kde=False)"
   ]
  },
  {
   "cell_type": "code",
   "execution_count": null,
   "metadata": {},
   "outputs": [],
   "source": [
    "sns.distplot(trial_data['trials_exl_nr'], kde=False)"
   ]
  },
  {
   "cell_type": "code",
   "execution_count": null,
   "metadata": {},
   "outputs": [],
   "source": [
    "print(all_data[all_data['pidn'] == 1185])"
   ]
  },
  {
   "cell_type": "code",
   "execution_count": null,
   "metadata": {},
   "outputs": [],
   "source": [
    "mid_nr_3 = data_long[(data_long['pidn']==929)]"
   ]
  },
  {
   "cell_type": "code",
   "execution_count": null,
   "metadata": {},
   "outputs": [],
   "source": [
    "sns.distplot(mid_nr_3['RT'], kde = False)"
   ]
  },
  {
   "cell_type": "code",
   "execution_count": null,
   "metadata": {},
   "outputs": [],
   "source": [
    "sns.distplot(mid_nr_3[(mid_nr_3['Acc'] == 'Correct' )]['RT'], kde = False)"
   ]
  },
  {
   "cell_type": "code",
   "execution_count": null,
   "metadata": {},
   "outputs": [],
   "source": [
    "sns.distplot(mid_nr_3[(mid_nr_3['Acc'] == 'Incorrect' )]['RT'], kde = False)"
   ]
  },
  {
   "cell_type": "code",
   "execution_count": null,
   "metadata": {
    "scrolled": true
   },
   "outputs": [],
   "source": [
    "sns.distplot(mid_nr_3[(mid_nr_3['Cond'] == 'Target' )]['RT'], kde = False)"
   ]
  },
  {
   "cell_type": "code",
   "execution_count": null,
   "metadata": {
    "scrolled": true
   },
   "outputs": [],
   "source": [
    "sns.distplot(mid_nr_3[(mid_nr_3['Cond'] == 'Target' ) & (mid_nr_3['Acc'] == 'Correct')]['RT'], kde = False)"
   ]
  },
  {
   "cell_type": "code",
   "execution_count": null,
   "metadata": {},
   "outputs": [],
   "source": [
    "sns.distplot(mid_nr_3[(mid_nr_3['Cond'] == 'Target' ) & (mid_nr_3['Acc'] == 'Incorrect')]['RT'], kde = False)"
   ]
  },
  {
   "cell_type": "code",
   "execution_count": null,
   "metadata": {},
   "outputs": [],
   "source": [
    "sns.distplot(mid_nr_3[(mid_nr_3['Cond'] == 'Lure' )]['RT'], kde = False)"
   ]
  },
  {
   "cell_type": "code",
   "execution_count": null,
   "metadata": {
    "scrolled": true
   },
   "outputs": [],
   "source": [
    "sns.distplot(mid_nr_3[(mid_nr_3['Cond'] == 'Lure' ) & (mid_nr_3['Acc'] == 'Correct')]['RT'], kde = False)"
   ]
  },
  {
   "cell_type": "code",
   "execution_count": null,
   "metadata": {},
   "outputs": [],
   "source": [
    "sns.distplot(mid_nr_3[(mid_nr_3['Cond'] == 'Lure' ) & (mid_nr_3['Acc'] == 'Incorrect')]['RT'], kde = False)\n"
   ]
  },
  {
   "cell_type": "code",
   "execution_count": null,
   "metadata": {},
   "outputs": [],
   "source": [
    "sns.distplot(mid_nr_3[(mid_nr_3['Cond'] == 'Foil' )]['RT'], kde = False)"
   ]
  },
  {
   "cell_type": "code",
   "execution_count": null,
   "metadata": {},
   "outputs": [],
   "source": [
    "sns.distplot(mid_nr_3[(mid_nr_3['Cond'] == 'Foil' ) & (mid_nr_3['Acc'] == 'Correct')]['RT'], kde = False)"
   ]
  },
  {
   "cell_type": "code",
   "execution_count": null,
   "metadata": {
    "scrolled": true
   },
   "outputs": [],
   "source": [
    "sns.distplot(mid_nr_3[(mid_nr_3['Cond'] == 'Foil' ) & (mid_nr_3['Acc'] == 'Incorrect')]['RT'], kde = False)"
   ]
  },
  {
   "cell_type": "code",
   "execution_count": null,
   "metadata": {},
   "outputs": [],
   "source": [
    "mid_nr_2 = data_long[(data_long['pidn']==859)]"
   ]
  },
  {
   "cell_type": "code",
   "execution_count": null,
   "metadata": {},
   "outputs": [],
   "source": [
    "sns.distplot(mid_nr_2['RT'], kde = False)"
   ]
  },
  {
   "cell_type": "code",
   "execution_count": null,
   "metadata": {},
   "outputs": [],
   "source": [
    "sns.distplot(mid_nr_2[(mid_nr_2['Acc'] == 'Correct' )]['RT'], kde = False)"
   ]
  },
  {
   "cell_type": "code",
   "execution_count": null,
   "metadata": {},
   "outputs": [],
   "source": [
    "sns.distplot(mid_nr_2[(mid_nr_2['Acc'] == 'Incorrect' )]['RT'], kde = False)"
   ]
  },
  {
   "cell_type": "code",
   "execution_count": null,
   "metadata": {
    "scrolled": true
   },
   "outputs": [],
   "source": [
    "sns.distplot(mid_nr_2[(mid_nr_2['Cond'] == 'Target' )]['RT'], kde = False)"
   ]
  },
  {
   "cell_type": "code",
   "execution_count": null,
   "metadata": {
    "scrolled": true
   },
   "outputs": [],
   "source": [
    "sns.distplot(mid_nr_2[(mid_nr_2['Cond'] == 'Target' ) & (mid_nr_2['Acc'] == 'Correct')]['RT'], kde = False)"
   ]
  },
  {
   "cell_type": "code",
   "execution_count": null,
   "metadata": {},
   "outputs": [],
   "source": [
    "sns.distplot(mid_nr_2[(mid_nr_2['Cond'] == 'Target' ) & (mid_nr_2['Acc'] == 'Incorrect')]['RT'], kde = False)"
   ]
  },
  {
   "cell_type": "code",
   "execution_count": null,
   "metadata": {},
   "outputs": [],
   "source": [
    "sns.distplot(mid_nr_2[(mid_nr_2['Cond'] == 'Lure' )]['RT'], kde = False)"
   ]
  },
  {
   "cell_type": "code",
   "execution_count": null,
   "metadata": {
    "scrolled": true
   },
   "outputs": [],
   "source": [
    "sns.distplot(mid_nr_2[(mid_nr_2['Cond'] == 'Lure' ) & (mid_nr_2['Acc'] == 'Correct')]['RT'], kde = False)"
   ]
  },
  {
   "cell_type": "code",
   "execution_count": null,
   "metadata": {},
   "outputs": [],
   "source": [
    "sns.distplot(mid_nr_2[(mid_nr_2['Cond'] == 'Lure' ) & (mid_nr_2['Acc'] == 'Incorrect')]['RT'], kde = False)\n"
   ]
  },
  {
   "cell_type": "code",
   "execution_count": null,
   "metadata": {},
   "outputs": [],
   "source": [
    "sns.distplot(mid_nr_2[(mid_nr_2['Cond'] == 'Foil' )]['RT'], kde = False)"
   ]
  },
  {
   "cell_type": "code",
   "execution_count": null,
   "metadata": {},
   "outputs": [],
   "source": [
    "sns.distplot(mid_nr_2[(mid_nr_2['Cond'] == 'Foil' ) & (mid_nr_2['Acc'] == 'Correct')]['RT'], kde = False)"
   ]
  },
  {
   "cell_type": "code",
   "execution_count": null,
   "metadata": {
    "scrolled": true
   },
   "outputs": [],
   "source": [
    "sns.distplot(mid_nr_2[(mid_nr_2['Cond'] == 'Foil' ) & (mid_nr_2['Acc'] == 'Incorrect')]['RT'], kde = False)"
   ]
  },
  {
   "cell_type": "code",
   "execution_count": null,
   "metadata": {},
   "outputs": [],
   "source": [
    "mid_nr_1 = data_long[(data_long['pidn']==721)]"
   ]
  },
  {
   "cell_type": "code",
   "execution_count": null,
   "metadata": {},
   "outputs": [],
   "source": [
    "sns.distplot(mid_nr_1['RT'], kde = False)"
   ]
  },
  {
   "cell_type": "code",
   "execution_count": null,
   "metadata": {},
   "outputs": [],
   "source": [
    "sns.distplot(mid_nr_1[(mid_nr_1['Acc'] == 'Correct' )]['RT'], kde = False)"
   ]
  },
  {
   "cell_type": "code",
   "execution_count": null,
   "metadata": {},
   "outputs": [],
   "source": [
    "sns.distplot(mid_nr_1[(mid_nr_1['Acc'] == 'Incorrect' )]['RT'], kde = False)"
   ]
  },
  {
   "cell_type": "code",
   "execution_count": null,
   "metadata": {
    "scrolled": true
   },
   "outputs": [],
   "source": [
    "sns.distplot(mid_nr_1[(mid_nr_1['Cond'] == 'Target' )]['RT'], kde = False)"
   ]
  },
  {
   "cell_type": "code",
   "execution_count": null,
   "metadata": {
    "scrolled": true
   },
   "outputs": [],
   "source": [
    "sns.distplot(mid_nr_1[(mid_nr_1['Cond'] == 'Target' ) & (mid_nr_1['Acc'] == 'Correct')]['RT'], kde = False)"
   ]
  },
  {
   "cell_type": "code",
   "execution_count": null,
   "metadata": {},
   "outputs": [],
   "source": [
    "sns.distplot(mid_nr_1[(mid_nr_1['Cond'] == 'Target' ) & (mid_nr_1['Acc'] == 'Incorrect')]['RT'], kde = False)"
   ]
  },
  {
   "cell_type": "code",
   "execution_count": null,
   "metadata": {},
   "outputs": [],
   "source": [
    "sns.distplot(mid_nr_1[(mid_nr_1['Cond'] == 'Lure' )]['RT'], kde = False)"
   ]
  },
  {
   "cell_type": "code",
   "execution_count": null,
   "metadata": {
    "scrolled": true
   },
   "outputs": [],
   "source": [
    "sns.distplot(mid_nr_1[(mid_nr_1['Cond'] == 'Lure' ) & (mid_nr_1['Acc'] == 'Correct')]['RT'], kde = False)"
   ]
  },
  {
   "cell_type": "code",
   "execution_count": null,
   "metadata": {},
   "outputs": [],
   "source": [
    "sns.distplot(mid_nr_1[(mid_nr_1['Cond'] == 'Lure' ) & (mid_nr_1['Acc'] == 'Incorrect')]['RT'], kde = False)\n"
   ]
  },
  {
   "cell_type": "code",
   "execution_count": null,
   "metadata": {},
   "outputs": [],
   "source": [
    "sns.distplot(mid_nr_1[(mid_nr_1['Cond'] == 'Foil' )]['RT'], kde = False)"
   ]
  },
  {
   "cell_type": "code",
   "execution_count": null,
   "metadata": {},
   "outputs": [],
   "source": [
    "sns.distplot(mid_nr_1[(mid_nr_1['Cond'] == 'Foil' ) & (mid_nr_1['Acc'] == 'Correct')]['RT'], kde = False)"
   ]
  },
  {
   "cell_type": "code",
   "execution_count": null,
   "metadata": {
    "scrolled": false
   },
   "outputs": [],
   "source": [
    "sns.distplot(mid_nr_1[(mid_nr_1['Cond'] == 'Foil' ) & (mid_nr_1['Acc'] == 'Incorrect')]['RT'], kde = False)"
   ]
  },
  {
   "cell_type": "code",
   "execution_count": null,
   "metadata": {},
   "outputs": [],
   "source": [
    "high_nr_3 = data_long[(data_long['pidn']==1045)]"
   ]
  },
  {
   "cell_type": "code",
   "execution_count": null,
   "metadata": {},
   "outputs": [],
   "source": [
    "sns.distplot(high_nr_3['RT'], kde = False)"
   ]
  },
  {
   "cell_type": "code",
   "execution_count": null,
   "metadata": {},
   "outputs": [],
   "source": [
    "sns.distplot(high_nr_3[(high_nr_3['Acc'] == 'Correct' )]['RT'], kde = False)"
   ]
  },
  {
   "cell_type": "code",
   "execution_count": null,
   "metadata": {},
   "outputs": [],
   "source": [
    "sns.distplot(high_nr_3[(high_nr_3['Acc'] == 'Incorrect' )]['RT'], kde = False)"
   ]
  },
  {
   "cell_type": "code",
   "execution_count": null,
   "metadata": {
    "scrolled": true
   },
   "outputs": [],
   "source": [
    "sns.distplot(high_nr_3[(high_nr_3['Cond'] == 'Target' )]['RT'], kde = False)"
   ]
  },
  {
   "cell_type": "code",
   "execution_count": null,
   "metadata": {
    "scrolled": true
   },
   "outputs": [],
   "source": [
    "sns.distplot(high_nr_3[(high_nr_3['Cond'] == 'Target' ) & (high_nr_3['Acc'] == 'Correct')]['RT'], kde = False)"
   ]
  },
  {
   "cell_type": "code",
   "execution_count": null,
   "metadata": {},
   "outputs": [],
   "source": [
    "sns.distplot(high_nr_3[(high_nr_3['Cond'] == 'Target' ) & (high_nr_3['Acc'] == 'Incorrect')]['RT'], kde = False)"
   ]
  },
  {
   "cell_type": "code",
   "execution_count": null,
   "metadata": {},
   "outputs": [],
   "source": [
    "sns.distplot(high_nr_3[(high_nr_3['Cond'] == 'Lure' )]['RT'], kde = False)"
   ]
  },
  {
   "cell_type": "code",
   "execution_count": null,
   "metadata": {},
   "outputs": [],
   "source": [
    "sns.distplot(high_nr_3[(high_nr_3['Cond'] == 'Lure' ) & (high_nr_3['Acc'] == 'Correct')]['RT'], kde = False)"
   ]
  },
  {
   "cell_type": "code",
   "execution_count": null,
   "metadata": {},
   "outputs": [],
   "source": [
    "sns.distplot(high_nr_3[(high_nr_3['Cond'] == 'Lure' ) & (high_nr_3['Acc'] == 'Incorrect')]['RT'], kde = False)"
   ]
  },
  {
   "cell_type": "code",
   "execution_count": null,
   "metadata": {},
   "outputs": [],
   "source": [
    "sns.distplot(high_nr_3[(high_nr_3['Cond'] == 'Foil' )]['RT'], kde = False)"
   ]
  },
  {
   "cell_type": "code",
   "execution_count": null,
   "metadata": {},
   "outputs": [],
   "source": [
    "sns.distplot(high_nr_3[(high_nr_3['Cond'] == 'Foil' ) & (high_nr_3['Acc'] == 'Correct')]['RT'], kde = False)"
   ]
  },
  {
   "cell_type": "code",
   "execution_count": null,
   "metadata": {
    "scrolled": false
   },
   "outputs": [],
   "source": [
    "sns.distplot(high_nr_3[(high_nr_3['Cond'] == 'Foil' ) & (high_nr_3['Acc'] == 'Incorrect')]['RT'], kde = False)"
   ]
  },
  {
   "cell_type": "code",
   "execution_count": null,
   "metadata": {},
   "outputs": [],
   "source": [
    "high_nr_2 = data_long[(data_long['pidn']==987)]"
   ]
  },
  {
   "cell_type": "code",
   "execution_count": null,
   "metadata": {},
   "outputs": [],
   "source": [
    "sns.distplot(high_nr_2['RT'], kde = False)"
   ]
  },
  {
   "cell_type": "code",
   "execution_count": null,
   "metadata": {},
   "outputs": [],
   "source": [
    "sns.distplot(high_nr_2[(high_nr_2['Acc'] == 'Correct' )]['RT'], kde = False)"
   ]
  },
  {
   "cell_type": "code",
   "execution_count": null,
   "metadata": {},
   "outputs": [],
   "source": [
    "sns.distplot(high_nr_2[(high_nr_2['Acc'] == 'Incorrect' )]['RT'], kde = False)"
   ]
  },
  {
   "cell_type": "code",
   "execution_count": null,
   "metadata": {
    "scrolled": true
   },
   "outputs": [],
   "source": [
    "sns.distplot(high_nr_2[(high_nr_2['Cond'] == 'Target' )]['RT'], kde = False)"
   ]
  },
  {
   "cell_type": "code",
   "execution_count": null,
   "metadata": {
    "scrolled": true
   },
   "outputs": [],
   "source": [
    "sns.distplot(high_nr_2[(high_nr_2['Cond'] == 'Target' ) & (high_nr_2['Acc'] == 'Correct')]['RT'], kde = False)"
   ]
  },
  {
   "cell_type": "code",
   "execution_count": null,
   "metadata": {},
   "outputs": [],
   "source": [
    "sns.distplot(high_nr_2[(high_nr_2['Cond'] == 'Target' ) & (high_nr_2['Acc'] == 'Incorrect')]['RT'], kde = False)"
   ]
  },
  {
   "cell_type": "code",
   "execution_count": null,
   "metadata": {},
   "outputs": [],
   "source": [
    "sns.distplot(high_nr_2[(high_nr_2['Cond'] == 'Lure' )]['RT'], kde = False)"
   ]
  },
  {
   "cell_type": "code",
   "execution_count": null,
   "metadata": {},
   "outputs": [],
   "source": [
    "sns.distplot(high_nr_2[(high_nr_2['Cond'] == 'Lure' ) & (high_nr_2['Acc'] == 'Correct')]['RT'], kde = False)"
   ]
  },
  {
   "cell_type": "code",
   "execution_count": null,
   "metadata": {},
   "outputs": [],
   "source": [
    "sns.distplot(high_nr_2[(high_nr_2['Cond'] == 'Lure' ) & (high_nr_2['Acc'] == 'Incorrect')]['RT'], kde = False)"
   ]
  },
  {
   "cell_type": "code",
   "execution_count": null,
   "metadata": {},
   "outputs": [],
   "source": [
    "sns.distplot(high_nr_2[(high_nr_2['Cond'] == 'Foil' )]['RT'], kde = False)"
   ]
  },
  {
   "cell_type": "code",
   "execution_count": null,
   "metadata": {},
   "outputs": [],
   "source": [
    "sns.distplot(high_nr_2[(high_nr_2['Cond'] == 'Foil' ) & (high_nr_2['Acc'] == 'Correct')]['RT'], kde = False)"
   ]
  },
  {
   "cell_type": "code",
   "execution_count": null,
   "metadata": {
    "scrolled": true
   },
   "outputs": [],
   "source": [
    "sns.distplot(high_nr_2[(high_nr_2['Cond'] == 'Foil' ) & (high_nr_2['Acc'] == 'Incorrect')]['RT'], kde = False)"
   ]
  },
  {
   "cell_type": "code",
   "execution_count": null,
   "metadata": {},
   "outputs": [],
   "source": [
    "high_nr_1 = data_long[(data_long['pidn']==732)]"
   ]
  },
  {
   "cell_type": "code",
   "execution_count": null,
   "metadata": {},
   "outputs": [],
   "source": [
    "sns.distplot(high_nr_1['RT'], kde = False)"
   ]
  },
  {
   "cell_type": "code",
   "execution_count": null,
   "metadata": {},
   "outputs": [],
   "source": [
    "sns.distplot(high_nr_1[high_nr_1['Acc'] == 'Correct']['RT'], kde = False)"
   ]
  },
  {
   "cell_type": "code",
   "execution_count": null,
   "metadata": {},
   "outputs": [],
   "source": [
    "sns.distplot(high_nr_1[high_nr_1['Acc'] == 'Incorrect']['RT'], kde = False)"
   ]
  },
  {
   "cell_type": "code",
   "execution_count": null,
   "metadata": {},
   "outputs": [],
   "source": [
    "sns.distplot(high_nr_1[(high_nr_1['Cond'] == 'Target' )]['RT'], kde = False)"
   ]
  },
  {
   "cell_type": "code",
   "execution_count": null,
   "metadata": {},
   "outputs": [],
   "source": [
    "sns.distplot(high_nr_1[(high_nr_1['Cond'] == 'Target' )& (high_nr_1['Acc'] == 'Correct')]['RT'], kde = False)"
   ]
  },
  {
   "cell_type": "code",
   "execution_count": null,
   "metadata": {},
   "outputs": [],
   "source": [
    "sns.distplot(high_nr_1[(high_nr_1['Cond'] == 'Target' )& (high_nr_1['Acc'] == 'Incorrect')]['RT'], kde = False)"
   ]
  },
  {
   "cell_type": "code",
   "execution_count": null,
   "metadata": {},
   "outputs": [],
   "source": [
    "sns.distplot(high_nr_1[(high_nr_1['Cond'] == 'Lure' )]['RT'], kde = False)"
   ]
  },
  {
   "cell_type": "code",
   "execution_count": null,
   "metadata": {},
   "outputs": [],
   "source": [
    "sns.distplot(high_nr_1[(high_nr_1['Cond'] == 'Lure' )& (high_nr_1['Acc'] == 'Correct')]['RT'], kde = False)"
   ]
  },
  {
   "cell_type": "code",
   "execution_count": null,
   "metadata": {},
   "outputs": [],
   "source": [
    "sns.distplot(high_nr_1[(high_nr_1['Cond'] == 'Lure' )& (high_nr_1['Acc'] == 'Incorrect')]['RT'], kde = False)"
   ]
  },
  {
   "cell_type": "code",
   "execution_count": null,
   "metadata": {},
   "outputs": [],
   "source": [
    "sns.distplot(high_nr_1[(high_nr_1['Cond'] == 'Foil' )]['RT'], kde = False)"
   ]
  },
  {
   "cell_type": "code",
   "execution_count": null,
   "metadata": {},
   "outputs": [],
   "source": [
    "sns.distplot(high_nr_1[(high_nr_1['Cond'] == 'Foil' )& (high_nr_1['Acc'] == 'Correct')]['RT'], kde = False)"
   ]
  },
  {
   "cell_type": "code",
   "execution_count": null,
   "metadata": {},
   "outputs": [],
   "source": [
    "sns.distplot(high_nr_1[(high_nr_1['Cond'] == 'Foil' )& (high_nr_1['Acc'] == 'Incorrect')]['RT'], kde = False)"
   ]
  },
  {
   "cell_type": "code",
   "execution_count": null,
   "metadata": {},
   "outputs": [],
   "source": [
    "no_nr_2 = data_long[(data_long['pidn'] == 534)]"
   ]
  },
  {
   "cell_type": "code",
   "execution_count": null,
   "metadata": {},
   "outputs": [],
   "source": [
    "sns.distplot(no_nr_2['RT'], kde = False)"
   ]
  },
  {
   "cell_type": "code",
   "execution_count": null,
   "metadata": {},
   "outputs": [],
   "source": [
    "sns.distplot(no_nr_2[no_nr_2['Acc'] == 'Correct']['RT'], kde = False)"
   ]
  },
  {
   "cell_type": "code",
   "execution_count": null,
   "metadata": {},
   "outputs": [],
   "source": [
    "sns.distplot(no_nr_2[no_nr_2['Acc'] == 'Incorrect']['RT'], kde = False)"
   ]
  },
  {
   "cell_type": "code",
   "execution_count": null,
   "metadata": {},
   "outputs": [],
   "source": [
    "sns.distplot(no_nr_2[(no_nr_2['Cond'] == 'Target' )]['RT'], kde = False)"
   ]
  },
  {
   "cell_type": "code",
   "execution_count": null,
   "metadata": {},
   "outputs": [],
   "source": [
    "sns.distplot(no_nr_2[(no_nr_2['Cond'] == 'Target' )& (no_nr_2['Acc'] == 'Correct')]['RT'], kde = False)"
   ]
  },
  {
   "cell_type": "code",
   "execution_count": null,
   "metadata": {},
   "outputs": [],
   "source": [
    "sns.distplot(no_nr_2[(no_nr_2['Cond'] == 'Target' )& (no_nr_2['Acc'] == 'Incorrect')]['RT'], kde = False)"
   ]
  },
  {
   "cell_type": "code",
   "execution_count": null,
   "metadata": {},
   "outputs": [],
   "source": [
    "sns.distplot(no_nr_2[(no_nr_2['Cond'] == 'Lure' )]['RT'], kde = False)"
   ]
  },
  {
   "cell_type": "code",
   "execution_count": null,
   "metadata": {},
   "outputs": [],
   "source": [
    "sns.distplot(no_nr_2[(no_nr_2['Cond'] == 'Lure' )& (no_nr_2['Acc'] == 'Correct')]['RT'], kde = False)"
   ]
  },
  {
   "cell_type": "code",
   "execution_count": null,
   "metadata": {},
   "outputs": [],
   "source": [
    "sns.distplot(no_nr_2[(no_nr_2['Cond'] == 'Lure' )& (no_nr_2['Acc'] == 'Incorrect')]['RT'], kde = False)"
   ]
  },
  {
   "cell_type": "code",
   "execution_count": null,
   "metadata": {},
   "outputs": [],
   "source": [
    "sns.distplot(no_nr_2[(no_nr_2['Cond'] == 'Foil' )]['RT'], kde = False)"
   ]
  },
  {
   "cell_type": "code",
   "execution_count": null,
   "metadata": {},
   "outputs": [],
   "source": [
    "sns.distplot(no_nr_2[(no_nr_2['Cond'] == 'Foil' )& (no_nr_2['Acc'] == 'Correct')]['RT'], kde = False)"
   ]
  },
  {
   "cell_type": "code",
   "execution_count": null,
   "metadata": {},
   "outputs": [],
   "source": [
    "sns.distplot(no_nr_2[(no_nr_2['Cond'] == 'Foil' )& (no_nr_2['Acc'] == 'Incorrect')]['RT'], kde = False)"
   ]
  },
  {
   "cell_type": "code",
   "execution_count": null,
   "metadata": {},
   "outputs": [],
   "source": [
    "no_nr_1 = data_long[(data_long['pidn'] == 532)]"
   ]
  },
  {
   "cell_type": "code",
   "execution_count": null,
   "metadata": {},
   "outputs": [],
   "source": [
    "sns.distplot(no_nr_1['RT'], kde = False)"
   ]
  },
  {
   "cell_type": "code",
   "execution_count": null,
   "metadata": {},
   "outputs": [],
   "source": [
    "sns.distplot(no_nr_1[no_nr_1['Acc'] == 'Correct']['RT'], kde = False)"
   ]
  },
  {
   "cell_type": "code",
   "execution_count": null,
   "metadata": {},
   "outputs": [],
   "source": [
    "sns.distplot(no_nr_1[no_nr_1['Acc'] == 'Incorrect']['RT'], kde = False)"
   ]
  },
  {
   "cell_type": "code",
   "execution_count": null,
   "metadata": {},
   "outputs": [],
   "source": [
    "sns.distplot(no_nr_1[no_nr_1['Cond'] == 'Target']['RT'], kde = False)"
   ]
  },
  {
   "cell_type": "code",
   "execution_count": null,
   "metadata": {},
   "outputs": [],
   "source": [
    "sns.distplot(no_nr_1[(no_nr_1['Cond'] == 'Target' )& (no_nr_1['Acc'] == 'Correct')]['RT'], kde = False)"
   ]
  },
  {
   "cell_type": "code",
   "execution_count": null,
   "metadata": {},
   "outputs": [],
   "source": [
    "sns.distplot(no_nr_1[(no_nr_1['Cond'] == 'Target' )& (no_nr_1['Acc'] == 'Incorrect')]['RT'], kde = False)"
   ]
  },
  {
   "cell_type": "code",
   "execution_count": null,
   "metadata": {},
   "outputs": [],
   "source": [
    "sns.distplot(no_nr_1[no_nr_1['Cond'] == 'Lure']['RT'], kde = False)"
   ]
  },
  {
   "cell_type": "code",
   "execution_count": null,
   "metadata": {},
   "outputs": [],
   "source": [
    "sns.distplot(no_nr_1[(no_nr_1['Cond'] == 'Lure' )& (no_nr_1['Acc'] == 'Correct')]['RT'], kde = False)"
   ]
  },
  {
   "cell_type": "code",
   "execution_count": null,
   "metadata": {},
   "outputs": [],
   "source": [
    "sns.distplot(no_nr_1[(no_nr_1['Cond'] == 'Lure' )& (no_nr_1['Acc'] == 'Incorrect')]['RT'], kde = False)"
   ]
  },
  {
   "cell_type": "code",
   "execution_count": null,
   "metadata": {},
   "outputs": [],
   "source": [
    "sns.distplot(no_nr_1[no_nr_1['Cond'] == 'Foil']['RT'], kde = False)"
   ]
  },
  {
   "cell_type": "code",
   "execution_count": null,
   "metadata": {},
   "outputs": [],
   "source": [
    "sns.distplot(no_nr_1[(no_nr_1['Cond'] == 'Foil' )& (no_nr_1['Acc'] == 'Correct')]['RT'], kde = False)"
   ]
  },
  {
   "cell_type": "code",
   "execution_count": null,
   "metadata": {},
   "outputs": [],
   "source": [
    "sns.distplot(no_nr_1[(no_nr_1['Cond'] == 'Foil' )& (no_nr_1['Acc'] == 'Incorrect')]['RT'], kde = False)"
   ]
  },
  {
   "cell_type": "code",
   "execution_count": null,
   "metadata": {},
   "outputs": [],
   "source": [
    "pd.unique(all_data[(all_data['prop_nr']>.1) & (all_data['prop_nr']<.12)]['pidn'])"
   ]
  },
  {
   "cell_type": "code",
   "execution_count": null,
   "metadata": {},
   "outputs": [],
   "source": [
    "#truncate data for non-real reaction times\n",
    "data_long.loc[data_long['RT'] > 2000, 'RT'] = 2000\n",
    "\n",
    "data_long = data_long[(data_long.RT >400) | (data_long.RT ==0)]\n",
    "data_long.reset_index(inplace=True)\n",
    "print(data_long)"
   ]
  },
  {
   "cell_type": "code",
   "execution_count": null,
   "metadata": {},
   "outputs": [],
   "source": [
    "data_med_RT = data_long.groupby(['pidn','Cond', 'Resp']).median().reset_index()\n",
    "data_med_RT = data_med_RT.merge(all_data, on='pidn')\n",
    "print(data_med_RT)"
   ]
  },
  {
   "cell_type": "code",
   "execution_count": null,
   "metadata": {},
   "outputs": [],
   "source": [
    "print(data_med_RT[data_med_RT['pidn']==1045])"
   ]
  },
  {
   "cell_type": "code",
   "execution_count": null,
   "metadata": {},
   "outputs": [],
   "source": [
    "sns.lmplot(x='RT', y= 'dprime_old_lure', data = data_med_RT[data_med_RT['Cond']=='Lure'], hue_order=['Target', 'Lure', 'Foil'])"
   ]
  },
  {
   "cell_type": "code",
   "execution_count": null,
   "metadata": {},
   "outputs": [],
   "source": [
    "sns.distplot(data_med_RT['RT'], kde=False)"
   ]
  },
  {
   "cell_type": "code",
   "execution_count": null,
   "metadata": {},
   "outputs": [],
   "source": [
    "sns.distplot(data_med_RT[data_med_RT['Acc']=='Correct']['RT'], kde = False)"
   ]
  },
  {
   "cell_type": "code",
   "execution_count": null,
   "metadata": {},
   "outputs": [],
   "source": [
    "sns.distplot(data_med_RT[data_med_RT['Acc']=='Incorrect']['RT'], kde = False)"
   ]
  },
  {
   "cell_type": "code",
   "execution_count": null,
   "metadata": {
    "scrolled": false
   },
   "outputs": [],
   "source": [
    "sns.distplot(data_med_RT[data_med_RT['Cond']=='Target']['RT'], kde = False)"
   ]
  },
  {
   "cell_type": "code",
   "execution_count": null,
   "metadata": {
    "scrolled": true
   },
   "outputs": [],
   "source": [
    "sns.distplot(data_med_RT[(data_med_RT['Cond']=='Target') & (data_med_RT['Acc']=='Correct') ]['RT'], kde = False)"
   ]
  },
  {
   "cell_type": "code",
   "execution_count": null,
   "metadata": {
    "scrolled": true
   },
   "outputs": [],
   "source": [
    "sns.distplot(data_med_RT[(data_med_RT['Cond']=='Target') & (data_med_RT['Acc']=='Incorrect') ]['RT'], kde = False)"
   ]
  },
  {
   "cell_type": "code",
   "execution_count": null,
   "metadata": {
    "scrolled": true
   },
   "outputs": [],
   "source": [
    "sns.distplot(data_med_RT[data_med_RT['Cond']=='Lure']['RT'], kde = False)"
   ]
  },
  {
   "cell_type": "code",
   "execution_count": null,
   "metadata": {},
   "outputs": [],
   "source": []
  },
  {
   "cell_type": "code",
   "execution_count": null,
   "metadata": {
    "scrolled": false
   },
   "outputs": [],
   "source": [
    "sns.distplot(data_med_RT[(data_med_RT['Cond']=='Lure') & (data_med_RT['Acc']=='Correct') ]['RT'], kde = False)"
   ]
  },
  {
   "cell_type": "code",
   "execution_count": null,
   "metadata": {
    "scrolled": true
   },
   "outputs": [],
   "source": [
    "sns.distplot(data_med_RT[(data_med_RT['Cond']=='Lure') & (data_med_RT['Acc']=='Incorrect') ]['RT'], kde = False)"
   ]
  },
  {
   "cell_type": "code",
   "execution_count": null,
   "metadata": {
    "scrolled": true
   },
   "outputs": [],
   "source": [
    "sns.distplot(data_med_RT[data_med_RT['Cond']=='Foil']['RT'], kde = False)"
   ]
  },
  {
   "cell_type": "code",
   "execution_count": null,
   "metadata": {
    "scrolled": false
   },
   "outputs": [],
   "source": [
    "sns.distplot(data_med_RT[(data_med_RT['Cond']=='Foil') & (data_med_RT['Acc']=='Correct') ]['RT'], kde = False)"
   ]
  },
  {
   "cell_type": "code",
   "execution_count": null,
   "metadata": {
    "scrolled": false
   },
   "outputs": [],
   "source": [
    "sns.distplot(data_med_RT[(data_med_RT['Cond']=='Foil') & (data_med_RT['Acc']=='Incorrect') ]['RT'], kde = False)"
   ]
  },
  {
   "cell_type": "code",
   "execution_count": null,
   "metadata": {
    "scrolled": false
   },
   "outputs": [],
   "source": [
    "med_RT = data_long.groupby(['pidn']).median().reset_index()\n",
    "med_RT = med_RT.merge(all_data, on='pidn')\n",
    "print(med_RT[med_RT['RT']<1000])"
   ]
  },
  {
   "cell_type": "code",
   "execution_count": null,
   "metadata": {},
   "outputs": [],
   "source": []
  },
  {
   "cell_type": "code",
   "execution_count": null,
   "metadata": {
    "scrolled": true
   },
   "outputs": [],
   "source": [
    "sns.lmplot(x='RT', y='dprime_bps', data=med_RT)"
   ]
  },
  {
   "cell_type": "code",
   "execution_count": null,
   "metadata": {},
   "outputs": [],
   "source": [
    "pearsonr(x=med_RT['RT'], y=med_RT['dprime_bps'])"
   ]
  },
  {
   "cell_type": "code",
   "execution_count": null,
   "metadata": {},
   "outputs": [],
   "source": [
    "pearsonr(x=med_RT['RT'], y=med_RT['dprime_old_new'])"
   ]
  },
  {
   "cell_type": "code",
   "execution_count": null,
   "metadata": {},
   "outputs": [],
   "source": [
    "pearsonr(x=med_RT['RT'], y=med_RT['dprime_old_lure'])"
   ]
  },
  {
   "cell_type": "code",
   "execution_count": null,
   "metadata": {
    "scrolled": true
   },
   "outputs": [],
   "source": [
    "sns.lmplot(x='RT', y='dprime_old_new', data=med_RT)"
   ]
  },
  {
   "cell_type": "code",
   "execution_count": null,
   "metadata": {
    "scrolled": true
   },
   "outputs": [],
   "source": [
    "sns.lmplot(x='RT', y='dprime_old_lure', data=med_RT)"
   ]
  },
  {
   "cell_type": "code",
   "execution_count": null,
   "metadata": {
    "scrolled": true
   },
   "outputs": [],
   "source": [
    "sns.lmplot(x='age', y='RT', data=med_RT)"
   ]
  },
  {
   "cell_type": "code",
   "execution_count": null,
   "metadata": {},
   "outputs": [],
   "source": [
    "c_med_RT = data_long.groupby(['pidn', 'Acc']).median().reset_index()\n",
    "c_med_RT = c_med_RT.merge(all_data, on='pidn')\n",
    "print(c_med_RT)"
   ]
  },
  {
   "cell_type": "code",
   "execution_count": null,
   "metadata": {
    "scrolled": true
   },
   "outputs": [],
   "source": [
    "sns.lmplot(x='age', y='RT', data=(c_med_RT[c_med_RT['Acc']=='Correct']))"
   ]
  },
  {
   "cell_type": "code",
   "execution_count": null,
   "metadata": {},
   "outputs": [],
   "source": [
    "pearsonr(x=c_med_RT[c_med_RT['Acc']=='Correct']['RT'], y=c_med_RT[c_med_RT['Acc']=='Correct']['age'])"
   ]
  },
  {
   "cell_type": "code",
   "execution_count": null,
   "metadata": {},
   "outputs": [],
   "source": [
    "pearsonr(x=med_RT['RT'], y=med_RT['age'])"
   ]
  },
  {
   "cell_type": "code",
   "execution_count": null,
   "metadata": {},
   "outputs": [],
   "source": [
    "pearsonr(x=c_med_RT[c_med_RT['Acc']=='Incorrect']['RT'], y=c_med_RT[c_med_RT['Acc']=='Incorrect']['age'])"
   ]
  },
  {
   "cell_type": "code",
   "execution_count": null,
   "metadata": {},
   "outputs": [],
   "source": [
    "pearsonr(x=c_med_RT[(c_med_RT['Acc']=='Incorrect') & (c_med_RT['Cond']=='Targ')]['RT'], y=c_med_RT[(c_med_RT['Acc']=='Incorrect') & ([c_med_RT['Cond']=='Targ'])]['age'])"
   ]
  },
  {
   "cell_type": "code",
   "execution_count": null,
   "metadata": {},
   "outputs": [],
   "source": [
    "sns.lmplot(x='age', y='RT', data=(c_med_RT[c_med_RT['Acc']=='Incorrect']))"
   ]
  },
  {
   "cell_type": "code",
   "execution_count": null,
   "metadata": {},
   "outputs": [],
   "source": [
    "sns.lmplot(x='age', y='RT', data=(data_med_RT[data_med_RT['Cond']=='Target']))"
   ]
  },
  {
   "cell_type": "code",
   "execution_count": null,
   "metadata": {
    "scrolled": false
   },
   "outputs": [],
   "source": [
    "sns.lmplot(x='age', y='RT', data=(data_med_RT[(data_med_RT['Cond']=='Target') & (data_med_RT['Acc']=='Correct')]))"
   ]
  },
  {
   "cell_type": "code",
   "execution_count": null,
   "metadata": {
    "scrolled": true
   },
   "outputs": [],
   "source": [
    "pearsonr(x=data_med_RT[(data_med_RT['Cond']=='Target') & (data_med_RT['Acc']=='Correct')]['age'], y=data_med_RT[(data_med_RT['Cond']=='Target') & (data_med_RT['Acc']=='Correct')]['RT'])"
   ]
  },
  {
   "cell_type": "code",
   "execution_count": null,
   "metadata": {
    "scrolled": true
   },
   "outputs": [],
   "source": [
    "pearsonr(x=data_med_RT[(data_med_RT['Cond']=='Target') & (data_med_RT['Acc']=='Incorrect')]['age'], y=data_med_RT[(data_med_RT['Cond']=='Target') & (data_med_RT['Acc']=='Incorrect')]['RT'])"
   ]
  },
  {
   "cell_type": "code",
   "execution_count": null,
   "metadata": {
    "scrolled": true
   },
   "outputs": [],
   "source": [
    "pearsonr(x=data_med_RT[(data_med_RT['Cond']=='Lure') & (data_med_RT['Acc']=='Correct')]['age'], y=data_med_RT[(data_med_RT['Cond']=='Lure') & (data_med_RT['Acc']=='Correct')]['RT'])"
   ]
  },
  {
   "cell_type": "code",
   "execution_count": null,
   "metadata": {
    "scrolled": true
   },
   "outputs": [],
   "source": [
    "pearsonr(x=data_med_RT[(data_med_RT['Cond']=='Lure') & (data_med_RT['Acc']=='Incorrect')]['age'], y=data_med_RT[(data_med_RT['Cond']=='Lure') & (data_med_RT['Acc']=='Incorrect')]['RT'])"
   ]
  },
  {
   "cell_type": "code",
   "execution_count": null,
   "metadata": {
    "scrolled": true
   },
   "outputs": [],
   "source": [
    "pearsonr(x=data_med_RT[(data_med_RT['Cond']=='Foil') & (data_med_RT['Acc']=='Correct')]['age'], y=data_med_RT[(data_med_RT['Cond']=='Foil') & (data_med_RT['Acc']=='Correct')]['RT'])"
   ]
  },
  {
   "cell_type": "code",
   "execution_count": null,
   "metadata": {
    "scrolled": true
   },
   "outputs": [],
   "source": [
    "pearsonr(x=data_med_RT[(data_med_RT['Cond']=='Foil') & (data_med_RT['Acc']=='Incorrect')]['age'], y=data_med_RT[(data_med_RT['Cond']=='Foil') & (data_med_RT['Acc']=='Incorrect')]['RT'])"
   ]
  },
  {
   "cell_type": "code",
   "execution_count": null,
   "metadata": {
    "scrolled": true
   },
   "outputs": [],
   "source": [
    "sns.lmplot(x='RT', y='dprime_bps', data=data_avg_RT)"
   ]
  },
  {
   "cell_type": "code",
   "execution_count": null,
   "metadata": {
    "scrolled": true
   },
   "outputs": [],
   "source": [
    "sns.lmplot(x='RT', y='dprime_old_new', data=data_avg_RT)"
   ]
  },
  {
   "cell_type": "code",
   "execution_count": null,
   "metadata": {
    "scrolled": true
   },
   "outputs": [],
   "source": [
    "sns.lmplot(x='RT', y='dprime_old_lure', data=data_avg_RT)"
   ]
  },
  {
   "cell_type": "code",
   "execution_count": null,
   "metadata": {
    "scrolled": true
   },
   "outputs": [],
   "source": [
    "sns.lmplot(x='RT', y='dprime_bps', data=data_avg_RT)"
   ]
  },
  {
   "cell_type": "code",
   "execution_count": null,
   "metadata": {
    "scrolled": true
   },
   "outputs": [],
   "source": [
    "sns.lmplot(x='RT', y='dprime_old_new', data=data_avg_RT)"
   ]
  },
  {
   "cell_type": "code",
   "execution_count": null,
   "metadata": {
    "scrolled": true
   },
   "outputs": [],
   "source": [
    "sns.lmplot(x='RT', y='dprime_old_lure', data=data_avg_RT)"
   ]
  },
  {
   "cell_type": "code",
   "execution_count": null,
   "metadata": {},
   "outputs": [],
   "source": []
  },
  {
   "cell_type": "code",
   "execution_count": null,
   "metadata": {
    "scrolled": true
   },
   "outputs": [],
   "source": [
    "sns.lmplot(x='age', y='RT', data=(data_med_RT[(data_med_RT['Cond']=='Target') & (data_med_RT['Acc']=='Incorrect')]))"
   ]
  },
  {
   "cell_type": "code",
   "execution_count": null,
   "metadata": {
    "scrolled": true
   },
   "outputs": [],
   "source": [
    "sns.lmplot(x='age', y='RT', data=(data_med_RT[(data_med_RT['Cond']=='Lure') & (data_med_RT['Acc']=='Correct')]))"
   ]
  },
  {
   "cell_type": "code",
   "execution_count": null,
   "metadata": {
    "scrolled": true
   },
   "outputs": [],
   "source": [
    "sns.lmplot(x='age', y='RT', data=(data_med_RT[(data_med_RT['Cond']=='Lure') & (data_med_RT['Acc']=='Incorrect')]))"
   ]
  },
  {
   "cell_type": "code",
   "execution_count": null,
   "metadata": {
    "scrolled": true
   },
   "outputs": [],
   "source": [
    "sns.lmplot(x='age', y='RT', data=(data_med_RT[(data_med_RT['Cond']=='Foil') & (data_med_RT['Acc']=='Correct')]))"
   ]
  },
  {
   "cell_type": "code",
   "execution_count": null,
   "metadata": {
    "scrolled": true
   },
   "outputs": [],
   "source": [
    "sns.lmplot(x='age', y='RT', data=(data_med_RT[(data_med_RT['Cond']=='Foil') & (data_med_RT['Acc']=='Incorrect')]))"
   ]
  },
  {
   "cell_type": "code",
   "execution_count": null,
   "metadata": {},
   "outputs": [],
   "source": [
    "data_grouped_RT = data_long.groupby(['pidn','Acc','Cond']).mean().reset_index()\n",
    "print(data_grouped_RT)"
   ]
  },
  {
   "cell_type": "code",
   "execution_count": null,
   "metadata": {},
   "outputs": [],
   "source": [
    "data_RT = data_long.groupby(['pidn']).mean().reset_index()\n",
    "print(data_RT)"
   ]
  },
  {
   "cell_type": "code",
   "execution_count": null,
   "metadata": {
    "scrolled": true
   },
   "outputs": [],
   "source": [
    "data_avg_RT = data_RT.merge(all_data, on='pidn')\n",
    "data_avg_RT.head()"
   ]
  },
  {
   "cell_type": "code",
   "execution_count": null,
   "metadata": {
    "scrolled": true
   },
   "outputs": [],
   "source": [
    "sns.lmplot(x='RT', y='dprime_bps', data=data_avg_RT)"
   ]
  },
  {
   "cell_type": "code",
   "execution_count": null,
   "metadata": {},
   "outputs": [],
   "source": [
    "pearsonr(x=data_avg_RT['RT'], y = data_avg_RT['dprime_bps'])"
   ]
  },
  {
   "cell_type": "code",
   "execution_count": null,
   "metadata": {
    "scrolled": true
   },
   "outputs": [],
   "source": [
    "sns.lmplot(x='RT', y='dprime_old_new', data=data_avg_RT)"
   ]
  },
  {
   "cell_type": "code",
   "execution_count": null,
   "metadata": {},
   "outputs": [],
   "source": [
    "pearsonr(x=data_avg_RT['RT'], y = data_avg_RT['dprime_old_new'])"
   ]
  },
  {
   "cell_type": "code",
   "execution_count": null,
   "metadata": {
    "scrolled": true
   },
   "outputs": [],
   "source": [
    "sns.lmplot(x='RT', y='dprime_old_lure', data=data_avg_RT)"
   ]
  },
  {
   "cell_type": "code",
   "execution_count": null,
   "metadata": {},
   "outputs": [],
   "source": [
    "pearsonr(x=data_avg_RT['RT'], y = data_avg_RT['dprime_old_lure'])"
   ]
  },
  {
   "cell_type": "code",
   "execution_count": null,
   "metadata": {},
   "outputs": [],
   "source": [
    "row=0\n",
    "data_avg_RT_c=data_grouped_RT.copy()\n",
    "for i in data_avg_RT_c:\n",
    "    if data_avg_RT_c.loc[row, 'Acc'] == 'Incorrect':\n",
    "        data_avg_RT_c.drop(row, inplace=True)\n",
    "        \n",
    "    row+=1\n",
    "    \n",
    "data_avg_RT_c = data_avg_RT_c.groupby(['pidn']).mean().reset_index()\n",
    "\n",
    "data_avg_RT_c.head()"
   ]
  },
  {
   "cell_type": "code",
   "execution_count": null,
   "metadata": {},
   "outputs": [],
   "source": [
    "row=0\n",
    "data_avg_RT_i=data_grouped_RT.copy()\n",
    "for i in data_avg_RT_i:\n",
    "    if data_avg_RT_i.loc[row, 'Acc'] == 'Correct':\n",
    "        data_avg_RT_i.drop(row, inplace=True)\n",
    "        \n",
    "    row+=1\n",
    "    \n",
    "data_avg_RT_i = data_avg_RT_i.groupby(['pidn']).mean().reset_index()\n",
    "\n",
    "data_avg_RT_i.head()"
   ]
  },
  {
   "cell_type": "code",
   "execution_count": null,
   "metadata": {},
   "outputs": [],
   "source": [
    "data_avg_RT_i= data_avg_RT_i.merge(all_data, on='pidn')\n",
    "data_avg_RT_i.head()"
   ]
  },
  {
   "cell_type": "code",
   "execution_count": null,
   "metadata": {},
   "outputs": [],
   "source": [
    "data_avg_RT= data_avg_RT.merge(all_data, on='pidn')\n",
    "data_avg_RT.head()"
   ]
  },
  {
   "cell_type": "code",
   "execution_count": null,
   "metadata": {},
   "outputs": [],
   "source": [
    "data_avg_RT_c= data_avg_RT_c.merge(all_data, on='pidn')\n",
    "data_avg_RT_c.head()"
   ]
  },
  {
   "cell_type": "code",
   "execution_count": null,
   "metadata": {},
   "outputs": [],
   "source": [
    "sns.lmplot(x='age', y='RT', data=data_avg_RT)\n",
    "plt.xlabel('Age', fontsize=14)\n",
    "plt.ylabel('RT', fontsize=14)"
   ]
  },
  {
   "cell_type": "code",
   "execution_count": null,
   "metadata": {},
   "outputs": [],
   "source": [
    "pearsonr(x=data_avg_RT['RT'], y = data_avg_RT['age'])"
   ]
  },
  {
   "cell_type": "code",
   "execution_count": null,
   "metadata": {},
   "outputs": [],
   "source": [
    "sns.lmplot(x='age', y='RT', data=data_avg_RT_c)"
   ]
  },
  {
   "cell_type": "code",
   "execution_count": null,
   "metadata": {},
   "outputs": [],
   "source": [
    "pearsonr(x=data_avg_RT_c['RT'], y = data_avg_RT_c['age'])"
   ]
  },
  {
   "cell_type": "code",
   "execution_count": null,
   "metadata": {},
   "outputs": [],
   "source": [
    "pearsonr(x=data_avg_RT_i['RT'], y = data_avg_RT_i['age'])"
   ]
  },
  {
   "cell_type": "code",
   "execution_count": null,
   "metadata": {},
   "outputs": [],
   "source": [
    "sns.lmplot(x='age', y='RT', data=data_avg_RT_i)"
   ]
  },
  {
   "cell_type": "code",
   "execution_count": null,
   "metadata": {},
   "outputs": [],
   "source": [
    "row=0\n",
    "targ_avg_RT_i=data_grouped_RT[(data_grouped_RT['Cond'] == 'Target') & (data_grouped_RT['Acc'] == 'Incorrect')]\n",
    "    \n",
    "targ_avg_RT_i = targ_avg_RT_i.groupby(['pidn']).mean().reset_index()\n",
    "\n",
    "targ_avg_RT_i= targ_avg_RT_i.merge(all_data, on='pidn')\n",
    "targ_avg_RT_i.head()"
   ]
  },
  {
   "cell_type": "code",
   "execution_count": null,
   "metadata": {},
   "outputs": [],
   "source": [
    "row=0\n",
    "targ_avg_RT_c=data_grouped_RT[(data_grouped_RT['Cond'] == 'Target') & (data_grouped_RT['Acc'] == 'Correct')]\n",
    "    \n",
    "targ_avg_RT_c = targ_avg_RT_c.groupby(['pidn']).mean().reset_index()\n",
    "\n",
    "targ_avg_RT_c= targ_avg_RT_c.merge(all_data, on='pidn')\n",
    "targ_avg_RT_c.head()"
   ]
  },
  {
   "cell_type": "code",
   "execution_count": null,
   "metadata": {},
   "outputs": [],
   "source": [
    "row=0\n",
    "lure_avg_RT_c=data_grouped_RT[(data_grouped_RT['Cond'] == 'Lure') & (data_grouped_RT['Acc'] == 'Correct')]\n",
    "    \n",
    "lure_avg_RT_c = lure_avg_RT_c.groupby(['pidn']).mean().reset_index()\n",
    "\n",
    "lure_avg_RT_c= lure_avg_RT_c.merge(all_data, on='pidn')\n",
    "lure_avg_RT_c.head()"
   ]
  },
  {
   "cell_type": "code",
   "execution_count": null,
   "metadata": {},
   "outputs": [],
   "source": [
    "row=0\n",
    "lure_avg_RT_i=data_grouped_RT[(data_grouped_RT['Cond'] == 'Lure') & (data_grouped_RT['Acc'] == 'Incorrect')]\n",
    "    \n",
    "lure_avg_RT_i = lure_avg_RT_i.groupby(['pidn']).mean().reset_index()\n",
    "\n",
    "lure_avg_RT_i= lure_avg_RT_i.merge(all_data, on='pidn')\n",
    "lure_avg_RT_i.head()"
   ]
  },
  {
   "cell_type": "code",
   "execution_count": null,
   "metadata": {},
   "outputs": [],
   "source": [
    "row=0\n",
    "foil_avg_RT_i=data_grouped_RT[(data_grouped_RT['Cond'] == 'Foil') & (data_grouped_RT['Acc'] == 'Incorrect')]\n",
    "    \n",
    "foil_avg_RT_i = foil_avg_RT_i.groupby(['pidn']).mean().reset_index()\n",
    "\n",
    "foil_avg_RT_i= foil_avg_RT_i.merge(all_data, on='pidn')\n",
    "foil_avg_RT_i.head()"
   ]
  },
  {
   "cell_type": "code",
   "execution_count": null,
   "metadata": {},
   "outputs": [],
   "source": [
    "row=0\n",
    "foil_avg_RT_c=data_grouped_RT[(data_grouped_RT['Cond'] == 'Foil') & (data_grouped_RT['Acc'] == 'Correct')]\n",
    "    \n",
    "foil_avg_RT_c = foil_avg_RT_c.groupby(['pidn']).mean().reset_index()\n",
    "\n",
    "foil_avg_RT_c= foil_avg_RT_c.merge(all_data, on='pidn')\n",
    "foil_avg_RT_c.head()"
   ]
  },
  {
   "cell_type": "code",
   "execution_count": null,
   "metadata": {},
   "outputs": [],
   "source": [
    "sns.lmplot(x= 'age', y='RT', data=targ_avg_RT_c)"
   ]
  },
  {
   "cell_type": "code",
   "execution_count": null,
   "metadata": {},
   "outputs": [],
   "source": [
    "pearsonr(x=targ_avg_RT_c['age'], y = targ_avg_RT_c['RT'])"
   ]
  },
  {
   "cell_type": "code",
   "execution_count": null,
   "metadata": {},
   "outputs": [],
   "source": [
    "sns.lmplot(x= 'age', y='RT', data=targ_avg_RT_i)"
   ]
  },
  {
   "cell_type": "code",
   "execution_count": null,
   "metadata": {},
   "outputs": [],
   "source": [
    "pearsonr(x=targ_avg_RT_i['age'], y = targ_avg_RT_i['RT'])"
   ]
  },
  {
   "cell_type": "code",
   "execution_count": null,
   "metadata": {},
   "outputs": [],
   "source": [
    "sns.lmplot(x= 'age', y='RT', data=lure_avg_RT_i)"
   ]
  },
  {
   "cell_type": "code",
   "execution_count": null,
   "metadata": {},
   "outputs": [],
   "source": [
    "pearsonr(x=lure_avg_RT_i['age'], y = lure_avg_RT_i['RT'])"
   ]
  },
  {
   "cell_type": "code",
   "execution_count": null,
   "metadata": {},
   "outputs": [],
   "source": [
    "sns.lmplot(x= 'age', y='RT', data=lure_avg_RT_c)"
   ]
  },
  {
   "cell_type": "code",
   "execution_count": null,
   "metadata": {},
   "outputs": [],
   "source": [
    "sns.lmplot(x= 'age', y='RT', data=foil_avg_RT_c)"
   ]
  },
  {
   "cell_type": "code",
   "execution_count": null,
   "metadata": {},
   "outputs": [],
   "source": [
    "pearsonr(x=foil_avg_RT_c['age'], y = foil_avg_RT_c['RT'])"
   ]
  },
  {
   "cell_type": "code",
   "execution_count": null,
   "metadata": {},
   "outputs": [],
   "source": [
    "pearsonr(x=foil_avg_RT_i['age'], y = foil_avg_RT_i['RT'])"
   ]
  },
  {
   "cell_type": "code",
   "execution_count": null,
   "metadata": {},
   "outputs": [],
   "source": [
    "sns.lmplot(x= 'age', y='RT', data=foil_avg_RT_i)"
   ]
  },
  {
   "cell_type": "code",
   "execution_count": null,
   "metadata": {},
   "outputs": [],
   "source": [
    "g=sns.distplot(data_long['RT'], kde=False)\n",
    "g.set(xlim=(0, 2200))"
   ]
  },
  {
   "cell_type": "code",
   "execution_count": null,
   "metadata": {},
   "outputs": [],
   "source": [
    "g=sns.distplot(data_long[data_long['Acc']=='Correct']['RT'], kde=False)\n",
    "g.set(xlim=(0, 2200))"
   ]
  },
  {
   "cell_type": "code",
   "execution_count": null,
   "metadata": {},
   "outputs": [],
   "source": [
    "g=sns.distplot(data_long[data_long['Acc']=='Correct']['RT'], kde=False)\n",
    "g.set(xlim=(0, 2200))\n",
    "#g.set(ylim=(0, 5000))"
   ]
  },
  {
   "cell_type": "code",
   "execution_count": null,
   "metadata": {},
   "outputs": [],
   "source": [
    "g=sns.distplot(data_long[data_long['Acc']=='Incorrect']['RT'], kde=False)\n",
    "g.set(xlim=(0, 2200))\n",
    "g.set(ylim=(0, 700))"
   ]
  },
  {
   "cell_type": "code",
   "execution_count": null,
   "metadata": {},
   "outputs": [],
   "source": [
    "g=sns.distplot(data_long[data_long['Acc']=='Correct']['RT'], kde=False)\n",
    "g=sns.distplot(data_long[data_long['Acc']=='Incorrect']['RT'], kde=False)\n",
    "g.set(xlim=(0, 2200))"
   ]
  },
  {
   "cell_type": "code",
   "execution_count": null,
   "metadata": {},
   "outputs": [],
   "source": [
    "g=sns.distplot(data_long[(data_long['Cond']=='Target')]['RT'], kde=False)\n",
    "#g=sns.distplot((data_long['Cond']=='Lure')]['RT'], kde=False)\n",
    "# g=sns.distplot((data_long['Cond']=='Foil')]['RT'], kde=False)\n",
    "g.set(xlim=(0, 2200))\n",
    "g.set(ylim=(0, 700))\n",
    "plt.title('Target Trials')"
   ]
  },
  {
   "cell_type": "code",
   "execution_count": null,
   "metadata": {},
   "outputs": [],
   "source": [
    "g=sns.distplot(data_long[(data_long['Cond']=='Target') & (data_long['Acc']=='Correct')]['RT'], kde=False)\n",
    "#g=sns.distplot((data_long['Cond']=='Lure')]['RT'], kde=False)\n",
    "# g=sns.distplot((data_long['Cond']=='Foil')]['RT'], kde=False)\n",
    "g.set(xlim=(0, 2200))\n",
    "g.set(ylim=(0, 700))\n",
    "plt.title('Target Trials')"
   ]
  },
  {
   "cell_type": "code",
   "execution_count": null,
   "metadata": {},
   "outputs": [],
   "source": [
    "g=sns.distplot(data_long[(data_long['Cond']=='Target') & (data_long['Acc']=='Incorrect')]['RT'], kde=False)\n",
    "#g=sns.distplot((data_long['Cond']=='Lure')]['RT'], kde=False)\n",
    "# g=sns.distplot((data_long['Cond']=='Foil')]['RT'], kde=False)\n",
    "g.set(xlim=(0, 2200))\n",
    "g.set(ylim=(0, 700))\n",
    "plt.title('Target Trials')"
   ]
  },
  {
   "cell_type": "code",
   "execution_count": null,
   "metadata": {},
   "outputs": [],
   "source": [
    "g=sns.distplot(data_long[(data_long['Cond']=='Lure')]['RT'], kde=False)\n",
    "# g=sns.distplot((data_long['Cond']=='Foil')]['RT'], kde=False)\n",
    "g.set(xlim=(0, 2200))\n",
    "g.set(ylim=(0, 700))\n",
    "plt.title('Lure Trials')"
   ]
  },
  {
   "cell_type": "code",
   "execution_count": null,
   "metadata": {},
   "outputs": [],
   "source": [
    "g=sns.distplot(data_long[(data_long['Cond']=='Foil')]['RT'], kde=False)\n",
    "g.set(ylim=(0, 1000))\n",
    "plt.title('Foil Trials')"
   ]
  },
  {
   "cell_type": "code",
   "execution_count": null,
   "metadata": {},
   "outputs": [],
   "source": [
    "g=sns.distplot(data_long[(data_long['Acc']=='Correct')&(data_long['Cond']=='Target')]['RT'], kde=False)\n",
    "#g=sns.distplot(data_long[(data_long['Acc']=='Correct')&(data_long['Cond']=='Lure')]['RT'], kde=False)\n",
    "# g=sns.distplot(data_long[(data_long['Acc']=='Correct')&(data_long['Cond']=='Foil')]['RT'], kde=False)\n",
    "g.set(xlim=(0, 2200))\n",
    "g.set(ylim=(0, 700))\n",
    "plt.title('Correct')"
   ]
  },
  {
   "cell_type": "code",
   "execution_count": null,
   "metadata": {},
   "outputs": [],
   "source": [
    "g=sns.distplot(data_long[(data_long['Acc']=='Incorrect')&(data_long['Cond']=='Target')]['RT'], kde=False)\n",
    "#g=sns.distplot(data_long[(data_long['Acc']=='Correct')&(data_long['Cond']=='Lure')]['RT'], kde=False)\n",
    "# g=sns.distplot(data_long[(data_long['Acc']=='Correct')&(data_long['Cond']=='Foil')]['RT'], kde=False)\n",
    "g.set(xlim=(0, 2200))\n",
    "g.set(ylim=(0, 700))\n",
    "plt.title('Incorrect')"
   ]
  },
  {
   "cell_type": "code",
   "execution_count": null,
   "metadata": {},
   "outputs": [],
   "source": [
    "g=sns.distplot(data_long[(data_long['Acc']=='Correct')&(data_long['Cond']=='Lure')]['RT'], kde=False)\n",
    "# g=sns.distplot(data_long[(data_long['Acc']=='Correct')&(data_long['Cond']=='Foil')]['RT'], kde=False)\n",
    "g.set(xlim=(0, 2200))\n",
    "plt.title('Correct')"
   ]
  },
  {
   "cell_type": "code",
   "execution_count": null,
   "metadata": {},
   "outputs": [],
   "source": [
    "g=sns.distplot(data_long[(data_long['Acc']=='Incorrect')&(data_long['Cond']=='Lure')]['RT'], kde=False)\n",
    "# g=sns.distplot(data_long[(data_long['Acc']=='Correct')&(data_long['Cond']=='Foil')]['RT'], kde=False)\n",
    "g.set(xlim=(0, 2200))\n",
    "g.set(ylim=(0, 550))\n",
    "plt.title('Incorrect')"
   ]
  },
  {
   "cell_type": "code",
   "execution_count": null,
   "metadata": {},
   "outputs": [],
   "source": [
    "g=sns.distplot(data_long[(data_long['Acc']=='Correct')&(data_long['Cond']=='Foil')]['RT'], kde=False)\n",
    "g.set(xlim=(0, 2200))\n",
    "plt.title('Correct')"
   ]
  },
  {
   "cell_type": "code",
   "execution_count": null,
   "metadata": {},
   "outputs": [],
   "source": [
    "g=sns.distplot(data_long[(data_long['Acc']=='Incorrect')&(data_long['Cond']=='Foil')]['RT'], kde=False)\n",
    "g.set(xlim=(0, 2200))\n",
    "\n",
    "plt.title('Incorrect')"
   ]
  },
  {
   "cell_type": "code",
   "execution_count": null,
   "metadata": {},
   "outputs": [],
   "source": [
    "g=sns.distplot(data_grouped_RT[data_grouped_RT['Acc']=='Correct']['RT'], kde=False)\n",
    "g=sns.distplot(data_grouped_RT[data_grouped_RT['Acc']=='Incorrect']['RT'], kde=False)\n",
    "g.set(xlim=(0, 2200))"
   ]
  },
  {
   "cell_type": "code",
   "execution_count": null,
   "metadata": {
    "scrolled": true
   },
   "outputs": [],
   "source": [
    "fig_dims = (12, 10)\n",
    "fig, ax = plt.subplots(figsize=fig_dims)\n",
    "g=sns.boxplot(x='Cond', y='RT', hue=\"Acc\", data=data_grouped_RT, ax=ax,  palette='pastel', order=['Target', 'Lure', 'Foil'])\n",
    "g= sns.stripplot(x='Cond', y='RT', hue = \"Acc\", data= data_grouped_RT, jitter=.2,split=True, ax=ax, order=['Target', 'Lure', 'Foil'])\n",
    "g.set(ylim=[0, 2200])\n",
    "plt.legend(bbox_to_anchor=(1.05,1),loc=2,borderaxespad=0.1, fontsize=18)\n",
    "plt.xlabel('Condition', fontsize=20)\n",
    "plt.ylabel('RT', fontsize=20)"
   ]
  },
  {
   "cell_type": "code",
   "execution_count": null,
   "metadata": {},
   "outputs": [],
   "source": [
    "print(data_grouped_RT[data_grouped_RT['RT']<750])"
   ]
  },
  {
   "cell_type": "code",
   "execution_count": null,
   "metadata": {
    "scrolled": true
   },
   "outputs": [],
   "source": [
    "fig_dims = (12, 10)\n",
    "fig, ax = plt.subplots(figsize=fig_dims)\n",
    "g=sns.boxplot(x='Cond', y='RT', hue=\"Acc\", data=data_med_RT, ax=ax,  palette='pastel', order=['Target', 'Lure', 'Foil'])\n",
    "g= sns.stripplot(x='Cond', y='RT', hue = \"Acc\", data= data_med_RT, jitter=.2,split=True, ax=ax, order=['Target', 'Lure', 'Foil'])\n",
    "g.set(ylim=[0, 2200])\n",
    "plt.legend(bbox_to_anchor=(1.05,1),loc=2,borderaxespad=0.1, fontsize=18)\n",
    "plt.xlabel('Condition', fontsize=20)\n",
    "plt.ylabel('RT', fontsize=20)"
   ]
  },
  {
   "cell_type": "markdown",
   "metadata": {},
   "source": [
    "Age"
   ]
  },
  {
   "cell_type": "code",
   "execution_count": null,
   "metadata": {},
   "outputs": [],
   "source": [
    "g=sns.distplot(all_data['age'],kde=False)\n",
    "plt.ylabel('Number of Participants', fontsize=14)\n",
    "plt.xlabel('Age', fontsize=14)\n",
    "g.set(ylim = [0, 65])"
   ]
  },
  {
   "cell_type": "code",
   "execution_count": null,
   "metadata": {},
   "outputs": [],
   "source": [
    "print(statistics.mean(all_data['age']))\n",
    "print(statistics.stdev(all_data['age']))\n",
    "print(max(all_data['age']))"
   ]
  },
  {
   "cell_type": "code",
   "execution_count": null,
   "metadata": {},
   "outputs": [],
   "source": [
    "g = sns.lmplot(x = 'age', y = 'prop_nr', data= all_data)\n",
    "plt.ylabel('No Response (%)', fontsize=14)\n",
    "plt.xlabel('Age', fontsize=14)"
   ]
  },
  {
   "cell_type": "code",
   "execution_count": null,
   "metadata": {},
   "outputs": [],
   "source": [
    "data_long.head()"
   ]
  },
  {
   "cell_type": "code",
   "execution_count": null,
   "metadata": {},
   "outputs": [],
   "source": [
    "data_t = data_long.merge(all_data, on=['pidn'])\n",
    "data_t = data_t[data_t['Cond'] == 'Target']\n",
    "data_t = data_t.groupby(['pidn']).mean().reset_index()"
   ]
  },
  {
   "cell_type": "code",
   "execution_count": null,
   "metadata": {
    "scrolled": true
   },
   "outputs": [],
   "source": [
    "sns.lmplot( x= 'age', y ='RT', data = data_t)\n"
   ]
  },
  {
   "cell_type": "code",
   "execution_count": null,
   "metadata": {},
   "outputs": [],
   "source": [
    "pearsonr(data_t['age'], data_t['RT'])"
   ]
  },
  {
   "cell_type": "code",
   "execution_count": null,
   "metadata": {},
   "outputs": [],
   "source": [
    "data_l = data_long.merge(all_data, on=['pidn'])\n",
    "data_l = data_l[data_l['Cond'] == 'Lure']\n",
    "data_l = data_l.groupby(['pidn']).mean().reset_index()\n",
    "\n",
    "sns.lmplot( x= 'age', y ='RT', data = data_l)"
   ]
  },
  {
   "cell_type": "code",
   "execution_count": null,
   "metadata": {},
   "outputs": [],
   "source": [
    "data_f = data_long.merge(all_data, on=['pidn'])\n",
    "data_f = data_f[data_f['Cond'] == 'Foil']\n",
    "data_f = data_f.groupby(['pidn']).mean().reset_index()\n",
    "\n",
    "sns.lmplot( x= 'age', y ='RT', data = data_f)"
   ]
  },
  {
   "cell_type": "code",
   "execution_count": null,
   "metadata": {},
   "outputs": [],
   "source": [
    "data = data_long.merge(all_data, on=['pidn'])\n",
    "data=data[data['Acc']=='Correct']\n",
    "\n",
    "data = data.groupby(['pidn']).mean().reset_index()"
   ]
  },
  {
   "cell_type": "code",
   "execution_count": null,
   "metadata": {},
   "outputs": [],
   "source": [
    "g=sns.lmplot(x = 'age', y = 'RT', data=data) "
   ]
  },
  {
   "cell_type": "code",
   "execution_count": null,
   "metadata": {},
   "outputs": [],
   "source": [
    "data_i = data_long.merge(all_data, on=['pidn'])\n",
    "data_i=data_i[(data_i['Acc']=='Incorrect') & (data_i['RT']!= int(0))]\n",
    "\n",
    "data_i = data_i.groupby(['pidn']).mean().reset_index()"
   ]
  },
  {
   "cell_type": "code",
   "execution_count": null,
   "metadata": {},
   "outputs": [],
   "source": [
    "g=sns.lmplot(x = 'age', y = 'RT', data=data_i) "
   ]
  },
  {
   "cell_type": "code",
   "execution_count": null,
   "metadata": {},
   "outputs": [],
   "source": [
    "pearsonr(x=data['age'], y = data['RT'])"
   ]
  },
  {
   "cell_type": "code",
   "execution_count": null,
   "metadata": {},
   "outputs": [],
   "source": [
    "pearsonr(x=data['age'], y=data['RT'])"
   ]
  },
  {
   "cell_type": "code",
   "execution_count": null,
   "metadata": {},
   "outputs": [],
   "source": [
    "pearsonr(x= all_data['age'], y = all_data['prop_nr'])"
   ]
  },
  {
   "cell_type": "code",
   "execution_count": null,
   "metadata": {},
   "outputs": [],
   "source": [
    "g = sns.lmplot(x = 'age', y = 'p_correct', data = all_data)\n",
    "plt.ylabel('Correct(%)')\n",
    "plt.xlabel('Age')"
   ]
  },
  {
   "cell_type": "code",
   "execution_count": null,
   "metadata": {},
   "outputs": [],
   "source": [
    "pearsonr(x= all_data['age'], y = all_data['p_correct'])"
   ]
  },
  {
   "cell_type": "code",
   "execution_count": null,
   "metadata": {},
   "outputs": [],
   "source": [
    "g=sns.lmplot(x=\"age\",y=\"old_targ_old_foil\",data=all_data)\n",
    "plt.xlabel('Age')\n",
    "plt.ylabel('\"Old\"|Target - \"Old\"|Foil')"
   ]
  },
  {
   "cell_type": "code",
   "execution_count": null,
   "metadata": {},
   "outputs": [],
   "source": [
    "g=sns.lmplot(x=\"age\",y=\"dprime_old_new\",data=all_data)\n",
    "plt.xlabel('Age')\n",
    "plt.ylabel('d\\' Old/New')"
   ]
  },
  {
   "cell_type": "code",
   "execution_count": null,
   "metadata": {
    "scrolled": true
   },
   "outputs": [],
   "source": [
    "g = sns.lmplot(x = 'age', y = 'n_old_targ', data = all_data)\n",
    "plt.xlabel('Age')\n",
    "plt.ylabel('# Old|Target')"
   ]
  },
  {
   "cell_type": "code",
   "execution_count": null,
   "metadata": {},
   "outputs": [],
   "source": [
    "pearsonr(x= all_data['age'], y = all_data['n_old_targ'])"
   ]
  },
  {
   "cell_type": "code",
   "execution_count": null,
   "metadata": {},
   "outputs": [],
   "source": [
    "g = sns.lmplot(x = 'age', y = 'n_sim_lure', data = all_data)"
   ]
  },
  {
   "cell_type": "code",
   "execution_count": null,
   "metadata": {},
   "outputs": [],
   "source": [
    "pearsonr(x= all_data['age'], y = all_data['n_sim_lure'])"
   ]
  },
  {
   "cell_type": "code",
   "execution_count": null,
   "metadata": {},
   "outputs": [],
   "source": [
    "g = sns.lmplot(x = 'age', y = 'n_new_foil', data = all_data)"
   ]
  },
  {
   "cell_type": "code",
   "execution_count": null,
   "metadata": {},
   "outputs": [],
   "source": [
    "pearsonr(x= all_data['age'], y = all_data['n_new_foil'])"
   ]
  },
  {
   "cell_type": "code",
   "execution_count": null,
   "metadata": {},
   "outputs": [],
   "source": [
    "g = sns.lmplot(x='age', y = 'bps', data=all_data)\n",
    "plt.xlabel('Age', fontsize=14)\n",
    "plt.ylabel('BPS Score', fontsize=14)"
   ]
  },
  {
   "cell_type": "code",
   "execution_count": null,
   "metadata": {},
   "outputs": [],
   "source": [
    "pearsonr(x= all_data['age'], y = all_data['bps'])"
   ]
  },
  {
   "cell_type": "code",
   "execution_count": null,
   "metadata": {},
   "outputs": [],
   "source": [
    "g = sns.lmplot(x='age', y='dprime_bps', data=all_data)\n",
    "plt.xlabel('Age', fontsize=14)\n",
    "plt.ylabel('d\\' BPS', fontsize=14)"
   ]
  },
  {
   "cell_type": "code",
   "execution_count": null,
   "metadata": {},
   "outputs": [],
   "source": [
    "pearsonr(x= all_data['age'], y = all_data['dprime_bps'])"
   ]
  },
  {
   "cell_type": "code",
   "execution_count": null,
   "metadata": {},
   "outputs": [],
   "source": [
    "g = sns.lmplot(x='age', y= 'old_targ_old_foil', data= all_data)\n",
    "plt.xlabel('Age', fontsize=14)\n",
    "plt.ylabel('Old/New Recognition', fontsize=14)"
   ]
  },
  {
   "cell_type": "code",
   "execution_count": null,
   "metadata": {},
   "outputs": [],
   "source": [
    "pearsonr(x= all_data['age'], y = all_data['old_targ_old_foil'])"
   ]
  },
  {
   "cell_type": "code",
   "execution_count": null,
   "metadata": {},
   "outputs": [],
   "source": [
    "g=sns.lmplot(x='age', y='dprime_old_new', data=all_data)\n",
    "plt.xlabel('Age', fontsize=14)\n",
    "plt.ylabel('d\\' Old/New', fontsize=14)"
   ]
  },
  {
   "cell_type": "code",
   "execution_count": null,
   "metadata": {},
   "outputs": [],
   "source": [
    "pearsonr(x= all_data['age'], y = all_data['dprime_old_new'])\n"
   ]
  },
  {
   "cell_type": "code",
   "execution_count": null,
   "metadata": {},
   "outputs": [],
   "source": [
    "g = sns.lmplot(x = 'age', y = 'old_targ_old_lure', data= all_data)\n",
    "plt.xlabel('Age', fontsize=14)\n",
    "plt.ylabel('Old/Similar Discrimination', fontsize=14)"
   ]
  },
  {
   "cell_type": "code",
   "execution_count": null,
   "metadata": {},
   "outputs": [],
   "source": [
    "pearsonr(x= all_data['age'], y = all_data['old_targ_old_lure'])"
   ]
  },
  {
   "cell_type": "code",
   "execution_count": null,
   "metadata": {},
   "outputs": [],
   "source": [
    "sns.lmplot(x='age', y='dprime_old_lure', data=all_data)\n",
    "plt.xlabel('Age', fontsize=14)\n",
    "plt.ylabel('d\\' Old/Similar', fontsize=14)"
   ]
  },
  {
   "cell_type": "code",
   "execution_count": null,
   "metadata": {},
   "outputs": [],
   "source": [
    "pearsonr(x= all_data['age'], y = all_data['dprime_old_lure'])"
   ]
  },
  {
   "cell_type": "code",
   "execution_count": null,
   "metadata": {},
   "outputs": [],
   "source": [
    "data_demo = all_data.copy()\n",
    "data_demo.head()"
   ]
  },
  {
   "cell_type": "code",
   "execution_count": null,
   "metadata": {},
   "outputs": [],
   "source": [
    "row = 0\n",
    "age_group_new = data_demo.copy()\n",
    "for a in data_demo['age']:\n",
    "    if a == 59:\n",
    "        a = 60\n",
    "    if a >= 60:\n",
    "        if a < 65:\n",
    "            age_group_new.loc[row, 'age'] = '60-64'\n",
    "        elif a < 70:\n",
    "            age_group_new.loc[row, 'age'] = '65-69'\n",
    "        elif a < 75:\n",
    "            age_group_new.loc[row, 'age'] = '70-74'\n",
    "        elif a < 80:\n",
    "            age_group_new.loc[row, 'age'] = '75-79'\n",
    "        elif a < 85:\n",
    "            age_group_new.loc[row, 'age'] = '80-84'\n",
    "        else:\n",
    "            age_group_new.loc[row, 'age'] = '85+'\n",
    "    row+=1    \n",
    "print(age_group_new)"
   ]
  },
  {
   "cell_type": "code",
   "execution_count": null,
   "metadata": {},
   "outputs": [],
   "source": [
    "print(sum(1 for a in age_group_new['age'] if a == '60-64'))\n",
    "print(sum(1 for a in age_group_new['age'] if a == '65-69'))\n",
    "print(sum(1 for a in age_group_new['age'] if a == '70-74'))\n",
    "print(sum(1 for a in age_group_new['age'] if a == '75-79'))\n",
    "print(sum(1 for a in age_group_new['age'] if a == '80-84'))\n",
    "print(sum(1 for a in age_group_new['age'] if a == '85+'))"
   ]
  },
  {
   "cell_type": "code",
   "execution_count": null,
   "metadata": {},
   "outputs": [],
   "source": [
    "g = sns.stripplot(x= age_group_new['age'], y = age_group_new['bps'], jitter = .2)\n",
    "sns.boxplot(x = age_group_new['age'], y = age_group_new['bps'], palette='pastel', order = ['60-64', '65-69', '70-74', '75-79', '80-84', '85+'])\n",
    "plt.xlabel('Age Group', fontsize=14)\n",
    "plt.ylabel('BPS Score', fontsize=14)"
   ]
  },
  {
   "cell_type": "code",
   "execution_count": null,
   "metadata": {},
   "outputs": [],
   "source": [
    "g = sns.stripplot(x= age_group_new['age'], y = age_group_new['dprime_bps'], jitter = .2)\n",
    "sns.boxplot(x = age_group_new['age'], y = age_group_new['dprime_bps'], palette='pastel', order = ['60-64', '65-69', '70-74', '75-79', '80-84', '85+'])\n",
    "plt.xlabel('Age Group', fontsize=14)\n",
    "plt.ylabel('d\\' BPS', fontsize=14)"
   ]
  },
  {
   "cell_type": "code",
   "execution_count": null,
   "metadata": {},
   "outputs": [],
   "source": [
    "g = sns.stripplot(x= age_group_new['age'], y = age_group_new['dprime_old_new'], jitter = .2)\n",
    "sns.boxplot(x = age_group_new['age'], y = age_group_new['dprime_old_new'], palette='pastel', order = ['60-64', '65-69', '70-74', '75-79', '80-84', '85+'])\n",
    "plt.xlabel('Age Group', fontsize=14)\n",
    "plt.ylabel('d\\' Old/New', fontsize=14)"
   ]
  },
  {
   "cell_type": "code",
   "execution_count": null,
   "metadata": {},
   "outputs": [],
   "source": [
    "g = sns.stripplot(x= age_group_new['age'], y = age_group_new['dprime_old_lure'], jitter = .2)\n",
    "sns.boxplot(x = age_group_new['age'], y = age_group_new['dprime_old_lure'], palette='pastel', order = ['60-64', '65-69', '70-74', '75-79', '80-84', '85+'])\n",
    "plt.xlabel('Age Group', fontsize=14)\n",
    "plt.ylabel('d\\' Old/Similar', fontsize=14)"
   ]
  },
  {
   "cell_type": "code",
   "execution_count": null,
   "metadata": {},
   "outputs": [],
   "source": [
    "g = sns.stripplot(x= age_group_new['age'], y = age_group_new['old_targ_old_foil'], jitter = .2)\n",
    "sns.boxplot(x = age_group_new['age'], y = age_group_new['old_targ_old_foil'], palette='pastel')\n",
    "plt.xlabel('Age Group', fontsize=14)\n",
    "plt.ylabel('Old/New Recognition', fontsize=14)"
   ]
  },
  {
   "cell_type": "code",
   "execution_count": null,
   "metadata": {},
   "outputs": [],
   "source": [
    "g = sns.stripplot(x= age_group_new['age'], y = age_group_new['old_targ_old_lure'], jitter = .2)\n",
    "sns.boxplot(x = age_group_new['age'], y = age_group_new['old_targ_old_lure'], palette='pastel')\n",
    "plt.xlabel('Age Group', fontsize=14)\n",
    "plt.ylabel('Old/Similar Recognition', fontsize=14)"
   ]
  },
  {
   "cell_type": "code",
   "execution_count": null,
   "metadata": {},
   "outputs": [],
   "source": [
    "g = sns.stripplot(x= age_group_new['age'], y = age_group_new['prop_nr'], jitter = .2)\n",
    "sns.boxplot(x = age_group_new['age'], y = age_group_new['prop_nr'], palette='pastel')\n",
    "plt.xlabel('Age Group')\n",
    "plt.ylabel('No Response (%)')"
   ]
  },
  {
   "cell_type": "code",
   "execution_count": null,
   "metadata": {},
   "outputs": [],
   "source": [
    "g = sns.stripplot(x= age_group_new['age'], y = age_group_new['p_correct'], jitter = .2)\n",
    "sns.boxplot(x = age_group_new['age'], y = age_group_new['p_correct'], palette='pastel')\n",
    "plt.xlabel('Age Group')\n",
    "plt.ylabel('Percent Correct')"
   ]
  },
  {
   "cell_type": "code",
   "execution_count": null,
   "metadata": {},
   "outputs": [],
   "source": [
    "data_demo.head()\n",
    "age_group_repl = data_demo.copy()\n",
    "age_group_repl.loc[data_demo['age'] < 75, 'age'] = '60-74'\n",
    "age_group_repl.loc[data_demo['age'] > 74, 'age']= '75-90'\n",
    "age_group_repl.head()"
   ]
  },
  {
   "cell_type": "code",
   "execution_count": null,
   "metadata": {},
   "outputs": [],
   "source": [
    "g = sns.stripplot(x= age_group_repl['age'], y = age_group_repl['bps'], jitter = .2)\n",
    "sns.boxplot(x = age_group_repl['age'], y = age_group_repl['bps'], palette='pastel')\n",
    "plt.xlabel('Age Group')\n",
    "plt.ylabel('BPS Score')"
   ]
  },
  {
   "cell_type": "code",
   "execution_count": null,
   "metadata": {},
   "outputs": [],
   "source": [
    "g = sns.stripplot(x= age_group_repl['age'], y = age_group_repl['dprime_bps'], jitter = .2)\n",
    "sns.boxplot(x = age_group_repl['age'], y = age_group_repl['dprime_bps'], palette='pastel')\n",
    "plt.xlabel('Age Group', fontsize=14)\n",
    "plt.ylabel('d\\' BPS', fontsize=14)"
   ]
  },
  {
   "cell_type": "code",
   "execution_count": null,
   "metadata": {},
   "outputs": [],
   "source": [
    "g = sns.stripplot(x= age_group_repl['age'], y = age_group_repl['dprime_old_new'], jitter = .2)\n",
    "sns.boxplot(x = age_group_repl['age'], y = age_group_repl['dprime_old_new'], palette='pastel')\n",
    "plt.xlabel('Age Group', fontsize=14)\n",
    "plt.ylabel('d\\' Old/New', fontsize=14)"
   ]
  },
  {
   "cell_type": "code",
   "execution_count": null,
   "metadata": {},
   "outputs": [],
   "source": [
    "g = sns.stripplot(x= age_group_repl['age'], y = age_group_repl['dprime_old_lure'], jitter = .2)\n",
    "sns.boxplot(x = age_group_repl['age'], y = age_group_repl['dprime_old_lure'], palette='pastel')\n",
    "plt.xlabel('Age Group', fontsize=14)\n",
    "plt.ylabel('d\\' Old\\Similar', fontsize=14)"
   ]
  },
  {
   "cell_type": "code",
   "execution_count": null,
   "metadata": {},
   "outputs": [],
   "source": [
    "g = sns.stripplot(x= age_group_repl['age'], y = age_group_repl['old_targ_old_foil'], jitter = .25)\n",
    "sns.boxplot(x = age_group_repl['age'], y = age_group_repl['old_targ_old_foil'], palette='pastel')\n",
    "plt.ylabel('Old/New Recognition')\n",
    "plt.xlabel('Age Group')\n"
   ]
  },
  {
   "cell_type": "code",
   "execution_count": null,
   "metadata": {},
   "outputs": [],
   "source": [
    "g = sns.stripplot(x= age_group_repl['age'], y = age_group_repl['old_targ_old_lure'], jitter = .2)\n",
    "sns.boxplot(x = age_group_repl['age'], y = age_group_repl['old_targ_old_lure'], palette='pastel')\n",
    "plt.xlabel('Age Group')\n",
    "plt.ylabel('Old/Similar Recognition')"
   ]
  },
  {
   "cell_type": "code",
   "execution_count": null,
   "metadata": {},
   "outputs": [],
   "source": [
    "g = sns.stripplot(x= age_group_repl['age'], y = age_group_repl['prop_nr'])\n",
    "sns.boxplot(x = age_group_repl['age'], y = age_group_repl['prop_nr'], palette='pastel')\n",
    "plt.xlabel('Age Group')\n",
    "plt.ylabel('No Response(%)')"
   ]
  },
  {
   "cell_type": "code",
   "execution_count": null,
   "metadata": {},
   "outputs": [],
   "source": [
    "g = sns.stripplot(x= age_group_repl['age'], y = age_group_repl['p_correct'])\n",
    "sns.boxplot(x = age_group_repl['age'], y = age_group_repl['p_correct'], palette='pastel')\n",
    "plt.xlabel('Age Group')\n",
    "plt.ylabel('Percent Correct')"
   ]
  },
  {
   "cell_type": "code",
   "execution_count": null,
   "metadata": {},
   "outputs": [],
   "source": []
  },
  {
   "cell_type": "markdown",
   "metadata": {},
   "source": [
    "Education"
   ]
  },
  {
   "cell_type": "code",
   "execution_count": null,
   "metadata": {},
   "outputs": [],
   "source": [
    "print(statistics.mean(all_data['education']))\n",
    "print(statistics.stdev(all_data['education']))\n",
    "print(max(all_data['education']))"
   ]
  },
  {
   "cell_type": "code",
   "execution_count": null,
   "metadata": {},
   "outputs": [],
   "source": [
    "g=sns.distplot(all_data['education'],kde=False)\n",
    "plt.ylabel('Number of Participants', fontsize=14)\n",
    "plt.xlabel('Education', fontsize=14)\n",
    "g.set(ylim=[0,65])\n"
   ]
  },
  {
   "cell_type": "code",
   "execution_count": null,
   "metadata": {},
   "outputs": [],
   "source": [
    "educ_data = all_data.copy()\n",
    "row = 0\n",
    "for e in all_data['education']:\n",
    "    if e == 12:\n",
    "        educ_data.loc[row, 'education'] = 'HS/GED'\n",
    "    elif e == 14 or e == 15:\n",
    "        educ_data.loc[row, 'education']= 'Associate'\n",
    "    elif e == 16 or e== 17:\n",
    "        educ_data.loc[row, 'education']= 'Bachelor\\'s'\n",
    "    elif e== 18 or e==19:\n",
    "        educ_data.loc[row, 'education']= 'Master\\'s'\n",
    "    else:\n",
    "        educ_data.loc[row, 'education']='Doctorate'  \n",
    "    row+=1\n",
    "    \n",
    "educ_data.head()"
   ]
  },
  {
   "cell_type": "code",
   "execution_count": null,
   "metadata": {},
   "outputs": [],
   "source": [
    "g=sns.lmplot(x=\"education\",y=\"dprime_old_new\",data=all_data)\n",
    "plt.xlabel('Education', fontsize=14)\n",
    "plt.ylabel('d\\' Old/New', fontsize=14)"
   ]
  },
  {
   "cell_type": "code",
   "execution_count": null,
   "metadata": {},
   "outputs": [],
   "source": [
    "g=sns.lmplot(x=\"education\",y=\"dprime_old_lure\",data=all_data)\n",
    "plt.xlabel('Education', fontsize=14)\n",
    "plt.ylabel('d\\' Old/Similar', fontsize=14)"
   ]
  },
  {
   "cell_type": "code",
   "execution_count": null,
   "metadata": {},
   "outputs": [],
   "source": [
    "g=sns.lmplot(x=\"education\",y=\"bps\",data=all_data)\n",
    "plt.xlabel('Education', fontsize=14)\n",
    "plt.ylabel('BPS', fontsize=14)"
   ]
  },
  {
   "cell_type": "code",
   "execution_count": null,
   "metadata": {},
   "outputs": [],
   "source": [
    "g=sns.lmplot(x=\"education\",y=\"old_targ_old_lure\",data=all_data)\n",
    "plt.xlabel('Education', fontsize=14)\n",
    "plt.ylabel('Old/Similar Recognition', fontsize=14)"
   ]
  },
  {
   "cell_type": "code",
   "execution_count": null,
   "metadata": {},
   "outputs": [],
   "source": [
    "g=sns.lmplot(x=\"education\",y=\"dprime_bps\",data=all_data)\n",
    "plt.xlabel('Education', fontsize=14)\n",
    "plt.ylabel('d\\' BPS', fontsize=14)"
   ]
  },
  {
   "cell_type": "code",
   "execution_count": null,
   "metadata": {},
   "outputs": [],
   "source": [
    "g=sns.lmplot(x=\"education\",y=\"old_targ_old_foil\",data=all_data)\n",
    "plt.xlabel('Education', fontsize=14)\n",
    "plt.ylabel('Old/New Recognition', fontsize=14)"
   ]
  },
  {
   "cell_type": "code",
   "execution_count": null,
   "metadata": {},
   "outputs": [],
   "source": [
    "g = sns.stripplot(x= educ_data['education'], y = educ_data['bps'], jitter = .2)\n",
    "sns.boxplot(x = educ_data['education'], y = educ_data['bps'], palette='pastel', order= ['HS/GED', 'Associate', 'Bachelor\\'s', 'Master\\'s', 'Doctorate'])\n",
    "plt.xlabel('Education', fontsize=14)\n",
    "plt.ylabel('BPS Score', fontsize=14)"
   ]
  },
  {
   "cell_type": "code",
   "execution_count": null,
   "metadata": {},
   "outputs": [],
   "source": [
    "g = sns.stripplot(x = educ_data['education'], y = all_data['old_targ_old_foil'], jitter = .2)\n",
    "g = sns.boxplot(x = educ_data['education'], y = all_data['old_targ_old_foil'], palette = 'pastel', order= ['HS/GED', 'Associate', 'Bachelor\\'s', 'Master\\'s', 'Doctorate'])\n",
    "plt.ylabel('Old/New Recognition', fontsize=14)\n",
    "plt.xlabel('Education', fontsize=14)"
   ]
  },
  {
   "cell_type": "code",
   "execution_count": null,
   "metadata": {},
   "outputs": [],
   "source": [
    "sns.stripplot(x = educ_data['education'], y = all_data['old_targ_old_lure'], jitter = .2)\n",
    "g = sns.boxplot(x = educ_data['education'], y = all_data['old_targ_old_lure'], palette = 'pastel', order= ['HS/GED', 'Associate', 'Bachelor\\'s', 'Master\\'s', 'Doctorate'])\n",
    "plt.xlabel('Education', fontsize=14)\n",
    "plt.ylabel('Old/Similar Recognition', fontsize=14)"
   ]
  },
  {
   "cell_type": "code",
   "execution_count": null,
   "metadata": {},
   "outputs": [],
   "source": [
    "sns.stripplot(x = educ_data['education'], y = all_data['dprime_bps'], jitter = .2)\n",
    "g = sns.boxplot(x = educ_data['education'], y = all_data['dprime_bps'], palette = 'pastel', order= ['HS/GED', 'Associate', 'Bachelor\\'s', 'Master\\'s', 'Doctorate'])\n",
    "plt.xlabel('Education', fontsize=14)\n",
    "plt.ylabel('d\\' BPS Score', fontsize=14)"
   ]
  },
  {
   "cell_type": "code",
   "execution_count": null,
   "metadata": {},
   "outputs": [],
   "source": [
    "sns.stripplot(x = educ_data['education'], y = all_data['dprime_old_new'], jitter = .2)\n",
    "g = sns.boxplot(x = educ_data['education'], y = all_data['dprime_old_new'], palette = 'pastel', order= ['HS/GED', 'Associate', 'Bachelor\\'s', 'Master\\'s', 'Doctorate'])\n",
    "plt.xlabel('Education', fontsize=14)\n",
    "plt.ylabel('d\\' Old/New Recognition', fontsize=14)\n"
   ]
  },
  {
   "cell_type": "code",
   "execution_count": null,
   "metadata": {},
   "outputs": [],
   "source": [
    "sns.stripplot(x = educ_data['education'], y = all_data['dprime_old_lure'], jitter = .2)\n",
    "g = sns.boxplot(x = educ_data['education'], y = all_data['dprime_old_lure'], palette = 'pastel', order= ['HS/GED', 'Associate', 'Bachelor\\'s', 'Master\\'s', 'Doctorate'])\n",
    "plt.xlabel('Education', fontsize=14)\n",
    "plt.ylabel('d\\' Old/Lure Discrimination', fontsize=14)\n"
   ]
  },
  {
   "cell_type": "code",
   "execution_count": null,
   "metadata": {},
   "outputs": [],
   "source": [
    "g = sns.stripplot(x= educ_data['education'], y = all_data['prop_nr'])\n",
    "sns.boxplot(x = educ_data['education'], y = all_data['prop_nr'], palette='pastel', order= ['HS/GED', 'Associate', 'Bachelor\\'s', 'Master\\'s', 'Doctorate'])\n",
    "plt.xlabel('Education')"
   ]
  },
  {
   "cell_type": "code",
   "execution_count": null,
   "metadata": {},
   "outputs": [],
   "source": [
    "g = sns.stripplot(x= educ_data['education'], y = all_data['p_correct'])\n",
    "sns.boxplot(x = educ_data['education'], y = all_data['p_correct'], palette='pastel')\n",
    "plt.xlabel('Education')\n",
    "plt.ylabel('Percent Correct')"
   ]
  },
  {
   "cell_type": "markdown",
   "metadata": {},
   "source": [
    "Gender"
   ]
  },
  {
   "cell_type": "code",
   "execution_count": null,
   "metadata": {},
   "outputs": [],
   "source": [
    "sum(1 for g in all_data['gender'] if g == 'F')"
   ]
  },
  {
   "cell_type": "code",
   "execution_count": null,
   "metadata": {},
   "outputs": [],
   "source": [
    "g = sns.stripplot(x = all_data['gender'], y = all_data['bps'])\n",
    "g = sns.boxplot(x = all_data['gender'], y = all_data['bps'], palette = 'pastel')\n",
    "plt.ylabel('BPS Score', fontsize=14)\n",
    "plt.xlabel('Gender', fontsize=14)\n",
    "g.set(ylim=[0,1])"
   ]
  },
  {
   "cell_type": "code",
   "execution_count": null,
   "metadata": {},
   "outputs": [],
   "source": [
    "g = sns.stripplot(x = all_data['gender'], y = all_data['dprime_bps'])\n",
    "g = sns.boxplot(x = all_data['gender'], y = all_data['dprime_bps'], palette = 'pastel')\n",
    "plt.xlabel('Gender', fontsize=14)\n",
    "plt.ylabel('d\\' BPS', fontsize=14)"
   ]
  },
  {
   "cell_type": "code",
   "execution_count": null,
   "metadata": {},
   "outputs": [],
   "source": [
    "g = sns.stripplot(x = all_data['gender'], y = all_data['dprime_old_new'])\n",
    "g = sns.boxplot(x = all_data['gender'], y = all_data['dprime_old_new'], palette = 'pastel')\n",
    "plt.xlabel('Gender', fontsize=14)\n",
    "plt.ylabel('d\\' Old/New', fontsize=14)"
   ]
  },
  {
   "cell_type": "code",
   "execution_count": null,
   "metadata": {},
   "outputs": [],
   "source": [
    "g = sns.stripplot(x = all_data['gender'], y = all_data['dprime_old_lure'])\n",
    "g = sns.boxplot(x = all_data['gender'], y = all_data['dprime_old_lure'], palette = 'pastel')\n",
    "plt.xlabel('Gender', fontsize=14)\n",
    "plt.ylabel('d\\' Old/Similar', fontsize=14)"
   ]
  },
  {
   "cell_type": "code",
   "execution_count": null,
   "metadata": {},
   "outputs": [],
   "source": [
    "g = sns.stripplot(x = all_data['gender'], y = all_data['old_targ_old_foil'])\n",
    "g = sns.boxplot(x = all_data['gender'], y = all_data['old_targ_old_foil'], palette = 'pastel')\n",
    "plt.ylabel('Old/New Recognition', fontsize=14)\n",
    "plt.xlabel('Gender', fontsize=14)"
   ]
  },
  {
   "cell_type": "code",
   "execution_count": null,
   "metadata": {},
   "outputs": [],
   "source": [
    "g = sns.stripplot(x = all_data['gender'], y = all_data['old_targ_old_lure'])\n",
    "g = sns.boxplot(x = all_data['gender'], y = all_data['old_targ_old_lure'], palette = 'pastel')\n",
    "plt.ylabel('Old/Similar Recognition', fontsize=14)\n",
    "plt.xlabel('Gender', fontsize=14)\n",
    "g.set(ylim=[0,1])"
   ]
  },
  {
   "cell_type": "code",
   "execution_count": null,
   "metadata": {},
   "outputs": [],
   "source": [
    "g = sns.stripplot(x = all_data['gender'], y = all_data['prop_nr'])\n",
    "g = sns.boxplot(x = all_data['gender'], y = all_data['prop_nr'], palette = 'pastel')\n",
    "plt.ylabel('No Response (%)')"
   ]
  },
  {
   "cell_type": "code",
   "execution_count": null,
   "metadata": {},
   "outputs": [],
   "source": [
    "g = sns.stripplot(x = all_data['gender'], y = all_data['p_correct'])\n",
    "g = sns.boxplot(x = all_data['gender'], y = all_data['p_correct'], palette = 'pastel')\n",
    "plt.ylabel('Percent Correct')"
   ]
  },
  {
   "cell_type": "code",
   "execution_count": null,
   "metadata": {},
   "outputs": [],
   "source": [
    "g = sns.stripplot(x=all_data['gender'], y = (all_data['n_old_targ']+ all_data['n_old_lure']+ all_data['n_old_foil']))\n",
    "g = sns.boxplot(x=all_data['gender'], y = (all_data['n_old_targ']+ all_data['n_old_lure']+ all_data['n_old_foil']), palette='pastel')\n",
    "plt.ylabel('Num Old Responses')"
   ]
  },
  {
   "cell_type": "markdown",
   "metadata": {},
   "source": [
    "Reaction Time"
   ]
  },
  {
   "cell_type": "markdown",
   "metadata": {},
   "source": [
    "Response Summary"
   ]
  },
  {
   "cell_type": "code",
   "execution_count": null,
   "metadata": {},
   "outputs": [],
   "source": [
    "resp_sum_count = sns.catplot(x=\"Cond\",hue=\"Resp\",data=data_long,kind='count', \n",
    "                       hue_order=['Old','Similar','New','No Resp'])\n"
   ]
  },
  {
   "cell_type": "code",
   "execution_count": null,
   "metadata": {
    "scrolled": true
   },
   "outputs": [],
   "source": [
    "data_long_grouped = data_long.groupby(['pidn','Cond','Resp']).count().reset_index()\n",
    "data_long_grouped.head()"
   ]
  },
  {
   "cell_type": "code",
   "execution_count": null,
   "metadata": {},
   "outputs": [],
   "source": [
    "data_long_grouped['Pr Resp']=data_long_grouped['Acc']/64\n",
    "data_long_grouped.head()"
   ]
  },
  {
   "cell_type": "code",
   "execution_count": null,
   "metadata": {},
   "outputs": [],
   "source": [
    "resp_sum_mean=sns.catplot(x=\"Cond\",y=\"Acc\",hue=\"Resp\",data=data_long_grouped,kind='bar',\n",
    "             order=['Target','Lure','Foil'],hue_order=['Old','Similar','New','No Resp'])\n",
    "plt.ylabel('Mean Num Responses')"
   ]
  },
  {
   "cell_type": "code",
   "execution_count": null,
   "metadata": {},
   "outputs": [],
   "source": [
    "resp_sum_prop = sns.catplot(x = 'Cond', y = 'Pr Resp', hue = 'Resp', data= data_long_grouped, kind = 'bar',\n",
    "                           order=['Target','Lure','Foil'],hue_order=['Old','Similar','New','No Resp'])\n",
    "plt.ylabel('Proportion Response')"
   ]
  },
  {
   "cell_type": "code",
   "execution_count": null,
   "metadata": {},
   "outputs": [],
   "source": [
    "fig, resp_num_box = plt.subplots(figsize=(10,6))\n",
    "\n",
    "resp_num_box =sns.boxplot(x=\"Cond\",y=\"Acc\",hue=\"Resp\",data=data_long_grouped,\n",
    "             order=['Target','Lure','Foil'],hue_order=['Old','Similar','New','No Resp'])\n",
    "plt.ylabel('Num Responses')\n",
    "plt.legend(bbox_to_anchor=(1.05,1),loc=2,borderaxespad=0.1)"
   ]
  },
  {
   "cell_type": "code",
   "execution_count": null,
   "metadata": {},
   "outputs": [],
   "source": [
    "fig, prop_resp_box_scat = plt.subplots(figsize=(13,9))\n",
    "\n",
    "prop_resp_box_scat=sns.stripplot(x=\"Cond\",y=\"Pr Resp\",hue=\"Resp\",data=data_long_grouped,linewidth=1,jitter=.2,\n",
    "             order=['Target','Lure','Foil'],hue_order=['Old','Similar','New','No Resp'],dodge=True)\n",
    "\n",
    "prop_resp_box_scat=sns.boxplot(x=\"Cond\",y=\"Pr Resp\",hue=\"Resp\",data=data_long_grouped,palette='pastel',\n",
    "             order=['Target','Lure','Foil'],hue_order=['Old','Similar','New','No Resp'])\n",
    "plt.legend(bbox_to_anchor=(1.05,1),loc=2,borderaxespad=0.1, fontsize=20)\n",
    "plt.xlabel('Condition', fontsize=20)\n",
    "plt.ylabel('Proporition Responses', fontsize=20)\n",
    "plt.rc('xtick', labelsize=12)     \n",
    "plt.rc('ytick', labelsize=12)"
   ]
  },
  {
   "cell_type": "code",
   "execution_count": null,
   "metadata": {
    "scrolled": true
   },
   "outputs": [],
   "source": [
    "fig, ax = plt.subplots(figsize=(8,5))\n",
    "\n",
    "sns.boxplot(x=\"Cond\",y=\"Pr Resp\",data=data_long_grouped[data_long_grouped['Resp']=='No Resp'],palette='muted',\n",
    "             order=['Target','Lure','Foil'],fliersize=0)\n",
    "sns.stripplot(x=\"Cond\", y=\"Pr Resp\",data=data_long_grouped[data_long_grouped['Resp']=='No Resp'],\n",
    "             order=['Target','Lure','Foil'],jitter=.2,linewidth=1)\n",
    "\n",
    "plt.ylabel('Pr No Resonse', fontsize=14)\n",
    "plt.xlabel('Condition', fontsize=14)"
   ]
  },
  {
   "cell_type": "code",
   "execution_count": null,
   "metadata": {},
   "outputs": [],
   "source": [
    "g=sns.distplot(all_data['prop_nr'],kde=False) #more of these\n",
    "plt.xlabel('No Response (%)', fontsize=14)\n",
    "plt.ylabel('Num Participants', fontsize=14)\n"
   ]
  },
  {
   "cell_type": "code",
   "execution_count": null,
   "metadata": {},
   "outputs": [],
   "source": [
    "g=sns.lmplot(x='prop_nr', y='dprime_old_new', data=all_data)"
   ]
  },
  {
   "cell_type": "code",
   "execution_count": null,
   "metadata": {},
   "outputs": [],
   "source": [
    "g=sns.lmplot(x='prop_nr', y='dprime_bps', data=all_data)"
   ]
  },
  {
   "cell_type": "code",
   "execution_count": null,
   "metadata": {},
   "outputs": [],
   "source": [
    "g=sns.lmplot(x='prop_nr', y='dprime_old_lure', data=all_data)"
   ]
  },
  {
   "cell_type": "code",
   "execution_count": null,
   "metadata": {},
   "outputs": [],
   "source": [
    "g= sns.lmplot(x='age', y='prop_nr', data=all_data)"
   ]
  },
  {
   "cell_type": "code",
   "execution_count": null,
   "metadata": {},
   "outputs": [],
   "source": [
    "sum(1 for x in all_data['prop_nr'] if x == 0)"
   ]
  },
  {
   "cell_type": "code",
   "execution_count": null,
   "metadata": {},
   "outputs": [],
   "source": [
    "g = sns.distplot((all_data['num_nr_t']/64), kde = False)\n",
    "plt.xlabel('Prop NR Target Trials', fontsize=14)\n",
    "plt.ylabel('Num Participants', fontsize=14)\n",
    "g.set(ylim=[0,85])"
   ]
  },
  {
   "cell_type": "code",
   "execution_count": null,
   "metadata": {},
   "outputs": [],
   "source": [
    "g = sns.distplot(all_data['num_nr_l']/64, kde = False)\n",
    "plt.xlabel('Prop NR Lure Trials', fontsize=14)\n",
    "g.set(ylim=[0, 85])"
   ]
  },
  {
   "cell_type": "code",
   "execution_count": null,
   "metadata": {},
   "outputs": [],
   "source": [
    "g = sns.distplot(all_data['num_nr_f']/64, kde=False)\n",
    "plt.xlabel('Prop NR Foil Trials', size=14)\n",
    "g.set(ylim=[0, 85])"
   ]
  },
  {
   "cell_type": "code",
   "execution_count": null,
   "metadata": {},
   "outputs": [],
   "source": [
    "acc = sns.distplot(all_data['p_correct'], kde=False)\n",
    "plt.xlabel('Correct(%)', fontsize=14)\n",
    "plt.ylabel('Num of Participants', fontsize=14)\n",
    "acc.set(ylim=[0,45])"
   ]
  },
  {
   "cell_type": "code",
   "execution_count": null,
   "metadata": {},
   "outputs": [],
   "source": [
    "g = sns.distplot(all_data['n_old_targ']/64, kde = False)\n",
    "plt.xlabel('Prop Correct Target Trials', fontsize = 14)\n",
    "plt.ylabel('Num Participants', fontsize=14)\n",
    "g.set(ylim=[0,40])"
   ]
  },
  {
   "cell_type": "code",
   "execution_count": null,
   "metadata": {},
   "outputs": [],
   "source": [
    "g= sns.distplot(all_data['n_sim_lure']/64, kde = False)\n",
    "plt.xlabel('Prop Correct Lure Trials', fontsize = 14)\n",
    "g.set(ylim=[0,40])"
   ]
  },
  {
   "cell_type": "code",
   "execution_count": null,
   "metadata": {},
   "outputs": [],
   "source": [
    "g = sns.distplot(all_data['n_new_foil']/64, kde = False)\n",
    "plt.xlabel('Prop Correct Foil Trials', fontsize=14)\n",
    "g.set(ylim=[0,40])"
   ]
  },
  {
   "cell_type": "code",
   "execution_count": null,
   "metadata": {},
   "outputs": [],
   "source": [
    "g = sns.lmplot(x=\"prop_nr\",y=\"bps\",data=all_data)\n",
    "g.set(ylim=(-.25, 1))\n"
   ]
  },
  {
   "cell_type": "code",
   "execution_count": null,
   "metadata": {},
   "outputs": [],
   "source": [
    "pearsonr(y = all_data['bps'], x = all_data['prop_nr'])"
   ]
  },
  {
   "cell_type": "code",
   "execution_count": null,
   "metadata": {
    "scrolled": true
   },
   "outputs": [],
   "source": [
    "g = sns.lmplot(x=\"prop_nr\",y=\"old_targ_old_lure\",data=all_data)\n",
    "g.set(ylim=(-.25, 1), )"
   ]
  },
  {
   "cell_type": "code",
   "execution_count": null,
   "metadata": {},
   "outputs": [],
   "source": [
    "pearsonr(y = all_data['old_targ_old_lure'], x = all_data['prop_nr'])"
   ]
  },
  {
   "cell_type": "code",
   "execution_count": null,
   "metadata": {},
   "outputs": [],
   "source": [
    "g = sns.lmplot(x=\"prop_nr\",y=\"old_targ_old_foil\",data=all_data)\n",
    "g.set(ylim=(-.25, 1))"
   ]
  },
  {
   "cell_type": "code",
   "execution_count": null,
   "metadata": {},
   "outputs": [],
   "source": [
    "pearsonr(y = all_data['old_targ_old_foil'], x = all_data['prop_nr'])"
   ]
  },
  {
   "cell_type": "code",
   "execution_count": null,
   "metadata": {},
   "outputs": [],
   "source": [
    "g = sns.distplot(all_data['bps'], kde = False)\n",
    "plt.xlabel('BPS Scores', fontsize=14)\n"
   ]
  },
  {
   "cell_type": "code",
   "execution_count": null,
   "metadata": {},
   "outputs": [],
   "source": [
    "g = sns.distplot(all_data['dprime_bps'], kde = False)\n",
    "plt.xlabel('d\\' BPS', fontsize=14)"
   ]
  },
  {
   "cell_type": "code",
   "execution_count": null,
   "metadata": {},
   "outputs": [],
   "source": [
    "g = sns.distplot(all_data['dprime_old_new'], kde = False)\n",
    "plt.xlabel('d\\' Old/New', fontsize=14)"
   ]
  },
  {
   "cell_type": "code",
   "execution_count": null,
   "metadata": {},
   "outputs": [],
   "source": [
    "g = sns.distplot(all_data['dprime_old_lure'], kde = False)\n",
    "plt.xlabel('d\\' Old/Similar', fontsize=14)"
   ]
  },
  {
   "cell_type": "code",
   "execution_count": null,
   "metadata": {},
   "outputs": [],
   "source": [
    "g = sns.distplot(all_data['old_targ_old_foil'], kde = False)\n",
    "plt.xlabel('Old/New Recognition', fontsize=14)\n",
    "plt.ylabel('Number of Participants', fontsize=14)"
   ]
  },
  {
   "cell_type": "code",
   "execution_count": null,
   "metadata": {},
   "outputs": [],
   "source": [
    "g = sns.distplot(all_data['old_targ_old_lure'], kde = False)\n",
    "plt.xlabel('Old/Similar Recognition', fontsize=14)\n",
    "plt.ylabel('Number of Participants', fontsize=14)"
   ]
  },
  {
   "cell_type": "code",
   "execution_count": null,
   "metadata": {},
   "outputs": [],
   "source": [
    "g = sns.lmplot(x ='bps', y = 'old_targ_old_foil', data = all_data)\n",
    "g.set( ylim=(-.25, 1))\n",
    "plt.xlabel('BPS Score', fontsize=14)\n",
    "plt.ylabel('Old/New Recognition', fontsize=14)"
   ]
  },
  {
   "cell_type": "code",
   "execution_count": null,
   "metadata": {},
   "outputs": [],
   "source": [
    "pearsonr(x = all_data['bps'], y = all_data['old_targ_old_foil'])"
   ]
  },
  {
   "cell_type": "code",
   "execution_count": null,
   "metadata": {},
   "outputs": [],
   "source": [
    "g = sns.lmplot(x='bps', y = 'old_targ_old_lure', data = all_data)\n",
    "g.set( ylim=(-.25, 1))\n",
    "plt.xlabel('BPS Score', fontsize=14)\n",
    "plt.ylabel('Old/Similar Recognition', fontsize=14)"
   ]
  },
  {
   "cell_type": "code",
   "execution_count": null,
   "metadata": {},
   "outputs": [],
   "source": [
    "pearsonr(x = all_data['bps'], y = all_data['old_targ_old_lure'])"
   ]
  },
  {
   "cell_type": "code",
   "execution_count": null,
   "metadata": {},
   "outputs": [],
   "source": [
    "g = sns.lmplot(x= 'old_targ_old_foil', y = 'old_targ_old_lure', data=all_data)\n",
    "g.set(ylim=(-.25, 1))\n",
    "plt.xlabel('Old/New Recognition', fontsize=14)\n",
    "plt.ylabel('Old/Similar Recognition', fontsize=14)"
   ]
  },
  {
   "cell_type": "code",
   "execution_count": null,
   "metadata": {},
   "outputs": [],
   "source": [
    "pearsonr(x = all_data['old_targ_old_foil'], y = all_data['old_targ_old_lure'])"
   ]
  },
  {
   "cell_type": "code",
   "execution_count": null,
   "metadata": {},
   "outputs": [],
   "source": [
    "g = sns.lmplot(x= 'dprime_bps', y = 'dprime_old_new', data=all_data)\n",
    "plt.xlabel('d\\' BPS', fontsize=14)\n",
    "plt.ylabel('d\\' Old/New Recognition', fontsize=14)\n",
    "g.set(ylim=[-1.6, 4])"
   ]
  },
  {
   "cell_type": "code",
   "execution_count": null,
   "metadata": {},
   "outputs": [],
   "source": [
    "pearsonr(x = all_data['dprime_bps'], y = all_data['dprime_old_new'])"
   ]
  },
  {
   "cell_type": "code",
   "execution_count": null,
   "metadata": {},
   "outputs": [],
   "source": [
    "g = sns.lmplot(x= 'dprime_bps', y = 'dprime_old_lure', data=all_data)\n",
    "plt.xlabel('d\\' BPS', fontsize=14)\n",
    "plt.ylabel('d\\' Old/Similar Recognition', fontsize=14)\n",
    "g.set(ylim=[-1.6, 4])"
   ]
  },
  {
   "cell_type": "code",
   "execution_count": null,
   "metadata": {},
   "outputs": [],
   "source": [
    "pearsonr(x = all_data['dprime_bps'], y = all_data['dprime_old_lure'])"
   ]
  },
  {
   "cell_type": "code",
   "execution_count": null,
   "metadata": {},
   "outputs": [],
   "source": [
    "g = sns.lmplot(x= 'dprime_old_new', y = 'dprime_old_lure', data=all_data)\n",
    "g.set(ylim=[-1.6, 4])\n",
    "plt.xlabel('d\\' Old/New Recognition', fontsize=14)\n",
    "plt.ylabel('d\\' Old/Similar Recognition', fontsize=14)"
   ]
  },
  {
   "cell_type": "code",
   "execution_count": null,
   "metadata": {},
   "outputs": [],
   "source": [
    "pearsonr(x = all_data['dprime_old_new'], y = all_data['dprime_old_lure'])"
   ]
  },
  {
   "cell_type": "markdown",
   "metadata": {},
   "source": [
    "Neuropsych Correlations\n"
   ]
  },
  {
   "cell_type": "code",
   "execution_count": null,
   "metadata": {},
   "outputs": [],
   "source": [
    "neuro_data = np_data.dropna().merge(all_data, on = 'pidn')\n",
    "\n",
    "neuro_data.head()"
   ]
  },
  {
   "cell_type": "code",
   "execution_count": null,
   "metadata": {},
   "outputs": [],
   "source": [
    "print(statistics.mean(neuro_data['mmse']))\n",
    "print(statistics.stdev(neuro_data['mmse'])) \n",
    "print(min(neuro_data['mmse']))\n",
    "print(max(neuro_data['mmse']))"
   ]
  },
  {
   "cell_type": "code",
   "execution_count": null,
   "metadata": {},
   "outputs": [],
   "source": [
    "g= sns.lmplot(x = 'mmse_norm', y= 'dprime_bps', data= neuro_data)"
   ]
  },
  {
   "cell_type": "code",
   "execution_count": null,
   "metadata": {},
   "outputs": [],
   "source": [
    "pearsonr(x = neuro_data['mmse_norm'], y = neuro_data['dprime_bps'])"
   ]
  },
  {
   "cell_type": "code",
   "execution_count": null,
   "metadata": {},
   "outputs": [],
   "source": [
    "g = sns.lmplot(x='mmse_norm', y = 'dprime_old_new', data=neuro_data)"
   ]
  },
  {
   "cell_type": "code",
   "execution_count": null,
   "metadata": {},
   "outputs": [],
   "source": [
    "pearsonr(x=neuro_data['mmse_norm'], y=neuro_data['dprime_old_new'])"
   ]
  },
  {
   "cell_type": "code",
   "execution_count": null,
   "metadata": {},
   "outputs": [],
   "source": [
    "g = sns.lmplot(x='mmse_norm', y='dprime_old_lure', data=neuro_data)"
   ]
  },
  {
   "cell_type": "code",
   "execution_count": null,
   "metadata": {},
   "outputs": [],
   "source": [
    "pearsonr(x=neuro_data['mmse_norm'], y=neuro_data['dprime_old_lure'])"
   ]
  },
  {
   "cell_type": "code",
   "execution_count": null,
   "metadata": {},
   "outputs": [],
   "source": [
    "g = sns.lmplot(x='ir_comp', y = 'dprime_bps', data=neuro_data)\n",
    "plt.xlabel('Immediate Recall', fontsize=14)\n",
    "plt.ylabel('d\\' BPS', fontsize=14)"
   ]
  },
  {
   "cell_type": "code",
   "execution_count": null,
   "metadata": {},
   "outputs": [],
   "source": [
    "pearsonr(x=neuro_data['ir_comp'], y=neuro_data['dprime_bps'])"
   ]
  },
  {
   "cell_type": "code",
   "execution_count": null,
   "metadata": {},
   "outputs": [],
   "source": [
    "g= sns.lmplot(x='ir_comp', y='dprime_old_lure', data=neuro_data)\n",
    "plt.xlabel('Immediate Recall', fontsize=14)\n",
    "plt.ylabel('d\\' Old/Similar', fontsize=14)"
   ]
  },
  {
   "cell_type": "code",
   "execution_count": null,
   "metadata": {},
   "outputs": [],
   "source": [
    "g= sns.lmplot(x='ir_comp', y='dprime_old_new', data=neuro_data)\n",
    "plt.xlabel('Immediate Recall', fontsize=14)\n",
    "plt.ylabel('d\\' Old/New', fontsize=14)"
   ]
  },
  {
   "cell_type": "code",
   "execution_count": null,
   "metadata": {},
   "outputs": [],
   "source": [
    "pearsonr(x=neuro_data['ir_comp'], y=neuro_data['dprime_old_new'])"
   ]
  },
  {
   "cell_type": "code",
   "execution_count": null,
   "metadata": {},
   "outputs": [],
   "source": [
    "g=sns.lmplot(x='hvltpr', y='dprime_bps', data=neuro_data)"
   ]
  },
  {
   "cell_type": "code",
   "execution_count": null,
   "metadata": {},
   "outputs": [],
   "source": [
    "pearsonr(x=neuro_data['hvltpr'], y=neuro_data['dprime_bps'])"
   ]
  },
  {
   "cell_type": "code",
   "execution_count": null,
   "metadata": {},
   "outputs": [],
   "source": [
    "g=sns.lmplot(x='bvmtpr', y='dprime_bps', data=neuro_data)"
   ]
  },
  {
   "cell_type": "code",
   "execution_count": null,
   "metadata": {},
   "outputs": [],
   "source": [
    "pearsonr(x=neuro_data['bvmtpr'], y=neuro_data['dprime_bps'])"
   ]
  },
  {
   "cell_type": "code",
   "execution_count": null,
   "metadata": {},
   "outputs": [],
   "source": [
    "g=sns.lmplot(x='lmpr', y='dprime_bps', data=neuro_data)"
   ]
  },
  {
   "cell_type": "code",
   "execution_count": null,
   "metadata": {},
   "outputs": [],
   "source": [
    "pearsonr(x=neuro_data['lmpr'], y=neuro_data['dprime_bps'])"
   ]
  },
  {
   "cell_type": "code",
   "execution_count": null,
   "metadata": {},
   "outputs": [],
   "source": [
    "g=sns.lmplot(x='dr_comp', y='old_targ_old_foil', data=neuro_data)\n",
    "plt.xlabel('Delayed Recall', fontsize=14)\n",
    "plt.ylabel('Old/New Recognition', fontsize=14)"
   ]
  },
  {
   "cell_type": "code",
   "execution_count": null,
   "metadata": {},
   "outputs": [],
   "source": [
    "g=sns.lmplot(x='dr_comp', y='old_targ_old_lure', data=neuro_data)\n",
    "plt.xlabel('Delayed Recall', fontsize=14)\n",
    "plt.ylabel('Old/Similar Recognition', fontsize=14)"
   ]
  },
  {
   "cell_type": "code",
   "execution_count": null,
   "metadata": {},
   "outputs": [],
   "source": [
    "g=sns.lmplot(x='dr_comp', y='bps', data=neuro_data)\n",
    "plt.xlabel('Delayed Recall', fontsize=14)\n",
    "plt.ylabel('BPS', fontsize=14)"
   ]
  },
  {
   "cell_type": "code",
   "execution_count": null,
   "metadata": {},
   "outputs": [],
   "source": [
    "pearsonr(x=neuro_data['dr_comp'], y=neuro_data['bps'])"
   ]
  },
  {
   "cell_type": "code",
   "execution_count": null,
   "metadata": {},
   "outputs": [],
   "source": [
    "pearsonr(x=neuro_data['dr_comp'], y=neuro_data['old_targ_old_foil'])"
   ]
  },
  {
   "cell_type": "code",
   "execution_count": null,
   "metadata": {},
   "outputs": [],
   "source": [
    "pearsonr(x=neuro_data['dr_comp'], y=neuro_data['old_targ_old_lure'])"
   ]
  },
  {
   "cell_type": "code",
   "execution_count": null,
   "metadata": {},
   "outputs": [],
   "source": [
    "g=sns.lmplot(x='dr_comp', y='dprime_old_new', data=neuro_data)\n",
    "plt.xlabel('Delayed Recall', fontsize=14)\n",
    "plt.ylabel('d\\' Old/New', fontsize=14)"
   ]
  },
  {
   "cell_type": "code",
   "execution_count": null,
   "metadata": {},
   "outputs": [],
   "source": [
    "pearsonr(x=neuro_data['dr_comp'], y=neuro_data['dprime_old_new'])"
   ]
  },
  {
   "cell_type": "code",
   "execution_count": null,
   "metadata": {},
   "outputs": [],
   "source": [
    "g=sns.lmplot(x='dr_comp', y='dprime_old_lure', data=neuro_data)\n",
    "plt.xlabel('Delayed Recall', fontsize=14)\n",
    "plt.ylabel('d\\' Old/Similar', fontsize=14)"
   ]
  },
  {
   "cell_type": "code",
   "execution_count": null,
   "metadata": {},
   "outputs": [],
   "source": [
    "pearsonr(x=neuro_data['dr_comp'], y=neuro_data['dprime_old_lure'])"
   ]
  },
  {
   "cell_type": "code",
   "execution_count": null,
   "metadata": {},
   "outputs": [],
   "source": [
    "g=sns.lmplot(x='dr_comp', y='dprime_bps', data=neuro_data)\n",
    "plt.xlabel('Delayed Recall', fontsize=14)\n",
    "plt.ylabel('d\\' BPS', fontsize=14)"
   ]
  },
  {
   "cell_type": "code",
   "execution_count": null,
   "metadata": {},
   "outputs": [],
   "source": [
    "pearsonr(x=neuro_data['dr_comp'], y=neuro_data['dprime_bps'])"
   ]
  },
  {
   "cell_type": "code",
   "execution_count": null,
   "metadata": {},
   "outputs": [],
   "source": [
    "g=sns.lmplot(x='hvltpr', y='dprime_old_new', data=neuro_data)"
   ]
  },
  {
   "cell_type": "code",
   "execution_count": null,
   "metadata": {},
   "outputs": [],
   "source": [
    "pearsonr(x=neuro_data['hvltpr'], y=neuro_data['dprime_old_new'])"
   ]
  },
  {
   "cell_type": "code",
   "execution_count": null,
   "metadata": {},
   "outputs": [],
   "source": [
    "g=sns.lmplot(x='bvmtpr', y='dprime_old_new', data=neuro_data)"
   ]
  },
  {
   "cell_type": "code",
   "execution_count": null,
   "metadata": {},
   "outputs": [],
   "source": [
    "pearsonr(x=neuro_data['bvmtpr'], y=neuro_data['dprime_old_new'])"
   ]
  },
  {
   "cell_type": "code",
   "execution_count": null,
   "metadata": {},
   "outputs": [],
   "source": [
    "g=sns.lmplot(x='lmpr', y='dprime_old_new', data=neuro_data)"
   ]
  },
  {
   "cell_type": "code",
   "execution_count": null,
   "metadata": {},
   "outputs": [],
   "source": [
    "pearsonr(x=neuro_data['lmpr'], y=neuro_data['dprime_old_new'])"
   ]
  },
  {
   "cell_type": "code",
   "execution_count": null,
   "metadata": {},
   "outputs": [],
   "source": [
    "g=sns.lmplot(x='hvltpr', y='dprime_old_lure', data=neuro_data)"
   ]
  },
  {
   "cell_type": "code",
   "execution_count": null,
   "metadata": {},
   "outputs": [],
   "source": [
    "pearsonr(x=neuro_data['hvltpr'], y=neuro_data['dprime_old_lure'])"
   ]
  },
  {
   "cell_type": "code",
   "execution_count": null,
   "metadata": {},
   "outputs": [],
   "source": [
    "g=sns.lmplot(x='bvmtpr', y='dprime_old_lure', data=neuro_data)"
   ]
  },
  {
   "cell_type": "code",
   "execution_count": null,
   "metadata": {},
   "outputs": [],
   "source": [
    "pearsonr(x=neuro_data['bvmtpr'], y=neuro_data['dprime_old_lure'])"
   ]
  },
  {
   "cell_type": "code",
   "execution_count": null,
   "metadata": {},
   "outputs": [],
   "source": [
    "g=sns.lmplot(x='lmpr', y='dprime_old_lure', data=neuro_data)"
   ]
  },
  {
   "cell_type": "code",
   "execution_count": null,
   "metadata": {},
   "outputs": [],
   "source": [
    "pearsonr(x=neuro_data['lmpr'], y=neuro_data['dprime_old_lure'])"
   ]
  },
  {
   "cell_type": "code",
   "execution_count": null,
   "metadata": {},
   "outputs": [],
   "source": [
    "g=sns.lmplot(x='hvltr4_norm', y='dprime_bps', data=neuro_data)\n",
    "plt.xlabel('HLVTR Delay', fontsize=14)\n",
    "plt.ylabel('d\\' BPS', fontsize=14)"
   ]
  },
  {
   "cell_type": "code",
   "execution_count": null,
   "metadata": {},
   "outputs": [],
   "source": [
    "pearsonr(x=neuro_data['hvltr4_norm'], y=neuro_data['dprime_bps'])"
   ]
  },
  {
   "cell_type": "code",
   "execution_count": null,
   "metadata": {},
   "outputs": [],
   "source": [
    "g=sns.lmplot(x='hvltr4', y='bps', data=neuro_data)\n",
    "plt.xlabel('HVLT Delay', fontsize=14)\n",
    "plt.ylabel('BPS', fontsize=14)"
   ]
  },
  {
   "cell_type": "code",
   "execution_count": null,
   "metadata": {},
   "outputs": [],
   "source": [
    "g=sns.lmplot(x='hvltr4_norm', y='dprime_bps', data=neuro_data)\n",
    "plt.xlabel('HVLT Delay', fontsize=14)\n",
    "plt.ylabel('d\\' BPS', fontsize=14)"
   ]
  },
  {
   "cell_type": "code",
   "execution_count": null,
   "metadata": {},
   "outputs": [],
   "source": [
    "pearsonr(x=neuro_data['dprime_bps'], y=neuro_data['hvltr4'])"
   ]
  },
  {
   "cell_type": "code",
   "execution_count": null,
   "metadata": {},
   "outputs": [],
   "source": [
    "g=sns.lmplot(x='bvmtr4_norm', y='dprime_bps', data=neuro_data)\n",
    "plt.xlabel('BVMT Delay', fontsize=14)\n",
    "plt.ylabel('d\\' BPS', fontsize=14)"
   ]
  },
  {
   "cell_type": "code",
   "execution_count": null,
   "metadata": {},
   "outputs": [],
   "source": [
    "pearsonr(x= neuro_data['bvmtr4'], y = neuro_data['dprime_bps'])"
   ]
  },
  {
   "cell_type": "code",
   "execution_count": null,
   "metadata": {},
   "outputs": [],
   "source": [
    "g=sns.lmplot(x='lm2_norm', y='dprime_bps', data=neuro_data)\n",
    "plt.xlabel('LM Delay', fontsize=14)\n",
    "plt.ylabel('d\\' BPS', fontsize=14)"
   ]
  },
  {
   "cell_type": "code",
   "execution_count": null,
   "metadata": {},
   "outputs": [],
   "source": [
    "pearsonr(x=neuro_data['hvltr4'], y=neuro_data['bps'])"
   ]
  },
  {
   "cell_type": "code",
   "execution_count": null,
   "metadata": {},
   "outputs": [],
   "source": [
    "pearsonr(x=neuro_data['bvmtr4'], y=neuro_data['bps'])"
   ]
  },
  {
   "cell_type": "code",
   "execution_count": null,
   "metadata": {},
   "outputs": [],
   "source": [
    "pearsonr(x=neuro_data['lm2'], y=neuro_data['dprime_bps'])"
   ]
  },
  {
   "cell_type": "code",
   "execution_count": null,
   "metadata": {},
   "outputs": [],
   "source": [
    "g=sns.lmplot(x='bvmtr4_norm', y='dprime_bps', data=neuro_data)\n",
    "plt.xlabel('BVMT Delay', fontsize=14)\n",
    "plt.ylabel('d\\' BPS', fontsize=14)"
   ]
  },
  {
   "cell_type": "code",
   "execution_count": null,
   "metadata": {},
   "outputs": [],
   "source": [
    "pearsonr(x=neuro_data['bvmtr4_norm'], y=neuro_data['dprime_bps'])\n"
   ]
  },
  {
   "cell_type": "code",
   "execution_count": null,
   "metadata": {},
   "outputs": [],
   "source": [
    "g=sns.lmplot(x='lm2_norm', y='dprime_bps', data=neuro_data)\n",
    "plt.xlabel('LM Delay', fontsize=14)\n",
    "plt.ylabel('d\\' BPS', fontsize=14)"
   ]
  },
  {
   "cell_type": "code",
   "execution_count": null,
   "metadata": {},
   "outputs": [],
   "source": [
    "pearsonr(x=neuro_data['lm2_norm'], y=neuro_data['dprime_bps'])"
   ]
  },
  {
   "cell_type": "code",
   "execution_count": null,
   "metadata": {},
   "outputs": [],
   "source": [
    "g=sns.lmplot(x='hvltr4_norm', y='dprime_old_new', data=neuro_data)\n",
    "plt.xlabel('HVLT Delay', fontsize=14)\n",
    "plt.ylabel('d\\' Old/New', fontsize=14)"
   ]
  },
  {
   "cell_type": "code",
   "execution_count": null,
   "metadata": {},
   "outputs": [],
   "source": [
    "pearsonr(x=neuro_data['hvltr4_norm'], y=neuro_data['dprime_old_new'])"
   ]
  },
  {
   "cell_type": "code",
   "execution_count": null,
   "metadata": {},
   "outputs": [],
   "source": [
    "g=sns.lmplot(x='bvmtr4_norm', y='dprime_old_new', data=neuro_data)\n",
    "plt.xlabel('BVMT Delay', fontsize=14)\n",
    "plt.ylabel('d\\' Old/New', fontsize=14)"
   ]
  },
  {
   "cell_type": "code",
   "execution_count": null,
   "metadata": {},
   "outputs": [],
   "source": [
    "pearsonr(x=neuro_data['bvmtr4_norm'], y=neuro_data['dprime_old_new'])"
   ]
  },
  {
   "cell_type": "code",
   "execution_count": null,
   "metadata": {},
   "outputs": [],
   "source": [
    "g=sns.lmplot(x='lm2_norm', y='dprime_old_new', data=neuro_data)\n",
    "plt.xlabel('LM Delay', fontsize=14)\n",
    "plt.ylabel('d\\' Old/New', fontsize=14)"
   ]
  },
  {
   "cell_type": "code",
   "execution_count": null,
   "metadata": {},
   "outputs": [],
   "source": [
    "pearsonr(x=neuro_data['lm2_norm'], y=neuro_data['dprime_old_new'])"
   ]
  },
  {
   "cell_type": "code",
   "execution_count": null,
   "metadata": {},
   "outputs": [],
   "source": [
    "g=sns.lmplot(x='hvltr4_norm', y='dprime_old_lure', data=neuro_data)\n",
    "plt.xlabel('HVLT Delay', fontsize=14)\n",
    "plt.ylabel('d\\' Old/Similar', fontsize=14)"
   ]
  },
  {
   "cell_type": "code",
   "execution_count": null,
   "metadata": {},
   "outputs": [],
   "source": [
    "pearsonr(x=neuro_data['hvltr4_norm'], y=neuro_data['dprime_old_lure'])"
   ]
  },
  {
   "cell_type": "code",
   "execution_count": null,
   "metadata": {},
   "outputs": [],
   "source": [
    "g=sns.lmplot(x='bvmtr4_norm', y='dprime_old_lure', data=neuro_data)\n",
    "plt.xlabel('BVMT Delay', fontsize=14)\n",
    "plt.ylabel('d\\' Old/Similar', fontsize=14)"
   ]
  },
  {
   "cell_type": "code",
   "execution_count": null,
   "metadata": {},
   "outputs": [],
   "source": [
    "pearsonr(x=neuro_data['bvmtr4_norm'], y=neuro_data['dprime_old_lure'])"
   ]
  },
  {
   "cell_type": "code",
   "execution_count": null,
   "metadata": {},
   "outputs": [],
   "source": [
    "g=sns.lmplot(x='lm2_norm', y='dprime_old_lure', data=neuro_data)\n",
    "plt.xlabel('LM Delay', fontsize=14)\n",
    "plt.ylabel('d\\' Old/Similar', fontsize=14)"
   ]
  },
  {
   "cell_type": "code",
   "execution_count": null,
   "metadata": {},
   "outputs": [],
   "source": [
    "pearsonr(x=neuro_data['lm2_norm'], y=neuro_data['dprime_old_lure'])"
   ]
  },
  {
   "cell_type": "code",
   "execution_count": null,
   "metadata": {},
   "outputs": [],
   "source": [
    "g=sns.lmplot(x='dr_comp', y='dprime_old_lure', data=neuro_data)\n",
    "plt.xlabel('Delayed Recall', fontsize=14)\n",
    "plt.ylabel('d\\' Old/Similar', fontsize=14)"
   ]
  },
  {
   "cell_type": "code",
   "execution_count": null,
   "metadata": {},
   "outputs": [],
   "source": [
    "pearsonr(x=neuro_data['dr_comp'], y=neuro_data['dprime_old_lure'])"
   ]
  },
  {
   "cell_type": "code",
   "execution_count": null,
   "metadata": {},
   "outputs": [],
   "source": [
    "g=sns.lmplot(x='dr_comp', y='old_targ_old_lure', data=neuro_data)\n",
    "plt.xlabel('Delayed Recall', fontsize=14)\n",
    "plt.ylabel('Old/New Recognition', fontsize=14)"
   ]
  },
  {
   "cell_type": "code",
   "execution_count": null,
   "metadata": {},
   "outputs": [],
   "source": [
    "g=sns.lmplot(x='dr_comp', y='old_targ_old_lure', data=neuro_data)\n",
    "plt.xlabel('Delayed Recall', fontsize=14)\n",
    "plt.ylabel('Old/Similar Recognition', fontsize=14)"
   ]
  },
  {
   "cell_type": "code",
   "execution_count": null,
   "metadata": {},
   "outputs": [],
   "source": [
    "pearsonr(x=neuro_data['hvltr4_norm'], y=neuro_data['old_targ_old_lure'])"
   ]
  },
  {
   "cell_type": "code",
   "execution_count": null,
   "metadata": {},
   "outputs": [],
   "source": [
    "pearsonr(x=neuro_data['bvmtr4_norm'], y=neuro_data['old_targ_old_lure'])"
   ]
  },
  {
   "cell_type": "code",
   "execution_count": null,
   "metadata": {},
   "outputs": [],
   "source": [
    "pearsonr(x=neuro_data['lm2_norm'], y=neuro_data['old_targ_old_lure'])"
   ]
  },
  {
   "cell_type": "code",
   "execution_count": null,
   "metadata": {},
   "outputs": [],
   "source": [
    "g=sns.lmplot(x='bvmtr4_norm', y='old_targ_old_lure', data=neuro_data)\n",
    "plt.xlabel('BVMT Delayed Recall', fontsize=14)\n",
    "plt.ylabel('Old/New Recognition', fontsize=14)"
   ]
  },
  {
   "cell_type": "code",
   "execution_count": null,
   "metadata": {},
   "outputs": [],
   "source": [
    "g=sns.lmplot(x='lm2_norm', y='old_targ_old_lure', data=neuro_data)\n",
    "plt.xlabel('LM Delayed Recall', fontsize=14)\n",
    "plt.ylabel('Old/New Recognition', fontsize=14)"
   ]
  },
  {
   "cell_type": "code",
   "execution_count": null,
   "metadata": {},
   "outputs": [],
   "source": [
    "pearsonr(x=neuro_data['dr_comp'], y=neuro_data['old_targ_old_foil'])"
   ]
  },
  {
   "cell_type": "code",
   "execution_count": null,
   "metadata": {},
   "outputs": [],
   "source": [
    "g=sns.lmplot(x='dr_comp', y='bps', data=neuro_data)\n",
    "plt.xlabel('Delayed Recall', fontsize=14)\n",
    "plt.ylabel('BPS Score', fontsize=14)"
   ]
  },
  {
   "cell_type": "code",
   "execution_count": null,
   "metadata": {},
   "outputs": [],
   "source": [
    "pearsonr(x=neuro_data['dr_comp'], y=neuro_data['bps'])"
   ]
  },
  {
   "cell_type": "code",
   "execution_count": null,
   "metadata": {},
   "outputs": [],
   "source": [
    "g=sns.lmplot(x='dr_comp', y='old_targ_old_lure', data=neuro_data)\n",
    "plt.xlabel('Delayed Recall', fontsize=14)\n",
    "plt.ylabel('Old/Similar Recognition', fontsize=14)"
   ]
  },
  {
   "cell_type": "code",
   "execution_count": null,
   "metadata": {},
   "outputs": [],
   "source": [
    "g=sns.lmplot(x='hvltr4_norm', y='old_targ_old_lure', data=neuro_data)\n",
    "plt.xlabel('HVLT Delay', fontsize=14)\n",
    "plt.ylabel('Old/Similar Recognition', fontsize=14)"
   ]
  },
  {
   "cell_type": "code",
   "execution_count": null,
   "metadata": {},
   "outputs": [],
   "source": [
    "g=sns.lmplot(x='bvmtr4_norm', y='old_targ_old_lure', data=neuro_data)\n",
    "plt.xlabel('BVMT Delay', fontsize=14)\n",
    "plt.ylabel('Old/Similar Recognition', fontsize=14)"
   ]
  },
  {
   "cell_type": "code",
   "execution_count": null,
   "metadata": {},
   "outputs": [],
   "source": [
    "g=sns.lmplot(x='lm2_norm', y='old_targ_old_lure', data=neuro_data)\n",
    "plt.xlabel('LM Delay', fontsize=14)\n",
    "plt.ylabel('Old/Similar Recognition', fontsize=14)"
   ]
  },
  {
   "cell_type": "code",
   "execution_count": null,
   "metadata": {},
   "outputs": [],
   "source": [
    "pearsonr(x=neuro_data['dr_comp'], y=neuro_data['old_targ_old_lure'])"
   ]
  },
  {
   "cell_type": "code",
   "execution_count": null,
   "metadata": {},
   "outputs": [],
   "source": [
    "pearsonr(x=neuro_data['hvltr4_norm'], y=neuro_data['old_targ_old_lure'])"
   ]
  },
  {
   "cell_type": "code",
   "execution_count": null,
   "metadata": {},
   "outputs": [],
   "source": [
    "pearsonr(x=neuro_data['bvmtr4_norm'], y=neuro_data['old_targ_old_lure'])"
   ]
  },
  {
   "cell_type": "code",
   "execution_count": null,
   "metadata": {},
   "outputs": [],
   "source": [
    "pearsonr(x=neuro_data['lm2_norm'], y=neuro_data['old_targ_old_lure'])"
   ]
  },
  {
   "cell_type": "code",
   "execution_count": null,
   "metadata": {},
   "outputs": [],
   "source": [
    "g=sns.lmplot(x='recog_comp', y='dprime_bps', data=neuro_data)\n",
    "plt.xlabel('Recognition', fontsize=14)\n",
    "plt.ylabel('d\\' BPS', fontsize=14)"
   ]
  },
  {
   "cell_type": "code",
   "execution_count": null,
   "metadata": {},
   "outputs": [],
   "source": [
    "pearsonr(x=neuro_data['recog_comp'], y=neuro_data['dprime_bps'])"
   ]
  },
  {
   "cell_type": "code",
   "execution_count": null,
   "metadata": {},
   "outputs": [],
   "source": [
    "g=sns.lmplot(x='recog_comp', y='dprime_old_new', data=neuro_data)\n",
    "plt.xlabel('Recognition', fontsize=14)\n",
    "plt.ylabel('d\\' Old/New', fontsize=14)"
   ]
  },
  {
   "cell_type": "code",
   "execution_count": null,
   "metadata": {},
   "outputs": [],
   "source": [
    "pearsonr(x=neuro_data['recog_comp'], y=neuro_data['dprime_old_new'])"
   ]
  },
  {
   "cell_type": "code",
   "execution_count": null,
   "metadata": {},
   "outputs": [],
   "source": [
    "g=sns.lmplot(x='recog_comp', y='dprime_old_lure', data=neuro_data)\n",
    "plt.xlabel('Recognition', fontsize=14)\n",
    "plt.ylabel('d\\' Old/Similar', fontsize=14)"
   ]
  },
  {
   "cell_type": "code",
   "execution_count": null,
   "metadata": {},
   "outputs": [],
   "source": [
    "pearsonr(x=neuro_data['recog_comp'], y=neuro_data['dprime_old_lure'])"
   ]
  },
  {
   "cell_type": "code",
   "execution_count": null,
   "metadata": {},
   "outputs": [],
   "source": [
    "\n",
    "def not_used(pidn):\n",
    "        ## calculate traditional recognition score corrected for the number of trials responded to \n",
    "\n",
    "    #subtract the proportion of old|foil (corrected for no response) \n",
    "    #from the proportion of old|targ (corrected for no response)\n",
    "    recog_c = prop_resp_old_targ - prop_resp_old_foil\n",
    "    \n",
    "     ## calculate BPS score corrected for the number of trials responded to \n",
    "\n",
    "    #subtract the proportion of sim|foil (corrected for no responses) \n",
    "    #from the proportion of sim|lure (corrected for no responses)\n",
    "    bps_score_c = prop_resp_sim_lure - prop_resp_sim_foil\n",
    "    #print(bps_score_c)\n",
    "    \n",
    "    ## calculate proportion of old|foil for foil trials responded to\n",
    "\n",
    "    #divide the number of old|foil by the number of foil trials responded to \n",
    "    prop_resp_old_foil = num_old_foil/(num_foil_resp)\n",
    "    #print(prop_resp_old_foil)\n",
    "\n",
    "    \n",
    "  \n",
    "\n",
    "    ## calculate proportion of similar|foil for foil trials responded to\n",
    "\n",
    "    #divide the number of similar|foil by the number of foil trials responded to\n",
    "    prop_resp_sim_foil = num_sim_foil/(num_foil_resp)\n",
    "    #print(prop_resp_sim_foil)\n",
    "\n",
    "    \n",
    "    #divide the number of new|foil by the number of foil trials responded to\n",
    "    prop_resp_new_foil = num_new_foil/(num_foil_resp)\n",
    "    #print(prop_resp_new_foil)\n",
    "\n",
    "    \n",
    "     ## calculate the proportion of similar|lure for lure trials responded to \n",
    "\n",
    "    #divide number of similar|lure by the number of lure trials responded to\n",
    "    prop_resp_sim_lure = num_sim_lure/(num_lure_resp)\n",
    "    #print(prop_resp_sim_lure)\n",
    "\n",
    "  \n",
    "\n",
    "    ## calculate proportion of new|lure for lure trials responded to \n",
    "\n",
    "    #divide the number of new|lure by the number of lure trials responded to\n",
    "    prop_resp_new_lure = num_new_lure/(num_lure_resp)\n",
    "    #print(prop_resp_new_lure)\n",
    "    \n",
    "    ## calculate the number of Target trials that were responded to \n",
    "    #subtract the number of no response to target trials from the number of target trials\n",
    "    num_targ_resp = num_targ_trials - num_nr_targ\n",
    "    #print(num_targ_resp)\n",
    "\n",
    "    ## calculate the number of lure trials that were responded to \n",
    "    #subtract the number of no response to lure trials from the number of lure trials\n",
    "    num_lure_resp = num_lure_trials - num_nr_lure\n",
    "    #print(num_lure_resp)\n",
    "\n",
    "    ## calculate the number of foil trials that were responded to \n",
    "    #subtract the number of no response to foil trials from the number of foil trials\n",
    "    num_foil_resp = num_foil_trials - num_nr_foil\n",
    "    #print(num_foil_resp) \n",
    "    \n",
    "    ## calculate the total number of responses\n",
    "\n",
    "    num_resp = num_targ_resp + num_lure_resp + num_foil_resp\n",
    "    #print(num_resp)\n",
    "\n",
    "     ## calculate the proportion of target trials responded to \n",
    "    #divide the number of target trials responded to by the total number of target trials\n",
    "    prop_targ_resp = num_targ_resp/num_targ_trials\n",
    "    #print(prop_targ_resp)\n",
    "    prop_nr_targ = num_nr_targ/num_targ_trials\n",
    "    all_data.loc[row, 'Prop NR Targ'] = prop_nr_targ\n",
    "    \n",
    "    \n",
    "    ## calculate the proportion of lure trials that were responded to\n",
    "    #divide the number of lure trials responded to by the total number of lure trials\n",
    "    prop_lure_resp = num_lure_resp/num_lure_trials\n",
    "    #print(prop_lure_resp)\n",
    "    prop_nr_lure = num_nr_lure/num_lure_trials\n",
    "    all_data.loc[row, 'Prop NR Lure'] = prop_nr_lure\n",
    "\n",
    "    ## calculate the proportion of foil trials that were responded to \n",
    "    # divide the number of foil trials responded to by the total number of foil trials\n",
    "    prop_foil_resp = num_foil_resp/num_foil_trials\n",
    "    #print(prop_foil_resp)\n",
    "    prop_nr_foil = num_nr_foil/num_foil_trials\n",
    "    all_data.loc[row, 'Prop NR Foil'] = prop_nr_foil\n",
    "\n",
    "    ## calculate the proportion of trials responded to \n",
    "\n",
    "    prop_resp = num_resp/(num_targ_trials + num_lure_trials + num_foil_trials)\n",
    "   # print(prop_resp)\n",
    "\n",
    "    #Divide the number of old|target by the total number of target trials\n",
    "    prop_old_targ = num_old_targ/num_targ_trials\n",
    "    all_data.loc[row, 'Prop Old|Targ'] = prop_old_targ\n",
    "\n",
    "    ## calculate the proportion of Old|Target for Target Trials that were responded to \n",
    "\n",
    "    #divide the number of old|target by the number of target trials responded to\n",
    "    prop_resp_old_targ = num_old_targ/(num_targ_resp)\n",
    "    #print(prop_resp_old_targ)\n",
    "\n",
    "    #divide the number of similar|target by the number of target trials that were responded to \n",
    "    prop_resp_sim_targ = num_sim_targ/(num_targ_resp)\n",
    "    #print(prop_resp_sim_targ)\n",
    "    \n",
    "       ## calculate the proportion of New|Target for target trials responded to \n",
    "\n",
    "    #divide the number of New|Target by the number of target trials responded to \n",
    "    prop_resp_new_targ = num_new_targ/(num_targ_resp)\n",
    "    #print(prop_resp_new_targ)\n",
    "    \n",
    "      ## calculate the proportion of Old|Lure for lure trials responded to \n",
    "\n",
    "    #divide number of Old|Lure by the number of lure trials responded to\n",
    "    prop_resp_old_lure = num_old_lure/(num_lure_resp)\n",
    "    #print(prop_resp_old_lure)\n",
    "    \n",
    "    return 0"
   ]
  },
  {
   "cell_type": "code",
   "execution_count": 23,
   "metadata": {},
   "outputs": [
    {
     "name": "stdout",
     "output_type": "stream",
     "text": [
      "       Trial   Img    Cond  LBin     Resp        Acc   RT  pidn\n",
      "6          7  137b    Lure     5  No Resp  Incorrect    0   449\n",
      "12        13  146a  Target     0  No Resp  Incorrect    0   449\n",
      "16        17  136a  Target     0  No Resp  Incorrect    0   449\n",
      "17        18  139a  Target     0      Old    Correct    4   449\n",
      "18        19  054b    Lure     5      Old  Incorrect    5   449\n",
      "23        24  060b    Lure     5  No Resp  Incorrect    0   449\n",
      "25        26  088b    Lure     4  No Resp  Incorrect    0   449\n",
      "44        45  190b    Lure     4  No Resp  Incorrect    0   449\n",
      "45        46  072a    Foil     0  Similar  Incorrect    4   449\n",
      "68        69  049a  Target     0  No Resp  Incorrect    0   449\n",
      "100      101  172a    Foil     0  No Resp  Incorrect    0   449\n",
      "104      105  096b    Lure     1  No Resp  Incorrect    0   449\n",
      "121      122  078a    Foil     0  No Resp  Incorrect    0   449\n",
      "133      134  132b    Lure     5  No Resp  Incorrect    0   449\n",
      "148      149  151b    Lure     5  No Resp  Incorrect    0   449\n",
      "157      158  023a  Target     0  No Resp  Incorrect    0   449\n",
      "183      184  128a    Foil     0  No Resp  Incorrect    0   449\n",
      "188      189  118a  Target     0  No Resp  Incorrect    0   449\n",
      "196        5  101a    Foil     0  No Resp  Incorrect    0   456\n",
      "197        6  133a  Target     0      New  Incorrect    9   456\n",
      "206       15  191b    Lure     3  No Resp  Incorrect    0   456\n",
      "224       33  088b    Lure     4  No Resp  Incorrect    0   456\n",
      "236       45  086b    Lure     1      Old  Incorrect    5   456\n",
      "257       66  159a  Target     0  No Resp  Incorrect    0   456\n",
      "262       71  017a  Target     0  No Resp  Incorrect    0   456\n",
      "284       93  114a    Foil     0  No Resp  Incorrect    0   456\n",
      "290       99  109a    Foil     0  No Resp  Incorrect    0   456\n",
      "320      129  146b    Lure     5  No Resp  Incorrect    0   456\n",
      "335      144  003a    Foil     0  No Resp  Incorrect    0   456\n",
      "339      148  081a    Foil     0  No Resp  Incorrect    0   456\n",
      "...      ...   ...     ...   ...      ...        ...  ...   ...\n",
      "33245     30  015a    Foil     0  Similar  Incorrect    3  1234\n",
      "33247     32  055b    Lure     1  No Resp  Incorrect    0  1234\n",
      "33249     34  097a    Foil     0  No Resp  Incorrect    0  1234\n",
      "33254     39  141a    Foil     0  No Resp  Incorrect    0  1234\n",
      "33256     41  047a  Target     0  No Resp  Incorrect    0  1234\n",
      "33261     46  099a  Target     0  No Resp  Incorrect    0  1234\n",
      "33265     50  105a    Foil     0  No Resp  Incorrect    0  1234\n",
      "33267     52  028a    Foil     0  No Resp  Incorrect    0  1234\n",
      "33270     55  008a  Target     0  No Resp  Incorrect    0  1234\n",
      "33271     56  158a  Target     0      Old    Correct    6  1234\n",
      "33283     68  072a    Foil     0  No Resp  Incorrect    0  1234\n",
      "33285     70  059a  Target     0  No Resp  Incorrect    0  1234\n",
      "33287     72  122b    Lure     2  No Resp  Incorrect    0  1234\n",
      "33290     75  114a  Target     0  No Resp  Incorrect    0  1234\n",
      "33295     80  075b    Lure     1  No Resp  Incorrect    0  1234\n",
      "33296     81  130a  Target     0      Old    Correct    5  1234\n",
      "33302     87  086b    Lure     1  No Resp  Incorrect    0  1234\n",
      "33322    107  001a  Target     0  No Resp  Incorrect    0  1234\n",
      "33326    111  160b    Lure     3  No Resp  Incorrect    0  1234\n",
      "33327    112  185b    Lure     5  Similar    Correct   26  1234\n",
      "33328    113  054b    Lure     5      New  Incorrect  132  1234\n",
      "33330    115  171b    Lure     4  No Resp  Incorrect    0  1234\n",
      "33336    121  104a  Target     0  No Resp  Incorrect    0  1234\n",
      "33341    126  029a    Foil     0  No Resp  Incorrect    0  1234\n",
      "33343    128  159b    Lure     1  No Resp  Incorrect    0  1234\n",
      "33355    140  151a  Target     0  No Resp  Incorrect    0  1234\n",
      "33374    159  091a  Target     0  No Resp  Incorrect    0  1234\n",
      "33386    171  135b    Lure     5  No Resp  Incorrect    0  1234\n",
      "33391    176  071a    Foil     0  No Resp  Incorrect    0  1234\n",
      "33406    191  183a  Target     0  No Resp  Incorrect    0  1234\n",
      "\n",
      "[2122 rows x 8 columns]\n"
     ]
    }
   ],
   "source": [
    "print(data_long[data_long['RT']<400])"
   ]
  },
  {
   "cell_type": "code",
   "execution_count": 1,
   "metadata": {},
   "outputs": [
    {
     "ename": "NameError",
     "evalue": "name 'pd' is not defined",
     "output_type": "error",
     "traceback": [
      "\u001b[0;31m---------------------------------------------------------------------------\u001b[0m",
      "\u001b[0;31mNameError\u001b[0m                                 Traceback (most recent call last)",
      "\u001b[0;32m<ipython-input-1-551d71791126>\u001b[0m in \u001b[0;36m<module>\u001b[0;34m\u001b[0m\n\u001b[0;32m----> 1\u001b[0;31m \u001b[0mdata_corr\u001b[0m\u001b[0;34m=\u001b[0m\u001b[0mpd\u001b[0m\u001b[0;34m.\u001b[0m\u001b[0mDataFrame\u001b[0m\u001b[0;34m(\u001b[0m\u001b[0;34m)\u001b[0m\u001b[0;34m\u001b[0m\u001b[0;34m\u001b[0m\u001b[0m\n\u001b[0m\u001b[1;32m      2\u001b[0m \u001b[0mnp_data_corr\u001b[0m\u001b[0;34m=\u001b[0m\u001b[0mpd\u001b[0m\u001b[0;34m.\u001b[0m\u001b[0mDataFrame\u001b[0m\u001b[0;34m(\u001b[0m\u001b[0;34m)\u001b[0m\u001b[0;34m\u001b[0m\u001b[0;34m\u001b[0m\u001b[0m\n\u001b[1;32m      3\u001b[0m \u001b[0mrow\u001b[0m\u001b[0;34m=\u001b[0m\u001b[0;36m0\u001b[0m\u001b[0;34m\u001b[0m\u001b[0;34m\u001b[0m\u001b[0m\n\u001b[1;32m      4\u001b[0m \u001b[0mmissing\u001b[0m\u001b[0;34m=\u001b[0m\u001b[0;36m0\u001b[0m\u001b[0;34m\u001b[0m\u001b[0;34m\u001b[0m\u001b[0m\n\u001b[1;32m      5\u001b[0m \u001b[0mhas_data\u001b[0m\u001b[0;34m=\u001b[0m\u001b[0;36m0\u001b[0m\u001b[0;34m\u001b[0m\u001b[0;34m\u001b[0m\u001b[0m\n",
      "\u001b[0;31mNameError\u001b[0m: name 'pd' is not defined"
     ]
    }
   ],
   "source": [
    "data_corr=pd.DataFrame()\n",
    "np_data_corr=pd.DataFrame()\n",
    "row=0\n",
    "missing=0\n",
    "has_data=0\n",
    "n_stim_per=64\n",
    "study_len = n_stim_per*2\n",
    "test_len = n_stim_per*3\n",
    "demo_data = pd.read_csv('/Users/madisonhunt/Desktop/Oak/stark_task/stark_demographics.csv')\n",
    "pidn_list = demo_data['pidn']\n",
    "age_list = demo_data['np_age']\n",
    "ed_list = demo_data['yrs_educ']\n",
    "gender_list = demo_data['gender']\n",
    "\n",
    "for pidn in pidn_list:\n",
    "\n",
    "    if pidn < 685:\n",
    "        filename = '/Users/madisonhunt/Desktop/Oak/stark_task/Data/BPSOlog_0{}.txt'.format(pidn)\n",
    "#         print(filename)\n",
    "    elif pidn > 685:\n",
    "        filename = '/Users/madisonhunt/Desktop/Oak/stark_task/Data/MSTlog_0{}.txt'.format(pidn)\n",
    "#         print(filename)\n",
    "        if pidn > 1000: \n",
    "            filename = '/Users/madisonhunt/Desktop/Oak/stark_task/Data/MSTlog_{}.txt'.format(pidn)\n",
    "    #         print(filename)\n",
    "\n",
    "    if exists(filename):\n",
    "\n",
    "        has_data +=1\n",
    "        data_corr.loc[row, 'pidn'] = demo_data.loc[row, 'pidn']\n",
    "        data_corr.loc[row, 'mmse'] = demo_data.loc[row, 'mmse']\n",
    "        data_corr.loc[row, 'hvltr4'] = demo_data.loc[row, 'hvltr4']\n",
    "        data_corr.loc[row, 'hvltpr'] = demo_data.loc[row, 'hvltrpr']\n",
    "        data_corr.loc[row, 'bvmtr4'] = demo_data.loc[row, 'bvmtr4']\n",
    "        data_corr.loc[row, 'bvmtpr'] = demo_data.loc[row, 'bvmtrpr']\n",
    "        data_corr.loc[row, 'lm2'] = demo_data.loc[row, 'lm2']\n",
    "        data_corr.loc[row, 'lmpr'] = demo_data.loc[row, 'lmpr']\n",
    "        data_corr.loc[row, 'mmse_norm'] = demo_data.loc[row, 'mmse_norm']\n",
    "        data_corr.loc[row, 'hvltr4_norm'] = demo_data.loc[row, 'hvltr4_norm']\n",
    "        data_corr.loc[row, 'bvmtr4_norm'] = demo_data.loc[row, 'bvmtr4_norm']\n",
    "        data_corr.loc[row, 'lm2_norm'] = demo_data.loc[row, 'lm2_norm']\n",
    "        data_corr.loc[row, 'ir_comp'] = demo_data.loc[row, 'immediate_recall_comp']\n",
    "        data_corr.loc[row, 'dr_comp'] = demo_data.loc[row, 'delayed_recall_comp']\n",
    "        data_corr.loc[row, 'recog_comp'] = demo_data.loc[row, 'recognition_comp']\n",
    "        \n",
    "\n",
    "        s_starts, t_starts = findlines(filename)\n",
    "        if len(s_starts) & len(t_starts):\n",
    "            study_starts = s_starts[-1]\n",
    "            test_starts = t_starts[-1]\n",
    "            pt_data =  pd.read_csv(filename, delimiter=\"\\t\", skiprows= test_starts, nrows=test_len, header = 0)     \n",
    "\n",
    "            data_corr.loc[row, 'pidn'] = pidn \n",
    "            data_corr.loc[row, 'age'] = age_list[row]\n",
    "            data_corr.loc[row, 'education'] = ed_list[row]\n",
    "            if gender_list[row] == 0:\n",
    "                data_corr.loc[row, 'gender'] = 'F'\n",
    "            else:\n",
    "                data_corr.loc[row,'gender'] = 'M'\n",
    "                \n",
    "            data_corr.loc[row, 'prop_nr'] = all_data.loc[row, 'prop_nr']\n",
    "            ## for no NR\n",
    "#             data_corr.loc[row, 'num_targ_tr']  = (all_data.loc[row, 'num_targ_tr'] - all_data.loc[row, 'num_nr_t'])     \n",
    "#             data_corr.loc[row, 'num_foil_tr'] = (all_data.loc[row, 'num_foil_tr'] - all_data.loc[row, 'num_nr_f']) \n",
    "#             data_corr.loc[row, 'num_lure_tr'] = (all_data.loc[row,'num_lure_tr'] - all_data.loc[row,'num_nr_l'])\n",
    "\n",
    "            data_corr.loc[row, 'num_targ_tr']  = len(data_long[(data_long['pidn']==pidn) & (data_long['Cond']=='Target')])\n",
    "            data_corr.loc[row, 'num_lure_tr'] = len(data_long[(data_long['pidn']==pidn) & (data_long['Cond']=='Lure')])\n",
    "            data_corr.loc[row, 'num_foil_tr'] = len(data_long[(data_long['pidn']==pidn) & (data_long['Cond']=='Foil')])\n",
    "            data_corr.loc[row, 'p_old_targ'] = (all_data.loc[row, 'n_old_targ']/data_corr.loc[row, 'num_targ_tr']) \n",
    "            data_corr.loc[row, 'p_sim_targ'] = all_data.loc[row, 'n_sim_targ']/data_corr.loc[row, 'num_targ_tr']\n",
    "            data_corr.loc[row, 'p_new_targ'] = all_data.loc[row, 'n_new_targ']/data_corr.loc[row, 'num_targ_tr']\n",
    "            data_corr.loc[row, 'p_old_lure'] = all_data.loc[row, 'n_old_lure']/data_corr.loc[row, 'num_lure_tr']\n",
    "            data_corr.loc[row, 'p_sim_lure'] = all_data.loc[row, 'n_sim_lure']/data_corr.loc[row, 'num_lure_tr']\n",
    "            data_corr.loc[row, 'p_new_lure']= all_data.loc[row, 'n_new_lure']/data_corr.loc[row, 'num_lure_tr']\n",
    "            data_corr.loc[row, 'p_old_foil']= all_data.loc[row, 'n_old_foil']/data_corr.loc[row, 'num_foil_tr']\n",
    "            data_corr.loc[row, 'p_sim_foil'] = all_data.loc[row, 'n_sim_foil']/data_corr.loc[row, 'num_foil_tr']\n",
    "            data_corr.loc[row, 'p_new_foil'] = all_data.loc[row, 'n_new_foil']/data_corr.loc[row, 'num_foil_tr']\n",
    "            data_corr.loc[row, 'p_correct'] = (all_data.loc[row, 'n_old_targ']+all_data.loc[row, 'n_sim_lure']+all_data.loc[row, 'n_new_foil'])/(data_corr.loc[row, 'num_targ_tr']+data_corr.loc[row,'num_lure_tr']+data_corr.loc[row,'num_foil_tr'])\n",
    "            data_corr.loc[row, 'bps'] = calc_bps(data_corr.loc[row, 'p_sim_lure'], data_corr.loc[row, 'p_sim_foil'])\n",
    "            [data_corr.loc[row, 'old_targ_old_foil'], data_corr.loc[row, 'old_targ_old_lure'],\n",
    "             data_corr.loc[row,'old_lure_sim_lure']] = recog_scores(data_corr.loc[row, 'p_old_targ'], data_corr.loc[row, 'p_old_foil'], data_corr.loc[row,'p_old_lure'],  data_corr.loc[row, 'p_sim_lure'])\n",
    "            data_corr.loc[row, 'dprime_old_new'] = dprime(snodgrass(all_data.loc[row, 'n_old_targ'], data_corr.loc[row, 'num_targ_tr']), snodgrass(all_data.loc[row, 'n_old_foil'], data_corr.loc[row, 'num_foil_tr']))\n",
    "            data_corr.loc[row,'dprime_old_lure'] = dprime(snodgrass(all_data.loc[row, 'n_old_targ'], data_corr.loc[row, 'num_targ_tr']), snodgrass(all_data.loc[row, 'n_old_lure'], data_corr.loc[row, 'num_lure_tr']))\n",
    "            data_corr.loc[row, 'dprime_bps'] = dprime(snodgrass(all_data.loc[row, 'n_sim_lure'], data_corr.loc[row, 'num_lure_tr']), snodgrass(all_data.loc[row, 'n_sim_foil'], data_corr.loc[row, 'num_foil_tr']))\n",
    "            row +=1\n",
    "        else: print(pidn)\n",
    "    else:\n",
    "#         print(pidn)\n",
    "        missing +=1\n",
    "# print(data_corr['dprime_old_new'])\n"
   ]
  },
  {
   "cell_type": "code",
   "execution_count": 25,
   "metadata": {},
   "outputs": [],
   "source": [
    "data_corrected = data_corr[data_corr['dprime_old_new']>.5]\n",
    "\n",
    "\n",
    "#confirmed now absent\n",
    "\n",
    "# create factor variable reflecting nr status for a given person\n",
    "\n",
    "\n",
    "data_corrected.loc[data_corrected['prop_nr']>=.20, 'nr_group'] = 'nr_.20'\n",
    "data_corrected.loc[(data_corrected['prop_nr']>=.15)&(data_corrected['prop_nr']<.20), 'nr_group'] = 'nr_.15'\n",
    "data_corrected.loc[(data_corrected['prop_nr']>=.10)&(data_corrected['prop_nr']<.15), 'nr_group'] = 'nr_.10'\n",
    "data_corrected.loc[(data_corrected['prop_nr']>=.05)&(data_corrected['prop_nr']<.10), 'nr_group'] = 'nr_.05'\n",
    "data_corrected.loc[(data_corrected['prop_nr']<.05), 'nr_group'] = 'nr_low'"
   ]
  },
  {
   "cell_type": "code",
   "execution_count": 26,
   "metadata": {},
   "outputs": [
    {
     "ename": "NameError",
     "evalue": "name 'data_med_RT' is not defined",
     "output_type": "error",
     "traceback": [
      "\u001b[0;31m---------------------------------------------------------------------------\u001b[0m",
      "\u001b[0;31mNameError\u001b[0m                                 Traceback (most recent call last)",
      "\u001b[0;32m<ipython-input-26-7553d80f8521>\u001b[0m in \u001b[0;36m<module>\u001b[0;34m\u001b[0m\n\u001b[0;32m----> 1\u001b[0;31m \u001b[0mdata_corrected\u001b[0m\u001b[0;34m=\u001b[0m\u001b[0mdata_corrected\u001b[0m\u001b[0;34m.\u001b[0m\u001b[0mmerge\u001b[0m\u001b[0;34m(\u001b[0m\u001b[0mdata_med_RT\u001b[0m\u001b[0;34m,\u001b[0m \u001b[0mon\u001b[0m\u001b[0;34m=\u001b[0m\u001b[0;34m'pidn'\u001b[0m\u001b[0;34m)\u001b[0m\u001b[0;34m\u001b[0m\u001b[0;34m\u001b[0m\u001b[0m\n\u001b[0m",
      "\u001b[0;31mNameError\u001b[0m: name 'data_med_RT' is not defined"
     ]
    }
   ],
   "source": [
    "data_corrected=data_corrected.merge(data_med_RT, on='pidn')"
   ]
  },
  {
   "cell_type": "code",
   "execution_count": null,
   "metadata": {},
   "outputs": [],
   "source": [
    "data_corrected['outliers'] = zscore(data_corrected['RT'])"
   ]
  },
  {
   "cell_type": "code",
   "execution_count": null,
   "metadata": {},
   "outputs": [],
   "source": [
    "print(data_corrected[abs(data_corrected['outliers']) >2.5]['pidn'])\n",
    "print(data_corrected[abs(data_corrected['outliers']) >2.5]['Cond'])\n",
    "print(data_corrected[abs(data_corrected['outliers']) >2.5]['Resp'])"
   ]
  },
  {
   "cell_type": "code",
   "execution_count": null,
   "metadata": {},
   "outputs": [],
   "source": [
    "data_out= data_corrected[data_corrected['outliers']>-2.5]\n",
    "print(data_out)"
   ]
  },
  {
   "cell_type": "code",
   "execution_count": null,
   "metadata": {},
   "outputs": [],
   "source": [
    "g= sns.lmplot(x='RT', y='dprime_bps_x', data=data_out[(data_out['Cond']=='Lure') & (data_out['Resp']=='Similar')], hue='nr_group', hue_order=['nr_low', 'nr_.05', 'nr_.10', 'nr_.15', 'nr_.20'], fit_reg=False)\n",
    "g=sns.regplot(x=\"RT\", y=\"dprime_bps_x\", data=data_out, scatter=False)\n",
    "plt.ylabel('d\\' BPS')"
   ]
  },
  {
   "cell_type": "code",
   "execution_count": null,
   "metadata": {},
   "outputs": [],
   "source": [
    "g= sns.lmplot(x='RT', y='dprime_bps_x', data=data_out[(data_out['Cond']=='Lure') & (data_out['Resp']=='New')], hue='nr_group', hue_order=['nr_low', 'nr_.05', 'nr_.10', 'nr_.15', 'nr_.20'], fit_reg=False)\n",
    "g=sns.regplot(x=\"RT\", y=\"dprime_bps_x\", data=data_out, scatter=False)\n",
    "plt.ylabel('d\\' BPS')"
   ]
  },
  {
   "cell_type": "code",
   "execution_count": null,
   "metadata": {},
   "outputs": [],
   "source": [
    "g= sns.lmplot(x='RT', y='dprime_bps_x', data=data_corrected[(data_corrected['Cond']=='Lure') & (data_corrected['Resp']=='Old')], hue='nr_group', hue_order=['nr_low', 'nr_.05', 'nr_.10', 'nr_.15', 'nr_.20'], fit_reg=False)\n",
    "g=sns.regplot(x=\"RT\", y=\"dprime_bps_x\", data=data_corrected, scatter=False)\n",
    "plt.ylabel('d\\' BPS')\n"
   ]
  },
  {
   "cell_type": "code",
   "execution_count": null,
   "metadata": {},
   "outputs": [],
   "source": [
    "g= sns.lmplot(x='RT', y='dprime_bps_x', data=data_corrected[(data_corrected['Cond']=='Lure') & (data_corrected['Resp']=='Similar')], hue='nr_group', hue_order=['nr_low', 'nr_.05', 'nr_.10', 'nr_.15', 'nr_.20'], fit_reg=False)\n",
    "g=sns.regplot(x=\"RT\", y=\"dprime_bps_x\", data=data_corrected, scatter=False)\n",
    "plt.ylabel('d\\' BPS')"
   ]
  },
  {
   "cell_type": "code",
   "execution_count": null,
   "metadata": {},
   "outputs": [],
   "source": [
    "g= sns.lmplot(x='RT', y='dprime_bps_x', data=data_corrected[(data_corrected['Cond']=='Lure') & (data_corrected['Resp']=='New')], hue='nr_group', hue_order=['nr_low', 'nr_.05', 'nr_.10', 'nr_.15', 'nr_.20'], fit_reg=False)\n",
    "g=sns.regplot(x=\"RT\", y=\"dprime_bps_x\", data=data_corrected, scatter=False)\n",
    "plt.ylabel('d\\' BPS')"
   ]
  },
  {
   "cell_type": "code",
   "execution_count": null,
   "metadata": {},
   "outputs": [],
   "source": [
    "g= sns.lmplot(x='RT', y='dprime_bps_x', data=data_corrected[data_corrected['Cond']=='Lure'], hue='Acc')\n",
    "plt.ylabel('d\\' BPS')"
   ]
  },
  {
   "cell_type": "code",
   "execution_count": null,
   "metadata": {},
   "outputs": [],
   "source": [
    "am_data=pd.read_csv('/Users/madisonhunt/Desktop/md_np_am_data.csv', usecols=['pidn','associative_dprime', 'overall_dprime'])"
   ]
  },
  {
   "cell_type": "code",
   "execution_count": null,
   "metadata": {},
   "outputs": [],
   "source": [
    "data = data_corrected.merge(am_data, on=['pidn'])"
   ]
  },
  {
   "cell_type": "code",
   "execution_count": null,
   "metadata": {},
   "outputs": [],
   "source": [
    "data.head()"
   ]
  },
  {
   "cell_type": "code",
   "execution_count": null,
   "metadata": {},
   "outputs": [],
   "source": [
    "g=sns.lmplot(x='overall_dprime', y='dprime_old_new_x', data=data, hue='nr_group',fit_reg=False, hue_order=['nr_low', 'nr_.05','nr_.10' ,'nr_.15','nr_.20'])\n",
    "g=sns.regplot(x=\"overall_dprime\", y=\"dprime_old_new_x\", data=data, scatter=False, ax=g.axes[0, 0])\n",
    "plt.ylabel('d\\' O/N')\n",
    "plt.xlabel('Overall d\\'')"
   ]
  },
  {
   "cell_type": "code",
   "execution_count": null,
   "metadata": {},
   "outputs": [],
   "source": [
    "data=data.dropna()"
   ]
  },
  {
   "cell_type": "code",
   "execution_count": null,
   "metadata": {},
   "outputs": [],
   "source": [
    "pearsonr(x=data['overall_dprime'], y=data['dprime_old_new_x'])"
   ]
  },
  {
   "cell_type": "code",
   "execution_count": null,
   "metadata": {},
   "outputs": [],
   "source": [
    "g=sns.lmplot(x='overall_dprime', y='dprime_bps_x', data=data, hue='nr_group',fit_reg=False, hue_order=['nr_low', 'nr_.05','nr_.10' ,'nr_.15','nr_.20'])\n",
    "g=sns.regplot(x=\"overall_dprime\", y=\"dprime_bps_x\", data=data, scatter=False, ax=g.axes[0, 0])\n",
    "plt.ylabel('d\\' BPS')\n",
    "plt.xlabel('Overall d\\'')"
   ]
  },
  {
   "cell_type": "code",
   "execution_count": null,
   "metadata": {},
   "outputs": [],
   "source": [
    "pearsonr(x=data['overall_dprime'], y=data['dprime_bps_x'])"
   ]
  },
  {
   "cell_type": "code",
   "execution_count": null,
   "metadata": {},
   "outputs": [],
   "source": [
    "g=sns.lmplot(x='overall_dprime', y='dprime_old_lure_x', data=data, hue='nr_group',fit_reg=False, hue_order=['nr_low', 'nr_.05','nr_.10' ,'nr_.15','nr_.20'])\n",
    "g=sns.regplot(x=\"overall_dprime\", y=\"dprime_old_lure_x\", data=data, scatter=False, ax=g.axes[0, 0])\n",
    "plt.ylabel('d\\' O/S')\n",
    "plt.xlabel('Overall d\\'')"
   ]
  },
  {
   "cell_type": "code",
   "execution_count": null,
   "metadata": {},
   "outputs": [],
   "source": [
    "pearsonr(x=data['overall_dprime'], y=data['dprime_old_lure_x'])"
   ]
  },
  {
   "cell_type": "code",
   "execution_count": null,
   "metadata": {},
   "outputs": [],
   "source": [
    "g=sns.lmplot(x='associative_dprime', y='dprime_old_new_x', data=data, hue='nr_group',fit_reg=False, hue_order=['nr_low', 'nr_.05','nr_.10' ,'nr_.15','nr_.20'])\n",
    "g=sns.regplot(x=\"associative_dprime\", y=\"dprime_old_new_x\", data=data, scatter=False, ax=g.axes[0, 0])\n",
    "plt.xlabel('Associative d\\'')\n",
    "plt.ylabel('d\\' O/N')"
   ]
  },
  {
   "cell_type": "code",
   "execution_count": null,
   "metadata": {},
   "outputs": [],
   "source": [
    "pearsonr(x=data['associative_dprime'], y=data['dprime_old_new_x'])"
   ]
  },
  {
   "cell_type": "code",
   "execution_count": null,
   "metadata": {},
   "outputs": [],
   "source": [
    "pearsonr(x=data['associative_dprime'], y=data['dprime_bps_x'])"
   ]
  },
  {
   "cell_type": "code",
   "execution_count": null,
   "metadata": {},
   "outputs": [],
   "source": [
    "pearsonr(x=data['associative_dprime'], y=data['dprime_old_lure_x'])"
   ]
  },
  {
   "cell_type": "code",
   "execution_count": null,
   "metadata": {},
   "outputs": [],
   "source": [
    "g=sns.lmplot(x='associative_dprime', y='dprime_bps_x', data=data, hue='nr_group',fit_reg=False, hue_order=['nr_low', 'nr_.05','nr_.10' ,'nr_.15','nr_.20'])\n",
    "g=sns.regplot(x=\"associative_dprime\", y=\"dprime_bps_x\", data=data, scatter=False, ax=g.axes[0, 0])\n",
    "plt.xlabel('Associative d\\'')\n",
    "plt.ylabel('d\\' BPS')"
   ]
  },
  {
   "cell_type": "code",
   "execution_count": null,
   "metadata": {},
   "outputs": [],
   "source": [
    "g=sns.lmplot(x='associative_dprime', y='dprime_old_lure_x', data=data, hue='nr_group',fit_reg=False, hue_order=['nr_low', 'nr_.05','nr_.10' ,'nr_.15','nr_.20'])\n",
    "g=sns.regplot(x=\"associative_dprime\", y=\"dprime_old_lure_x\", data=data, scatter=False, ax=g.axes[0, 0])\n",
    "plt.xlabel('Associative d\\'')\n",
    "plt.ylabel('d\\' O/S')"
   ]
  },
  {
   "cell_type": "code",
   "execution_count": null,
   "metadata": {
    "scrolled": true
   },
   "outputs": [],
   "source": [
    "\n",
    "g= sns.lmplot(x='recog_comp', y='dprime_old_new_x', hue='nr_group', data=data_corrected, fit_reg=False, hue_order=['nr_low', 'nr_.05','nr_.10' ,'nr_.15','nr_.20'\n",
    "                                                                                                               ] )\n",
    "g=sns.regplot(x=\"recog_comp\", y=\"dprime_old_new_x\", data=data_corrected, scatter=False, ax=g.axes[0, 0])\n",
    "plt.xlabel('Recognition')\n",
    "plt.ylabel('d\\' O/N')"
   ]
  },
  {
   "cell_type": "code",
   "execution_count": null,
   "metadata": {
    "scrolled": false
   },
   "outputs": [],
   "source": [
    "g= sns.lmplot(x='recog_comp', y='dprime_bps_x', hue='nr_group', data=data_corrected, fit_reg=False,hue_order=['nr_low', 'nr_.05','nr_.10' ,'nr_.15','nr_.20'\n",
    "                                                                                                               ] )\n",
    "g=sns.regplot(x=\"recog_comp\", y=\"dprime_bps_x\", data=data_corrected, scatter=False, ax=g.axes[0, 0])\n",
    "plt.xlabel('Recognition')\n",
    "plt.ylabel('d\\' BPS')"
   ]
  },
  {
   "cell_type": "code",
   "execution_count": null,
   "metadata": {
    "scrolled": false
   },
   "outputs": [],
   "source": [
    "g= sns.lmplot(x='recog_comp', y='dprime_old_lure_x', hue='nr_group', data=data_corrected, fit_reg=False , hue_order=['nr_low', 'nr_.05','nr_.10' ,'nr_.15','nr_.20'\n",
    "                                                                                                               ])\n",
    "g=sns.regplot(x=\"recog_comp\", y=\"dprime_old_lure_x\", data=data_corrected, scatter=False, ax=g.axes[0, 0])\n",
    "plt.xlabel('Recognition')\n",
    "plt.ylabel('d\\' O/S')"
   ]
  },
  {
   "cell_type": "code",
   "execution_count": null,
   "metadata": {
    "scrolled": true
   },
   "outputs": [],
   "source": [
    "g= sns.lmplot(x='ir_comp', y='dprime_old_new_x', hue='nr_group', data=data_corrected, fit_reg=False, hue_order=['nr_low', 'nr_.05','nr_.10' ,'nr_.15','nr_.20'\n",
    "                                                                                                               ] )\n",
    "g=sns.regplot(x=\"ir_comp\", y=\"dprime_old_new_x\", data=data_corrected, scatter=False, ax=g.axes[0, 0])\n",
    "plt.xlabel('Immediate Recall')\n",
    "plt.ylabel('d\\' O/N')"
   ]
  },
  {
   "cell_type": "code",
   "execution_count": null,
   "metadata": {
    "scrolled": false
   },
   "outputs": [],
   "source": [
    "g= sns.lmplot(x='ir_comp', y='dprime_bps_x', hue='nr_group', data=data_corrected, fit_reg=False,hue_order=['nr_low', 'nr_.05','nr_.10' ,'nr_.15','nr_.20'\n",
    "                                                                                                               ] )\n",
    "g=sns.regplot(x=\"ir_comp\", y=\"dprime_bps_x\", data=data_corrected, scatter=False, ax=g.axes[0, 0])\n",
    "plt.xlabel('Immediate Recall')\n",
    "plt.ylabel('d\\' BPS')"
   ]
  },
  {
   "cell_type": "code",
   "execution_count": null,
   "metadata": {
    "scrolled": false
   },
   "outputs": [],
   "source": [
    "g= sns.lmplot(x='ir_comp', y='dprime_old_lure_x', hue='nr_group', data=data_corrected, fit_reg=False , hue_order=['nr_low', 'nr_.05','nr_.10' ,'nr_.15','nr_.20'\n",
    "                                                                                                               ])\n",
    "g=sns.regplot(x=\"ir_comp\", y=\"dprime_old_lure_x\", data=data_corrected, scatter=False, ax=g.axes[0, 0])\n",
    "plt.xlabel('Immediate Recall')\n",
    "plt.ylabel('d\\' O/S')"
   ]
  },
  {
   "cell_type": "code",
   "execution_count": null,
   "metadata": {
    "scrolled": true
   },
   "outputs": [],
   "source": [
    "g= sns.lmplot(x='dr_comp', y='dprime_old_new_x', hue='nr_group', data=data_corrected, fit_reg=False, hue_order=['nr_low', 'nr_.05','nr_.10' ,'nr_.15','nr_.20'\n",
    "                                                                                                               ] )\n",
    "g=sns.regplot(x=\"dr_comp\", y=\"dprime_old_new_x\", data=data_corrected, scatter=False, ax=g.axes[0, 0])\n",
    "plt.xlabel('Delayed Recall')\n",
    "plt.ylabel('d\\' O/N')"
   ]
  },
  {
   "cell_type": "code",
   "execution_count": null,
   "metadata": {},
   "outputs": [],
   "source": [
    "pearsonr(x=data_corrected['recog_comp'], y=data_corrected['dprime_old_new_x'])"
   ]
  },
  {
   "cell_type": "code",
   "execution_count": null,
   "metadata": {},
   "outputs": [],
   "source": [
    "pearsonr(x=data_corrected['recog_comp'], y=data_corrected['dprime_old_lure_x'])"
   ]
  },
  {
   "cell_type": "code",
   "execution_count": null,
   "metadata": {},
   "outputs": [],
   "source": [
    "pearsonr(x=data_corrected['recog_comp'], y=data_corrected['dprime_bps_x'])"
   ]
  },
  {
   "cell_type": "code",
   "execution_count": null,
   "metadata": {
    "scrolled": false
   },
   "outputs": [],
   "source": [
    "g= sns.lmplot(x='dr_comp', y='dprime_bps_x', hue='nr_group', data=data_corrected, fit_reg=False,hue_order=['nr_low', 'nr_.05','nr_.10' ,'nr_.15','nr_.20'\n",
    "                                                                                                               ] )\n",
    "g=sns.regplot(x=\"dr_comp\", y=\"dprime_bps_x\", data=data_corrected, scatter=False, ax=g.axes[0, 0])\n",
    "plt.xlabel('Delayed Recall')\n",
    "plt.ylabel('d\\' BPS')"
   ]
  },
  {
   "cell_type": "code",
   "execution_count": null,
   "metadata": {
    "scrolled": false
   },
   "outputs": [],
   "source": [
    "g= sns.lmplot(x='dr_comp', y='dprime_old_lure_x', hue='nr_group', data=data_corrected, fit_reg=False , hue_order=['nr_low', 'nr_.05','nr_.10' ,'nr_.15','nr_.20'\n",
    "                                                                                                               ])\n",
    "g=sns.regplot(x=\"dr_comp\", y=\"dprime_old_lure_x\", data=data_corrected, scatter=False, ax=g.axes[0, 0])\n",
    "plt.xlabel('Delayed Recall')\n",
    "plt.ylabel('d\\' O/S')"
   ]
  },
  {
   "cell_type": "code",
   "execution_count": null,
   "metadata": {},
   "outputs": [],
   "source": [
    "g= sns.lmplot(x='education_x', y='dprime_old_new_x', hue='nr_group', data=data_corrected, fit_reg=False, hue_order=['nr_low', 'nr_.05','nr_.10' ,'nr_.15','nr_.20'\n",
    "                                                                                                               ] )\n",
    "g=sns.regplot(x=\"education_x\", y=\"dprime_old_new_x\", data=data_corrected, scatter=False, ax=g.axes[0, 0])\n",
    "plt.xlabel('Education')\n",
    "plt.ylabel('d\\' O/N')"
   ]
  },
  {
   "cell_type": "code",
   "execution_count": null,
   "metadata": {
    "scrolled": false
   },
   "outputs": [],
   "source": [
    "g= sns.lmplot(x='education_x', y='dprime_bps_x', hue='nr_group', data=data_corrected, fit_reg=False,hue_order=['nr_low', 'nr_.05','nr_.10' ,'nr_.15','nr_.20'\n",
    "                                                                                                               ] )\n",
    "g=sns.regplot(x=\"education_x\", y=\"dprime_bps_x\", data=data_corrected, scatter=False, ax=g.axes[0, 0])\n",
    "plt.xlabel('Education')\n",
    "plt.ylabel('d\\' BPS')"
   ]
  },
  {
   "cell_type": "code",
   "execution_count": null,
   "metadata": {
    "scrolled": false
   },
   "outputs": [],
   "source": [
    "g= sns.lmplot(x='education_x', y='dprime_old_lure_x', hue='nr_group', data=data_corrected, fit_reg=False , hue_order=['nr_low', 'nr_.05','nr_.10' ,'nr_.15','nr_.20'\n",
    "                                                                                                               ])\n",
    "g=sns.regplot(x=\"education_x\", y=\"dprime_old_lure_x\", data=data_corrected, scatter=False, ax=g.axes[0, 0])\n",
    "plt.xlabel('Education')\n",
    "plt.ylabel('d\\' O/S')"
   ]
  },
  {
   "cell_type": "code",
   "execution_count": null,
   "metadata": {},
   "outputs": [],
   "source": [
    "g= sns.lmplot(x='age_x', y='dprime_old_new_x', hue='nr_group', data=data_corrected, fit_reg=False, hue_order=['nr_low', 'nr_.05','nr_.10' ,'nr_.15','nr_.20'\n",
    "                                                                                                               ] )\n",
    "g=sns.regplot(x=\"age_x\", y=\"dprime_old_new_x\", data=data_corrected, scatter=False, ax=g.axes[0, 0])\n",
    "plt.xlabel('Age')\n",
    "plt.ylabel('d\\' O/N')"
   ]
  },
  {
   "cell_type": "code",
   "execution_count": null,
   "metadata": {
    "scrolled": true
   },
   "outputs": [],
   "source": [
    "g= sns.lmplot(x='age_x', y='dprime_bps_x', hue='nr_group', data=data_corrected, fit_reg=False,hue_order=['nr_low', 'nr_.05','nr_.10' ,'nr_.15','nr_.20'\n",
    "                                                                                                               ] )\n",
    "g=sns.regplot(x=\"age_x\", y=\"dprime_bps_x\", data=data_corrected, scatter=False, ax=g.axes[0, 0])\n",
    "plt.xlabel('Age')\n",
    "plt.ylabel('d\\' BPS')"
   ]
  },
  {
   "cell_type": "code",
   "execution_count": null,
   "metadata": {
    "scrolled": true
   },
   "outputs": [],
   "source": [
    "g= sns.lmplot(x='age_x', y='dprime_old_lure_x', hue='nr_group', data=data_corrected, fit_reg=False , hue_order=['nr_low', 'nr_.05','nr_.10' ,'nr_.15','nr_.20'\n",
    "                                                                                                               ])\n",
    "g=sns.regplot(x=\"age_x\", y='dprime_old_lure_x', data=data_corrected, scatter=False, ax=g.axes[0, 0])\n",
    "plt.xlabel('Age')\n",
    "plt.ylabel('d\\' O/S')"
   ]
  },
  {
   "cell_type": "code",
   "execution_count": null,
   "metadata": {},
   "outputs": [],
   "source": [
    "data_corrected.head()"
   ]
  },
  {
   "cell_type": "code",
   "execution_count": null,
   "metadata": {
    "scrolled": true
   },
   "outputs": [],
   "source": [
    "# plt.figure(figsize=(20, 10))\n",
    "g=sns.lmplot(x='RT', y='p_old_targ_x', data=data_corrected[(data_corrected['Cond']=='Target')], hue='Acc', height=7)\n",
    "plt.xlabel('Median RT', size=16)\n",
    "plt.ylabel('Correct (%)', size=16)\n",
    "g=sns.lmplot(x='RT', y='p_sim_lure_x', data=data_corrected[data_corrected['Cond']=='Lure'] , hue='Acc', height=7 )\n",
    "plt.xlabel('Median RT', size=16)\n",
    "plt.ylabel('Correct (%)', size=16)\n",
    "g=sns.lmplot(x='RT', y='p_new_foil_x', data=data_corrected[data_corrected['Cond']=='Foil'] , hue='Acc', height=7 )\n",
    "plt.xlabel('Median RT', size=16)\n",
    "plt.ylabel('Correct (%)', size=16)"
   ]
  },
  {
   "cell_type": "code",
   "execution_count": null,
   "metadata": {
    "scrolled": false
   },
   "outputs": [],
   "source": [
    "g=sns.lmplot(x='RT', y='p_old_targ_x', data=data_corrected[(data_corrected['Cond']=='Target')& (data_corrected['Acc']=='Correct')], hue='nr_group', height=7, hue_order=['nr_low', 'nr_.05', 'nr_.10', 'nr_.15', 'nr_.20'], fit_reg=False)\n",
    "g=sns.regplot(x=\"RT\", y=\"p_old_targ_x\", data=data_corrected[(data_corrected['Cond']=='Target')& (data_corrected['Acc']=='Correct')], scatter=False, ax=g.axes[0, 0])\n",
    "plt.xlabel('Median RT', size=16)\n",
    "plt.ylabel('Correct (%)', size=16)\n"
   ]
  },
  {
   "cell_type": "code",
   "execution_count": null,
   "metadata": {},
   "outputs": [],
   "source": [
    "pearsonr(x=data_corrected[(data_corrected['Cond']=='Target')& (data_corrected['Acc']=='Correct')]['RT'], y= data_corrected[(data_corrected['Cond']=='Target')& (data_corrected['Acc']=='Correct')]['p_old_targ_x'])"
   ]
  },
  {
   "cell_type": "code",
   "execution_count": null,
   "metadata": {
    "scrolled": true
   },
   "outputs": [],
   "source": [
    "pearsonr(x=data_corrected[(data_corrected['Cond']=='Target')& (data_corrected['Acc']=='Incorrect')]['RT'], y= data_corrected[(data_corrected['Cond']=='Target')& (data_corrected['Acc']=='Incorrect')]['p_old_targ_x'])"
   ]
  },
  {
   "cell_type": "code",
   "execution_count": null,
   "metadata": {},
   "outputs": [],
   "source": [
    "g=sns.lmplot(x='RT', y='p_old_targ_x', data=data_corrected[(data_corrected['Cond']=='Target')& (data_corrected['Acc']=='Incorrect')], hue='nr_group', height=7, hue_order=['nr_low', 'nr_.05', 'nr_.10', 'nr_.15', 'nr_.20'], fit_reg=False)\n",
    "g=sns.regplot(x=\"RT\", y=\"p_old_targ_x\", data=data_corrected[(data_corrected['Cond']=='Target')& (data_corrected['Acc']=='Incorrect')], scatter=False, ax=g.axes[0, 0])\n",
    "plt.xlabel('Median RT', size=16)\n",
    "plt.ylabel('Correct (%)', size=16)\n"
   ]
  },
  {
   "cell_type": "code",
   "execution_count": null,
   "metadata": {},
   "outputs": [],
   "source": [
    "g=sns.lmplot(x='RT', y='p_sim_lure_x', data=data_corrected[(data_corrected['Cond']=='Lure')& (data_corrected['Acc']=='Correct')], hue='nr_group', height=7, hue_order=['nr_low', 'nr_.05', 'nr_.10', 'nr_.15', 'nr_.20'], fit_reg=False)\n",
    "g=sns.regplot(x=\"RT\", y=\"p_sim_lure_x\", data=data_corrected[(data_corrected['Cond']=='Lure')& (data_corrected['Acc']=='Correct')], scatter=False, ax=g.axes[0, 0])\n",
    "plt.xlabel('Median RT', size=16)\n",
    "plt.ylabel('Correct (%)', size=16)\n"
   ]
  },
  {
   "cell_type": "code",
   "execution_count": null,
   "metadata": {},
   "outputs": [],
   "source": [
    "g=sns.lmplot(x='RT', y='p_sim_lure_x', data=data_corrected[(data_corrected['Cond']=='Lure')& (data_corrected['Acc']=='Incorrect')], hue='nr_group', height=7, hue_order=['nr_low', 'nr_.05', 'nr_.10', 'nr_.15', 'nr_.20'], fit_reg=False)\n",
    "g=sns.regplot(x=\"RT\", y=\"p_sim_lure_x\", data=data_corrected[(data_corrected['Cond']=='Lure')& (data_corrected['Acc']=='Incorrect')], scatter=False, ax=g.axes[0, 0])\n",
    "plt.xlabel('Median RT', size=16)\n",
    "plt.ylabel('Correct (%)', size=16)\n"
   ]
  },
  {
   "cell_type": "code",
   "execution_count": null,
   "metadata": {},
   "outputs": [],
   "source": [
    "pearsonr(x=data_corrected[(data_corrected['Cond']=='Lure')& (data_corrected['Acc']=='Correct')]['RT'], y= data_corrected[(data_corrected['Cond']=='Lure')& (data_corrected['Acc']=='Correct')]['p_sim_lure_x'])"
   ]
  },
  {
   "cell_type": "code",
   "execution_count": null,
   "metadata": {
    "scrolled": true
   },
   "outputs": [],
   "source": [
    "pearsonr(x=data_corrected[(data_corrected['Cond']=='Lure')& (data_corrected['Acc']=='Incorrect')]['RT'], y= data_corrected[(data_corrected['Cond']=='Lure')& (data_corrected['Acc']=='Incorrect')]['p_sim_lure_x'])"
   ]
  },
  {
   "cell_type": "code",
   "execution_count": null,
   "metadata": {},
   "outputs": [],
   "source": [
    "g=sns.lmplot(x='RT', y='p_new_foil_x', data=data_corrected[(data_corrected['Cond']=='Foil')& (data_corrected['Acc']=='Correct')], hue='nr_group', height=7, hue_order=['nr_low', 'nr_.05', 'nr_.10', 'nr_.15', 'nr_.20'], fit_reg=False)\n",
    "g=sns.regplot(x=\"RT\", y=\"p_new_foil_x\", data=data_corrected[(data_corrected['Cond']=='Foil')& (data_corrected['Acc']=='Correct')], scatter=False, ax=g.axes[0, 0])\n",
    "plt.xlabel('Median RT', size=16)\n",
    "plt.ylabel('Correct (%)', size=16)\n"
   ]
  },
  {
   "cell_type": "code",
   "execution_count": null,
   "metadata": {
    "scrolled": true
   },
   "outputs": [],
   "source": [
    "g=sns.lmplot(x='RT', y='p_new_foil_x', data=data_corrected[(data_corrected['Cond']=='Foil')& (data_corrected['Acc']=='Incorrect')], hue='nr_group', height=7, hue_order=['nr_low', 'nr_.05', 'nr_.10', 'nr_.15', 'nr_.20'], fit_reg=False)\n",
    "g=sns.regplot(x=\"RT\", y=\"p_new_foil_x\", data=data_corrected[(data_corrected['Cond']=='Foil')& (data_corrected['Acc']=='Incorrect')], scatter=False, ax=g.axes[0, 0])\n",
    "plt.xlabel('Median RT', size=16)\n",
    "plt.ylabel('Correct (%)', size=16)\n"
   ]
  },
  {
   "cell_type": "code",
   "execution_count": null,
   "metadata": {},
   "outputs": [],
   "source": [
    "pearsonr(x=data_corrected[(data_corrected['Cond']=='Foil')& (data_corrected['Acc']=='Correct')]['RT'], y= data_corrected[(data_corrected['Cond']=='Foil')& (data_corrected['Acc']=='Correct')]['p_new_foil_x'])"
   ]
  },
  {
   "cell_type": "code",
   "execution_count": null,
   "metadata": {
    "scrolled": true
   },
   "outputs": [],
   "source": [
    "pearsonr(x=data_corrected[(data_corrected['Cond']=='Foil')& (data_corrected['Acc']=='Incorrect')]['RT'], y= data_corrected[(data_corrected['Cond']=='Foil')& (data_corrected['Acc']=='Incorrect')]['p_new_foil_x'])"
   ]
  },
  {
   "cell_type": "code",
   "execution_count": null,
   "metadata": {},
   "outputs": [],
   "source": [
    "Age"
   ]
  },
  {
   "cell_type": "code",
   "execution_count": null,
   "metadata": {},
   "outputs": [],
   "source": [
    "data_corrected.head()"
   ]
  },
  {
   "cell_type": "code",
   "execution_count": null,
   "metadata": {
    "scrolled": true
   },
   "outputs": [],
   "source": [
    "g=sns.lmplot(x='age_x', y='p_old_targ_x', data=data_corrected[(data_corrected['Cond']=='Target')& (data_corrected['Acc']=='Correct')], hue='nr_group', hue_order=['nr_low', 'nr_.05', 'nr_.10', 'nr_.15', 'nr_.20'], fit_reg=False)\n",
    "g=sns.regplot(x=\"age_x\", y=\"p_old_targ_x\", data=data_corrected[(data_corrected['Cond']=='Target')& (data_corrected['Acc']=='Correct')], scatter=False, ax=g.axes[0, 0])\n",
    "plt.xlabel('Age', size=16)\n",
    "plt.ylabel('Correct (%)', size=16)\n",
    "g.set(ylim=[0,1.1])\n"
   ]
  },
  {
   "cell_type": "code",
   "execution_count": null,
   "metadata": {
    "scrolled": true
   },
   "outputs": [],
   "source": [
    "g=sns.lmplot(x='age_x', y='p_sim_lure_x', data=data_corrected[(data_corrected['Cond']=='Lure')& (data_corrected['Acc']=='Correct')], hue='nr_group',  hue_order=['nr_low', 'nr_.05', 'nr_.10', 'nr_.15', 'nr_.20'], fit_reg=False)\n",
    "g=sns.regplot(x=\"age_x\", y=\"p_sim_lure_x\", data=data_corrected[(data_corrected['Cond']=='Lure')& (data_corrected['Acc']=='Correct')], scatter=False, ax=g.axes[0, 0])\n",
    "plt.xlabel('Age', size=16)\n",
    "plt.ylabel('Correct (%)', size=16)\n",
    "g.set(ylim=[0,1.1])\n"
   ]
  },
  {
   "cell_type": "code",
   "execution_count": null,
   "metadata": {
    "scrolled": true
   },
   "outputs": [],
   "source": [
    "g=sns.lmplot(x='age_x', y='p_new_foil_x', data=data_corrected[(data_corrected['Cond']=='Foil')& (data_corrected['Acc']=='Correct')], hue='nr_group', hue_order=['nr_low', 'nr_.05', 'nr_.10', 'nr_.15', 'nr_.20'], fit_reg=False)\n",
    "g=sns.regplot(x=\"age_x\", y=\"p_new_foil_x\", data=data_corrected[(data_corrected['Cond']=='Foil')& (data_corrected['Acc']=='Correct')], scatter=False, ax=g.axes[0, 0])\n",
    "plt.xlabel('Age', size=16)\n",
    "plt.ylabel('Correct (%)', size=16)\n",
    "g.set(ylim=[0,1.1])"
   ]
  },
  {
   "cell_type": "code",
   "execution_count": null,
   "metadata": {
    "scrolled": true
   },
   "outputs": [],
   "source": [
    "g=sns.lmplot(x='age_x', y='RT', data=data_corrected[(data_corrected['Cond']=='Target')& (data_corrected['Acc']=='Correct')], hue='nr_group', hue_order=['nr_low', 'nr_.05', 'nr_.10', 'nr_.15', 'nr_.20'], fit_reg=False)\n",
    "g=sns.regplot(x=\"age_x\", y=\"RT\", data=data_corrected[(data_corrected['Cond']=='Target')& (data_corrected['Acc']=='Correct')], scatter=False, ax=g.axes[0, 0])\n",
    "plt.xlabel('Age', size=16)\n",
    "plt.ylabel('RT', size=16)\n",
    "\n"
   ]
  },
  {
   "cell_type": "code",
   "execution_count": null,
   "metadata": {
    "scrolled": true
   },
   "outputs": [],
   "source": [
    "g=sns.lmplot(x='age_x', y='RT', data=data_corrected[(data_corrected['Cond']=='Lure')& (data_corrected['Acc']=='Correct')], hue='nr_group',  hue_order=['nr_low', 'nr_.05', 'nr_.10', 'nr_.15', 'nr_.20'], fit_reg=False)\n",
    "g=sns.regplot(x=\"age_x\", y=\"RT\", data=data_corrected[(data_corrected['Cond']=='Lure')& (data_corrected['Acc']=='Correct')], scatter=False, ax=g.axes[0, 0])\n",
    "plt.xlabel('Age', size=16)\n",
    "plt.ylabel('RT', size=16)\n",
    "\n"
   ]
  },
  {
   "cell_type": "code",
   "execution_count": null,
   "metadata": {
    "scrolled": true
   },
   "outputs": [],
   "source": [
    "g=sns.lmplot(x='age_x', y='RT', data=data_corrected[(data_corrected['Cond']=='Foil')& (data_corrected['Acc']=='Correct')], hue='nr_group', hue_order=['nr_low', 'nr_.05', 'nr_.10', 'nr_.15', 'nr_.20'], fit_reg=False)\n",
    "g=sns.regplot(x=\"age_x\", y=\"RT\", data=data_corrected[(data_corrected['Cond']=='Foil')& (data_corrected['Acc']=='Correct')], scatter=False, ax=g.axes[0, 0])\n",
    "plt.xlabel('Age', size=16)\n",
    "plt.ylabel('RT', size=16)\n"
   ]
  },
  {
   "cell_type": "code",
   "execution_count": null,
   "metadata": {},
   "outputs": [],
   "source": [
    "pearsonr(x=data_corrected[(data_corrected['Cond']=='Target')& (data_corrected['Acc']=='Correct')]['age_x'], y = data_corrected[(data_corrected['Cond']=='Target')& (data_corrected['Acc']=='Correct')]['RT'])"
   ]
  },
  {
   "cell_type": "code",
   "execution_count": null,
   "metadata": {},
   "outputs": [],
   "source": [
    "pearsonr(x=data_corrected[(data_corrected['Cond']=='Foil')& (data_corrected['Acc']=='Correct')]['age_x'], y = data_corrected[(data_corrected['Cond']=='Foil')& (data_corrected['Acc']=='Correct')]['RT'])"
   ]
  },
  {
   "cell_type": "code",
   "execution_count": null,
   "metadata": {
    "scrolled": true
   },
   "outputs": [],
   "source": [
    "g=sns.lmplot(x='age_x', y='RT', data=data_corrected[(data_corrected['Cond']=='Target')& (data_corrected['Acc']=='Incorrect')], hue='nr_group', hue_order=['nr_low', 'nr_.05', 'nr_.10', 'nr_.15', 'nr_.20'], fit_reg=False)\n",
    "g=sns.regplot(x=\"age_x\", y=\"RT\", data=data_corrected[(data_corrected['Cond']=='Target')& (data_corrected['Acc']=='Incorrect')], scatter=False, ax=g.axes[0, 0])\n",
    "plt.xlabel('Age', size=16)\n",
    "plt.ylabel('RT', size=16)\n",
    "\n"
   ]
  },
  {
   "cell_type": "code",
   "execution_count": null,
   "metadata": {
    "scrolled": true
   },
   "outputs": [],
   "source": [
    "g=sns.lmplot(x='age_x', y='RT', data=data_corrected[(data_corrected['Cond']=='Lure')& (data_corrected['Acc']=='Incorrect')], hue='nr_group',  hue_order=['nr_low', 'nr_.05', 'nr_.10', 'nr_.15', 'nr_.20'], fit_reg=False)\n",
    "g=sns.regplot(x=\"age_x\", y=\"RT\", data=data_corrected[(data_corrected['Cond']=='Lure')& (data_corrected['Acc']=='Incorrect')], scatter=False, ax=g.axes[0, 0])\n",
    "plt.xlabel('Age', size=16)\n",
    "plt.ylabel('RT', size=16)\n",
    "\n"
   ]
  },
  {
   "cell_type": "code",
   "execution_count": null,
   "metadata": {
    "scrolled": true
   },
   "outputs": [],
   "source": [
    "g=sns.lmplot(x='age_x', y='RT', data=data_corrected[(data_corrected['Cond']=='Foil')& (data_corrected['Acc']=='Incorrect')], hue='nr_group', hue_order=['nr_low', 'nr_.05', 'nr_.10', 'nr_.15', 'nr_.20'], fit_reg=False)\n",
    "g=sns.regplot(x=\"age_x\", y=\"RT\", data=data_corrected[(data_corrected['Cond']=='Foil')& (data_corrected['Acc']=='Incorrect')], scatter=False, ax=g.axes[0, 0])\n",
    "plt.xlabel('Age', size=16)\n",
    "plt.ylabel('RT', size=16)\n"
   ]
  },
  {
   "cell_type": "code",
   "execution_count": null,
   "metadata": {},
   "outputs": [],
   "source": [
    "pearsonr(x=data_corrected[(data_corrected['Cond']=='Foil')& (data_corrected['Acc']=='Incorrect')]['age_x'], y = data_corrected[(data_corrected['Cond']=='Foil')& (data_corrected['Acc']=='Incorrect')]['RT'])"
   ]
  },
  {
   "cell_type": "code",
   "execution_count": null,
   "metadata": {},
   "outputs": [],
   "source": [
    "pearsonr(x=data_corrected[(data_corrected['Cond']=='Lure')& (data_corrected['Acc']=='Incorrect')]['age_x'], y = data_corrected[(data_corrected['Cond']=='Lure')& (data_corrected['Acc']=='Incorrect')]['RT'])"
   ]
  },
  {
   "cell_type": "code",
   "execution_count": null,
   "metadata": {},
   "outputs": [],
   "source": []
  },
  {
   "cell_type": "code",
   "execution_count": null,
   "metadata": {
    "scrolled": true
   },
   "outputs": [],
   "source": [
    "# plt.figure(figsize=(20, 10))\n",
    "g=sns.lmplot(x='RT', y='dprime_old_lure_x', data=data_corrected[data_corrected['Acc']=='Incorrect'], hue='Cond', height=7 )\n",
    "plt.xlabel('Median RT', size=16)\n",
    "plt.ylabel('d\\' Old/Sim', size=16)"
   ]
  },
  {
   "cell_type": "code",
   "execution_count": null,
   "metadata": {
    "scrolled": true
   },
   "outputs": [],
   "source": [
    "# plt.figure(figsize=(20, 10))\n",
    "g=sns.lmplot(x='RT', y='dprime_bps_x', data=data_corrected[data_corrected['Acc']=='Correct'], hue='Cond', height=7 )\n",
    "plt.xlabel('Median RT', size=16)\n",
    "plt.ylabel('d\\' BPS', size=16)"
   ]
  },
  {
   "cell_type": "code",
   "execution_count": null,
   "metadata": {
    "scrolled": true
   },
   "outputs": [],
   "source": [
    "# plt.figure(figsize=(20, 10))\n",
    "g=sns.lmplot(x='RT', y='dprime_bps_x', data=data_corrected[data_corrected['Acc']=='Incorrect'], hue='Cond', height=7 )\n",
    "plt.xlabel('Median RT', size=16)\n",
    "plt.ylabel('d\\' BPS', size=16)"
   ]
  },
  {
   "cell_type": "code",
   "execution_count": null,
   "metadata": {
    "scrolled": true
   },
   "outputs": [],
   "source": [
    "# plt.figure(figsize=(20, 10))\n",
    "g=sns.lmplot(x='RT', y='dprime_old_new_x', data=data_corrected[data_corrected['Acc']=='Correct'], hue='Cond', height=7 )\n",
    "plt.xlabel('Median RT', size=16)\n",
    "plt.ylabel('d\\' Old/New', size=16)"
   ]
  },
  {
   "cell_type": "code",
   "execution_count": null,
   "metadata": {
    "scrolled": true
   },
   "outputs": [],
   "source": [
    "# plt.figure(figsize=(20, 10))\n",
    "g=sns.lmplot(x='RT', y='dprime_old_new_x', data=data_corrected[data_corrected['Acc']=='Incorrect'], hue='Cond', height=7 )\n",
    "plt.xlabel('Median RT', size=16)\n",
    "plt.ylabel('d\\' Old/New', size=16)"
   ]
  },
  {
   "cell_type": "code",
   "execution_count": null,
   "metadata": {},
   "outputs": [],
   "source": [
    "g = sns.distplot(data_corr['p_correct'], kde = False)\n",
    "plt.xlabel('Correct (%)', fontsize=14)\n",
    "g.set(ylim=[0,45])"
   ]
  },
  {
   "cell_type": "code",
   "execution_count": null,
   "metadata": {},
   "outputs": [],
   "source": [
    "g = sns.distplot(data_corr['p_old_targ'], kde = False)\n",
    "plt.xlabel('Prop Correct Target Trials', fontsize=14)\n",
    "plt.ylabel('Number of Participants', fontsize=14)\n",
    "g.set(ylim=[0,45])"
   ]
  },
  {
   "cell_type": "code",
   "execution_count": null,
   "metadata": {},
   "outputs": [],
   "source": [
    "g = sns.distplot(data_corr['p_sim_lure'], kde = False)\n",
    "plt.xlabel('Prop Correct Lure Trials', fontsize=14)\n",
    "\n",
    "g.set(ylim=[0,45])"
   ]
  },
  {
   "cell_type": "code",
   "execution_count": null,
   "metadata": {},
   "outputs": [],
   "source": [
    "g = sns.distplot(data_corr['p_new_foil'], kde = False)\n",
    "plt.xlabel('Prop Correct Foil Trials', fontsize=14)\n",
    "\n",
    "g.set(ylim=[0,45])"
   ]
  },
  {
   "cell_type": "code",
   "execution_count": null,
   "metadata": {},
   "outputs": [],
   "source": [
    "g = sns.distplot(data_corr['dprime_bps'], kde = False)\n",
    "plt.xlabel('d\\' BPS', fontsize=14)"
   ]
  },
  {
   "cell_type": "code",
   "execution_count": null,
   "metadata": {},
   "outputs": [],
   "source": [
    "g = sns.distplot(data_corr['dprime_old_new'], kde = False)\n",
    "plt.xlabel('d\\' Old/New', fontsize=14)"
   ]
  },
  {
   "cell_type": "code",
   "execution_count": null,
   "metadata": {},
   "outputs": [],
   "source": [
    "g = sns.distplot(data_corr['dprime_old_lure'], kde = False)\n",
    "plt.xlabel('d\\' Old/Similar', fontsize=14)"
   ]
  },
  {
   "cell_type": "code",
   "execution_count": null,
   "metadata": {},
   "outputs": [],
   "source": [
    "g = sns.distplot(data_corr['bps'], kde = False)\n",
    "plt.xlabel('BPS Score', fontsize=14)\n",
    "\n"
   ]
  },
  {
   "cell_type": "code",
   "execution_count": null,
   "metadata": {},
   "outputs": [],
   "source": [
    "g = sns.distplot(data_corr['old_targ_old_foil'], kde = False)\n",
    "plt.xlabel('Old/New Recognition', fontsize=14)\n"
   ]
  },
  {
   "cell_type": "code",
   "execution_count": null,
   "metadata": {},
   "outputs": [],
   "source": [
    "g = sns.distplot(data_corr['old_targ_old_lure'], kde = False)\n",
    "plt.xlabel('Old/Similar Recognition', fontsize=14)\n"
   ]
  },
  {
   "cell_type": "code",
   "execution_count": null,
   "metadata": {},
   "outputs": [],
   "source": [
    "g=sns.lmplot(x='bps', y='old_targ_old_foil', data=data_corr)\n",
    "plt.xlabel('BPS Score', fontsize=14)\n",
    "plt.ylabel('Old/New Recognition', fontsize=14)"
   ]
  },
  {
   "cell_type": "code",
   "execution_count": null,
   "metadata": {},
   "outputs": [],
   "source": [
    "g=sns.lmplot(x='bps', y='old_targ_old_lure', data=data_corr)\n",
    "plt.xlabel('BPS Score', fontsize=14)\n",
    "plt.ylabel('Old/Similar Recognition', fontsize=14)\n"
   ]
  },
  {
   "cell_type": "code",
   "execution_count": null,
   "metadata": {},
   "outputs": [],
   "source": [
    "pearsonr(x=data_corr['bps'], y=data_corr['old_targ_old_lure'])"
   ]
  },
  {
   "cell_type": "code",
   "execution_count": null,
   "metadata": {},
   "outputs": [],
   "source": [
    "g=sns.lmplot(x='old_targ_old_foil', y='old_targ_old_lure', data=data_corr)\n",
    "plt.xlabel('Old/New Recognition', fontsize=14)\n",
    "plt.ylabel('Old/Similar Recognition', fontsize=14)\n"
   ]
  },
  {
   "cell_type": "code",
   "execution_count": null,
   "metadata": {},
   "outputs": [],
   "source": [
    "pearsonr(x=data_corr['old_targ_old_lure'], y=data_corr['old_targ_old_foil'])"
   ]
  },
  {
   "cell_type": "code",
   "execution_count": null,
   "metadata": {},
   "outputs": [],
   "source": [
    "g=sns.lmplot(x='dprime_bps', y='dprime_old_new', data=data_corr)\n",
    "plt.xlabel('d\\' BPS', fontsize=14)\n",
    "plt.ylabel('d\\' Old/New', fontsize=14)"
   ]
  },
  {
   "cell_type": "code",
   "execution_count": null,
   "metadata": {},
   "outputs": [],
   "source": [
    "g=sns.lmplot(x='dprime_bps', y='dprime_old_lure', data=data_corr)\n",
    "plt.xlabel('d\\' BPS', fontsize=14)\n",
    "plt.ylabel('d\\' Old/Similar', fontsize=14)"
   ]
  },
  {
   "cell_type": "code",
   "execution_count": null,
   "metadata": {},
   "outputs": [],
   "source": [
    "g=sns.lmplot(x='dprime_old_new', y='dprime_old_lure', data=data_corr)\n",
    "plt.xlabel('d\\' Old/New', fontsize=14)\n",
    "plt.ylabel('d\\' Old/Similar', fontsize=14)"
   ]
  },
  {
   "cell_type": "code",
   "execution_count": null,
   "metadata": {},
   "outputs": [],
   "source": [
    "pearsonr(x=data_corr['dprime_bps'], y=data_corr['dprime_old_new'])"
   ]
  },
  {
   "cell_type": "code",
   "execution_count": null,
   "metadata": {},
   "outputs": [],
   "source": [
    "pearsonr(x=data_corr['dprime_bps'], y=data_corr['dprime_old_lure'])"
   ]
  },
  {
   "cell_type": "code",
   "execution_count": null,
   "metadata": {},
   "outputs": [],
   "source": [
    "pearsonr(x=data_corr['dprime_old_new'], y=data_corr['dprime_old_lure'])"
   ]
  },
  {
   "cell_type": "code",
   "execution_count": null,
   "metadata": {},
   "outputs": [],
   "source": [
    "g=sns.lmplot(x='age', y='old_targ_old_foil', data=data_corr)\n",
    "plt.xlabel('Age', fontsize=14)\n",
    "plt.ylabel('Old/New Recognition', fontsize=14)"
   ]
  },
  {
   "cell_type": "code",
   "execution_count": null,
   "metadata": {},
   "outputs": [],
   "source": [
    "g=sns.lmplot(x='age', y='bps', data=data_corr)\n",
    "plt.xlabel('Age', fontsize=14)\n",
    "plt.ylabel('BPS', fontsize=14)"
   ]
  },
  {
   "cell_type": "code",
   "execution_count": null,
   "metadata": {},
   "outputs": [],
   "source": [
    "g=sns.lmplot(x='age', y='old_targ_old_lure', data=data_corr)\n",
    "plt.xlabel('Age', fontsize=14)\n",
    "plt.ylabel('Old/Similar Recognition', fontsize=14)"
   ]
  },
  {
   "cell_type": "code",
   "execution_count": null,
   "metadata": {},
   "outputs": [],
   "source": [
    "g=sns.lmplot(x='age', y='dprime_old_new', data=data_corr)\n",
    "plt.xlabel('Age', fontsize=14)\n",
    "plt.ylabel('d\\' Old/New', fontsize=14)"
   ]
  },
  {
   "cell_type": "code",
   "execution_count": null,
   "metadata": {},
   "outputs": [],
   "source": [
    "g=sns.lmplot(x='age', y='dprime_bps', data=data_corr)\n",
    "plt.xlabel('Age', fontsize=14)\n",
    "plt.ylabel('d\\' BPS', fontsize=14)"
   ]
  },
  {
   "cell_type": "code",
   "execution_count": null,
   "metadata": {},
   "outputs": [],
   "source": [
    "g=sns.lmplot(x='age', y='dprime_old_lure', data=data_corr)\n",
    "plt.xlabel('Age', fontsize=14)\n",
    "plt.ylabel('d\\' Old/Similar', fontsize=14)"
   ]
  },
  {
   "cell_type": "code",
   "execution_count": null,
   "metadata": {},
   "outputs": [],
   "source": [
    "g=sns.lmplot(x='education', y='old_targ_old_foil', data=data_corr)\n",
    "plt.xlabel('Education', fontsize=14)\n",
    "plt.ylabel('Old/New Recognition', fontsize=14)"
   ]
  },
  {
   "cell_type": "code",
   "execution_count": null,
   "metadata": {},
   "outputs": [],
   "source": [
    "g=sns.lmplot(x='education', y='bps', data=data_corr)\n",
    "plt.xlabel('Education', fontsize=14)\n",
    "plt.ylabel('BPS', fontsize=14)"
   ]
  },
  {
   "cell_type": "code",
   "execution_count": null,
   "metadata": {},
   "outputs": [],
   "source": [
    "g=sns.lmplot(x='education', y='old_targ_old_lure', data=data_corr)\n",
    "plt.xlabel('Education', fontsize=14)\n",
    "plt.ylabel('Old/Similar Recognition', fontsize=14)"
   ]
  },
  {
   "cell_type": "code",
   "execution_count": null,
   "metadata": {},
   "outputs": [],
   "source": [
    "g=sns.lmplot(x='education', y='dprime_old_new', data=data_corr)\n",
    "plt.xlabel('Education', fontsize=14)\n",
    "plt.ylabel('d\\' Old/New', fontsize=14)"
   ]
  },
  {
   "cell_type": "code",
   "execution_count": null,
   "metadata": {},
   "outputs": [],
   "source": [
    "g=sns.lmplot(x='education', y='dprime_bps', data=data_corr)\n",
    "plt.xlabel('Education', fontsize=14)\n",
    "plt.ylabel('d\\' BPS', fontsize=14)"
   ]
  },
  {
   "cell_type": "code",
   "execution_count": null,
   "metadata": {},
   "outputs": [],
   "source": [
    "g=sns.lmplot(x='education', y='dprime_old_lure', data=data_corr)\n",
    "plt.xlabel('Education', fontsize=14)\n",
    "plt.ylabel('d\\' Old/Lure', fontsize=14)"
   ]
  },
  {
   "cell_type": "code",
   "execution_count": null,
   "metadata": {},
   "outputs": [],
   "source": [
    "g=sns.lmplot(x='dr_comp', y='old_targ_old_foil', data=data_corr)\n",
    "plt.xlabel('Delayed Recall', fontsize=14)\n",
    "plt.ylabel('Old/New Recognition', fontsize=14)"
   ]
  },
  {
   "cell_type": "code",
   "execution_count": null,
   "metadata": {},
   "outputs": [],
   "source": [
    "g=sns.lmplot(x='dr_comp', y='bps', data=data_corr)\n",
    "plt.xlabel('Delayed Recall', fontsize=14)\n",
    "plt.ylabel('BPS', fontsize=14)"
   ]
  },
  {
   "cell_type": "code",
   "execution_count": null,
   "metadata": {},
   "outputs": [],
   "source": [
    "g=sns.lmplot(x='dr_comp', y='old_targ_old_lure', data=data_corr)\n",
    "plt.xlabel('Delayed Recall', fontsize=14)\n",
    "plt.ylabel('Old/Similar Recognition', fontsize=14)"
   ]
  },
  {
   "cell_type": "code",
   "execution_count": null,
   "metadata": {},
   "outputs": [],
   "source": [
    "g=sns.lmplot(x='dr_comp', y='dprime_old_new', data=data_corr)\n",
    "plt.xlabel('Delayed Recall', fontsize=14)\n",
    "plt.ylabel('d\\' Old/New', fontsize=14)"
   ]
  },
  {
   "cell_type": "code",
   "execution_count": null,
   "metadata": {},
   "outputs": [],
   "source": [
    "g=sns.lmplot(x='dr_comp', y='dprime_bps', data=data_corr)\n",
    "plt.xlabel('Delayed Recall', fontsize=14)\n",
    "plt.ylabel('d\\' BPS', fontsize=14)"
   ]
  },
  {
   "cell_type": "code",
   "execution_count": null,
   "metadata": {},
   "outputs": [],
   "source": [
    "g=sns.lmplot(x='dr_comp', y='dprime_old_lure', data=data_corr)\n",
    "plt.xlabel('Delayed Recall', fontsize=14)\n",
    "plt.ylabel('d\\' Old/Lure', fontsize=14)"
   ]
  },
  {
   "cell_type": "code",
   "execution_count": null,
   "metadata": {},
   "outputs": [],
   "source": [
    "g=sns.lmplot(x='hvltr4_norm', y='old_targ_old_foil', data=data_corr)\n",
    "plt.xlabel('HVLT Delayed', fontsize=14)\n",
    "plt.ylabel('Old/New Recognition', fontsize=14)"
   ]
  },
  {
   "cell_type": "code",
   "execution_count": null,
   "metadata": {},
   "outputs": [],
   "source": [
    "g=sns.lmplot(x='bvmtr4_norm', y='old_targ_old_foil', data=data_corr)\n",
    "plt.xlabel('BVMT Delayed', fontsize=14)\n",
    "plt.ylabel('Old/New Recognition', fontsize=14)"
   ]
  },
  {
   "cell_type": "code",
   "execution_count": null,
   "metadata": {},
   "outputs": [],
   "source": [
    "g=sns.lmplot(x='lm2_norm', y='old_targ_old_foil', data=data_corr)\n",
    "plt.xlabel('LM Delayed', fontsize=14)\n",
    "plt.ylabel('Old/New Recognition', fontsize=14)"
   ]
  },
  {
   "cell_type": "code",
   "execution_count": null,
   "metadata": {},
   "outputs": [],
   "source": [
    "g=sns.lmplot(x='lm2_norm', y='dprime_old_new', data=data_corr)\n",
    "plt.xlabel('LM Delayed', fontsize=14)\n",
    "plt.ylabel('d\\' Old/New', fontsize=14)"
   ]
  },
  {
   "cell_type": "code",
   "execution_count": null,
   "metadata": {},
   "outputs": [],
   "source": [
    "g=sns.lmplot(x='bvmtr4_norm', y='dprime_old_new', data=data_corr)\n",
    "plt.xlabel('BVMT Delayed', fontsize=14)\n",
    "plt.ylabel('d\\' Old/New', fontsize=14)"
   ]
  },
  {
   "cell_type": "code",
   "execution_count": null,
   "metadata": {},
   "outputs": [],
   "source": [
    "g=sns.lmplot(x='hvltr4_norm', y='dprime_old_new', data=data_corr)\n",
    "plt.xlabel('HVLT Delayed', fontsize=14)\n",
    "plt.ylabel('d\\' Old/New', fontsize=14)"
   ]
  },
  {
   "cell_type": "code",
   "execution_count": null,
   "metadata": {},
   "outputs": [],
   "source": [
    "g=sns.lmplot(x='hvltr4_norm', y='bps', data=data_corr)\n",
    "plt.xlabel('HVLT Delayed', fontsize=14)\n",
    "plt.ylabel('BPS', fontsize=14)"
   ]
  },
  {
   "cell_type": "code",
   "execution_count": null,
   "metadata": {},
   "outputs": [],
   "source": [
    "g=sns.lmplot(x='bvmtr4_norm', y='bps', data=data_corr)\n",
    "plt.xlabel('BVMT Delayed', fontsize=14)\n",
    "plt.ylabel('BPS', fontsize=14)"
   ]
  },
  {
   "cell_type": "code",
   "execution_count": null,
   "metadata": {},
   "outputs": [],
   "source": [
    "g=sns.lmplot(x='lm2_norm', y='bps', data=data_corr)\n",
    "plt.xlabel('LM Delayed', fontsize=14)\n",
    "plt.ylabel('BPS', fontsize=14)"
   ]
  },
  {
   "cell_type": "code",
   "execution_count": null,
   "metadata": {},
   "outputs": [],
   "source": [
    "g=sns.lmplot(x='lm2_norm', y='dprime_bps', data=data_corr)\n",
    "plt.xlabel('LM Delayed', fontsize=14)\n",
    "plt.ylabel('d\\' BPS', fontsize=14)"
   ]
  },
  {
   "cell_type": "code",
   "execution_count": null,
   "metadata": {},
   "outputs": [],
   "source": [
    "g=sns.lmplot(x='bvmtr4_norm', y='dprime_bps', data=data_corr)\n",
    "plt.xlabel('BVMT Delayed', fontsize=14)\n",
    "plt.ylabel('d\\' BPS', fontsize=14)"
   ]
  },
  {
   "cell_type": "code",
   "execution_count": null,
   "metadata": {},
   "outputs": [],
   "source": [
    "g=sns.lmplot(x='hvltr4_norm', y='dprime_bps', data=data_corr)\n",
    "plt.xlabel('HVLT Delayed', fontsize=14)\n",
    "plt.ylabel('d\\' BPS', fontsize=14)"
   ]
  },
  {
   "cell_type": "code",
   "execution_count": null,
   "metadata": {},
   "outputs": [],
   "source": [
    "g=sns.lmplot(x='hvltr4_norm', y='old_targ_old_lure', data=data_corr)\n",
    "plt.xlabel('HVLT Delayed', fontsize=14)\n",
    "plt.ylabel('Old/Similar Recognition', fontsize=14)"
   ]
  },
  {
   "cell_type": "code",
   "execution_count": null,
   "metadata": {},
   "outputs": [],
   "source": [
    "g=sns.lmplot(x='bvmtr4_norm', y='old_targ_old_lure', data=data_corr)\n",
    "plt.xlabel('BVMT Delayed', fontsize=14)\n",
    "plt.ylabel('Old/Similar Recognition', fontsize=14)"
   ]
  },
  {
   "cell_type": "code",
   "execution_count": null,
   "metadata": {},
   "outputs": [],
   "source": [
    "g=sns.lmplot(x='lm2_norm', y='old_targ_old_lure', data=data_corr)\n",
    "plt.xlabel('LM Delayed', fontsize=14)\n",
    "plt.ylabel('Old/Similar Recognition', fontsize=14)"
   ]
  },
  {
   "cell_type": "code",
   "execution_count": null,
   "metadata": {},
   "outputs": [],
   "source": [
    "g=sns.lmplot(x='bvmtr4_norm', y='dprime_old_lure', data=data_corr)\n",
    "plt.xlabel('BVMT Delayed', fontsize=14)\n",
    "plt.ylabel('d\\' Old/Similar', fontsize=14)"
   ]
  },
  {
   "cell_type": "code",
   "execution_count": null,
   "metadata": {},
   "outputs": [],
   "source": [
    "g=sns.lmplot(x='hvltr4_norm', y='dprime_old_lure', data=data_corr)\n",
    "plt.xlabel('HVLT Delayed', fontsize=14)\n",
    "plt.ylabel('d\\' Old/Similar', fontsize=14)"
   ]
  },
  {
   "cell_type": "code",
   "execution_count": null,
   "metadata": {},
   "outputs": [],
   "source": [
    "g=sns.lmplot(x='lm2_norm', y='dprime_old_lure', data=data_corr)\n",
    "plt.xlabel('LM Delayed', fontsize=14)\n",
    "plt.ylabel('d\\' Old/Similar', fontsize=14)"
   ]
  },
  {
   "cell_type": "code",
   "execution_count": null,
   "metadata": {},
   "outputs": [],
   "source": [
    "g=sns.lmplot(x='ir_comp', y='dprime_old_new', data=data_corr)\n",
    "plt.xlabel('Immediate Recall', fontsize=14)\n",
    "plt.ylabel('d\\' Old/New', fontsize=14)"
   ]
  },
  {
   "cell_type": "code",
   "execution_count": null,
   "metadata": {},
   "outputs": [],
   "source": [
    "g=sns.lmplot(x='ir_comp', y='dprime_old_lure', data=data_corr)\n",
    "plt.xlabel('Immediate Recall', fontsize=14)\n",
    "plt.ylabel('d\\' Old/Similar', fontsize=14)"
   ]
  },
  {
   "cell_type": "code",
   "execution_count": null,
   "metadata": {},
   "outputs": [],
   "source": [
    "g=sns.lmplot(x='ir_comp', y='dprime_bps', data=data_corr)\n",
    "plt.xlabel('Immediate Recall', fontsize=14)\n",
    "plt.ylabel('d\\' BPS', fontsize=14)"
   ]
  },
  {
   "cell_type": "code",
   "execution_count": null,
   "metadata": {},
   "outputs": [],
   "source": [
    "pearsonr(x=data_corr['ir_comp'], y=data_corr['dprime_bps'])"
   ]
  },
  {
   "cell_type": "code",
   "execution_count": null,
   "metadata": {},
   "outputs": [],
   "source": [
    "g=sns.lmplot(x='recog_comp', y='dprime_old_new', data=data_corr)\n",
    "plt.xlabel('Recognition', fontsize=14)\n",
    "plt.ylabel('d\\' Old/New', fontsize=14)"
   ]
  },
  {
   "cell_type": "code",
   "execution_count": null,
   "metadata": {},
   "outputs": [],
   "source": [
    "g=sns.lmplot(x='recog_comp', y='dprime_old_lure', data=data_corr)\n",
    "plt.xlabel('Recognition', fontsize=14)\n",
    "plt.ylabel('d\\' Old/Lure', fontsize=14)"
   ]
  },
  {
   "cell_type": "code",
   "execution_count": null,
   "metadata": {},
   "outputs": [],
   "source": [
    "g=sns.lmplot(x='recog_comp', y='dprime_bps', data=data_corr)\n",
    "plt.xlabel('Recognition', fontsize=14)\n",
    "plt.ylabel('d\\' BPS', fontsize=14)"
   ]
  },
  {
   "cell_type": "code",
   "execution_count": null,
   "metadata": {},
   "outputs": [],
   "source": [
    "row = 0\n",
    "age_corr_new = data_corr.copy()\n",
    "for a in age_corr_new['age']:\n",
    "    if a == 59:\n",
    "        a = 60\n",
    "    if a >= 60:\n",
    "        if a < 65:\n",
    "            age_corr_new.loc[row, 'age'] = '60-64'\n",
    "        elif a < 70:\n",
    "            age_corr_new.loc[row, 'age'] = '65-69'\n",
    "        elif a < 75:\n",
    "            age_corr_new.loc[row, 'age'] = '70-74'\n",
    "        elif a < 80:\n",
    "            age_corr_new.loc[row, 'age'] = '75-79'\n",
    "        elif a < 85:\n",
    "            age_corr_new.loc[row, 'age'] = '80-84'\n",
    "        else:\n",
    "            age_corr_new.loc[row, 'age'] = '85+'\n",
    "    row+=1    \n",
    "age_corr_new.head()"
   ]
  },
  {
   "cell_type": "code",
   "execution_count": null,
   "metadata": {},
   "outputs": [],
   "source": [
    "g = sns.stripplot(x= age_corr_new['age'], y = age_corr_new['old_targ_old_lure'], jitter = .2)\n",
    "sns.boxplot(x = age_corr_new['age'], y = age_corr_new['old_targ_old_lure'], palette='pastel')\n",
    "plt.xlabel('Age Group')\n",
    "plt.ylabel('Old/Similar Recognition')"
   ]
  },
  {
   "cell_type": "code",
   "execution_count": null,
   "metadata": {},
   "outputs": [],
   "source": [
    "g = sns.stripplot(x= age_corr_new['age'], y = age_corr_new['old_targ_old_foil'], jitter = .2)\n",
    "sns.boxplot(x = age_corr_new['age'], y = age_corr_new['old_targ_old_foil'], palette='pastel')\n",
    "plt.xlabel('Age Group')\n",
    "plt.ylabel('Old/New Recognition')"
   ]
  },
  {
   "cell_type": "code",
   "execution_count": null,
   "metadata": {},
   "outputs": [],
   "source": [
    "g = sns.stripplot(x= age_corr_new['age'], y = age_corr_new['bps'], jitter = .2)\n",
    "sns.boxplot(x = age_corr_new['age'], y = age_corr_new['bps'], palette='pastel')\n",
    "plt.xlabel('Age Group')\n",
    "plt.ylabel('BPS')"
   ]
  },
  {
   "cell_type": "code",
   "execution_count": null,
   "metadata": {},
   "outputs": [],
   "source": [
    "g = sns.stripplot(x= age_corr_new['age'], y = age_corr_new['dprime_bps'], jitter = .2)\n",
    "sns.boxplot(x = age_corr_new['age'], y = age_corr_new['dprime_bps'], palette='pastel')\n",
    "plt.xlabel('Age Group')\n",
    "plt.ylabel('d\\' BPS')"
   ]
  },
  {
   "cell_type": "code",
   "execution_count": null,
   "metadata": {},
   "outputs": [],
   "source": [
    "g = sns.stripplot(x= age_corr_new['age'], y = age_corr_new['dprime_old_new'], jitter = .2)\n",
    "sns.boxplot(x = age_corr_new['age'], y = age_corr_new['dprime_old_new'], palette='pastel')\n",
    "plt.xlabel('Age Group')\n",
    "plt.ylabel('d\\' Old/New')"
   ]
  },
  {
   "cell_type": "code",
   "execution_count": null,
   "metadata": {},
   "outputs": [],
   "source": [
    "g = sns.stripplot(x= age_corr_new['age'], y = age_corr_new['dprime_old_lure'], jitter = .2)\n",
    "sns.boxplot(x = age_corr_new['age'], y = age_corr_new['dprime_old_lure'], palette='pastel')\n",
    "plt.xlabel('Age Group')\n",
    "plt.ylabel('d\\' Old/Similar')"
   ]
  },
  {
   "cell_type": "code",
   "execution_count": null,
   "metadata": {},
   "outputs": [],
   "source": [
    "age_corr_repl = data_corr.copy()\n",
    "age_corr_repl.loc[data_corr['age'] < 75, 'age'] = '60-74'\n",
    "age_corr_repl.loc[data_corr['age'] > 74, 'age']= '75-90'\n",
    "age_corr_repl.head()"
   ]
  },
  {
   "cell_type": "code",
   "execution_count": null,
   "metadata": {},
   "outputs": [],
   "source": [
    "g = sns.stripplot(x= age_corr_repl['age'], y = age_corr_repl['old_targ_old_foil'], jitter = .2)\n",
    "sns.boxplot(x = age_corr_repl['age'], y = age_corr_repl['old_targ_old_foil'], palette='pastel')\n",
    "plt.xlabel('Age Group')\n",
    "plt.ylabel('Old/New Recognition')"
   ]
  },
  {
   "cell_type": "code",
   "execution_count": null,
   "metadata": {},
   "outputs": [],
   "source": [
    "g = sns.stripplot(x= age_corr_repl['age'], y = age_corr_repl['old_targ_old_lure'], jitter = .2)\n",
    "sns.boxplot(x = age_corr_repl['age'], y = age_corr_repl['old_targ_old_lure'], palette='pastel')\n",
    "plt.xlabel('Age Group')\n",
    "plt.ylabel('Old/Similar Recognition')"
   ]
  },
  {
   "cell_type": "code",
   "execution_count": null,
   "metadata": {},
   "outputs": [],
   "source": [
    "g = sns.stripplot(x= age_corr_repl['age'], y = age_corr_repl['bps'], jitter = .2)\n",
    "sns.boxplot(x = age_corr_repl['age'], y = age_corr_repl['bps'], palette='pastel')\n",
    "plt.xlabel('Age Group')\n",
    "plt.ylabel('BPS')"
   ]
  },
  {
   "cell_type": "code",
   "execution_count": null,
   "metadata": {},
   "outputs": [],
   "source": [
    "g = sns.stripplot(x= age_corr_repl['age'], y = age_corr_repl['dprime_old_new'], jitter = .2)\n",
    "sns.boxplot(x = age_corr_repl['age'], y = age_corr_repl['dprime_old_new'], palette='pastel')\n",
    "plt.xlabel('Age Group')\n",
    "plt.ylabel('d\\' Old/New')"
   ]
  },
  {
   "cell_type": "code",
   "execution_count": null,
   "metadata": {},
   "outputs": [],
   "source": [
    "g = sns.stripplot(x= age_corr_repl['age'], y = age_corr_repl['dprime_old_lure'], jitter = .2)\n",
    "sns.boxplot(x = age_corr_repl['age'], y = age_corr_repl['dprime_old_lure'], palette='pastel')\n",
    "plt.xlabel('Age Group')\n",
    "plt.ylabel('d\\' Old/Similar')"
   ]
  },
  {
   "cell_type": "code",
   "execution_count": null,
   "metadata": {},
   "outputs": [],
   "source": [
    "g = sns.stripplot(x= age_corr_repl['age'], y = age_corr_repl['dprime_bps'], jitter = .2)\n",
    "sns.boxplot(x = age_corr_repl['age'], y = age_corr_repl['dprime_bps'], palette='pastel')\n",
    "plt.xlabel('Age Group')\n",
    "plt.ylabel('d\\' BPS')"
   ]
  },
  {
   "cell_type": "code",
   "execution_count": null,
   "metadata": {},
   "outputs": [],
   "source": [
    "educ_corr_data = data_corr.copy()\n",
    "row = 0\n",
    "for e in data_corr['education']:\n",
    "    if e == 12:\n",
    "        educ_corr_data.loc[row, 'education'] = 'HS/GED'\n",
    "    elif e == 14 or e == 15:\n",
    "        educ_corr_data.loc[row, 'education']= 'Associate'\n",
    "    elif e == 16 or e== 17:\n",
    "        educ_corr_data.loc[row, 'education']= 'Bachelor\\'s'\n",
    "    elif e== 18 or e==19:\n",
    "        educ_corr_data.loc[row, 'education']= 'Master\\'s'\n",
    "    else:\n",
    "        educ_corr_data.loc[row, 'education']='Doctorate'  \n",
    "    row+=1\n",
    "    \n",
    "educ_corr_data.head()"
   ]
  },
  {
   "cell_type": "code",
   "execution_count": null,
   "metadata": {},
   "outputs": [],
   "source": [
    "g = sns.stripplot(x= educ_corr_data['education'], y = educ_corr_data['old_targ_old_foil'], jitter = .2)\n",
    "sns.boxplot(x = educ_corr_data['education'], y = educ_corr_data['old_targ_old_foil'], palette='pastel')\n",
    "plt.xlabel('Education')\n",
    "plt.ylabel('Old/New Recogntion')"
   ]
  },
  {
   "cell_type": "code",
   "execution_count": null,
   "metadata": {},
   "outputs": [],
   "source": [
    "g = sns.stripplot(x= educ_corr_data['education'], y = educ_corr_data['bps'], jitter = .2)\n",
    "sns.boxplot(x = educ_corr_data['education'], y = educ_corr_data['bps'], palette='pastel')\n",
    "plt.xlabel('Education')\n",
    "plt.ylabel('BPS')"
   ]
  },
  {
   "cell_type": "code",
   "execution_count": null,
   "metadata": {},
   "outputs": [],
   "source": [
    "g = sns.stripplot(x= educ_corr_data['education'], y = educ_corr_data['old_targ_old_lure'], jitter = .2)\n",
    "sns.boxplot(x = educ_corr_data['education'], y = educ_corr_data['old_targ_old_lure'], palette='pastel')\n",
    "plt.xlabel('Education')\n",
    "plt.ylabel('Old/Similar Recogntion')"
   ]
  },
  {
   "cell_type": "code",
   "execution_count": null,
   "metadata": {},
   "outputs": [],
   "source": [
    "g = sns.stripplot(x= educ_corr_data['education'], y = educ_corr_data['dprime_old_new'], jitter = .2)\n",
    "sns.boxplot(x = educ_corr_data['education'], y = educ_corr_data['dprime_old_new'], palette='pastel')\n",
    "plt.xlabel('Education')\n",
    "plt.ylabel('d\\' Old/New')"
   ]
  },
  {
   "cell_type": "code",
   "execution_count": null,
   "metadata": {},
   "outputs": [],
   "source": [
    "g = sns.stripplot(x= educ_corr_data['education'], y = educ_corr_data['dprime_old_lure'], jitter = .2)\n",
    "sns.boxplot(x = educ_corr_data['education'], y = educ_corr_data['dprime_old_lure'], palette='pastel')\n",
    "plt.xlabel('Education')\n",
    "plt.ylabel('d\\' Old/Similar')"
   ]
  },
  {
   "cell_type": "code",
   "execution_count": null,
   "metadata": {},
   "outputs": [],
   "source": [
    "g = sns.stripplot(x= educ_corr_data['education'], y = educ_corr_data['dprime_bps'], jitter = .2)\n",
    "sns.boxplot(x = educ_corr_data['education'], y = educ_corr_data['dprime_bps'], palette='pastel')\n",
    "plt.xlabel('Education')\n",
    "plt.ylabel('d\\' BPS')"
   ]
  },
  {
   "cell_type": "code",
   "execution_count": null,
   "metadata": {},
   "outputs": [],
   "source": [
    "g = sns.stripplot(x= educ_corr_data['gender'], y = educ_corr_data['old_targ_old_foil'], jitter = .2)\n",
    "sns.boxplot(x = educ_corr_data['gender'], y = educ_corr_data['old_targ_old_foil'], palette='pastel')\n",
    "plt.xlabel('Gender')\n",
    "plt.ylabel('Old/New Recognition')"
   ]
  },
  {
   "cell_type": "code",
   "execution_count": null,
   "metadata": {},
   "outputs": [],
   "source": [
    "g = sns.stripplot(x= educ_corr_data['gender'], y = educ_corr_data['old_targ_old_lure'], jitter = .2)\n",
    "sns.boxplot(x = educ_corr_data['gender'], y = educ_corr_data['old_targ_old_lure'], palette='pastel')\n",
    "plt.xlabel('Gender')\n",
    "plt.ylabel('Old/Similar Recognition')"
   ]
  },
  {
   "cell_type": "code",
   "execution_count": null,
   "metadata": {},
   "outputs": [],
   "source": [
    "g = sns.stripplot(x= educ_corr_data['gender'], y = educ_corr_data['bps'], jitter = .2)\n",
    "sns.boxplot(x = educ_corr_data['gender'], y = educ_corr_data['bps'], palette='pastel')\n",
    "plt.xlabel('Gender')\n",
    "plt.ylabel('BPS')"
   ]
  },
  {
   "cell_type": "code",
   "execution_count": null,
   "metadata": {},
   "outputs": [],
   "source": [
    "g = sns.stripplot(x= educ_corr_data['gender'], y = educ_corr_data['dprime_bps'], jitter = .2)\n",
    "sns.boxplot(x = educ_corr_data['gender'], y = educ_corr_data['dprime_bps'], palette='pastel')\n",
    "plt.xlabel('Gender', fontsize=14)\n",
    "plt.ylabel('d\\' BPS', fontsize=14)"
   ]
  },
  {
   "cell_type": "code",
   "execution_count": null,
   "metadata": {},
   "outputs": [],
   "source": [
    "g = sns.stripplot(x= educ_corr_data['gender'], y = educ_corr_data['dprime_old_new'], jitter = .2)\n",
    "sns.boxplot(x = educ_corr_data['gender'], y = educ_corr_data['dprime_old_new'], palette='pastel')\n",
    "plt.xlabel('Gender', fontsize=14)\n",
    "plt.ylabel('d\\' Old/New', fontsize=14)"
   ]
  },
  {
   "cell_type": "code",
   "execution_count": null,
   "metadata": {},
   "outputs": [],
   "source": [
    "g = sns.stripplot(x= educ_corr_data['gender'], y = educ_corr_data['dprime_old_lure'], jitter = .2)\n",
    "sns.boxplot(x = educ_corr_data['gender'], y = educ_corr_data['dprime_old_lure'], palette='pastel')\n",
    "plt.xlabel('Gender', fontsize=14)\n",
    "plt.ylabel('d\\' Old/Similar', fontsize=14)"
   ]
  },
  {
   "cell_type": "markdown",
   "metadata": {},
   "source": [
    "Lure Bin Analysis"
   ]
  },
  {
   "cell_type": "code",
   "execution_count": null,
   "metadata": {},
   "outputs": [],
   "source": [
    "data_long.head()"
   ]
  },
  {
   "cell_type": "code",
   "execution_count": null,
   "metadata": {},
   "outputs": [],
   "source": []
  }
 ],
 "metadata": {
  "kernelspec": {
   "display_name": "Python 3",
   "language": "python",
   "name": "python3"
  },
  "language_info": {
   "codemirror_mode": {
    "name": "ipython",
    "version": 3
   },
   "file_extension": ".py",
   "mimetype": "text/x-python",
   "name": "python",
   "nbconvert_exporter": "python",
   "pygments_lexer": "ipython3",
   "version": "3.7.1"
  }
 },
 "nbformat": 4,
 "nbformat_minor": 2
}
